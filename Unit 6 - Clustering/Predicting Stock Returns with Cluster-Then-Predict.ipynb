{
 "cells": [
  {
   "cell_type": "markdown",
   "metadata": {},
   "source": [
    "### Predicting Stock Returns with Cluster-Then-Predict\n",
    "\n",
    "In the second lecture sequence this week, we heard about cluster-then-predict, a methodology in which you first cluster observations and then build cluster-specific prediction models. In the lecture sequence, we saw how this methodology helped improve the prediction of heart attack risk. In this assignment, we'll use cluster-then-predict to predict future stock prices using historical stock data.\n",
    "\n",
    "When selecting which stocks to invest in, investors seek to obtain good future returns. In this problem, we will first use clustering to identify clusters of stocks that have similar returns over time. Then, we'll use logistic regression to predict whether or not the stocks will have positive future returns.\n",
    "\n",
    "For this problem, we'll use StocksCluster.csv, which contains monthly stock returns from the NASDAQ stock exchange. The NASDAQ is the second-largest stock exchange in the world, and it lists many technology companies. The stock price data used in this problem was obtained from infochimps, a website providing access to many datasets.\n",
    "\n",
    "Each observation in the dataset is the monthly returns of a particular company in a particular year. The years included are 2000-2009. The companies are limited to tickers that were listed on the exchange for the entire period 2000-2009, and whose stock price never fell below $1. So, for example, one observation is for Yahoo in 2000, and another observation is for Yahoo in 2001. Our goal will be to predict whether or not the stock return in December will be positive, using the stock returns for the first 11 months of the year.\n",
    "\n",
    "This dataset contains the following variables:\n",
    "\n",
    "ReturnJan = the return for the company's stock during January (in the year of the observation). \n",
    "\n",
    "ReturnFeb = the return for the company's stock during February (in the year of the observation). \n",
    "\n",
    "ReturnMar = the return for the company's stock during March (in the year of the observation). \n",
    "\n",
    "ReturnApr = the return for the company's stock during April (in the year of the observation). \n",
    "\n",
    "ReturnMay = the return for the company's stock during May (in the year of the observation). \n",
    "\n",
    "ReturnJune = the return for the company's stock during June (in the year of the observation). \n",
    "\n",
    "ReturnJuly = the return for the company's stock during July (in the year of the observation). \n",
    "\n",
    "ReturnAug = the return for the company's stock during August (in the year of the observation). \n",
    "\n",
    "ReturnSep = the return for the company's stock during September (in the year of the observation). \n",
    "\n",
    "ReturnOct = the return for the company's stock during October (in the year of the observation). \n",
    "\n",
    "ReturnNov = the return for the company's stock during November (in the year of the observation). \n",
    "\n",
    "PositiveDec = whether or not the company's stock had a positive return in December (in the year of the observation). This variable takes value 1 if the return was positive, and value 0 if the return was not positive.\n",
    "\n",
    "\n",
    "For the first 11 variables, the value stored is a proportional change in stock value during that month. For instance, a value of 0.05 means the stock increased in value 5% during the month, while a value of -0.02 means the stock decreased in value 2% during the month."
   ]
  },
  {
   "cell_type": "markdown",
   "metadata": {},
   "source": [
    "#### Problem 1.1 - Exploring the Dataset\n",
    "\n",
    "Load StocksCluster.csv into a data frame called \"stocks\". How many observations are in the dataset?"
   ]
  },
  {
   "cell_type": "code",
   "execution_count": null,
   "metadata": {
    "collapsed": true
   },
   "outputs": [],
   "source": []
  },
  {
   "cell_type": "markdown",
   "metadata": {},
   "source": [
    "#### Problem 1.2 - Exploring the Dataset\n",
    "\n",
    "What proportion of the observations have positive returns in December?"
   ]
  },
  {
   "cell_type": "code",
   "execution_count": null,
   "metadata": {
    "collapsed": true
   },
   "outputs": [],
   "source": []
  },
  {
   "cell_type": "markdown",
   "metadata": {},
   "source": [
    "#### Problem 1.3 - Exploring the Dataset\n",
    "\n",
    "What is the maximum correlation between any two return variables in the dataset? You should look at the pairwise correlations between ReturnJan, ReturnFeb, ReturnMar, ReturnApr, ReturnMay, ReturnJune, ReturnJuly, ReturnAug, ReturnSep, ReturnOct, and ReturnNov."
   ]
  },
  {
   "cell_type": "code",
   "execution_count": null,
   "metadata": {
    "collapsed": true
   },
   "outputs": [],
   "source": []
  },
  {
   "cell_type": "markdown",
   "metadata": {},
   "source": [
    "#### Problem 1.4 - Exploring the Dataset\n",
    "\n",
    "Which month (from January through November) has the largest mean return across all observations in the dataset?"
   ]
  },
  {
   "cell_type": "code",
   "execution_count": null,
   "metadata": {
    "collapsed": true
   },
   "outputs": [],
   "source": []
  },
  {
   "cell_type": "markdown",
   "metadata": {},
   "source": [
    "Which month (from January through November) has the smallest mean return across all observations in the dataset?"
   ]
  },
  {
   "cell_type": "code",
   "execution_count": null,
   "metadata": {
    "collapsed": true
   },
   "outputs": [],
   "source": []
  },
  {
   "cell_type": "markdown",
   "metadata": {},
   "source": [
    "#### Problem 2.1 - Initial Logistic Regression Model\n",
    "\n",
    "Run the following commands to split the data into a training set and testing set, putting 70% of the data in the training set and 30% of the data in the testing set:\n",
    "\n",
    "set.seed(144)\n",
    "\n",
    "spl = sample.split(stocks$PositiveDec, SplitRatio = 0.7)\n",
    "\n",
    "stocksTrain = subset(stocks, spl == TRUE)\n",
    "\n",
    "stocksTest = subset(stocks, spl == FALSE)\n",
    "\n",
    "Then, use the stocksTrain data frame to train a logistic regression model (name it StocksModel) to predict PositiveDec using all the other variables as independent variables. Don't forget to add the argument family=binomial to your glm command.\n",
    "\n",
    "What is the overall accuracy on the training set, using a threshold of 0.5?"
   ]
  },
  {
   "cell_type": "code",
   "execution_count": null,
   "metadata": {
    "collapsed": true
   },
   "outputs": [],
   "source": []
  },
  {
   "cell_type": "markdown",
   "metadata": {},
   "source": [
    "#### Problem 2.2 - Initial Logistic Regression Model\n",
    "\n",
    "Now obtain test set predictions from StocksModel. What is the overall accuracy of the model on the test, again using a threshold of 0.5?"
   ]
  },
  {
   "cell_type": "code",
   "execution_count": null,
   "metadata": {
    "collapsed": true
   },
   "outputs": [],
   "source": []
  },
  {
   "cell_type": "markdown",
   "metadata": {},
   "source": [
    "#### Problem 2.3 - Initial Logistic Regression Model\n",
    "\n",
    "What is the accuracy on the test set of a baseline model that always predicts the most common outcome (PositiveDec = 1)?"
   ]
  },
  {
   "cell_type": "code",
   "execution_count": null,
   "metadata": {
    "collapsed": true
   },
   "outputs": [],
   "source": []
  },
  {
   "cell_type": "markdown",
   "metadata": {},
   "source": [
    "#### Problem 3.1 - Clustering Stocks\n",
    "\n",
    "Now, let's cluster the stocks. The first step in this process is to remove the dependent variable using the following commands:\n",
    "\n",
    "limitedTrain = stocksTrain\n",
    "\n",
    "limitedTrain$PositiveDec = NULL\n",
    "\n",
    "limitedTest = stocksTest\n",
    "\n",
    "limitedTest$PositiveDec = NULL\n",
    "\n",
    "Why do we need to remove the dependent variable in the clustering phase of the cluster-then-predict methodology?"
   ]
  },
  {
   "cell_type": "code",
   "execution_count": null,
   "metadata": {
    "collapsed": true
   },
   "outputs": [],
   "source": []
  },
  {
   "cell_type": "markdown",
   "metadata": {},
   "source": [
    "#### Problem 3.2 - Clustering Stocks\n",
    "\n",
    "In the market segmentation assignment in this week's homework, you were introduced to the preProcess command from the caret package, which normalizes variables by subtracting by the mean and dividing by the standard deviation.\n",
    "\n",
    "In cases where we have a training and testing set, we'll want to normalize by the mean and standard deviation of the variables in the training set. We can do this by passing just the training set to the preProcess function:\n",
    "\n",
    "library(caret)\n",
    "\n",
    "preproc = preProcess(limitedTrain)\n",
    "\n",
    "normTrain = predict(preproc, limitedTrain)\n",
    "\n",
    "normTest = predict(preproc, limitedTest)\n",
    "\n",
    "What is the mean of the ReturnJan variable in normTrain?"
   ]
  },
  {
   "cell_type": "code",
   "execution_count": null,
   "metadata": {
    "collapsed": true
   },
   "outputs": [],
   "source": []
  },
  {
   "cell_type": "markdown",
   "metadata": {},
   "source": [
    "What is the mean of the ReturnJan variable in normTest?"
   ]
  },
  {
   "cell_type": "code",
   "execution_count": null,
   "metadata": {
    "collapsed": true
   },
   "outputs": [],
   "source": []
  },
  {
   "cell_type": "markdown",
   "metadata": {},
   "source": [
    "#### Problem 3.3 - Clustering Stocks\n",
    "\n",
    "Why is the mean ReturnJan variable much closer to 0 in normTrain than in normTest?"
   ]
  },
  {
   "cell_type": "code",
   "execution_count": null,
   "metadata": {
    "collapsed": true
   },
   "outputs": [],
   "source": []
  },
  {
   "cell_type": "markdown",
   "metadata": {},
   "source": [
    "#### Problem 3.4 - Clustering Stocks\n",
    "\n",
    "Set the random seed to 144 (it is important to do this again, even though we did it earlier). Run k-means clustering with 3 clusters on normTrain, storing the result in an object called km.\n",
    "\n",
    "Which cluster has the largest number of observations?"
   ]
  },
  {
   "cell_type": "code",
   "execution_count": null,
   "metadata": {
    "collapsed": true
   },
   "outputs": [],
   "source": []
  },
  {
   "cell_type": "markdown",
   "metadata": {},
   "source": [
    "#### Problem 3.5 - Clustering Stocks\n",
    "\n",
    "Recall from the recitation that we can use the flexclust package to obtain training set and testing set cluster assignments for our observations (note that the call to as.kcca may take a while to complete):\n",
    "\n",
    "library(flexclust)\n",
    "\n",
    "km.kcca = as.kcca(km, normTrain)\n",
    "\n",
    "clusterTrain = predict(km.kcca)\n",
    "\n",
    "clusterTest = predict(km.kcca, newdata=normTest)\n",
    "\n",
    "How many test-set observations were assigned to Cluster 2?"
   ]
  },
  {
   "cell_type": "code",
   "execution_count": null,
   "metadata": {
    "collapsed": true
   },
   "outputs": [],
   "source": []
  },
  {
   "cell_type": "markdown",
   "metadata": {},
   "source": [
    "#### Problem 4.1 - Cluster-Specific Predictions\n",
    "\n",
    "Using the subset function, build data frames stocksTrain1, stocksTrain2, and stocksTrain3, containing the elements in the stocksTrain data frame assigned to clusters 1, 2, and 3, respectively (be careful to take subsets of stocksTrain, not of normTrain). Similarly build stocksTest1, stocksTest2, and stocksTest3 from the stocksTest data frame.\n",
    "\n",
    "Which training set data frame has the highest average value of the dependent variable?"
   ]
  },
  {
   "cell_type": "markdown",
   "metadata": {},
   "source": []
  },
  {
   "cell_type": "markdown",
   "metadata": {},
   "source": [
    "#### Problem 4.2 - Cluster-Specific Predictions\n",
    "\n",
    "Build logistic regression models StocksModel1, StocksModel2, and StocksModel3, which predict PositiveDec using all the other variables as independent variables. StocksModel1 should be trained on stocksTrain1, StocksModel2 should be trained on stocksTrain2, and StocksModel3 should be trained on stocksTrain3.\n",
    "\n",
    "Which variables have a positive sign for the coefficient in at least one of StocksModel1, StocksModel2, and StocksModel3 and a negative sign for the coefficient in at least one of StocksModel1, StocksModel2, and StocksModel3? Select all that apply."
   ]
  },
  {
   "cell_type": "markdown",
   "metadata": {},
   "source": []
  },
  {
   "cell_type": "markdown",
   "metadata": {},
   "source": [
    "#### Problem 4.3 - Cluster-Specific Predictions\n",
    "\n",
    "Using StocksModel1, make test-set predictions called PredictTest1 on the data frame stocksTest1. Using StocksModel2, make test-set predictions called PredictTest2 on the data frame stocksTest2. Using StocksModel3, make test-set predictions called PredictTest3 on the data frame stocksTest3.\n",
    "\n",
    "What is the overall accuracy of StocksModel1 on the test set stocksTest1, using a threshold of 0.5?"
   ]
  },
  {
   "cell_type": "code",
   "execution_count": null,
   "metadata": {
    "collapsed": true
   },
   "outputs": [],
   "source": []
  },
  {
   "cell_type": "markdown",
   "metadata": {},
   "source": [
    "What is the overall accuracy of StocksModel2 on the test set stocksTest2, using a threshold of 0.5?"
   ]
  },
  {
   "cell_type": "code",
   "execution_count": null,
   "metadata": {
    "collapsed": true
   },
   "outputs": [],
   "source": []
  },
  {
   "cell_type": "markdown",
   "metadata": {},
   "source": [
    "What is the overall accuracy of StocksModel3 on the test set stocksTest3, using a threshold of 0.5?"
   ]
  },
  {
   "cell_type": "code",
   "execution_count": null,
   "metadata": {
    "collapsed": true
   },
   "outputs": [],
   "source": []
  },
  {
   "cell_type": "markdown",
   "metadata": {},
   "source": [
    "#### Problem 4.4 - Cluster-Specific Predictions\n",
    "\n",
    "To compute the overall test-set accuracy of the cluster-then-predict approach, we can combine all the test-set predictions into a single vector and all the true outcomes into a single vector:\n",
    "\n",
    "AllPredictions = c(PredictTest1, PredictTest2, PredictTest3)\n",
    "\n",
    "AllOutcomes = c(stocksTest1$PositiveDec, stocksTest2$PositiveDec, stocksTest3$PositiveDec)\n",
    "\n",
    "What is the overall test-set accuracy of the cluster-then-predict approach, again using a threshold of 0.5?"
   ]
  },
  {
   "cell_type": "code",
   "execution_count": null,
   "metadata": {
    "collapsed": true
   },
   "outputs": [],
   "source": []
  },
  {
   "cell_type": "markdown",
   "metadata": {},
   "source": [
    "\n",
    "We see a modest improvement over the original logistic regression model. Since predicting stock returns is a notoriously hard problem, this is a good increase in accuracy. By investing in stocks for which we are more confident that they will have positive returns (by selecting the ones with higher predicted probabilities), this cluster-then-predict model can give us an edge over the original logistic regression model."
   ]
  },
  {
   "cell_type": "code",
   "execution_count": null,
   "metadata": {
    "collapsed": true
   },
   "outputs": [],
   "source": []
  },
  {
   "cell_type": "code",
   "execution_count": null,
   "metadata": {
    "collapsed": true
   },
   "outputs": [],
   "source": []
  },
  {
   "cell_type": "code",
   "execution_count": null,
   "metadata": {
    "collapsed": true
   },
   "outputs": [],
   "source": []
  },
  {
   "cell_type": "code",
   "execution_count": null,
   "metadata": {
    "collapsed": true
   },
   "outputs": [],
   "source": []
  }
 ],
 "metadata": {
  "kernelspec": {
   "display_name": "R",
   "language": "R",
   "name": "ir"
  },
  "language_info": {
   "codemirror_mode": "r",
   "file_extension": ".r",
   "mimetype": "text/x-r-source",
   "name": "R",
   "pygments_lexer": "r",
   "version": "3.3.3"
  }
 },
 "nbformat": 4,
 "nbformat_minor": 2
}
