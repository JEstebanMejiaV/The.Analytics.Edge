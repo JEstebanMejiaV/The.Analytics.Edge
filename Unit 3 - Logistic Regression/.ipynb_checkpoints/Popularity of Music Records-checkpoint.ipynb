{
 "cells": [
  {
   "cell_type": "markdown",
   "metadata": {},
   "source": [
    "### Popularity of music records\n",
    "\n",
    "The music industry has a well-developed market with a global annual revenue around $15 billion. The recording industry is highly competitive and is dominated by three big production companies which make up nearly 82% of the total annual album sales. \n",
    "\n",
    "Artists are at the core of the music industry and record labels provide them with the necessary resources to sell their music on a large scale. A record label incurs numerous costs (studio recording, marketing, distribution, and touring) in exchange for a percentage of the profits from album sales, singles and concert tickets.\n",
    "\n",
    "Unfortunately, the success of an artist's release is highly uncertain: a single may be extremely popular, resulting in widespread radio play and digital downloads, while another single may turn out quite unpopular, and therefore unprofitable. \n",
    "\n",
    "Knowing the competitive nature of the recording industry, record labels face the fundamental decision problem of which musical releases to support to maximize their financial success. \n",
    "\n",
    "How can we use analytics to predict the popularity of a song? In this assignment, we challenge ourselves to predict whether a song will reach a spot in the Top 10 of the Billboard Hot 100 Chart.\n",
    "\n",
    "Taking an analytics approach, we aim to use information about a song's properties to predict its popularity. The dataset songs.csv consists of all songs which made it to the Top 10 of the Billboard Hot 100 Chart from 1990-2010 plus a sample of additional songs that didn't make the Top 10. This data comes from three sources: Wikipedia, Billboard.com, and EchoNest.\n",
    "\n",
    "The variables included in the dataset either describe the artist or the song, or they are associated with the following song attributes: time signature, loudness, key, pitch, tempo, and timbre.\n",
    "\n",
    "Here's a detailed description of the variables:\n",
    "\n",
    "year = the year the song was released\n",
    "\n",
    "songtitle = the title of the song\n",
    "\n",
    "artistname = the name of the artist of the song\n",
    "\n",
    "songID and artistID = identifying variables for the song and artist\n",
    "\n",
    "timesignature and timesignature_confidence = a variable estimating the time signature of the song, and the confidence in the estimate\n",
    "\n",
    "loudness = a continuous variable indicating the average amplitude of the audio in decibels\n",
    "\n",
    "tempo and tempo_confidence = a variable indicating the estimated beats per minute of the song, and the confidence in the estimate\n",
    "\n",
    "key and key_confidence = a variable with twelve levels indicating the estimated key of the song (C, C#, . . ., B), and the confidence in the estimate\n",
    "\n",
    "energy = a variable that represents the overall acoustic energy of the song, using a mix of features such as loudness\n",
    "pitch = a continuous variable that indicates the pitch of the song\n",
    "\n",
    "timbre_0_min, timbre_0_max, timbre_1_min, timbre_1_max, . . . , timbre_11_min, and timbre_11_max = variables that indicate the minimum/maximum values over all segments for each of the twelve values in the timbre vector (resulting in 24 continuous variables)\n",
    "\n",
    "Top10 = a binary variable indicating whether or not the song made it to the Top 10 of the Billboard Hot 100 Chart (1 if it was in the top 10, and 0 if it was not)"
   ]
  },
  {
   "cell_type": "markdown",
   "metadata": {},
   "source": [
    "#### Problem 1.1 - Understanding the Data\n",
    "\n",
    "Use the read.csv function to load the dataset \"songs.csv\" into R.\n",
    "\n",
    "How many observations (songs) are from the year 2010?"
   ]
  },
  {
   "cell_type": "code",
   "execution_count": 1,
   "metadata": {},
   "outputs": [
    {
     "name": "stdout",
     "output_type": "stream",
     "text": [
      "'data.frame':\t7574 obs. of  39 variables:\n",
      " $ year                    : int  2010 2010 2010 2010 2010 2010 2010 2010 2010 2010 ...\n",
      " $ songtitle               : Factor w/ 7141 levels \"'03 Bonnie & Clyde\",..: 6204 5522 241 3098 47 607 254 4419 2887 6756 ...\n",
      " $ artistname              : Factor w/ 1032 levels \"50 Cent\",\"98 Degrees\",..: 3 3 3 3 3 3 3 3 3 12 ...\n",
      " $ songID                  : Factor w/ 7549 levels \"SOAACNI1315CD4AC42\",..: 595 5439 5252 1716 3431 1020 1831 3964 6904 2473 ...\n",
      " $ artistID                : Factor w/ 1047 levels \"AR00B1I1187FB433EB\",..: 671 671 671 671 671 671 671 671 671 507 ...\n",
      " $ timesignature           : int  3 4 4 4 4 4 4 4 4 4 ...\n",
      " $ timesignature_confidence: num  0.853 1 1 1 0.788 1 0.968 0.861 0.622 0.938 ...\n",
      " $ loudness                : num  -4.26 -4.05 -3.57 -3.81 -4.71 ...\n",
      " $ tempo                   : num  91.5 140 160.5 97.5 140.1 ...\n",
      " $ tempo_confidence        : num  0.953 0.921 0.489 0.794 0.286 0.347 0.273 0.83 0.018 0.929 ...\n",
      " $ key                     : int  11 10 2 1 6 4 10 5 9 11 ...\n",
      " $ key_confidence          : num  0.453 0.469 0.209 0.632 0.483 0.627 0.715 0.423 0.751 0.602 ...\n",
      " $ energy                  : num  0.967 0.985 0.99 0.939 0.988 ...\n",
      " $ pitch                   : num  0.024 0.025 0.026 0.013 0.063 0.038 0.026 0.033 0.027 0.004 ...\n",
      " $ timbre_0_min            : num  0.002 0 0.003 0 0 ...\n",
      " $ timbre_0_max            : num  57.3 57.4 57.4 57.8 56.9 ...\n",
      " $ timbre_1_min            : num  -6.5 -37.4 -17.2 -32.1 -223.9 ...\n",
      " $ timbre_1_max            : num  171 171 171 221 171 ...\n",
      " $ timbre_2_min            : num  -81.7 -149.6 -72.9 -138.6 -147.2 ...\n",
      " $ timbre_2_max            : num  95.1 180.3 157.9 173.4 166 ...\n",
      " $ timbre_3_min            : num  -285 -380.1 -204 -73.5 -128.1 ...\n",
      " $ timbre_3_max            : num  259 384 251 373 389 ...\n",
      " $ timbre_4_min            : num  -40.4 -48.7 -66 -55.6 -43.9 ...\n",
      " $ timbre_4_max            : num  73.6 100.4 152.1 119.2 99.3 ...\n",
      " $ timbre_5_min            : num  -104.7 -87.3 -98.7 -77.5 -96.1 ...\n",
      " $ timbre_5_max            : num  183.1 42.8 141.4 141.2 38.3 ...\n",
      " $ timbre_6_min            : num  -88.8 -86.9 -88.9 -70.8 -110.8 ...\n",
      " $ timbre_6_max            : num  73.5 75.5 66.5 64.5 72.4 ...\n",
      " $ timbre_7_min            : num  -71.1 -65.8 -67.4 -63.7 -55.9 ...\n",
      " $ timbre_7_max            : num  82.5 106.9 80.6 96.7 110.3 ...\n",
      " $ timbre_8_min            : num  -52 -61.3 -59.8 -78.7 -56.5 ...\n",
      " $ timbre_8_max            : num  39.1 35.4 46 41.1 37.6 ...\n",
      " $ timbre_9_min            : num  -35.4 -81.9 -46.3 -49.2 -48.6 ...\n",
      " $ timbre_9_max            : num  71.6 74.6 59.9 95.4 67.6 ...\n",
      " $ timbre_10_min           : num  -126.4 -103.8 -108.3 -102.7 -52.8 ...\n",
      " $ timbre_10_max           : num  18.7 121.9 33.3 46.4 22.9 ...\n",
      " $ timbre_11_min           : num  -44.8 -38.9 -43.7 -59.4 -50.4 ...\n",
      " $ timbre_11_max           : num  26 22.5 25.7 37.1 32.8 ...\n",
      " $ Top10                   : int  0 0 0 0 0 0 0 0 0 1 ...\n"
     ]
    },
    {
     "data": {
      "text/plain": [
       "\n",
       "1990 1991 1992 1993 1994 1995 1996 1997 1998 1999 2000 2001 2002 2003 2004 2005 \n",
       " 328  196  186  324  198  258  178  329  380  357  363  282  518  434  479  392 \n",
       "2006 2007 2008 2009 2010 \n",
       " 479  622  415  483  373 "
      ]
     },
     "metadata": {},
     "output_type": "display_data"
    }
   ],
   "source": [
    "songs <- read.csv('songs.csv')\n",
    "str(songs)\n",
    "table(songs$year)"
   ]
  },
  {
   "cell_type": "markdown",
   "metadata": {},
   "source": [
    "#### Problem 1.2 - Understanding the Data\n",
    "\n",
    "How many songs does the dataset include for which the artist name is \"Michael Jackson\"?"
   ]
  },
  {
   "cell_type": "code",
   "execution_count": 2,
   "metadata": {},
   "outputs": [
    {
     "data": {
      "text/html": [
       "18"
      ],
      "text/latex": [
       "18"
      ],
      "text/markdown": [
       "18"
      ],
      "text/plain": [
       "[1] 18"
      ]
     },
     "metadata": {},
     "output_type": "display_data"
    }
   ],
   "source": [
    "sum(songs$artistname==\"Michael Jackson\")"
   ]
  },
  {
   "cell_type": "markdown",
   "metadata": {},
   "source": [
    "#### Problem 1.3 - Understanding the Data\n",
    "\n",
    "Which of these songs by Michael Jackson made it to the Top 10? Select all that apply."
   ]
  },
  {
   "cell_type": "code",
   "execution_count": 3,
   "metadata": {},
   "outputs": [
    {
     "data": {
      "text/html": [
       "<table>\n",
       "<thead><tr><th></th><th scope=col>year</th><th scope=col>songtitle</th><th scope=col>artistname</th><th scope=col>songID</th><th scope=col>artistID</th><th scope=col>timesignature</th><th scope=col>timesignature_confidence</th><th scope=col>loudness</th><th scope=col>tempo</th><th scope=col>tempo_confidence</th><th scope=col>...</th><th scope=col>timbre_7_max</th><th scope=col>timbre_8_min</th><th scope=col>timbre_8_max</th><th scope=col>timbre_9_min</th><th scope=col>timbre_9_max</th><th scope=col>timbre_10_min</th><th scope=col>timbre_10_max</th><th scope=col>timbre_11_min</th><th scope=col>timbre_11_max</th><th scope=col>Top10</th></tr></thead>\n",
       "<tbody>\n",
       "\t<tr><th scope=row>4329</th><td>2001              </td><td>You Rock My World </td><td>Michael Jackson   </td><td>SOBLCOF13134393021</td><td>ARXPPEY1187FB51DF4</td><td>4                 </td><td>1.000             </td><td>-2.768            </td><td> 95.003           </td><td>0.892             </td><td>...               </td><td>120.076           </td><td>-53.839           </td><td>63.576            </td><td> -85.169          </td><td> 84.840           </td><td>-102.185          </td><td> 55.266           </td><td>-48.107           </td><td>56.116            </td><td>1                 </td></tr>\n",
       "\t<tr><th scope=row>6207</th><td>1995              </td><td>You Are Not Alone </td><td>Michael Jackson   </td><td>SOJKNNO13737CEB162</td><td>ARXPPEY1187FB51DF4</td><td>4                 </td><td>1.000             </td><td>-9.408            </td><td>120.566           </td><td>0.805             </td><td>...               </td><td> 90.735           </td><td>-61.583           </td><td>60.920            </td><td> -55.904          </td><td> 76.632           </td><td> -69.799          </td><td> 46.173           </td><td>-67.281           </td><td>47.128            </td><td>1                 </td></tr>\n",
       "\t<tr><th scope=row>6210</th><td>1995              </td><td>Black or White    </td><td>Michael Jackson   </td><td>SOBBRFO137756C9CB7</td><td>ARXPPEY1187FB51DF4</td><td>4                 </td><td>1.000             </td><td>-4.017            </td><td>115.027           </td><td>0.535             </td><td>...               </td><td>107.974           </td><td>-55.063           </td><td>52.505            </td><td>-110.999          </td><td> 71.477           </td><td>-133.939          </td><td> 60.442           </td><td>-55.008           </td><td>43.473            </td><td>1                 </td></tr>\n",
       "\t<tr><th scope=row>6218</th><td>1995              </td><td>Remember the Time </td><td>Michael Jackson   </td><td>SOIQZMT136C9704DA5</td><td>ARXPPEY1187FB51DF4</td><td>4                 </td><td>1.000             </td><td>-3.633            </td><td>107.921           </td><td>1.000             </td><td>...               </td><td>146.587           </td><td>-58.117           </td><td>62.157            </td><td> -54.440          </td><td> 94.501           </td><td>-112.348          </td><td> 90.437           </td><td>-53.634           </td><td>51.681            </td><td>1                 </td></tr>\n",
       "\t<tr><th scope=row>6915</th><td>1992              </td><td>In The Closet     </td><td>Michael Jackson   </td><td>SOKIOOC12AF729ED9E</td><td>ARXPPEY1187FB51DF4</td><td>4                 </td><td>0.991             </td><td>-4.315            </td><td>110.501           </td><td>0.949             </td><td>...               </td><td>124.354           </td><td>-78.303           </td><td>41.322            </td><td> -83.184          </td><td>106.263           </td><td>-136.109          </td><td>102.829           </td><td>-48.192           </td><td>74.575            </td><td>1                 </td></tr>\n",
       "</tbody>\n",
       "</table>\n"
      ],
      "text/latex": [
       "\\begin{tabular}{r|lllllllllllllllllllllllllllllllllllllll}\n",
       "  & year & songtitle & artistname & songID & artistID & timesignature & timesignature\\_confidence & loudness & tempo & tempo\\_confidence & ... & timbre\\_7\\_max & timbre\\_8\\_min & timbre\\_8\\_max & timbre\\_9\\_min & timbre\\_9\\_max & timbre\\_10\\_min & timbre\\_10\\_max & timbre\\_11\\_min & timbre\\_11\\_max & Top10\\\\\n",
       "\\hline\n",
       "\t4329 & 2001               & You Rock My World  & Michael Jackson    & SOBLCOF13134393021 & ARXPPEY1187FB51DF4 & 4                  & 1.000              & -2.768             &  95.003            & 0.892              & ...                & 120.076            & -53.839            & 63.576             &  -85.169           &  84.840            & -102.185           &  55.266            & -48.107            & 56.116             & 1                 \\\\\n",
       "\t6207 & 1995               & You Are Not Alone  & Michael Jackson    & SOJKNNO13737CEB162 & ARXPPEY1187FB51DF4 & 4                  & 1.000              & -9.408             & 120.566            & 0.805              & ...                &  90.735            & -61.583            & 60.920             &  -55.904           &  76.632            &  -69.799           &  46.173            & -67.281            & 47.128             & 1                 \\\\\n",
       "\t6210 & 1995               & Black or White     & Michael Jackson    & SOBBRFO137756C9CB7 & ARXPPEY1187FB51DF4 & 4                  & 1.000              & -4.017             & 115.027            & 0.535              & ...                & 107.974            & -55.063            & 52.505             & -110.999           &  71.477            & -133.939           &  60.442            & -55.008            & 43.473             & 1                 \\\\\n",
       "\t6218 & 1995               & Remember the Time  & Michael Jackson    & SOIQZMT136C9704DA5 & ARXPPEY1187FB51DF4 & 4                  & 1.000              & -3.633             & 107.921            & 1.000              & ...                & 146.587            & -58.117            & 62.157             &  -54.440           &  94.501            & -112.348           &  90.437            & -53.634            & 51.681             & 1                 \\\\\n",
       "\t6915 & 1992               & In The Closet      & Michael Jackson    & SOKIOOC12AF729ED9E & ARXPPEY1187FB51DF4 & 4                  & 0.991              & -4.315             & 110.501            & 0.949              & ...                & 124.354            & -78.303            & 41.322             &  -83.184           & 106.263            & -136.109           & 102.829            & -48.192            & 74.575             & 1                 \\\\\n",
       "\\end{tabular}\n"
      ],
      "text/plain": [
       "     year songtitle         artistname      songID            \n",
       "4329 2001 You Rock My World Michael Jackson SOBLCOF13134393021\n",
       "6207 1995 You Are Not Alone Michael Jackson SOJKNNO13737CEB162\n",
       "6210 1995 Black or White    Michael Jackson SOBBRFO137756C9CB7\n",
       "6218 1995 Remember the Time Michael Jackson SOIQZMT136C9704DA5\n",
       "6915 1992 In The Closet     Michael Jackson SOKIOOC12AF729ED9E\n",
       "     artistID           timesignature timesignature_confidence loudness tempo  \n",
       "4329 ARXPPEY1187FB51DF4 4             1.000                    -2.768    95.003\n",
       "6207 ARXPPEY1187FB51DF4 4             1.000                    -9.408   120.566\n",
       "6210 ARXPPEY1187FB51DF4 4             1.000                    -4.017   115.027\n",
       "6218 ARXPPEY1187FB51DF4 4             1.000                    -3.633   107.921\n",
       "6915 ARXPPEY1187FB51DF4 4             0.991                    -4.315   110.501\n",
       "     tempo_confidence ... timbre_7_max timbre_8_min timbre_8_max timbre_9_min\n",
       "4329 0.892            ... 120.076      -53.839      63.576        -85.169    \n",
       "6207 0.805            ...  90.735      -61.583      60.920        -55.904    \n",
       "6210 0.535            ... 107.974      -55.063      52.505       -110.999    \n",
       "6218 1.000            ... 146.587      -58.117      62.157        -54.440    \n",
       "6915 0.949            ... 124.354      -78.303      41.322        -83.184    \n",
       "     timbre_9_max timbre_10_min timbre_10_max timbre_11_min timbre_11_max Top10\n",
       "4329  84.840      -102.185       55.266       -48.107       56.116        1    \n",
       "6207  76.632       -69.799       46.173       -67.281       47.128        1    \n",
       "6210  71.477      -133.939       60.442       -55.008       43.473        1    \n",
       "6218  94.501      -112.348       90.437       -53.634       51.681        1    \n",
       "6915 106.263      -136.109      102.829       -48.192       74.575        1    "
      ]
     },
     "metadata": {},
     "output_type": "display_data"
    },
    {
     "data": {
      "text/html": [
       "5"
      ],
      "text/latex": [
       "5"
      ],
      "text/markdown": [
       "5"
      ],
      "text/plain": [
       "[1] 5"
      ]
     },
     "metadata": {},
     "output_type": "display_data"
    }
   ],
   "source": [
    "MJTop10 <- subset(songs,artistname==\"Michael Jackson\" &  Top10 == 1 )\n",
    "head(MJTop10)\n",
    "nrow(MJTop10)"
   ]
  },
  {
   "cell_type": "code",
   "execution_count": 4,
   "metadata": {},
   "outputs": [
    {
     "data": {
      "text/plain": [
       "       \n",
       "        FALSE TRUE\n",
       "  FALSE  6442 1114\n",
       "  TRUE     13    5"
      ]
     },
     "metadata": {},
     "output_type": "display_data"
    }
   ],
   "source": [
    "table(songs$artistname==\"Michael Jackson\" ,songs$Top10 == 1)"
   ]
  },
  {
   "cell_type": "markdown",
   "metadata": {},
   "source": [
    "#### Problem 1.4 - Understanding the Data\n",
    "\n",
    "The variable corresponding to the estimated time signature (timesignature) is discrete, meaning that it only takes integer values (0, 1, 2, 3, . . . ). What are the values of this variable that occur in our dataset? Select all that apply."
   ]
  },
  {
   "cell_type": "code",
   "execution_count": 5,
   "metadata": {},
   "outputs": [
    {
     "name": "stdout",
     "output_type": "stream",
     "text": [
      " int [1:7574] 3 4 4 4 4 4 4 4 4 4 ...\n"
     ]
    },
    {
     "data": {
      "text/plain": [
       "\n",
       "   0    1    3    4    5    7 \n",
       "  10  143  503 6787  112   19 "
      ]
     },
     "metadata": {},
     "output_type": "display_data"
    }
   ],
   "source": [
    "str(songs$timesignature)\n",
    "table(songs$timesignature)"
   ]
  },
  {
   "cell_type": "markdown",
   "metadata": {},
   "source": [
    "Which timesignature value is the most frequent among songs in our dataset?"
   ]
  },
  {
   "cell_type": "code",
   "execution_count": 6,
   "metadata": {},
   "outputs": [
    {
     "data": {
      "image/png": "[encoded data removed]",
      "text/plain": [
       "Plot with title \"Histogram of songs$timesignature\""
      ]
     },
     "metadata": {},
     "output_type": "display_data"
    }
   ],
   "source": [
    "hist(songs$timesignature)"
   ]
  },
  {
   "cell_type": "markdown",
   "metadata": {},
   "source": [
    "#### Problem 1.5 - Understanding the Data\n",
    "\n",
    "Out of all of the songs in our dataset, the song with the highest tempo is one of the following songs. Which one is it?"
   ]
  },
  {
   "cell_type": "code",
   "execution_count": 7,
   "metadata": {},
   "outputs": [
    {
     "data": {
      "image/png": "[encoded data removed]",
      "text/plain": [
       "plot without title"
      ]
     },
     "metadata": {},
     "output_type": "display_data"
    }
   ],
   "source": [
    "plot(songs$tempo)"
   ]
  },
  {
   "cell_type": "code",
   "execution_count": 8,
   "metadata": {},
   "outputs": [
    {
     "data": {
      "text/html": [
       "<table>\n",
       "<thead><tr><th></th><th scope=col>year</th><th scope=col>songtitle</th><th scope=col>artistname</th><th scope=col>songID</th><th scope=col>artistID</th><th scope=col>timesignature</th><th scope=col>timesignature_confidence</th><th scope=col>loudness</th><th scope=col>tempo</th><th scope=col>tempo_confidence</th><th scope=col>...</th><th scope=col>timbre_7_max</th><th scope=col>timbre_8_min</th><th scope=col>timbre_8_max</th><th scope=col>timbre_9_min</th><th scope=col>timbre_9_max</th><th scope=col>timbre_10_min</th><th scope=col>timbre_10_max</th><th scope=col>timbre_11_min</th><th scope=col>timbre_11_max</th><th scope=col>Top10</th></tr></thead>\n",
       "<tbody>\n",
       "\t<tr><th scope=row>6206</th><td>1995                       </td><td>Wanna Be Startin' Somethin'</td><td>Michael Jackson            </td><td>SONHIQM13738B7BE80         </td><td>ARXPPEY1187FB51DF4         </td><td>3                          </td><td>1.000                      </td><td>-14.528                    </td><td>244.307                    </td><td>0.566                      </td><td>...                        </td><td>93.600                     </td><td>-52.012                    </td><td>95.827                     </td><td>-63.554                    </td><td>84.129                     </td><td> -53.492                   </td><td>67.001                     </td><td>-73.421                    </td><td>67.308                     </td><td>0                          </td></tr>\n",
       "\t<tr><th scope=row>5946</th><td>1996                       </td><td>Zodijackyl Light           </td><td>Dark Tranquillity          </td><td>SOSMMKR1373EF49777         </td><td>AR27M2F1187B9B1C50         </td><td>4                          </td><td>0.526                      </td><td>-11.418                    </td><td>237.457                    </td><td>0.210                      </td><td>...                        </td><td>58.098                     </td><td>-66.722                    </td><td>42.489                     </td><td>-28.941                    </td><td>54.068                     </td><td> -46.201                   </td><td>28.347                     </td><td>-37.549                    </td><td>32.705                     </td><td>0                          </td></tr>\n",
       "\t<tr><th scope=row>4091</th><td>2002                       </td><td>You're a Fucking Bastard   </td><td>The Exploited              </td><td>SOCKWLO12D85320AB2         </td><td>AR39QZK1187B9B1846         </td><td>1                          </td><td>0.000                      </td><td> -5.677                    </td><td>233.982                    </td><td>0.338                      </td><td>...                        </td><td>60.900                     </td><td>-49.601                    </td><td>46.883                     </td><td>-26.752                    </td><td>55.947                     </td><td>-108.579                   </td><td>40.632                     </td><td>-37.253                    </td><td>37.228                     </td><td>0                          </td></tr>\n",
       "\t<tr><th scope=row>1186</th><td>2008                       </td><td>Relentless                 </td><td>Strapping Young Lad        </td><td>SODQTAK1377A1A8EB1         </td><td>AR4IE571187FB4ECE1         </td><td>4                          </td><td>0.000                      </td><td> -5.635                    </td><td>232.134                    </td><td>0.273                      </td><td>...                        </td><td>33.870                     </td><td>-28.485                    </td><td>31.267                     </td><td>-19.105                    </td><td>26.089                     </td><td> -71.759                   </td><td>35.007                     </td><td>-34.933                    </td><td>46.100                     </td><td>0                          </td></tr>\n",
       "\t<tr><th scope=row>4760</th><td>2000                       </td><td>The Chainheart Machine     </td><td>Soilwork                   </td><td>SOSZFZT13775661184         </td><td>ARUF32D1187B9B157E         </td><td>4                          </td><td>0.327                      </td><td> -7.148                    </td><td>218.403                    </td><td>0.000                      </td><td>...                        </td><td>78.386                     </td><td>-46.363                    </td><td>18.003                     </td><td>-53.302                    </td><td>49.581                     </td><td>-174.787                   </td><td>22.260                     </td><td>-39.892                    </td><td>30.760                     </td><td>0                          </td></tr>\n",
       "\t<tr><th scope=row>1201</th><td>2008                       </td><td>Take It                    </td><td>Taproot                    </td><td>SOIEMEH131634A6F0D         </td><td>ARB9VHL1187B9AEC3F         </td><td>3                          </td><td>1.000                      </td><td> -4.229                    </td><td>218.207                    </td><td>0.177                      </td><td>...                        </td><td>68.613                     </td><td>-52.242                    </td><td>49.196                     </td><td>-33.076                    </td><td>57.878                     </td><td>-119.559                   </td><td>33.956                     </td><td>-33.002                    </td><td>39.616                     </td><td>0                          </td></tr>\n",
       "</tbody>\n",
       "</table>\n"
      ],
      "text/latex": [
       "\\begin{tabular}{r|lllllllllllllllllllllllllllllllllllllll}\n",
       "  & year & songtitle & artistname & songID & artistID & timesignature & timesignature\\_confidence & loudness & tempo & tempo\\_confidence & ... & timbre\\_7\\_max & timbre\\_8\\_min & timbre\\_8\\_max & timbre\\_9\\_min & timbre\\_9\\_max & timbre\\_10\\_min & timbre\\_10\\_max & timbre\\_11\\_min & timbre\\_11\\_max & Top10\\\\\n",
       "\\hline\n",
       "\t6206 & 1995                        & Wanna Be Startin' Somethin' & Michael Jackson             & SONHIQM13738B7BE80          & ARXPPEY1187FB51DF4          & 3                           & 1.000                       & -14.528                     & 244.307                     & 0.566                       & ...                         & 93.600                      & -52.012                     & 95.827                      & -63.554                     & 84.129                      &  -53.492                    & 67.001                      & -73.421                     & 67.308                      & 0                          \\\\\n",
       "\t5946 & 1996                        & Zodijackyl Light            & Dark Tranquillity           & SOSMMKR1373EF49777          & AR27M2F1187B9B1C50          & 4                           & 0.526                       & -11.418                     & 237.457                     & 0.210                       & ...                         & 58.098                      & -66.722                     & 42.489                      & -28.941                     & 54.068                      &  -46.201                    & 28.347                      & -37.549                     & 32.705                      & 0                          \\\\\n",
       "\t4091 & 2002                        & You're a Fucking Bastard    & The Exploited               & SOCKWLO12D85320AB2          & AR39QZK1187B9B1846          & 1                           & 0.000                       &  -5.677                     & 233.982                     & 0.338                       & ...                         & 60.900                      & -49.601                     & 46.883                      & -26.752                     & 55.947                      & -108.579                    & 40.632                      & -37.253                     & 37.228                      & 0                          \\\\\n",
       "\t1186 & 2008                        & Relentless                  & Strapping Young Lad         & SODQTAK1377A1A8EB1          & AR4IE571187FB4ECE1          & 4                           & 0.000                       &  -5.635                     & 232.134                     & 0.273                       & ...                         & 33.870                      & -28.485                     & 31.267                      & -19.105                     & 26.089                      &  -71.759                    & 35.007                      & -34.933                     & 46.100                      & 0                          \\\\\n",
       "\t4760 & 2000                        & The Chainheart Machine      & Soilwork                    & SOSZFZT13775661184          & ARUF32D1187B9B157E          & 4                           & 0.327                       &  -7.148                     & 218.403                     & 0.000                       & ...                         & 78.386                      & -46.363                     & 18.003                      & -53.302                     & 49.581                      & -174.787                    & 22.260                      & -39.892                     & 30.760                      & 0                          \\\\\n",
       "\t1201 & 2008                        & Take It                     & Taproot                     & SOIEMEH131634A6F0D          & ARB9VHL1187B9AEC3F          & 3                           & 1.000                       &  -4.229                     & 218.207                     & 0.177                       & ...                         & 68.613                      & -52.242                     & 49.196                      & -33.076                     & 57.878                      & -119.559                    & 33.956                      & -33.002                     & 39.616                      & 0                          \\\\\n",
       "\\end{tabular}\n"
      ],
      "text/plain": [
       "     year songtitle                   artistname          songID            \n",
       "6206 1995 Wanna Be Startin' Somethin' Michael Jackson     SONHIQM13738B7BE80\n",
       "5946 1996 Zodijackyl Light            Dark Tranquillity   SOSMMKR1373EF49777\n",
       "4091 2002 You're a Fucking Bastard    The Exploited       SOCKWLO12D85320AB2\n",
       "1186 2008 Relentless                  Strapping Young Lad SODQTAK1377A1A8EB1\n",
       "4760 2000 The Chainheart Machine      Soilwork            SOSZFZT13775661184\n",
       "1201 2008 Take It                     Taproot             SOIEMEH131634A6F0D\n",
       "     artistID           timesignature timesignature_confidence loudness tempo  \n",
       "6206 ARXPPEY1187FB51DF4 3             1.000                    -14.528  244.307\n",
       "5946 AR27M2F1187B9B1C50 4             0.526                    -11.418  237.457\n",
       "4091 AR39QZK1187B9B1846 1             0.000                     -5.677  233.982\n",
       "1186 AR4IE571187FB4ECE1 4             0.000                     -5.635  232.134\n",
       "4760 ARUF32D1187B9B157E 4             0.327                     -7.148  218.403\n",
       "1201 ARB9VHL1187B9AEC3F 3             1.000                     -4.229  218.207\n",
       "     tempo_confidence ... timbre_7_max timbre_8_min timbre_8_max timbre_9_min\n",
       "6206 0.566            ... 93.600       -52.012      95.827       -63.554     \n",
       "5946 0.210            ... 58.098       -66.722      42.489       -28.941     \n",
       "4091 0.338            ... 60.900       -49.601      46.883       -26.752     \n",
       "1186 0.273            ... 33.870       -28.485      31.267       -19.105     \n",
       "4760 0.000            ... 78.386       -46.363      18.003       -53.302     \n",
       "1201 0.177            ... 68.613       -52.242      49.196       -33.076     \n",
       "     timbre_9_max timbre_10_min timbre_10_max timbre_11_min timbre_11_max Top10\n",
       "6206 84.129        -53.492      67.001        -73.421       67.308        0    \n",
       "5946 54.068        -46.201      28.347        -37.549       32.705        0    \n",
       "4091 55.947       -108.579      40.632        -37.253       37.228        0    \n",
       "1186 26.089        -71.759      35.007        -34.933       46.100        0    \n",
       "4760 49.581       -174.787      22.260        -39.892       30.760        0    \n",
       "1201 57.878       -119.559      33.956        -33.002       39.616        0    "
      ]
     },
     "metadata": {},
     "output_type": "display_data"
    }
   ],
   "source": [
    "head(songs[order(songs$tempo , decreasing = T),])"
   ]
  },
  {
   "cell_type": "markdown",
   "metadata": {},
   "source": [
    "#### Problem 2.1 - Creating Our Prediction Model\n",
    "\n",
    "We wish to predict whether or not a song will make it to the Top 10. To do this, first use the subset function to split the data into a training set \"SongsTrain\" consisting of all the observations up to and including 2009 song releases, and a testing set \"SongsTest\", consisting of the 2010 song releases.\n",
    "\n",
    "How many observations (songs) are in the training set?"
   ]
  },
  {
   "cell_type": "code",
   "execution_count": 9,
   "metadata": {},
   "outputs": [
    {
     "name": "stdout",
     "output_type": "stream",
     "text": [
      "'data.frame':\t7201 obs. of  39 variables:\n",
      " $ year                    : int  2009 2009 2009 2009 2009 2009 2009 2009 2009 2009 ...\n",
      " $ songtitle               : Factor w/ 7141 levels \"'03 Bonnie & Clyde\",..: 5789 4930 5628 5899 685 1538 3633 3488 6112 3722 ...\n",
      " $ artistname              : Factor w/ 1032 levels \"50 Cent\",\"98 Degrees\",..: 56 56 56 56 56 56 56 56 56 56 ...\n",
      " $ songID                  : Factor w/ 7549 levels \"SOAACNI1315CD4AC42\",..: 6523 2870 724 3107 7228 5195 3690 5818 3631 3023 ...\n",
      " $ artistID                : Factor w/ 1047 levels \"AR00B1I1187FB433EB\",..: 371 371 371 371 371 371 371 371 371 371 ...\n",
      " $ timesignature           : int  3 3 4 4 4 4 4 4 4 4 ...\n",
      " $ timesignature_confidence: num  0.732 0.906 0.987 0.822 0.983 1 0.821 0.997 0.816 1 ...\n",
      " $ loudness                : num  -6.32 -9.54 -4.84 -5.27 -6.23 ...\n",
      " $ tempo                   : num  89.6 117.7 119 71.5 77.5 ...\n",
      " $ tempo_confidence        : num  0.652 0.542 0.838 0.613 0.74 0.821 0.912 0.609 0.786 0.27 ...\n",
      " $ key                     : int  1 0 6 4 8 9 6 9 0 9 ...\n",
      " $ key_confidence          : num  0.773 0.722 0.106 0.781 0.552 0.218 0.275 0.333 0.634 0.578 ...\n",
      " $ energy                  : num  0.599 0.363 0.76 0.755 0.524 ...\n",
      " $ pitch                   : num  0.004 0.006 0.003 0.014 0.008 0.012 0.002 0.003 0.001 0.006 ...\n",
      " $ timbre_0_min            : num  0 0.739 0 0 0 ...\n",
      " $ timbre_0_max            : num  57.8 57.1 57.8 58.3 57.6 ...\n",
      " $ timbre_1_min            : num  -62.3 -220.2 -189.7 -113.9 -160.6 ...\n",
      " $ timbre_1_max            : num  286 241 187 171 217 ...\n",
      " $ timbre_2_min            : num  -81.8 -96.8 -139.1 -71.6 -79.5 ...\n",
      " $ timbre_2_max            : num  211 215 135 195 114 ...\n",
      " $ timbre_3_min            : num  -217 -202 -116 -276 -184 ...\n",
      " $ timbre_3_max            : num  203.2 124.2 94.7 146.3 108.7 ...\n",
      " $ timbre_4_min            : num  -55.9 -52.4 -55.6 -59.4 -31.9 ...\n",
      " $ timbre_4_max            : num  97.6 131.9 79.3 121.7 169.7 ...\n",
      " $ timbre_5_min            : num  -62.5 -73.9 -73.5 -71.1 -73 ...\n",
      " $ timbre_5_max            : num  82.2 73.6 41 39.6 233.9 ...\n",
      " $ timbre_6_min            : num  -82.1 -63.5 -41.5 -77.8 -76 ...\n",
      " $ timbre_6_max            : num  59.2 70.1 62.8 94.5 58 ...\n",
      " $ timbre_7_min            : num  -109.4 -90.1 -69.3 -69.1 -78.8 ...\n",
      " $ timbre_7_max            : num  71 112.9 90.4 93.4 100.8 ...\n",
      " $ timbre_8_min            : num  -71.8 -64.5 -52.5 -55.8 -61.4 ...\n",
      " $ timbre_8_max            : num  58.4 58.1 40.7 79 50.3 ...\n",
      " $ timbre_9_min            : num  -53.8 -76.9 -50.4 -51.5 -63 ...\n",
      " $ timbre_9_max            : num  88.6 74.4 58.8 70.5 96.8 ...\n",
      " $ timbre_10_min           : num  -89.8 -88.2 -78.2 -74.9 -90.4 ...\n",
      " $ timbre_10_max           : num  38 42.2 35.3 30.8 60.5 ...\n",
      " $ timbre_11_min           : num  -52.1 -66.8 -54.2 -51.4 -52.1 ...\n",
      " $ timbre_11_max           : num  52.8 40.7 46.5 27.8 48.1 ...\n",
      " $ Top10                   : int  0 0 0 0 0 0 0 0 0 0 ...\n"
     ]
    },
    {
     "data": {
      "text/plain": [
       "\n",
       "1990 1991 1992 1993 1994 1995 1996 1997 1998 1999 2000 2001 2002 2003 2004 2005 \n",
       " 328  196  186  324  198  258  178  329  380  357  363  282  518  434  479  392 \n",
       "2006 2007 2008 2009 \n",
       " 479  622  415  483 "
      ]
     },
     "metadata": {},
     "output_type": "display_data"
    }
   ],
   "source": [
    "SongsTrain <- subset(songs, year<=2009)\n",
    "SongsTest <- subset(songs, year>2009)\n",
    "\n",
    "str(SongsTrain)\n",
    "table(SongsTrain$year)"
   ]
  },
  {
   "cell_type": "code",
   "execution_count": 10,
   "metadata": {},
   "outputs": [
    {
     "name": "stdout",
     "output_type": "stream",
     "text": [
      "'data.frame':\t373 obs. of  39 variables:\n",
      " $ year                    : int  2010 2010 2010 2010 2010 2010 2010 2010 2010 2010 ...\n",
      " $ songtitle               : Factor w/ 7141 levels \"'03 Bonnie & Clyde\",..: 6204 5522 241 3098 47 607 254 4419 2887 6756 ...\n",
      " $ artistname              : Factor w/ 1032 levels \"50 Cent\",\"98 Degrees\",..: 3 3 3 3 3 3 3 3 3 12 ...\n",
      " $ songID                  : Factor w/ 7549 levels \"SOAACNI1315CD4AC42\",..: 595 5439 5252 1716 3431 1020 1831 3964 6904 2473 ...\n",
      " $ artistID                : Factor w/ 1047 levels \"AR00B1I1187FB433EB\",..: 671 671 671 671 671 671 671 671 671 507 ...\n",
      " $ timesignature           : int  3 4 4 4 4 4 4 4 4 4 ...\n",
      " $ timesignature_confidence: num  0.853 1 1 1 0.788 1 0.968 0.861 0.622 0.938 ...\n",
      " $ loudness                : num  -4.26 -4.05 -3.57 -3.81 -4.71 ...\n",
      " $ tempo                   : num  91.5 140 160.5 97.5 140.1 ...\n",
      " $ tempo_confidence        : num  0.953 0.921 0.489 0.794 0.286 0.347 0.273 0.83 0.018 0.929 ...\n",
      " $ key                     : int  11 10 2 1 6 4 10 5 9 11 ...\n",
      " $ key_confidence          : num  0.453 0.469 0.209 0.632 0.483 0.627 0.715 0.423 0.751 0.602 ...\n",
      " $ energy                  : num  0.967 0.985 0.99 0.939 0.988 ...\n",
      " $ pitch                   : num  0.024 0.025 0.026 0.013 0.063 0.038 0.026 0.033 0.027 0.004 ...\n",
      " $ timbre_0_min            : num  0.002 0 0.003 0 0 ...\n",
      " $ timbre_0_max            : num  57.3 57.4 57.4 57.8 56.9 ...\n",
      " $ timbre_1_min            : num  -6.5 -37.4 -17.2 -32.1 -223.9 ...\n",
      " $ timbre_1_max            : num  171 171 171 221 171 ...\n",
      " $ timbre_2_min            : num  -81.7 -149.6 -72.9 -138.6 -147.2 ...\n",
      " $ timbre_2_max            : num  95.1 180.3 157.9 173.4 166 ...\n",
      " $ timbre_3_min            : num  -285 -380.1 -204 -73.5 -128.1 ...\n",
      " $ timbre_3_max            : num  259 384 251 373 389 ...\n",
      " $ timbre_4_min            : num  -40.4 -48.7 -66 -55.6 -43.9 ...\n",
      " $ timbre_4_max            : num  73.6 100.4 152.1 119.2 99.3 ...\n",
      " $ timbre_5_min            : num  -104.7 -87.3 -98.7 -77.5 -96.1 ...\n",
      " $ timbre_5_max            : num  183.1 42.8 141.4 141.2 38.3 ...\n",
      " $ timbre_6_min            : num  -88.8 -86.9 -88.9 -70.8 -110.8 ...\n",
      " $ timbre_6_max            : num  73.5 75.5 66.5 64.5 72.4 ...\n",
      " $ timbre_7_min            : num  -71.1 -65.8 -67.4 -63.7 -55.9 ...\n",
      " $ timbre_7_max            : num  82.5 106.9 80.6 96.7 110.3 ...\n",
      " $ timbre_8_min            : num  -52 -61.3 -59.8 -78.7 -56.5 ...\n",
      " $ timbre_8_max            : num  39.1 35.4 46 41.1 37.6 ...\n",
      " $ timbre_9_min            : num  -35.4 -81.9 -46.3 -49.2 -48.6 ...\n",
      " $ timbre_9_max            : num  71.6 74.6 59.9 95.4 67.6 ...\n",
      " $ timbre_10_min           : num  -126.4 -103.8 -108.3 -102.7 -52.8 ...\n",
      " $ timbre_10_max           : num  18.7 121.9 33.3 46.4 22.9 ...\n",
      " $ timbre_11_min           : num  -44.8 -38.9 -43.7 -59.4 -50.4 ...\n",
      " $ timbre_11_max           : num  26 22.5 25.7 37.1 32.8 ...\n",
      " $ Top10                   : int  0 0 0 0 0 0 0 0 0 1 ...\n"
     ]
    },
    {
     "data": {
      "text/plain": [
       "\n",
       "2010 \n",
       " 373 "
      ]
     },
     "metadata": {},
     "output_type": "display_data"
    },
    {
     "data": {
      "text/html": [
       "2010"
      ],
      "text/latex": [
       "2010"
      ],
      "text/markdown": [
       "2010"
      ],
      "text/plain": [
       "[1] 2010"
      ]
     },
     "metadata": {},
     "output_type": "display_data"
    }
   ],
   "source": [
    "str(SongsTest)\n",
    "table(SongsTest$year)\n",
    "unique(SongsTest$year)"
   ]
  },
  {
   "cell_type": "markdown",
   "metadata": {},
   "source": [
    "#### Problem 2.2 - Creating our Prediction Model\n",
    "\n",
    "In this problem, our outcome variable is \"Top10\" - we are trying to predict whether or not a song will make it to the Top 10 of the Billboard Hot 100 Chart. Since the outcome variable is binary, we will build a logistic regression model. We'll start by using all song attributes as our independent variables, which we'll call Model 1.\n",
    "\n",
    "We will only use the variables in our dataset that describe the numerical attributes of the song in our logistic regression model. So we won't use the variables \"year\", \"songtitle\", \"artistname\", \"songID\" or \"artistID\".\n",
    "\n",
    "We have seen in the lecture that, to build the logistic regression model, we would normally explicitly input the formula including all the independent variables in R. However, in this case, this is a tedious amount of work since we have a large number of independent variables.\n",
    "\n",
    "There is a nice trick to avoid doing so. Let's suppose that, except for the outcome variable Top10, all other variables in the training set are inputs to Model 1. Then, we can use the formula\n",
    "\n",
    "SongsLog1 = glm(Top10 ~ ., data=SongsTrain, family=binomial)\n",
    "\n",
    "to build our model. Notice that the \".\" is used in place of enumerating all the independent variables. (Also, keep in mind that you can choose to put quotes around binomial, or leave out the quotes. R can understand this argument either way.)\n",
    "\n",
    "However, in our case, we want to exclude some of the variables in our dataset from being used as independent variables (\"year\", \"songtitle\", \"artistname\", \"songID\", and \"artistID\"). To do this, we can use the following trick. First define a vector of variable names called nonvars - these are the variables that we won't use in our model.\n",
    "\n",
    "nonvars = c(\"year\", \"songtitle\", \"artistname\", \"songID\", \"artistID\")\n",
    "\n",
    "To remove these variables from your training and testing sets, type the following commands in your R console:\n",
    "\n",
    "SongsTrain = SongsTrain[ , !(names(SongsTrain) %in% nonvars) ]\n",
    "\n",
    "SongsTest = SongsTest[ , !(names(SongsTest) %in% nonvars) ]\n",
    "\n",
    "Now, use the glm function to build a logistic regression model to predict Top10 using all of the other variables as the independent variables. You should use SongsTrain to build the model.\n",
    "\n",
    "Looking at the summary of your model, what is the value of the Akaike Information Criterion (AIC)?"
   ]
  },
  {
   "cell_type": "code",
   "execution_count": 11,
   "metadata": {
    "collapsed": true
   },
   "outputs": [],
   "source": [
    "nonvars = c(\"year\", \"songtitle\", \"artistname\", \"songID\", \"artistID\")\n",
    "\n",
    "SongsTrain = SongsTrain[ , !(names(SongsTrain) %in% nonvars) ]\n",
    "\n",
    "SongsTest = SongsTest[ , !(names(SongsTest) %in% nonvars) ]"
   ]
  },
  {
   "cell_type": "code",
   "execution_count": 12,
   "metadata": {
    "collapsed": true
   },
   "outputs": [],
   "source": [
    "SongsLog1 = glm(Top10 ~ ., data=SongsTrain, family=binomial)"
   ]
  },
  {
   "cell_type": "code",
   "execution_count": 13,
   "metadata": {},
   "outputs": [
    {
     "data": {
      "text/plain": [
       "\n",
       "Call:\n",
       "glm(formula = Top10 ~ ., family = binomial, data = SongsTrain)\n",
       "\n",
       "Deviance Residuals: \n",
       "    Min       1Q   Median       3Q      Max  \n",
       "-1.9220  -0.5399  -0.3459  -0.1845   3.0770  \n",
       "\n",
       "Coefficients:\n",
       "                           Estimate Std. Error z value Pr(>|z|)    \n",
       "(Intercept)               1.470e+01  1.806e+00   8.138 4.03e-16 ***\n",
       "timesignature             1.264e-01  8.674e-02   1.457 0.145050    \n",
       "timesignature_confidence  7.450e-01  1.953e-01   3.815 0.000136 ***\n",
       "loudness                  2.999e-01  2.917e-02  10.282  < 2e-16 ***\n",
       "tempo                     3.634e-04  1.691e-03   0.215 0.829889    \n",
       "tempo_confidence          4.732e-01  1.422e-01   3.329 0.000873 ***\n",
       "key                       1.588e-02  1.039e-02   1.529 0.126349    \n",
       "key_confidence            3.087e-01  1.412e-01   2.187 0.028760 *  \n",
       "energy                   -1.502e+00  3.099e-01  -4.847 1.25e-06 ***\n",
       "pitch                    -4.491e+01  6.835e+00  -6.570 5.02e-11 ***\n",
       "timbre_0_min              2.316e-02  4.256e-03   5.441 5.29e-08 ***\n",
       "timbre_0_max             -3.310e-01  2.569e-02 -12.882  < 2e-16 ***\n",
       "timbre_1_min              5.881e-03  7.798e-04   7.542 4.64e-14 ***\n",
       "timbre_1_max             -2.449e-04  7.152e-04  -0.342 0.732087    \n",
       "timbre_2_min             -2.127e-03  1.126e-03  -1.889 0.058843 .  \n",
       "timbre_2_max              6.586e-04  9.066e-04   0.726 0.467571    \n",
       "timbre_3_min              6.920e-04  5.985e-04   1.156 0.247583    \n",
       "timbre_3_max             -2.967e-03  5.815e-04  -5.103 3.34e-07 ***\n",
       "timbre_4_min              1.040e-02  1.985e-03   5.237 1.63e-07 ***\n",
       "timbre_4_max              6.110e-03  1.550e-03   3.942 8.10e-05 ***\n",
       "timbre_5_min             -5.598e-03  1.277e-03  -4.385 1.16e-05 ***\n",
       "timbre_5_max              7.736e-05  7.935e-04   0.097 0.922337    \n",
       "timbre_6_min             -1.686e-02  2.264e-03  -7.445 9.66e-14 ***\n",
       "timbre_6_max              3.668e-03  2.190e-03   1.675 0.093875 .  \n",
       "timbre_7_min             -4.549e-03  1.781e-03  -2.554 0.010661 *  \n",
       "timbre_7_max             -3.774e-03  1.832e-03  -2.060 0.039408 *  \n",
       "timbre_8_min              3.911e-03  2.851e-03   1.372 0.170123    \n",
       "timbre_8_max              4.011e-03  3.003e-03   1.336 0.181620    \n",
       "timbre_9_min              1.367e-03  2.998e-03   0.456 0.648356    \n",
       "timbre_9_max              1.603e-03  2.434e-03   0.659 0.510188    \n",
       "timbre_10_min             4.126e-03  1.839e-03   2.244 0.024852 *  \n",
       "timbre_10_max             5.825e-03  1.769e-03   3.292 0.000995 ***\n",
       "timbre_11_min            -2.625e-02  3.693e-03  -7.108 1.18e-12 ***\n",
       "timbre_11_max             1.967e-02  3.385e-03   5.811 6.21e-09 ***\n",
       "---\n",
       "Signif. codes:  0 '***' 0.001 '**' 0.01 '*' 0.05 '.' 0.1 ' ' 1\n",
       "\n",
       "(Dispersion parameter for binomial family taken to be 1)\n",
       "\n",
       "    Null deviance: 6017.5  on 7200  degrees of freedom\n",
       "Residual deviance: 4759.2  on 7167  degrees of freedom\n",
       "AIC: 4827.2\n",
       "\n",
       "Number of Fisher Scoring iterations: 6\n"
      ]
     },
     "metadata": {},
     "output_type": "display_data"
    }
   ],
   "source": [
    "summary(SongsLog1)"
   ]
  },
  {
   "cell_type": "code",
   "execution_count": 14,
   "metadata": {},
   "outputs": [
    {
     "data": {
      "text/html": [
       "4827.15410238862"
      ],
      "text/latex": [
       "4827.15410238862"
      ],
      "text/markdown": [
       "4827.15410238862"
      ],
      "text/plain": [
       "[1] 4827.154"
      ]
     },
     "metadata": {},
     "output_type": "display_data"
    }
   ],
   "source": [
    "summary(SongsLog1)$aic"
   ]
  },
  {
   "cell_type": "markdown",
   "metadata": {},
   "source": [
    "#### Problem 2.3 - Creating Our Prediction Model\n",
    "\n",
    "Let's now think about the variables in our dataset related to the confidence of the time signature, key and tempo (timesignature_confidence, key_confidence, and tempo_confidence). Our model seems to indicate that these confidence variables are significant (rather than the variables timesignature, key and tempo themselves). What does the model suggest?"
   ]
  },
  {
   "cell_type": "code",
   "execution_count": 15,
   "metadata": {},
   "outputs": [
    {
     "data": {
      "text/plain": [
       "\n",
       "Call:\n",
       "glm(formula = Top10 ~ ., family = binomial, data = SongsTrain)\n",
       "\n",
       "Deviance Residuals: \n",
       "    Min       1Q   Median       3Q      Max  \n",
       "-1.9220  -0.5399  -0.3459  -0.1845   3.0770  \n",
       "\n",
       "Coefficients:\n",
       "                           Estimate Std. Error z value Pr(>|z|)    \n",
       "(Intercept)               1.470e+01  1.806e+00   8.138 4.03e-16 ***\n",
       "timesignature             1.264e-01  8.674e-02   1.457 0.145050    \n",
       "timesignature_confidence  7.450e-01  1.953e-01   3.815 0.000136 ***\n",
       "loudness                  2.999e-01  2.917e-02  10.282  < 2e-16 ***\n",
       "tempo                     3.634e-04  1.691e-03   0.215 0.829889    \n",
       "tempo_confidence          4.732e-01  1.422e-01   3.329 0.000873 ***\n",
       "key                       1.588e-02  1.039e-02   1.529 0.126349    \n",
       "key_confidence            3.087e-01  1.412e-01   2.187 0.028760 *  \n",
       "energy                   -1.502e+00  3.099e-01  -4.847 1.25e-06 ***\n",
       "pitch                    -4.491e+01  6.835e+00  -6.570 5.02e-11 ***\n",
       "timbre_0_min              2.316e-02  4.256e-03   5.441 5.29e-08 ***\n",
       "timbre_0_max             -3.310e-01  2.569e-02 -12.882  < 2e-16 ***\n",
       "timbre_1_min              5.881e-03  7.798e-04   7.542 4.64e-14 ***\n",
       "timbre_1_max             -2.449e-04  7.152e-04  -0.342 0.732087    \n",
       "timbre_2_min             -2.127e-03  1.126e-03  -1.889 0.058843 .  \n",
       "timbre_2_max              6.586e-04  9.066e-04   0.726 0.467571    \n",
       "timbre_3_min              6.920e-04  5.985e-04   1.156 0.247583    \n",
       "timbre_3_max             -2.967e-03  5.815e-04  -5.103 3.34e-07 ***\n",
       "timbre_4_min              1.040e-02  1.985e-03   5.237 1.63e-07 ***\n",
       "timbre_4_max              6.110e-03  1.550e-03   3.942 8.10e-05 ***\n",
       "timbre_5_min             -5.598e-03  1.277e-03  -4.385 1.16e-05 ***\n",
       "timbre_5_max              7.736e-05  7.935e-04   0.097 0.922337    \n",
       "timbre_6_min             -1.686e-02  2.264e-03  -7.445 9.66e-14 ***\n",
       "timbre_6_max              3.668e-03  2.190e-03   1.675 0.093875 .  \n",
       "timbre_7_min             -4.549e-03  1.781e-03  -2.554 0.010661 *  \n",
       "timbre_7_max             -3.774e-03  1.832e-03  -2.060 0.039408 *  \n",
       "timbre_8_min              3.911e-03  2.851e-03   1.372 0.170123    \n",
       "timbre_8_max              4.011e-03  3.003e-03   1.336 0.181620    \n",
       "timbre_9_min              1.367e-03  2.998e-03   0.456 0.648356    \n",
       "timbre_9_max              1.603e-03  2.434e-03   0.659 0.510188    \n",
       "timbre_10_min             4.126e-03  1.839e-03   2.244 0.024852 *  \n",
       "timbre_10_max             5.825e-03  1.769e-03   3.292 0.000995 ***\n",
       "timbre_11_min            -2.625e-02  3.693e-03  -7.108 1.18e-12 ***\n",
       "timbre_11_max             1.967e-02  3.385e-03   5.811 6.21e-09 ***\n",
       "---\n",
       "Signif. codes:  0 '***' 0.001 '**' 0.01 '*' 0.05 '.' 0.1 ' ' 1\n",
       "\n",
       "(Dispersion parameter for binomial family taken to be 1)\n",
       "\n",
       "    Null deviance: 6017.5  on 7200  degrees of freedom\n",
       "Residual deviance: 4759.2  on 7167  degrees of freedom\n",
       "AIC: 4827.2\n",
       "\n",
       "Number of Fisher Scoring iterations: 6\n"
      ]
     },
     "metadata": {},
     "output_type": "display_data"
    }
   ],
   "source": [
    "summary(SongsLog1)"
   ]
  },
  {
   "cell_type": "markdown",
   "metadata": {},
   "source": [
    "The higher our confidence about time signature, key and tempo, the more likely the song is to be in the Top 10 "
   ]
  },
  {
   "cell_type": "markdown",
   "metadata": {},
   "source": [
    "#### Problem 2.4 - Creating Our Prediction Model\n",
    "\n",
    "In general, if the confidence is low for the time signature, tempo, and key, then the song is more likely to be complex. What does Model 1 suggest in terms of complexity?"
   ]
  },
  {
   "cell_type": "markdown",
   "metadata": {},
   "source": [
    "Mainstream listeners tend to prefer less complex songs correcto"
   ]
  },
  {
   "cell_type": "markdown",
   "metadata": {},
   "source": [
    "#### Problem 2.5 - Creating Our Prediction Model\n",
    "\n",
    "Songs with heavier instrumentation tend to be louder (have higher values in the variable \"loudness\") and more energetic (have higher values in the variable \"energy\").\n",
    "\n",
    "By inspecting the coefficient of the variable \"loudness\", what does Model 1 suggest?"
   ]
  },
  {
   "cell_type": "markdown",
   "metadata": {
    "collapsed": true
   },
   "source": [
    "Mainstream listeners prefer songs with heavy instrumentation correcto"
   ]
  },
  {
   "cell_type": "markdown",
   "metadata": {},
   "source": [
    "By inspecting the coefficient of the variable \"energy\", do we draw the same conclusions as above?"
   ]
  },
  {
   "cell_type": "markdown",
   "metadata": {
    "collapsed": true
   },
   "source": [
    "NO"
   ]
  },
  {
   "cell_type": "markdown",
   "metadata": {},
   "source": [
    "#### Problem 3.1 - Beware of Multicollinearity Issues!\n",
    "\n",
    "What is the correlation between the variables \"loudness\" and \"energy\" in the training set?"
   ]
  },
  {
   "cell_type": "code",
   "execution_count": 16,
   "metadata": {},
   "outputs": [
    {
     "data": {
      "text/html": [
       "0.739906708455806"
      ],
      "text/latex": [
       "0.739906708455806"
      ],
      "text/markdown": [
       "0.739906708455806"
      ],
      "text/plain": [
       "[1] 0.7399067"
      ]
     },
     "metadata": {},
     "output_type": "display_data"
    }
   ],
   "source": [
    "cor(SongsTrain$loudness,  SongsTrain$energy)"
   ]
  },
  {
   "cell_type": "markdown",
   "metadata": {},
   "source": [
    "Given that these two variables are highly correlated, Model 1 suffers from multicollinearity. To avoid this issue, we will omit one of these two variables and rerun the logistic regression. In the rest of this problem, we'll build two variations of our original model: Model 2, in which we keep \"energy\" and omit \"loudness\", and Model 3, in which we keep \"loudness\" and omit \"energy\"."
   ]
  },
  {
   "cell_type": "code",
   "execution_count": null,
   "metadata": {
    "collapsed": true
   },
   "outputs": [],
   "source": []
  },
  {
   "cell_type": "markdown",
   "metadata": {},
   "source": [
    "#### Problem 3.2 - Beware of Multicollinearity Issues!\n",
    "\n",
    "Create Model 2, which is Model 1 without the independent variable \"loudness\". This can be done with the following command:\n",
    "\n",
    "SongsLog2 = glm(Top10 ~ . - loudness, data=SongsTrain, family=binomial)\n",
    "\n",
    "We just subtracted the variable loudness. We couldn't do this with the variables \"songtitle\" and \"artistname\", because they are not numeric variables, and we might get different values in the test set that the training set has never seen. But this approach (subtracting the variable from the model formula) will always work when you want to remove numeric variables.\n",
    "\n",
    "Look at the summary of SongsLog2, and inspect the coefficient of the variable \"energy\". What do you observe?"
   ]
  },
  {
   "cell_type": "code",
   "execution_count": 17,
   "metadata": {},
   "outputs": [
    {
     "data": {
      "text/plain": [
       "\n",
       "Call:\n",
       "glm(formula = Top10 ~ . - loudness, family = binomial, data = SongsTrain)\n",
       "\n",
       "Deviance Residuals: \n",
       "    Min       1Q   Median       3Q      Max  \n",
       "-2.0983  -0.5607  -0.3602  -0.1902   3.3107  \n",
       "\n",
       "Coefficients:\n",
       "                           Estimate Std. Error z value Pr(>|z|)    \n",
       "(Intercept)              -2.241e+00  7.465e-01  -3.002 0.002686 ** \n",
       "timesignature             1.625e-01  8.734e-02   1.860 0.062873 .  \n",
       "timesignature_confidence  6.885e-01  1.924e-01   3.578 0.000346 ***\n",
       "tempo                     5.521e-04  1.665e-03   0.332 0.740226    \n",
       "tempo_confidence          5.497e-01  1.407e-01   3.906 9.40e-05 ***\n",
       "key                       1.740e-02  1.026e-02   1.697 0.089740 .  \n",
       "key_confidence            2.954e-01  1.394e-01   2.118 0.034163 *  \n",
       "energy                    1.813e-01  2.608e-01   0.695 0.486991    \n",
       "pitch                    -5.150e+01  6.857e+00  -7.511 5.87e-14 ***\n",
       "timbre_0_min              2.479e-02  4.240e-03   5.847 5.01e-09 ***\n",
       "timbre_0_max             -1.007e-01  1.178e-02  -8.551  < 2e-16 ***\n",
       "timbre_1_min              7.143e-03  7.710e-04   9.265  < 2e-16 ***\n",
       "timbre_1_max             -7.830e-04  7.064e-04  -1.108 0.267650    \n",
       "timbre_2_min             -1.579e-03  1.109e-03  -1.424 0.154531    \n",
       "timbre_2_max              3.889e-04  8.964e-04   0.434 0.664427    \n",
       "timbre_3_min              6.500e-04  5.949e-04   1.093 0.274524    \n",
       "timbre_3_max             -2.462e-03  5.674e-04  -4.339 1.43e-05 ***\n",
       "timbre_4_min              9.115e-03  1.952e-03   4.670 3.02e-06 ***\n",
       "timbre_4_max              6.306e-03  1.532e-03   4.115 3.87e-05 ***\n",
       "timbre_5_min             -5.641e-03  1.255e-03  -4.495 6.95e-06 ***\n",
       "timbre_5_max              6.937e-04  7.807e-04   0.889 0.374256    \n",
       "timbre_6_min             -1.612e-02  2.235e-03  -7.214 5.45e-13 ***\n",
       "timbre_6_max              3.814e-03  2.157e-03   1.768 0.076982 .  \n",
       "timbre_7_min             -5.102e-03  1.755e-03  -2.907 0.003644 ** \n",
       "timbre_7_max             -3.158e-03  1.811e-03  -1.744 0.081090 .  \n",
       "timbre_8_min              4.488e-03  2.810e-03   1.597 0.110254    \n",
       "timbre_8_max              6.423e-03  2.950e-03   2.177 0.029497 *  \n",
       "timbre_9_min             -4.282e-04  2.955e-03  -0.145 0.884792    \n",
       "timbre_9_max              3.525e-03  2.377e-03   1.483 0.138017    \n",
       "timbre_10_min             2.993e-03  1.804e-03   1.660 0.097004 .  \n",
       "timbre_10_max             7.367e-03  1.731e-03   4.255 2.09e-05 ***\n",
       "timbre_11_min            -2.837e-02  3.630e-03  -7.815 5.48e-15 ***\n",
       "timbre_11_max             1.829e-02  3.341e-03   5.476 4.34e-08 ***\n",
       "---\n",
       "Signif. codes:  0 '***' 0.001 '**' 0.01 '*' 0.05 '.' 0.1 ' ' 1\n",
       "\n",
       "(Dispersion parameter for binomial family taken to be 1)\n",
       "\n",
       "    Null deviance: 6017.5  on 7200  degrees of freedom\n",
       "Residual deviance: 4871.8  on 7168  degrees of freedom\n",
       "AIC: 4937.8\n",
       "\n",
       "Number of Fisher Scoring iterations: 6\n"
      ]
     },
     "metadata": {},
     "output_type": "display_data"
    }
   ],
   "source": [
    "SongsLog2 = glm(Top10 ~ . - loudness, data=SongsTrain, family=binomial)\n",
    "summary(SongsLog2)"
   ]
  },
  {
   "cell_type": "markdown",
   "metadata": {},
   "source": [
    "Model 2 suggests that songs with high energy levels tend to be more popular. This contradicts our observation in Model 1. "
   ]
  },
  {
   "cell_type": "markdown",
   "metadata": {},
   "source": [
    "#### Problem 3.3 - Beware of Multicollinearity Issues!\n",
    "\n",
    "Now, create Model 3, which should be exactly like Model 1, but without the variable \"energy\".\n",
    "\n",
    "Look at the summary of Model 3 and inspect the coefficient of the variable \"loudness\". Remembering that higher loudness and energy both occur in songs with heavier instrumentation, do we make the same observation about the popularity of heavy instrumentation as we did with Model 2?"
   ]
  },
  {
   "cell_type": "code",
   "execution_count": 18,
   "metadata": {},
   "outputs": [
    {
     "data": {
      "text/plain": [
       "\n",
       "Call:\n",
       "glm(formula = Top10 ~ . - energy, family = binomial, data = SongsTrain)\n",
       "\n",
       "Deviance Residuals: \n",
       "    Min       1Q   Median       3Q      Max  \n",
       "-1.9182  -0.5417  -0.3481  -0.1874   3.4171  \n",
       "\n",
       "Coefficients:\n",
       "                           Estimate Std. Error z value Pr(>|z|)    \n",
       "(Intercept)               1.196e+01  1.714e+00   6.977 3.01e-12 ***\n",
       "timesignature             1.151e-01  8.726e-02   1.319 0.187183    \n",
       "timesignature_confidence  7.143e-01  1.946e-01   3.670 0.000242 ***\n",
       "loudness                  2.306e-01  2.528e-02   9.120  < 2e-16 ***\n",
       "tempo                    -6.460e-04  1.665e-03  -0.388 0.698107    \n",
       "tempo_confidence          3.841e-01  1.398e-01   2.747 0.006019 ** \n",
       "key                       1.649e-02  1.035e-02   1.593 0.111056    \n",
       "key_confidence            3.394e-01  1.409e-01   2.409 0.015984 *  \n",
       "pitch                    -5.328e+01  6.733e+00  -7.914 2.49e-15 ***\n",
       "timbre_0_min              2.205e-02  4.239e-03   5.200 1.99e-07 ***\n",
       "timbre_0_max             -3.105e-01  2.537e-02 -12.240  < 2e-16 ***\n",
       "timbre_1_min              5.416e-03  7.643e-04   7.086 1.38e-12 ***\n",
       "timbre_1_max             -5.115e-04  7.110e-04  -0.719 0.471928    \n",
       "timbre_2_min             -2.254e-03  1.120e-03  -2.012 0.044190 *  \n",
       "timbre_2_max              4.119e-04  9.020e-04   0.457 0.647915    \n",
       "timbre_3_min              3.179e-04  5.869e-04   0.542 0.588083    \n",
       "timbre_3_max             -2.964e-03  5.758e-04  -5.147 2.64e-07 ***\n",
       "timbre_4_min              1.105e-02  1.978e-03   5.585 2.34e-08 ***\n",
       "timbre_4_max              6.467e-03  1.541e-03   4.196 2.72e-05 ***\n",
       "timbre_5_min             -5.135e-03  1.269e-03  -4.046 5.21e-05 ***\n",
       "timbre_5_max              2.979e-04  7.855e-04   0.379 0.704526    \n",
       "timbre_6_min             -1.784e-02  2.246e-03  -7.945 1.94e-15 ***\n",
       "timbre_6_max              3.447e-03  2.182e-03   1.580 0.114203    \n",
       "timbre_7_min             -5.128e-03  1.768e-03  -2.900 0.003733 ** \n",
       "timbre_7_max             -3.394e-03  1.820e-03  -1.865 0.062208 .  \n",
       "timbre_8_min              3.686e-03  2.833e-03   1.301 0.193229    \n",
       "timbre_8_max              4.658e-03  2.988e-03   1.559 0.119022    \n",
       "timbre_9_min             -9.318e-05  2.957e-03  -0.032 0.974859    \n",
       "timbre_9_max              1.342e-03  2.424e-03   0.554 0.579900    \n",
       "timbre_10_min             4.050e-03  1.827e-03   2.217 0.026637 *  \n",
       "timbre_10_max             5.793e-03  1.759e-03   3.294 0.000988 ***\n",
       "timbre_11_min            -2.638e-02  3.683e-03  -7.162 7.96e-13 ***\n",
       "timbre_11_max             1.984e-02  3.365e-03   5.896 3.74e-09 ***\n",
       "---\n",
       "Signif. codes:  0 '***' 0.001 '**' 0.01 '*' 0.05 '.' 0.1 ' ' 1\n",
       "\n",
       "(Dispersion parameter for binomial family taken to be 1)\n",
       "\n",
       "    Null deviance: 6017.5  on 7200  degrees of freedom\n",
       "Residual deviance: 4782.7  on 7168  degrees of freedom\n",
       "AIC: 4848.7\n",
       "\n",
       "Number of Fisher Scoring iterations: 6\n"
      ]
     },
     "metadata": {},
     "output_type": "display_data"
    }
   ],
   "source": [
    "SongsLog3 = glm(Top10 ~ . - energy, data=SongsTrain, family=binomial)\n",
    "summary(SongsLog3)"
   ]
  },
  {
   "cell_type": "markdown",
   "metadata": {},
   "source": [
    "In the remainder of this problem, we'll just use Model 3."
   ]
  },
  {
   "cell_type": "markdown",
   "metadata": {
    "collapsed": true
   },
   "source": [
    "Yes"
   ]
  },
  {
   "cell_type": "markdown",
   "metadata": {},
   "source": [
    "#### Problem 4.1 - Validating Our Model\n",
    "\n",
    "Make predictions on the test set using Model 3. What is the accuracy of Model 3 on the test set, using a threshold of 0.45? (Compute the accuracy as a number between 0 and 1.)"
   ]
  },
  {
   "cell_type": "code",
   "execution_count": 19,
   "metadata": {},
   "outputs": [
    {
     "data": {
      "text/plain": [
       "       \n",
       "          0   1\n",
       "  FALSE 309  40\n",
       "  TRUE    5  19"
      ]
     },
     "metadata": {},
     "output_type": "display_data"
    }
   ],
   "source": [
    "Predict <- predict(SongsLog3, newdata = SongsTest, type='response')\n",
    "\n",
    "table(Predict >0.45 , SongsTest$Top10)"
   ]
  },
  {
   "cell_type": "code",
   "execution_count": 20,
   "metadata": {},
   "outputs": [
    {
     "data": {
      "text/html": [
       "0.879356568364611"
      ],
      "text/latex": [
       "0.879356568364611"
      ],
      "text/markdown": [
       "0.879356568364611"
      ],
      "text/plain": [
       "[1] 0.8793566"
      ]
     },
     "metadata": {},
     "output_type": "display_data"
    }
   ],
   "source": [
    "sum(diag(table(Predict >0.45 , SongsTest$Top10)))/nrow(SongsTest)"
   ]
  },
  {
   "cell_type": "markdown",
   "metadata": {},
   "source": [
    "#### Problem 4.2 - Validating Our Model\n",
    "\n",
    "Let's check if there's any incremental benefit in using Model 3 instead of a baseline model. Given the difficulty of guessing which song is going to be a hit, an easier model would be to pick the most frequent outcome (a song is not a Top 10 hit) for all songs. What would the accuracy of the baseline model be on the test set? (Give your answer as a number between 0 and 1.)"
   ]
  },
  {
   "cell_type": "code",
   "execution_count": 21,
   "metadata": {},
   "outputs": [
    {
     "data": {
      "text/html": [
       "0.158176943699732"
      ],
      "text/latex": [
       "0.158176943699732"
      ],
      "text/markdown": [
       "0.158176943699732"
      ],
      "text/plain": [
       "[1] 0.1581769"
      ]
     },
     "metadata": {},
     "output_type": "display_data"
    }
   ],
   "source": [
    "mean(SongsTest$Top10)"
   ]
  },
  {
   "cell_type": "code",
   "execution_count": 22,
   "metadata": {},
   "outputs": [
    {
     "data": {
      "text/html": [
       "0.841823056300268"
      ],
      "text/latex": [
       "0.841823056300268"
      ],
      "text/markdown": [
       "0.841823056300268"
      ],
      "text/plain": [
       "[1] 0.8418231"
      ]
     },
     "metadata": {},
     "output_type": "display_data"
    }
   ],
   "source": [
    "1-mean(SongsTest$Top10)"
   ]
  },
  {
   "cell_type": "markdown",
   "metadata": {},
   "source": [
    "#### Problem 4.3 - Validating Our Model\n",
    "\n",
    "It seems that Model 3 gives us a small improvement over the baseline model. Still, does it create an edge?\n",
    "\n",
    "Let's view the two models from an investment perspective. A production company is interested in investing in songs that are highly likely to make it to the Top 10. The company's objective is to minimize its risk of financial losses attributed to investing in songs that end up unpopular.\n",
    "\n",
    "A competitive edge can therefore be achieved if we can provide the production company a list of songs that are highly likely to end up in the Top 10. We note that the baseline model does not prove useful, as it simply does not label any song as a hit. Let us see what our model has to offer.\n",
    "\n",
    "How many songs does Model 3 correctly predict as Top 10 hits in 2010 (remember that all songs in 2010 went into our test set), using a threshold of 0.45?"
   ]
  },
  {
   "cell_type": "code",
   "execution_count": 23,
   "metadata": {},
   "outputs": [
    {
     "data": {
      "text/plain": [
       "       \n",
       "          0   1\n",
       "  FALSE 309  40\n",
       "  TRUE    5  19"
      ]
     },
     "metadata": {},
     "output_type": "display_data"
    },
    {
     "data": {
      "text/html": [
       "19"
      ],
      "text/latex": [
       "19"
      ],
      "text/markdown": [
       "19"
      ],
      "text/plain": [
       "[1] 19"
      ]
     },
     "metadata": {},
     "output_type": "display_data"
    }
   ],
   "source": [
    "Prediction <- table(Predict >0.45 , SongsTest$Top10)\n",
    "Prediction\n",
    "Prediction[2,2]"
   ]
  },
  {
   "cell_type": "markdown",
   "metadata": {},
   "source": [
    "How many non-hit songs does Model 3 predict will be Top 10 hits (again, looking at the test set), using a threshold of 0.45?"
   ]
  },
  {
   "cell_type": "code",
   "execution_count": 24,
   "metadata": {},
   "outputs": [
    {
     "data": {
      "text/html": [
       "5"
      ],
      "text/latex": [
       "5"
      ],
      "text/markdown": [
       "5"
      ],
      "text/plain": [
       "[1] 5"
      ]
     },
     "metadata": {},
     "output_type": "display_data"
    }
   ],
   "source": [
    "table(Predict >0.45 , SongsTest$Top10)[2,1]"
   ]
  },
  {
   "cell_type": "markdown",
   "metadata": {},
   "source": [
    "#### Problem 4.4 - Validating Our Model\n",
    "\n",
    "What is the sensitivity of Model 3 on the test set, using a threshold of 0.45?"
   ]
  },
  {
   "cell_type": "code",
   "execution_count": 25,
   "metadata": {},
   "outputs": [
    {
     "data": {
      "text/html": [
       "0.322033898305085"
      ],
      "text/latex": [
       "0.322033898305085"
      ],
      "text/markdown": [
       "0.322033898305085"
      ],
      "text/plain": [
       "[1] 0.3220339"
      ]
     },
     "metadata": {},
     "output_type": "display_data"
    }
   ],
   "source": [
    "Prediction[2,2]/sum(Prediction[,2])"
   ]
  },
  {
   "cell_type": "markdown",
   "metadata": {},
   "source": [
    "What is the specificity of Model 3 on the test set, using a threshold of 0.45?"
   ]
  },
  {
   "cell_type": "code",
   "execution_count": 26,
   "metadata": {},
   "outputs": [
    {
     "data": {
      "text/html": [
       "0.984076433121019"
      ],
      "text/latex": [
       "0.984076433121019"
      ],
      "text/markdown": [
       "0.984076433121019"
      ],
      "text/plain": [
       "[1] 0.9840764"
      ]
     },
     "metadata": {},
     "output_type": "display_data"
    }
   ],
   "source": [
    "Prediction[1,1]/sum(Prediction[,1])"
   ]
  },
  {
   "cell_type": "markdown",
   "metadata": {},
   "source": [
    "#### Problem 4.5 - Validating Our Model\n",
    "\n",
    "What conclusions can you make about our model? (Select all that apply.)"
   ]
  },
  {
   "cell_type": "markdown",
   "metadata": {},
   "source": [
    "Model 3 favors specificity over sensitivity."
   ]
  },
  {
   "cell_type": "markdown",
   "metadata": {},
   "source": [
    "Model 3 provides conservative predictions, and predicts that a song will make it to the Top 10 very rarely. So while it detects less than half of the Top 10 songs, we can be very confident in the songs that it does predict to be Top 10 hits."
   ]
  }
 ],
 "metadata": {
  "kernelspec": {
   "display_name": "R",
   "language": "R",
   "name": "ir"
  },
  "language_info": {
   "codemirror_mode": "r",
   "file_extension": ".r",
   "mimetype": "text/x-r-source",
   "name": "R",
   "pygments_lexer": "r",
   "version": "3.3.3"
  }
 },
 "nbformat": 4,
 "nbformat_minor": 2
}
