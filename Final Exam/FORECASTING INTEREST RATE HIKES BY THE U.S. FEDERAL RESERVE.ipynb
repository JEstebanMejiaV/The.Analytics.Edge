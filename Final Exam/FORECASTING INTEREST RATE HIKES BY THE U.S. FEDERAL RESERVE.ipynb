{
 "cells": [
  {
   "cell_type": "markdown",
   "metadata": {},
   "source": [
    "### Forecasting Interest Rate Hikes by the U.S. Federal Reserve\n",
    "\n",
    "The federal funds rate is the key interest rate that the U.S. Federal Reserve uses to influence economic growth. The Federal Open Market Committee meets regularly to decide whether to increase, decrease, or maintain the target interest rate. Their choice has important ramifications that cascade through the economy, so the announcement of the interest rates is eagerly awaited each month.\n",
    "\n",
    "In this problem, we will use analytics to try to predict when the Federal Reserve will raise interest rates. We will look at monthly economic and political data dating back to the mid-1960's. In this analysis, the dependent variable will be the binary outcome variable RaisedFedFunds, which takes value 1 if the federal funds rate was increased that month and 0 if it was lowered or stayed the same. For each month, the file federalFundsRate.csv contains the following independent variables:\n",
    "\n",
    "Date: The date the change was announced.\n",
    "\n",
    "Chairman: The name of the Federal Reserve Chairman at the time the change was announced.\n",
    "\n",
    "PreviousRate: The federal funds rate in the prior month.\n",
    "\n",
    "Streak: The current streak of raising or not raising the rate, e.g. +8 indicates the rate has been increased 8 months in a row, whereas -3 indicates the rate has been lowered or stayed the same for 3 months in a row.\n",
    "\n",
    "GDP: The U.S. Gross Domestic Product, in Billions of Chained 2009 US Dollars.\n",
    "\n",
    "Unemployment: The unemployment rate in the U.S.\n",
    "\n",
    "CPI: The Consumer Price Index, an indicator of inflation, in the U.S.\n",
    "\n",
    "HomeownershipRate: The rate of homeownership in the U.S.\n",
    "\n",
    "DebtAsPctGDP: The U.S. national debt as a percentage of GDP\n",
    "\n",
    "DemocraticPres: Whether the sitting U.S. President is a Democrat (DemocraticPres=1) or a Republican (DemocraticPres=0)\n",
    "\n",
    "MonthsUntilElection: The number of remaining months until the next U.S. presidential election."
   ]
  },
  {
   "cell_type": "markdown",
   "metadata": {},
   "source": [
    "#### Problem 1 - Loading the Data\n",
    "\n",
    "Use the read.csv function to load the contents of federalFundsRate.csv into a data frame called fedFunds, using stringsAsFactors=FALSE. What proportion of months did the Fed raise the interest rate?"
   ]
  },
  {
   "cell_type": "code",
   "execution_count": null,
   "metadata": {
    "collapsed": true
   },
   "outputs": [],
   "source": []
  },
  {
   "cell_type": "markdown",
   "metadata": {},
   "source": [
    "#### Problem 2 - The Longest-Serving Fed Chair\n",
    "\n",
    "Which Federal Reserve Chair has presided over the most interest rate decisions?"
   ]
  },
  {
   "cell_type": "code",
   "execution_count": null,
   "metadata": {
    "collapsed": true
   },
   "outputs": [],
   "source": []
  },
  {
   "cell_type": "markdown",
   "metadata": {},
   "source": [
    "#### Problem 3 - Converting Variables to Factors\n",
    "\n",
    "Convert the following variables to factors using the as.factor function:\n",
    "\n",
    "- Chairman\n",
    "\n",
    "- DemocraticPres\n",
    "\n",
    "- RaisedFedFunds\n",
    "\n",
    "Which of the following methods requires the dependent variable be stored as a factor variable when training a model for classification?"
   ]
  },
  {
   "cell_type": "code",
   "execution_count": null,
   "metadata": {
    "collapsed": true
   },
   "outputs": [],
   "source": []
  },
  {
   "cell_type": "markdown",
   "metadata": {},
   "source": [
    "#### Problem 4 - Splitting into a Training and Testing Set\n",
    "\n",
    "Obtain a random training/testing set split with:\n",
    "\n",
    "set.seed(201)\n",
    "\n",
    "library(caTools)\n",
    "\n",
    "spl = sample.split(fedFunds$RaisedFedFunds, 0.7)\n",
    "\n",
    "Split months into a training data frame called \"training\" using the observations for which spl is TRUE and a testing data frame called \"testing\" using the observations for which spl is FALSE.\n",
    "\n",
    "Why do we use the sample.split() function to split into a training and testing set?"
   ]
  },
  {
   "cell_type": "code",
   "execution_count": null,
   "metadata": {
    "collapsed": true
   },
   "outputs": [],
   "source": []
  },
  {
   "cell_type": "markdown",
   "metadata": {},
   "source": [
    "#### Problem 5 - Training a Logistic Regression Model\n",
    "\n",
    "Train a logistic regression model using independent variables \"PreviousRate\", \"Streak\", \"Unemployment\", \"HomeownershipRate\", \"DemocraticPres\", and \"MonthsUntilElection\", using the training set to obtain the model.\n",
    "\n",
    "Which of the following characteristics is the most statistically significant associated with an increased chance of the federal funds rate being raised?"
   ]
  },
  {
   "cell_type": "code",
   "execution_count": null,
   "metadata": {
    "collapsed": true
   },
   "outputs": [],
   "source": []
  },
  {
   "cell_type": "markdown",
   "metadata": {},
   "source": [
    "#### Problem 6 - Predicting Using a Logistic Regression Model\n",
    "\n",
    "Imagine you are an analyst at a bank and your manager has asked you to predict whether the federal funds rate will be raised next month. You know that the rate has been lowered for 3 straight months (Streak = -3) and that the previous month's rate was 1.7%. The unemployment rate is 5.1% and the homeownership rate is 65.3%. The current U.S. president is a Republican and the next election will be held in 18 months. According to the logistic regression model you built in Problem 5, what is the predicted probability that the interest rate will be raised?"
   ]
  },
  {
   "cell_type": "code",
   "execution_count": null,
   "metadata": {
    "collapsed": true
   },
   "outputs": [],
   "source": []
  },
  {
   "cell_type": "markdown",
   "metadata": {},
   "source": [
    "#### Problem 7 - Interpreting Model Coefficients\n",
    "\n",
    "What is the meaning of the coefficient labeled \"DemocraticPres1\" in the logistic regression summary output?"
   ]
  },
  {
   "cell_type": "code",
   "execution_count": null,
   "metadata": {
    "collapsed": true
   },
   "outputs": [],
   "source": []
  },
  {
   "cell_type": "markdown",
   "metadata": {},
   "source": [
    "#### Problem 8 - Obtaining Test Set Predictions\n",
    "\n",
    "Using your logistic regression model, obtain predictions on the test set. Then, using a probability threshold of 0.5, create a confusion matrix for the test set.\n",
    "\n",
    "We would like to compare the predictions obtained by the logistic regression model and those obtained by a naive baseline model. Remember that the naive baseline model we use in this class always predicts the most frequent outcome in the training set for all observations in the test set.\n",
    "\n",
    "What is the number of test set observations where the prediction from the logistic regression model is different than the prediction from the baseline model?"
   ]
  },
  {
   "cell_type": "code",
   "execution_count": null,
   "metadata": {
    "collapsed": true
   },
   "outputs": [],
   "source": []
  },
  {
   "cell_type": "markdown",
   "metadata": {},
   "source": [
    "#### Problem 9 - Computing Test-Set AUC\n",
    "\n",
    "What is the test-set AUC of the logistic regression model?"
   ]
  },
  {
   "cell_type": "code",
   "execution_count": null,
   "metadata": {
    "collapsed": true
   },
   "outputs": [],
   "source": []
  },
  {
   "cell_type": "markdown",
   "metadata": {},
   "source": [
    "#### Problem 10 - Interpreting AUC\n",
    "\n",
    "What is the meaning of the AUC?"
   ]
  },
  {
   "cell_type": "code",
   "execution_count": null,
   "metadata": {
    "collapsed": true
   },
   "outputs": [],
   "source": []
  },
  {
   "cell_type": "markdown",
   "metadata": {},
   "source": [
    "#### Problem 11 - ROC Curves\n",
    "\n",
    "Which logistic regression threshold is associated with the upper-right corner of the ROC plot (true positive rate 1 and false positive rate 1)?"
   ]
  },
  {
   "cell_type": "code",
   "execution_count": null,
   "metadata": {
    "collapsed": true
   },
   "outputs": [],
   "source": []
  },
  {
   "cell_type": "markdown",
   "metadata": {},
   "source": [
    "#### Problem 12 - ROC Curves\n",
    "\n",
    "Plot the colorized ROC curve for the logistic regression model's performance on the test set.\n",
    "\n",
    "At roughly which logistic regression cutoff does the model achieve a true positive rate of 85% and a false positive rate of 60%?"
   ]
  },
  {
   "cell_type": "code",
   "execution_count": null,
   "metadata": {
    "collapsed": true
   },
   "outputs": [],
   "source": []
  },
  {
   "cell_type": "markdown",
   "metadata": {},
   "source": [
    "#### Problem 13 - Cross-Validation to Select Parameters\n",
    "\n",
    "Which of the following best describes how 10-fold cross-validation works when selecting between 2 different parameter values?"
   ]
  },
  {
   "cell_type": "code",
   "execution_count": null,
   "metadata": {
    "collapsed": true
   },
   "outputs": [],
   "source": []
  },
  {
   "cell_type": "markdown",
   "metadata": {},
   "source": [
    "#### Problem 14 - Cross-Validation for a CART Model\n",
    "\n",
    "Set the random seed to 201 (even though you have already done so earlier in the problem). Then use the caret package and the train function to perform 10-fold cross validation with the training data set to select the best cp value for a CART model that predicts the dependent variable \"RaisedFedFunds\" using the independent variables \"PreviousRate,\" \"Streak,\" \"Unemployment,\" \"HomeownershipRate,\" \"DemocraticPres,\" and \"MonthsUntilElection.\" Select the cp value from a grid consisting of the 50 values 0.001, 0.002, ..., 0.05.\n",
    "\n",
    "What cp value maximizes the cross-validation accuracy?"
   ]
  },
  {
   "cell_type": "code",
   "execution_count": null,
   "metadata": {
    "collapsed": true
   },
   "outputs": [],
   "source": []
  },
  {
   "cell_type": "markdown",
   "metadata": {},
   "source": [
    "#### Problem 15 - Train CART Model\n",
    "\n",
    "Build and plot the CART model trained with the parameter identified in Problem 14, again predicting the dependent variable using \"PreviousRate\", \"Streak\", \"Unemployment\", \"HomeownershipRate\", \"DemocraticPres\", and \"MonthsUntilElection\". What variable is used as the first (upper-most) split in the tree?"
   ]
  },
  {
   "cell_type": "code",
   "execution_count": null,
   "metadata": {
    "collapsed": true
   },
   "outputs": [],
   "source": []
  },
  {
   "cell_type": "markdown",
   "metadata": {},
   "source": [
    "#### Problem 16 - Predicting Using a CART Model\n",
    "\n",
    "If you were to use the CART model you created in Problem 15 to answer the question asked of the analyst in Problem 6, what would you predict for next month?\n",
    "\n",
    "Remember: The rate has been lowered for 3 straight months (Streak = -3). The previous month's rate was 1.7%. The unemployment rate is 5.1%. The homeownership rate is 65.3%. The current U.S. president is a Republican and the next election will be held in 18 months."
   ]
  },
  {
   "cell_type": "code",
   "execution_count": null,
   "metadata": {
    "collapsed": true
   },
   "outputs": [],
   "source": []
  },
  {
   "cell_type": "markdown",
   "metadata": {},
   "source": [
    "#### Problem 17 - Test-Set Accuracy for CART Model\n",
    "\n",
    "Using the CART model you created in Problem 15, obtain predictions on the test set (using the parameter type=\"class\" with the predict function). Then, create a confusion matrix for the test set.\n",
    "\n",
    "What is the accuracy of your CART model?"
   ]
  },
  {
   "cell_type": "code",
   "execution_count": null,
   "metadata": {
    "collapsed": true
   },
   "outputs": [],
   "source": []
  },
  {
   "cell_type": "code",
   "execution_count": null,
   "metadata": {
    "collapsed": true
   },
   "outputs": [],
   "source": []
  }
 ],
 "metadata": {
  "kernelspec": {
   "display_name": "R",
   "language": "R",
   "name": "ir"
  },
  "language_info": {
   "codemirror_mode": "r",
   "file_extension": ".r",
   "mimetype": "text/x-r-source",
   "name": "R",
   "pygments_lexer": "r",
   "version": "3.3.3"
  }
 },
 "nbformat": 4,
 "nbformat_minor": 2
}
