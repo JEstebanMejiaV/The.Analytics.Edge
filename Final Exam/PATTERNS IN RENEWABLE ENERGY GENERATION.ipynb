{
 "cells": [
  {
   "cell_type": "markdown",
   "metadata": {},
   "source": [
    "The use of coal in the United States peaked in 2005, and since then has decreased by 25%, being replaced by renewable energy sources and more efficient use (Lovins, 2014). As the United States pursues a portfolio of more diverse, sustainable and secure energy sources, there are many questions to consider. What are effective factors in incentivizing states to adopt more environmentally friendly energy generation methods? How do these factors vary by state? How can we direct resources to different places in the country and ensure that they effectively drive renewable energy sources adoption? To derive insights and answer these questions, we take a combination of generation, usage, and greenhouse emission data by state and combine it with macro-economic and political information.\n",
    "\n",
    "For this problem, we gathered data from various sources to include the following information for each state within the U.S. for the years spanning year 2000 to year 2013. The aggregated dataset energy.csv results in a total of 27 variables and 699 observations. Each observation contains one record per state per year. Here's a detailed description of the variables:\n",
    "\n",
    "- GenTotal: Annual generation of energy using all types of energy sources (coal, nuclear, hydroelectric, solar, etc.) normalized by the state population at a given year.\n",
    "\n",
    "- GenTotalRenewable: Annual generation of energy using all renewable energy sources normalized by the state population at a given year.\n",
    "\n",
    "- GenHydro, GenSolar: Annual generation of energy using each type of energy source as a percent of the total energy generation.\n",
    "\n",
    "- GenTotalRenewableBinary, GenSolarBinary: 1 if generation from solar or other renewable energy sources increased between a year n and a year n+1. 0 if it did not increase.\n",
    "\n",
    "- AllSourcesCO2, AllSourcesSO2 and AllSourcesNOx: Annual emissions per state in metric tons, normalized by the respective state population at a given year and caused by all energy generation sources.\n",
    "\n",
    "- EPriceResidential, EPriceCommercial, EPriceIndustrial, EPriceTransportation, EPriceTotal: Average electricity price per state, per sector (residential, industrial, commercial, etc.)\n",
    "\n",
    "- ESalesResidential, ESalesCommercial, ESalesIndustrial, ESalesTransportation, ESalesTotal: Annual normalized sales of electricity per state, per sector.\n",
    "\n",
    "- CumlRegulatory, CumlFinancial: Number of energy-related financial incentives and regulations created by a state per year.\n",
    "\n",
    "- Demographic data such as annual wages per capita and presidential results (0 if a state voted republican, 1 is democrat)."
   ]
  },
  {
   "cell_type": "markdown",
   "metadata": {},
   "source": [
    "#### Problem 1 - Total Renewable Energy Generation\n",
    "\n",
    "Load energy.csv into a data frame called energy.\n",
    "\n",
    "Renewable energy sources are considered to include geothermal, hydroelectric, biomass, solar and wind.\n",
    "\n",
    "Which state in the United States seems to have the highest total generation of energy from renewable sources (use the variable GenTotalRenewable)?"
   ]
  },
  {
   "cell_type": "code",
   "execution_count": null,
   "metadata": {
    "collapsed": true
   },
   "outputs": [],
   "source": []
  },
  {
   "cell_type": "markdown",
   "metadata": {},
   "source": [
    "Which year did the above state produce the highest energy generation from renewable resources?"
   ]
  },
  {
   "cell_type": "code",
   "execution_count": null,
   "metadata": {
    "collapsed": true
   },
   "outputs": [],
   "source": []
  },
  {
   "cell_type": "markdown",
   "metadata": {},
   "source": [
    "#### Problem 2 - Relationship Between Politics and Greenhouse Emissions\n",
    "\n",
    "What is the average CO2 emissions from all sources of energy for:\n",
    "\n",
    "- states during years in which they voted republican?"
   ]
  },
  {
   "cell_type": "code",
   "execution_count": null,
   "metadata": {
    "collapsed": true
   },
   "outputs": [],
   "source": []
  },
  {
   "cell_type": "markdown",
   "metadata": {},
   "source": [
    "- states during years in which they voted democrat?"
   ]
  },
  {
   "cell_type": "code",
   "execution_count": null,
   "metadata": {
    "collapsed": true
   },
   "outputs": [],
   "source": []
  },
  {
   "cell_type": "markdown",
   "metadata": {},
   "source": [
    "Note: Please use na.rm = TRUE in your calculations!\n",
    "\n",
    "States that voted democrat have on average higher NOx emissions than states that voted republican across all years. Is this statement true or false?"
   ]
  },
  {
   "cell_type": "code",
   "execution_count": null,
   "metadata": {
    "collapsed": true
   },
   "outputs": [],
   "source": []
  },
  {
   "cell_type": "markdown",
   "metadata": {},
   "source": [
    "#### Problem 3 - Relationship Between Greenhouse Emissions and Energy Sales\n",
    "\n",
    "What is the correlation between overall CO2 emissions and energy sales made to industrial facilities? Note that the variables AllSourcesCO2 and EsalesIndustrial contain NAs. Use the parameter: use=\"complete\" to handle NAs in this question."
   ]
  },
  {
   "cell_type": "code",
   "execution_count": null,
   "metadata": {
    "collapsed": true
   },
   "outputs": [],
   "source": []
  },
  {
   "cell_type": "markdown",
   "metadata": {},
   "source": [
    "Choose the correct answers from the following statements:"
   ]
  },
  {
   "cell_type": "code",
   "execution_count": null,
   "metadata": {
    "collapsed": true
   },
   "outputs": [],
   "source": []
  },
  {
   "cell_type": "markdown",
   "metadata": {},
   "source": [
    "#### Problem 4 - Boxplot of Energy Prices per State\n",
    "\n",
    "Create a boxplot of the total energy price (EPriceTotal) by State across the data, and a table summarizing the mean of EPriceTotal by State.\n",
    "\n",
    "What observations do you make?"
   ]
  },
  {
   "cell_type": "code",
   "execution_count": null,
   "metadata": {
    "collapsed": true
   },
   "outputs": [],
   "source": []
  },
  {
   "cell_type": "markdown",
   "metadata": {},
   "source": [
    "Which state has the lowest average energy price of all? You might want to make a table to answer this question."
   ]
  },
  {
   "cell_type": "code",
   "execution_count": null,
   "metadata": {
    "collapsed": true
   },
   "outputs": [],
   "source": []
  },
  {
   "cell_type": "markdown",
   "metadata": {},
   "source": [
    "Is this state associated with the highest mean total energy generation (GenTotal)?"
   ]
  },
  {
   "cell_type": "code",
   "execution_count": null,
   "metadata": {
    "collapsed": true
   },
   "outputs": [],
   "source": []
  },
  {
   "cell_type": "markdown",
   "metadata": {},
   "source": [
    "#### Problem 5 - Prediction Model for Solar Generation\n",
    "\n",
    "We are interested in predicting whether states are going to increase their solar energy generation over the next year. Let's subset our dataset into a training and a testing set by using the following commands:\n",
    "\n",
    "set.seed(144)\n",
    "\n",
    "spl = sample(1:nrow(energy), size = 0.7*nrow(energy))\n",
    "\n",
    "train = energy[spl,]\n",
    "\n",
    "test = energy[-spl,]\n",
    "\n",
    "Let's build now a logistic regression model \"mod\" using the train set to predict the binary variable GenSolarBinary. To do so, we consider the following as potential predictive variables: GenHydro, GenSolar, CumlFinancial, CumlRegulatory, Total.salary, Import.\n",
    "\n",
    "Which variable is most predictive in the model?"
   ]
  },
  {
   "cell_type": "code",
   "execution_count": null,
   "metadata": {
    "collapsed": true
   },
   "outputs": [],
   "source": []
  },
  {
   "cell_type": "markdown",
   "metadata": {},
   "source": [
    "#### Problem 6 - Performance on the Test Set\n",
    "\n",
    "Compute the predictions on the test set. Using a threshold of 0.5, what is the accuracy of our model on the test set?"
   ]
  },
  {
   "cell_type": "code",
   "execution_count": null,
   "metadata": {
    "collapsed": true
   },
   "outputs": [],
   "source": []
  },
  {
   "cell_type": "markdown",
   "metadata": {},
   "source": [
    "What is the accuracy for states voting republican?"
   ]
  },
  {
   "cell_type": "code",
   "execution_count": null,
   "metadata": {
    "collapsed": true
   },
   "outputs": [],
   "source": []
  },
  {
   "cell_type": "markdown",
   "metadata": {},
   "source": [
    "What is the accuracy for states voting democrat?"
   ]
  },
  {
   "cell_type": "code",
   "execution_count": null,
   "metadata": {
    "collapsed": true
   },
   "outputs": [],
   "source": []
  },
  {
   "cell_type": "markdown",
   "metadata": {},
   "source": [
    "#### Problem 7 - Clustering of the Observations\n",
    "\n",
    "We can perhaps improve our accuracy if we implement a cluster-the-predict approach. We are interested in clustering the observations based on information about the regulatory and financial incentives, the elections outcome and the population wealth in each state across the years, in addition to whether the state was an energy importer or not.\n",
    "\n",
    "Let us create a train.limited and test.limited datasets, where we only keep the variables CumlRegulatory, CumlFinancial, presidential.results, Total.salary, and Import.\n",
    "\n",
    "Using the \"preProcess\" function on the train.limited set, we can compute the train.norm and test.norm.\n",
    "\n",
    "Why didn't we include the dependent variable GenSolarBinary in this clustering phase?"
   ]
  },
  {
   "cell_type": "code",
   "execution_count": null,
   "metadata": {
    "collapsed": true
   },
   "outputs": [],
   "source": []
  },
  {
   "cell_type": "markdown",
   "metadata": {},
   "source": [
    "Let's use kmeans clustering for this problem with a seed of 144, k=2 and keep the maximum number of iterations at 1,000.\n",
    "\n",
    "Using the flexclust package, identify the clusters and call train1 the subset of train corresponding to the first cluster, and train2 the subset of train corresponding to the second cluster.\n",
    "\n",
    "Select the correct statement(s) below:"
   ]
  },
  {
   "cell_type": "code",
   "execution_count": null,
   "metadata": {
    "collapsed": true
   },
   "outputs": [],
   "source": []
  },
  {
   "cell_type": "markdown",
   "metadata": {},
   "source": [
    "#### Problem 8 - Creating the Model on the First Cluster\n",
    "\n",
    "Using the variable GenHydro, GenSolar, CumlFinancial, CumlRegulatory, Total.salary and Import, create mod1 using a logistic regression on train1.\n",
    "\n",
    "What variable is most predictive?"
   ]
  },
  {
   "cell_type": "code",
   "execution_count": null,
   "metadata": {
    "collapsed": true
   },
   "outputs": [],
   "source": []
  },
  {
   "cell_type": "markdown",
   "metadata": {},
   "source": [
    "#### Problem 9 - Evaluating the Model Obtained Using the First Cluster\n",
    "\n",
    "What is the accuracy on test1, the subset of test corresponding to the first cluster?"
   ]
  },
  {
   "cell_type": "code",
   "execution_count": null,
   "metadata": {
    "collapsed": true
   },
   "outputs": [],
   "source": []
  },
  {
   "cell_type": "markdown",
   "metadata": {},
   "source": [
    "We would like to know if mod1 gives us an edge over mod on the dataset test1. Using mod, predict GenSolarBinary for the observation in test1 and report the accuracy below:"
   ]
  },
  {
   "cell_type": "code",
   "execution_count": null,
   "metadata": {
    "collapsed": true
   },
   "outputs": [],
   "source": []
  },
  {
   "cell_type": "markdown",
   "metadata": {},
   "source": [
    "#### Problem 10 - Creating the Model on the Second Cluster\n",
    "\n",
    "Using the variables GenHydro, GenSolar, CumlFinancial, CumlRegulatory, Total.salary and Import, create mod2 using a logistic regression on train2.\n",
    "\n",
    "Select the correct statement(s) below?"
   ]
  },
  {
   "cell_type": "code",
   "execution_count": null,
   "metadata": {
    "collapsed": true
   },
   "outputs": [],
   "source": []
  },
  {
   "cell_type": "markdown",
   "metadata": {},
   "source": [
    "#### Problem 11 - Evaluating the Model Obtained Using the Second Cluster\n",
    "\n",
    "Using the threshold of 0.5, what is the accuracy on test2, the subset of test corresponding to the second cluster?"
   ]
  },
  {
   "cell_type": "code",
   "execution_count": null,
   "metadata": {
    "collapsed": true
   },
   "outputs": [],
   "source": []
  },
  {
   "cell_type": "markdown",
   "metadata": {},
   "source": [
    "We would like to know if mod2 gives us an edge over mod on the dataset test2. Using mod, predict GenSolarBinary for the observation in test2 and report the accuracy below:"
   ]
  },
  {
   "cell_type": "code",
   "execution_count": null,
   "metadata": {
    "collapsed": true
   },
   "outputs": [],
   "source": []
  },
  {
   "cell_type": "markdown",
   "metadata": {},
   "source": [
    "#### Problem 12 - Evaluating the Performance of the Cluster-the-Predict Algorithm\n",
    "\n",
    "To compute the overall test-set accuracy of the cluster-the-predict approach, we can combine all the test-set predictions into a single vector \"AllPredictions\" and all the true outcomes into a single vector \"AllOutcomes\".\n",
    "\n",
    "What is the overall accuracy on the test set, using the cluster-then-predict approach, again using a threshold of 0.5?"
   ]
  },
  {
   "cell_type": "code",
   "execution_count": null,
   "metadata": {
    "collapsed": true
   },
   "outputs": [],
   "source": []
  }
 ],
 "metadata": {
  "kernelspec": {
   "display_name": "R",
   "language": "R",
   "name": "ir"
  },
  "language_info": {
   "codemirror_mode": "r",
   "file_extension": ".r",
   "mimetype": "text/x-r-source",
   "name": "R",
   "pygments_lexer": "r",
   "version": "3.3.3"
  }
 },
 "nbformat": 4,
 "nbformat_minor": 2
}
