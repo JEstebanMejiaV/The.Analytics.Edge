{
 "cells": [
  {
   "cell_type": "markdown",
   "metadata": {},
   "source": [
    "### Understanding Retail Consumers\n",
    "\n",
    "In Unit 6, we saw how clustering can be used for market segmentation, the idea of dividing airline passengers into small, more similar groups, and then designing a marketing strategy specifically for each group.  In this problem, we'll see how this idea can be applied to retail consumer data.\n",
    "\n",
    "In this problem, we'll use the dataset Households.csv, which contains data collected over two years for a group of 2,500 households.  Each row (observation) in our dataset represents a unique household.  The dataset contains the following variables:\n",
    "\n",
    "NumVisits = the number of times the household visited the retailer \n",
    "    \n",
    "AvgProdCount = the average number of products purchased per transaction\n",
    "    \n",
    "AvgDiscount = the average discount per transaction from coupon usage (in %) - NOTE: Do not divide this value by 100!\n",
    "    \n",
    "AvgSalesValue = the average sales value per transaction\n",
    "    \n",
    "MorningPct = the percentage of visits in the morning (8am - 1:59pm)\n",
    "    \n",
    "AfternoonPct = the percentage of visits in the afternoon (2pm - 7:59pm)\n",
    "    \n",
    "Note that some visits can occur outside of morning and afternoon hours.  That is, visits from 8pm - 7:59am are possible.\n",
    "\n",
    "This dataset was derived from source files provided by dunnhumby, a customer science company based in the United Kingdom."
   ]
  },
  {
   "cell_type": "markdown",
   "metadata": {},
   "source": [
    "#### Problem 1 - Reading in the data\n",
    "\n",
    "Read the dataset Households.csv into R.\n",
    "\n",
    "How many households have logged transactions at the retailer only in the morning?"
   ]
  },
  {
   "cell_type": "code",
   "execution_count": null,
   "metadata": {
    "collapsed": true
   },
   "outputs": [],
   "source": []
  },
  {
   "cell_type": "markdown",
   "metadata": {},
   "source": [
    "How many households have logged transactions at the retailer only in the afternoon?"
   ]
  },
  {
   "cell_type": "code",
   "execution_count": null,
   "metadata": {
    "collapsed": true
   },
   "outputs": [],
   "source": []
  },
  {
   "cell_type": "markdown",
   "metadata": {},
   "source": [
    "#### Problem 2 - Descriptive statistics\n",
    "\n",
    "Of the households that spend more than $150 per transaction on average, what is the minimum average discount per transaction?"
   ]
  },
  {
   "cell_type": "code",
   "execution_count": null,
   "metadata": {
    "collapsed": true
   },
   "outputs": [],
   "source": []
  },
  {
   "cell_type": "markdown",
   "metadata": {},
   "source": [
    "Of the households who have an average discount per transaction greater than 25%, what is the minimum average sales value per transaction?"
   ]
  },
  {
   "cell_type": "code",
   "execution_count": null,
   "metadata": {
    "collapsed": true
   },
   "outputs": [],
   "source": []
  },
  {
   "cell_type": "markdown",
   "metadata": {},
   "source": [
    "In the dataset, what proportion of households visited the retailer at least 300 times?"
   ]
  },
  {
   "cell_type": "code",
   "execution_count": null,
   "metadata": {
    "collapsed": true
   },
   "outputs": [],
   "source": []
  },
  {
   "cell_type": "markdown",
   "metadata": {},
   "source": [
    "#### Problem 3 - Importance of Normalizing\n",
    "\n",
    "When clustering data, it is often important to normalize the variables so that they are all on the same scale. If you clustered this dataset without normalizing, which variable would you expect to dominate in the distance calculations?"
   ]
  },
  {
   "cell_type": "code",
   "execution_count": null,
   "metadata": {
    "collapsed": true
   },
   "outputs": [],
   "source": []
  },
  {
   "cell_type": "markdown",
   "metadata": {},
   "source": [
    "#### Problem 4 - Normalizing the Data\n",
    "\n",
    "Normalize all of the variables in the HouseHolds dataset by entering the following commands in your R console: (Note that these commands assume that your dataset is called \"Households\", and create the normalized dataset \"HouseholdsNorm\". You can change the names to anything you want by editing the commands.)\n",
    "\n",
    "library(caret)\n",
    "\n",
    "preproc = preProcess(Households)\n",
    "\n",
    "HouseholdsNorm = predict(preproc, Households)\n",
    "\n",
    "(Remember that for each variable, the normalization process subtracts the mean and divides by the standard deviation. We learned how to do this in Unit 6.) In your normalized dataset, all of the variables should have mean 0 and standard deviation 1.\n",
    "\n",
    "What is the maximum value of NumVisits in the normalized dataset?"
   ]
  },
  {
   "cell_type": "code",
   "execution_count": null,
   "metadata": {
    "collapsed": true
   },
   "outputs": [],
   "source": []
  },
  {
   "cell_type": "markdown",
   "metadata": {},
   "source": [
    "What is the minimum value of AfternoonPct in the normalized dataset?"
   ]
  },
  {
   "cell_type": "code",
   "execution_count": null,
   "metadata": {
    "collapsed": true
   },
   "outputs": [],
   "source": []
  },
  {
   "cell_type": "markdown",
   "metadata": {},
   "source": [
    "Run the following code to create a dendrogram of your data:\n",
    "\n",
    "set.seed(200)\n",
    "distances <- dist(HouseholdsNorm, method = \"euclidean\")\n",
    "ClusterShoppers <- hclust(distances, method = \"ward.D\")\n",
    "plot(ClusterShoppers, labels = FALSE)"
   ]
  },
  {
   "cell_type": "code",
   "execution_count": null,
   "metadata": {
    "collapsed": true
   },
   "outputs": [],
   "source": []
  },
  {
   "cell_type": "markdown",
   "metadata": {},
   "source": [
    "#### Problem 5 - Interpreting the Dendrogram\n",
    "\n",
    "Based on the dendrogram, how many clusters do you think would be appropriate for this problem? Select all that apply."
   ]
  },
  {
   "cell_type": "code",
   "execution_count": null,
   "metadata": {
    "collapsed": true
   },
   "outputs": [],
   "source": []
  },
  {
   "cell_type": "markdown",
   "metadata": {},
   "source": [
    "#### Problem 6 - K-means Clustering\n",
    "\n",
    "Run the k-means clustering algorithm on your normalized dataset, selecting 10 clusters. Right before using the kmeans function, type \"set.seed(200)\" in your R console.\n",
    "\n",
    "How many observations are in the smallest cluster?"
   ]
  },
  {
   "cell_type": "code",
   "execution_count": null,
   "metadata": {
    "collapsed": true
   },
   "outputs": [],
   "source": []
  },
  {
   "cell_type": "markdown",
   "metadata": {},
   "source": [
    "How many observations are in the largest cluster?"
   ]
  },
  {
   "cell_type": "code",
   "execution_count": null,
   "metadata": {
    "collapsed": true
   },
   "outputs": [],
   "source": []
  },
  {
   "cell_type": "markdown",
   "metadata": {},
   "source": [
    "#### Problem 7 - Understanding the Clusters\n",
    "\n",
    "Now, use the cluster assignments from k-means clustering together with the cluster centroids to answer the next few questions.\n",
    "\n",
    "Which cluster best fits the description \"morning shoppers stopping in to make a quick purchase\"?"
   ]
  },
  {
   "cell_type": "code",
   "execution_count": null,
   "metadata": {
    "collapsed": true
   },
   "outputs": [],
   "source": []
  },
  {
   "cell_type": "markdown",
   "metadata": {},
   "source": [
    "#### Problem 8 - Understanding the Clusters\n",
    "\n",
    "Which cluster best fits the description \"shoppers with high average product count and high average value per visit\"?"
   ]
  },
  {
   "cell_type": "code",
   "execution_count": null,
   "metadata": {
    "collapsed": true
   },
   "outputs": [],
   "source": []
  },
  {
   "cell_type": "markdown",
   "metadata": {},
   "source": [
    "#### Problem 9 - Understanding the Clusters\n",
    "\n",
    "Which cluster best fits the description \"frequent shoppers with low value per visit\"?"
   ]
  },
  {
   "cell_type": "code",
   "execution_count": null,
   "metadata": {
    "collapsed": true
   },
   "outputs": [],
   "source": []
  },
  {
   "cell_type": "markdown",
   "metadata": {},
   "source": [
    "#### Problem 10 - Random Behavior\n",
    "\n",
    "If we ran hierarchical clustering a second time without making any additional calls to set.seed, we would expect:"
   ]
  },
  {
   "cell_type": "code",
   "execution_count": null,
   "metadata": {
    "collapsed": true
   },
   "outputs": [],
   "source": []
  },
  {
   "cell_type": "markdown",
   "metadata": {},
   "source": [
    "If we ran k-means clustering a second time without making any additional calls to set.seed, we would expect:"
   ]
  },
  {
   "cell_type": "code",
   "execution_count": null,
   "metadata": {
    "collapsed": true
   },
   "outputs": [],
   "source": []
  },
  {
   "cell_type": "markdown",
   "metadata": {},
   "source": [
    "If we ran k-means clustering a second time, again running the command set.seed(200) right before doing the clustering, we would expect:"
   ]
  },
  {
   "cell_type": "code",
   "execution_count": null,
   "metadata": {
    "collapsed": true
   },
   "outputs": [],
   "source": []
  },
  {
   "cell_type": "markdown",
   "metadata": {},
   "source": [
    "If we ran k-means clustering a second time, running the command set.seed(100) right before doing the clustering, we would expect:"
   ]
  },
  {
   "cell_type": "code",
   "execution_count": null,
   "metadata": {
    "collapsed": true
   },
   "outputs": [],
   "source": []
  },
  {
   "cell_type": "markdown",
   "metadata": {},
   "source": [
    "#### Problem 11 - The Number of Clusters\n",
    "\n",
    "Suppose the marketing department at the retail store decided that the 10 clusters were too specific, and they wanted more general clusters to describe the consumer base. Would they want to increase or decrease the number of clusters?"
   ]
  },
  {
   "cell_type": "code",
   "execution_count": null,
   "metadata": {
    "collapsed": true
   },
   "outputs": [],
   "source": []
  },
  {
   "cell_type": "markdown",
   "metadata": {},
   "source": [
    "#### Problem 12 - Increasing the Number of Clusters\n",
    "\n",
    "Run the k-means clustering algorithm again, this time selecting 5 clusters. Right before the \"kmeans\" function, set the random seed to 5000.\n",
    "\n",
    "How many observations are in the smallest cluster?"
   ]
  },
  {
   "cell_type": "code",
   "execution_count": null,
   "metadata": {
    "collapsed": true
   },
   "outputs": [],
   "source": []
  },
  {
   "cell_type": "markdown",
   "metadata": {},
   "source": [
    "How many observations are in the largest cluster?"
   ]
  },
  {
   "cell_type": "code",
   "execution_count": null,
   "metadata": {
    "collapsed": true
   },
   "outputs": [],
   "source": []
  },
  {
   "cell_type": "markdown",
   "metadata": {},
   "source": [
    "#### Problem 13 - Describing the Clusters\n",
    "\n",
    "Using the cluster assignments from k-means clustering with 5 clusters, which cluster best fits the description \"frequent shoppers with low value per visit\"?"
   ]
  },
  {
   "cell_type": "code",
   "execution_count": null,
   "metadata": {
    "collapsed": true
   },
   "outputs": [],
   "source": []
  },
  {
   "cell_type": "markdown",
   "metadata": {},
   "source": [
    "#### Problem 14 - Understanding Centroids\n",
    "\n",
    "Why do we typically use cluster centroids to describe the clusters?"
   ]
  },
  {
   "cell_type": "code",
   "execution_count": null,
   "metadata": {
    "collapsed": true
   },
   "outputs": [],
   "source": []
  },
  {
   "cell_type": "markdown",
   "metadata": {},
   "source": [
    "#### Problem 15 - Using a Visualization\n",
    "\n",
    "Which of the following visualizations could be used to observe the distribution of NumVisits, broken down by cluster? Select all that apply."
   ]
  },
  {
   "cell_type": "code",
   "execution_count": null,
   "metadata": {
    "collapsed": true
   },
   "outputs": [],
   "source": []
  },
  {
   "cell_type": "code",
   "execution_count": null,
   "metadata": {
    "collapsed": true
   },
   "outputs": [],
   "source": []
  },
  {
   "cell_type": "code",
   "execution_count": null,
   "metadata": {
    "collapsed": true
   },
   "outputs": [],
   "source": []
  },
  {
   "cell_type": "code",
   "execution_count": null,
   "metadata": {
    "collapsed": true
   },
   "outputs": [],
   "source": []
  },
  {
   "cell_type": "code",
   "execution_count": null,
   "metadata": {
    "collapsed": true
   },
   "outputs": [],
   "source": []
  }
 ],
 "metadata": {
  "kernelspec": {
   "display_name": "R",
   "language": "R",
   "name": "ir"
  },
  "language_info": {
   "codemirror_mode": "r",
   "file_extension": ".r",
   "mimetype": "text/x-r-source",
   "name": "R",
   "pygments_lexer": "r",
   "version": "3.3.3"
  }
 },
 "nbformat": 4,
 "nbformat_minor": 2
}
