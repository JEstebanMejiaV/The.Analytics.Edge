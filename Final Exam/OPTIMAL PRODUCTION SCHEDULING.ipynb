{
 "cells": [
  {
   "cell_type": "markdown",
   "metadata": {},
   "source": [
    "### Optimal production Scheduling\n",
    "\n",
    "Falcon Die Casting Company (FDC) is an automotive parts manufacturer based in the United States. FDC uses an innovative method of high volume die casting, a metal casting process that is characterized by forcing molten metal under high pressure into a mold cavity. Due to the strength of their method, FDC recently received a long-term contract from a major automobile manufacturer to produce the five key die cast items used in most of their automobiles.\n",
    "\n",
    "The automobile manufacturer has provided FDC with their weekly demand for the five parts:\n"
   ]
  },
  {
   "cell_type": "markdown",
   "metadata": {},
   "source": [
    "![](FinalExamOptimalProduction1.png)"
   ]
  },
  {
   "cell_type": "markdown",
   "metadata": {},
   "source": [
    "FDC has five different machines that can be used to produce the parts, but each machine can only produce certain parts (and each machine can only produce one part at any given moment in time). Additionally, the number of parts that can be produced in one hour varies by machine and part. For example, Part 1 can only be produced on Machines 1 and 2. FDC can produce 40 units per hour of Part 1 on Machine 1, but only 35 units per hour of Part 1 on Machine 2. All of this data is given in the following table (a blank entry means the part can't be produced on the machine):"
   ]
  },
  {
   "cell_type": "markdown",
   "metadata": {},
   "source": [
    "![](FinalExamOptimalProduction2.png)"
   ]
  },
  {
   "cell_type": "markdown",
   "metadata": {},
   "source": [
    "Production takes place continuously Monday through Friday, for a total of 120 hours of production. Forty of these 120 hours (the overnight hours on each of the five days) are ideally used for preventative maintenance and experiementation with new techniques, so using machines during these hours for production is considered overtime. The remaining 80 hours per week are not considered overtime hours.\n",
    "\n",
    "In this problem, we'll help the production manager use optimization to determine the number of non-overtime and overtime hours to use each machine to manufacture each part (for a single week). Machines can be assigned a non-integer number of hours producing a part over the course of a week. The production manager's goal is to minimize the total number of overtime machine-hours used during the week, while still making sure the factory is producing enough parts to meet the weekly demand of the automobile manufacturer."
   ]
  },
  {
   "cell_type": "markdown",
   "metadata": {},
   "source": [
    "#### Problem 1 - The Decision Variables\n",
    "\n",
    "As mentioned above, the production manager needs to decide the number of non-overtime and overtime hours to use each machine to manufacture each part (for a single week). These are the decisions for our optimization problem.\n",
    "\n",
    "How many decision variables will there be in your optimization formulation? (HINT: Remember that not all parts can be produced on all machines, so you might not need a decision variable for each part/machine pair.)"
   ]
  },
  {
   "cell_type": "code",
   "execution_count": null,
   "metadata": {
    "collapsed": true
   },
   "outputs": [],
   "source": []
  },
  {
   "cell_type": "markdown",
   "metadata": {},
   "source": [
    "#### Problem 2 - The Decision Variables\n",
    "\n",
    "What type of decision variables should be used in the optimization formulation?"
   ]
  },
  {
   "cell_type": "code",
   "execution_count": null,
   "metadata": {
    "collapsed": true
   },
   "outputs": [],
   "source": []
  },
  {
   "cell_type": "markdown",
   "metadata": {},
   "source": [
    "#### Problem 3 - The Objective\n",
    "\n",
    "The objective of the production manager is to minimize the total number of overtime machine-hours that need to be used. How many of the decision variables defined in Problem 1 have to do with the overtime shifts?"
   ]
  },
  {
   "cell_type": "code",
   "execution_count": null,
   "metadata": {
    "collapsed": true
   },
   "outputs": [],
   "source": []
  },
  {
   "cell_type": "markdown",
   "metadata": {},
   "source": [
    "#### Problem 4 - Demand Constraints\n",
    "\n",
    "The production manager needs to be sure that the weekly demand is met for each part. If we decide to produce Part 1 on Machine 1 for 20 non-overtime hours and 4 overtime hours and to produce Part 1 on Machine 2 for 32 non-overtime hours and 0 overtime hours, how many units of Part 1 will we produce?"
   ]
  },
  {
   "cell_type": "code",
   "execution_count": null,
   "metadata": {
    "collapsed": true
   },
   "outputs": [],
   "source": []
  },
  {
   "cell_type": "markdown",
   "metadata": {},
   "source": [
    "Denote the total number of units of Part 1 produced by N. In our optimization formulation, we need to include a constraint that N is at least how much?"
   ]
  },
  {
   "cell_type": "code",
   "execution_count": null,
   "metadata": {
    "collapsed": true
   },
   "outputs": [],
   "source": []
  },
  {
   "cell_type": "markdown",
   "metadata": {},
   "source": [
    "#### Problem 5 - Capacity Constraints\n",
    "\n",
    "No machine can work for more than 80 non-overtime hours or 40 overtime hours. How many total constraints do we need to add to the model to ensure this requirement is met?"
   ]
  },
  {
   "cell_type": "code",
   "execution_count": null,
   "metadata": {
    "collapsed": true
   },
   "outputs": [],
   "source": []
  },
  {
   "cell_type": "markdown",
   "metadata": {},
   "source": [
    "#### Problem 6 - Solving the Model\n",
    "\n",
    "Set up and solve this optimization problem in the spreadsheet software of your choice (Excel, LibreOffice, or OpenOffice). Remember to define all of your decision variables, your objective, and your constraints.\n",
    "\n",
    "How many overtime machine-hours are used to produce the parts?"
   ]
  },
  {
   "cell_type": "code",
   "execution_count": null,
   "metadata": {
    "collapsed": true
   },
   "outputs": [],
   "source": []
  },
  {
   "cell_type": "markdown",
   "metadata": {},
   "source": [
    "#### Problem 7 - Robustness to Machine Failure\n",
    "\n",
    "FDC wants to be robust to machine failure; that is, they want to still be able to meet the demand for all parts even if one of the machines goes offline for the entire week. Re-solve your model five times, once with each machine removed. Which machines could go offline for the whole week (assuming the other four machines remain fully operational) and FDC would still be able to meet customer demand? Select all that apply."
   ]
  },
  {
   "cell_type": "code",
   "execution_count": null,
   "metadata": {
    "collapsed": true
   },
   "outputs": [],
   "source": []
  },
  {
   "cell_type": "markdown",
   "metadata": {},
   "source": [
    "#### Problem 8 - Quality Control\n",
    "\n",
    "Unfortunately, the FDC discovered that a significant percentage of the parts being produced are not at a quality level demanded by the customer. FDC's industrial engineers developed \"yield factors\", which are quite accurate in predicting the proportion of parts that meet customer quality specifications. The yield factors are as follows:\n",
    "\n",
    "Part 1 = 60%\n",
    "\n",
    "Part 2 = 55%\n",
    "\n",
    "Part 3 = 75%\n",
    "\n",
    "Part 4 = 65%\n",
    "\n",
    "Part 5 = 60%\n",
    "\n",
    "So, for example, only 60% of the Part 1 units produced meet the necessary quality standards, regardless of the machine that produced those units. FDC needs to ensure that they are producing enough high quality parts to meet the weekly customer demand.\n",
    "\n",
    "Adjust your optimization formulation to account for this requirement by requiring the number of high-quality parts produced to exceed the demand. You should still minimize the number of overtime machine-hours that are used.\n",
    "\n",
    "How many overtime machine-hours are now used in the optimal solution?"
   ]
  },
  {
   "cell_type": "code",
   "execution_count": null,
   "metadata": {
    "collapsed": true
   },
   "outputs": [],
   "source": []
  },
  {
   "cell_type": "markdown",
   "metadata": {},
   "source": [
    "Which machines are used at their full overtime capacity (all 40 overtime hours) in the optimal solution? Select all that apply.\n",
    "\n",
    "\n"
   ]
  },
  {
   "cell_type": "code",
   "execution_count": null,
   "metadata": {
    "collapsed": true
   },
   "outputs": [],
   "source": []
  },
  {
   "cell_type": "markdown",
   "metadata": {},
   "source": [
    "#### Problem 9 - Sensitivity Analysis\n",
    "\n",
    "FDC's automotive partner proposes a 100 unit increase in the demand for Part 3, in exchange for compensation that FDC thinks is worth using up to 10 machine-hours of overtime (they would accept this proposal if it cost them less than 10 machines hours of overtime to produce the extra parts). Should FDC accept this proposal? Use your model from Problem 8 (the model that takes into account yield factors) when making the decision."
   ]
  },
  {
   "cell_type": "code",
   "execution_count": null,
   "metadata": {
    "collapsed": true
   },
   "outputs": [],
   "source": []
  },
  {
   "cell_type": "code",
   "execution_count": null,
   "metadata": {
    "collapsed": true
   },
   "outputs": [],
   "source": []
  },
  {
   "cell_type": "code",
   "execution_count": null,
   "metadata": {
    "collapsed": true
   },
   "outputs": [],
   "source": []
  }
 ],
 "metadata": {
  "kernelspec": {
   "display_name": "R",
   "language": "R",
   "name": "ir"
  },
  "language_info": {
   "codemirror_mode": "r",
   "file_extension": ".r",
   "mimetype": "text/x-r-source",
   "name": "R",
   "pygments_lexer": "r",
   "version": "3.3.3"
  }
 },
 "nbformat": 4,
 "nbformat_minor": 2
}
