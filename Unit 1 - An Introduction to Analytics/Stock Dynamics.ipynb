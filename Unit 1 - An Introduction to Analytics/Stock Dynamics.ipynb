{
 "cells": [
  {
   "cell_type": "markdown",
   "metadata": {},
   "source": [
    "### Stock dynamics\n",
    "\n",
    "A stock market is where buyers and sellers trade shares of a company, and is one of the most popular ways for individuals and companies to invest money. The size of the world stock market  is now estimated to be in the trillions. The largest stock market in the world is the New York Stock Exchange (NYSE), located in New York City. About 2,800 companies are listed on the NSYE. In this problem, we'll look at the monthly stock prices of five of these companies: IBM, General Electric (GE), Procter and Gamble, Coca Cola, and Boeing. The data used in this problem comes from Infochimps.\n",
    "\n",
    "Download and read the following files into R, using the read.csv function: IBMStock.csv, GEStock.csv, ProcterGambleStock.csv, CocaColaStock.csv, and BoeingStock.csv. (Do not open these files in any spreadsheet software before completing this problem because it might change the format of the Date field.)\n",
    "\n",
    "Call the data frames \"IBM\", \"GE\", \"ProcterGamble\", \"CocaCola\", and \"Boeing\", respectively. Each data frame has two variables, described as follows:\n",
    "\n",
    "Date: the date of the stock price, always given as the first of the month.\n",
    "StockPrice: the average stock price of the company in the given month.\n",
    "In this problem, we'll take a look at how the stock dynamics of these companies have changed over time."
   ]
  },
  {
   "cell_type": "markdown",
   "metadata": {},
   "source": [
    "#### Problem 1.1 - Summary Statistics\n",
    "\n",
    "Before working with these data sets, we need to convert the dates into a format that R can understand. Take a look at the structure of one of the datasets using the str function. Right now, the date variable is stored as a factor. We can convert this to a \"Date\" object in R by using the following five commands (one for each data set):\n",
    "\n",
    "IBM$Date = as.Date(IBM$Date, \"%m/%d/%y\")\n",
    "\n",
    "GE$Date = as.Date(GE$Date, \"%m/%d/%y\")\n",
    "\n",
    "CocaCola$Date = as.Date(CocaCola$Date, \"%m/%d/%y\")\n",
    "\n",
    "ProcterGamble$Date = as.Date(ProcterGamble$Date, \"%m/%d/%y\")\n",
    "\n",
    "Boeing$Date = as.Date(Boeing$Date, \"%m/%d/%y\")\n",
    "\n",
    "The first argument to the as.Date function is the variable we want to convert, and the second argument is the format of the Date variable. We can just overwrite the original Date variable values with the output of this function. Now, answer the following questions using the str and summary functions.\n",
    "\n",
    "Our five datasets all have the same number of observations. How many observations are there in each data set?\n"
   ]
  },
  {
   "cell_type": "code",
   "execution_count": 1,
   "metadata": {
    "collapsed": true
   },
   "outputs": [],
   "source": [
    "IBM  <- read.csv('IBMStock.csv')\n",
    "GE  <- read.csv('GEStock.csv')\n",
    "CocaCola  <- read.csv('CocaColaStock.csv')\n",
    "ProcterGamble  <- read.csv('ProcterGambleStock.csv')\n",
    "Boeing  <- read.csv('BoeingStock.csv')"
   ]
  },
  {
   "cell_type": "code",
   "execution_count": 2,
   "metadata": {},
   "outputs": [
    {
     "data": {
      "text/html": [
       "<table>\n",
       "<thead><tr><th scope=col>Date</th><th scope=col>StockPrice</th></tr></thead>\n",
       "<tbody>\n",
       "\t<tr><td>1/1/70  </td><td>360.3190</td></tr>\n",
       "\t<tr><td>2/1/70  </td><td>346.7237</td></tr>\n",
       "\t<tr><td>3/1/70  </td><td>327.3457</td></tr>\n",
       "\t<tr><td>4/1/70  </td><td>319.8527</td></tr>\n",
       "\t<tr><td>5/1/70  </td><td>270.3752</td></tr>\n",
       "\t<tr><td>6/1/70  </td><td>267.2050</td></tr>\n",
       "</tbody>\n",
       "</table>\n"
      ],
      "text/latex": [
       "\\begin{tabular}{r|ll}\n",
       " Date & StockPrice\\\\\n",
       "\\hline\n",
       "\t 1/1/70   & 360.3190\\\\\n",
       "\t 2/1/70   & 346.7237\\\\\n",
       "\t 3/1/70   & 327.3457\\\\\n",
       "\t 4/1/70   & 319.8527\\\\\n",
       "\t 5/1/70   & 270.3752\\\\\n",
       "\t 6/1/70   & 267.2050\\\\\n",
       "\\end{tabular}\n"
      ],
      "text/plain": [
       "  Date   StockPrice\n",
       "1 1/1/70 360.3190  \n",
       "2 2/1/70 346.7237  \n",
       "3 3/1/70 327.3457  \n",
       "4 4/1/70 319.8527  \n",
       "5 5/1/70 270.3752  \n",
       "6 6/1/70 267.2050  "
      ]
     },
     "metadata": {},
     "output_type": "display_data"
    },
    {
     "data": {
      "text/html": [
       "<table>\n",
       "<thead><tr><th scope=col>Date</th><th scope=col>StockPrice</th></tr></thead>\n",
       "<tbody>\n",
       "\t<tr><td>1/1/70  </td><td>74.25333</td></tr>\n",
       "\t<tr><td>2/1/70  </td><td>69.97684</td></tr>\n",
       "\t<tr><td>3/1/70  </td><td>72.15857</td></tr>\n",
       "\t<tr><td>4/1/70  </td><td>74.25273</td></tr>\n",
       "\t<tr><td>5/1/70  </td><td>66.66524</td></tr>\n",
       "\t<tr><td>6/1/70  </td><td>67.59318</td></tr>\n",
       "</tbody>\n",
       "</table>\n"
      ],
      "text/latex": [
       "\\begin{tabular}{r|ll}\n",
       " Date & StockPrice\\\\\n",
       "\\hline\n",
       "\t 1/1/70   & 74.25333\\\\\n",
       "\t 2/1/70   & 69.97684\\\\\n",
       "\t 3/1/70   & 72.15857\\\\\n",
       "\t 4/1/70   & 74.25273\\\\\n",
       "\t 5/1/70   & 66.66524\\\\\n",
       "\t 6/1/70   & 67.59318\\\\\n",
       "\\end{tabular}\n"
      ],
      "text/plain": [
       "  Date   StockPrice\n",
       "1 1/1/70 74.25333  \n",
       "2 2/1/70 69.97684  \n",
       "3 3/1/70 72.15857  \n",
       "4 4/1/70 74.25273  \n",
       "5 5/1/70 66.66524  \n",
       "6 6/1/70 67.59318  "
      ]
     },
     "metadata": {},
     "output_type": "display_data"
    },
    {
     "data": {
      "text/html": [
       "<table>\n",
       "<thead><tr><th scope=col>Date</th><th scope=col>StockPrice</th></tr></thead>\n",
       "<tbody>\n",
       "\t<tr><td>1/1/70  </td><td>83.36810</td></tr>\n",
       "\t<tr><td>2/1/70  </td><td>81.59105</td></tr>\n",
       "\t<tr><td>3/1/70  </td><td>81.33810</td></tr>\n",
       "\t<tr><td>4/1/70  </td><td>76.80591</td></tr>\n",
       "\t<tr><td>5/1/70  </td><td>69.27857</td></tr>\n",
       "\t<tr><td>6/1/70  </td><td>72.01545</td></tr>\n",
       "</tbody>\n",
       "</table>\n"
      ],
      "text/latex": [
       "\\begin{tabular}{r|ll}\n",
       " Date & StockPrice\\\\\n",
       "\\hline\n",
       "\t 1/1/70   & 83.36810\\\\\n",
       "\t 2/1/70   & 81.59105\\\\\n",
       "\t 3/1/70   & 81.33810\\\\\n",
       "\t 4/1/70   & 76.80591\\\\\n",
       "\t 5/1/70   & 69.27857\\\\\n",
       "\t 6/1/70   & 72.01545\\\\\n",
       "\\end{tabular}\n"
      ],
      "text/plain": [
       "  Date   StockPrice\n",
       "1 1/1/70 83.36810  \n",
       "2 2/1/70 81.59105  \n",
       "3 3/1/70 81.33810  \n",
       "4 4/1/70 76.80591  \n",
       "5 5/1/70 69.27857  \n",
       "6 6/1/70 72.01545  "
      ]
     },
     "metadata": {},
     "output_type": "display_data"
    },
    {
     "data": {
      "text/html": [
       "<table>\n",
       "<thead><tr><th scope=col>Date</th><th scope=col>StockPrice</th></tr></thead>\n",
       "<tbody>\n",
       "\t<tr><td>1/1/70   </td><td>111.87429</td></tr>\n",
       "\t<tr><td>2/1/70   </td><td>111.45368</td></tr>\n",
       "\t<tr><td>3/1/70   </td><td>108.45143</td></tr>\n",
       "\t<tr><td>4/1/70   </td><td>106.28864</td></tr>\n",
       "\t<tr><td>5/1/70   </td><td> 73.33286</td></tr>\n",
       "\t<tr><td>6/1/70   </td><td> 48.31864</td></tr>\n",
       "</tbody>\n",
       "</table>\n"
      ],
      "text/latex": [
       "\\begin{tabular}{r|ll}\n",
       " Date & StockPrice\\\\\n",
       "\\hline\n",
       "\t 1/1/70    & 111.87429\\\\\n",
       "\t 2/1/70    & 111.45368\\\\\n",
       "\t 3/1/70    & 108.45143\\\\\n",
       "\t 4/1/70    & 106.28864\\\\\n",
       "\t 5/1/70    &  73.33286\\\\\n",
       "\t 6/1/70    &  48.31864\\\\\n",
       "\\end{tabular}\n"
      ],
      "text/plain": [
       "  Date   StockPrice\n",
       "1 1/1/70 111.87429 \n",
       "2 2/1/70 111.45368 \n",
       "3 3/1/70 108.45143 \n",
       "4 4/1/70 106.28864 \n",
       "5 5/1/70  73.33286 \n",
       "6 6/1/70  48.31864 "
      ]
     },
     "metadata": {},
     "output_type": "display_data"
    },
    {
     "data": {
      "text/html": [
       "<table>\n",
       "<thead><tr><th scope=col>Date</th><th scope=col>StockPrice</th></tr></thead>\n",
       "<tbody>\n",
       "\t<tr><td>1/1/70  </td><td>27.85381</td></tr>\n",
       "\t<tr><td>2/1/70  </td><td>22.38105</td></tr>\n",
       "\t<tr><td>3/1/70  </td><td>23.10524</td></tr>\n",
       "\t<tr><td>4/1/70  </td><td>21.57136</td></tr>\n",
       "\t<tr><td>5/1/70  </td><td>18.93286</td></tr>\n",
       "\t<tr><td>6/1/70  </td><td>15.44318</td></tr>\n",
       "</tbody>\n",
       "</table>\n"
      ],
      "text/latex": [
       "\\begin{tabular}{r|ll}\n",
       " Date & StockPrice\\\\\n",
       "\\hline\n",
       "\t 1/1/70   & 27.85381\\\\\n",
       "\t 2/1/70   & 22.38105\\\\\n",
       "\t 3/1/70   & 23.10524\\\\\n",
       "\t 4/1/70   & 21.57136\\\\\n",
       "\t 5/1/70   & 18.93286\\\\\n",
       "\t 6/1/70   & 15.44318\\\\\n",
       "\\end{tabular}\n"
      ],
      "text/plain": [
       "  Date   StockPrice\n",
       "1 1/1/70 27.85381  \n",
       "2 2/1/70 22.38105  \n",
       "3 3/1/70 23.10524  \n",
       "4 4/1/70 21.57136  \n",
       "5 5/1/70 18.93286  \n",
       "6 6/1/70 15.44318  "
      ]
     },
     "metadata": {},
     "output_type": "display_data"
    }
   ],
   "source": [
    "head(IBM)\n",
    "head(GE)\n",
    "head(CocaCola)\n",
    "head(ProcterGamble)\n",
    "head(Boeing)"
   ]
  },
  {
   "cell_type": "code",
   "execution_count": 3,
   "metadata": {
    "collapsed": true
   },
   "outputs": [],
   "source": [
    "IBM$Date = as.Date(IBM$Date, \"%m/%d/%y\")\n",
    "\n",
    "GE$Date = as.Date(GE$Date, \"%m/%d/%y\")\n",
    "\n",
    "CocaCola$Date = as.Date(CocaCola$Date, \"%m/%d/%y\")\n",
    "\n",
    "ProcterGamble$Date = as.Date(ProcterGamble$Date, \"%m/%d/%y\")\n",
    "\n",
    "Boeing$Date = as.Date(Boeing$Date, \"%m/%d/%y\")"
   ]
  },
  {
   "cell_type": "code",
   "execution_count": 5,
   "metadata": {},
   "outputs": [
    {
     "name": "stdout",
     "output_type": "stream",
     "text": [
      "'data.frame':\t480 obs. of  2 variables:\n",
      " $ Date      : Date, format: \"1970-01-01\" \"1970-02-01\" ...\n",
      " $ StockPrice: num  360 347 327 320 270 ...\n"
     ]
    }
   ],
   "source": [
    "str(IBM)"
   ]
  },
  {
   "cell_type": "markdown",
   "metadata": {},
   "source": [
    "#### Problem 1.2 - Summary Statistics\n",
    "\n",
    "What is the earliest year in our datasets?"
   ]
  },
  {
   "cell_type": "code",
   "execution_count": 7,
   "metadata": {},
   "outputs": [
    {
     "data": {
      "text/html": [
       "<time datetime=\"1970-01-01\">1970-01-01</time>"
      ],
      "text/latex": [
       "1970-01-01"
      ],
      "text/markdown": [
       "1970-01-01"
      ],
      "text/plain": [
       "[1] \"1970-01-01\""
      ]
     },
     "metadata": {},
     "output_type": "display_data"
    }
   ],
   "source": [
    "min(IBM$Date)"
   ]
  },
  {
   "cell_type": "markdown",
   "metadata": {},
   "source": [
    "#### Problem 1.3 - Summary Statistics\n",
    "\n",
    "What is the latest year in our datasets?"
   ]
  },
  {
   "cell_type": "code",
   "execution_count": 6,
   "metadata": {},
   "outputs": [
    {
     "data": {
      "text/html": [
       "<time datetime=\"2009-12-01\">2009-12-01</time>"
      ],
      "text/latex": [
       "2009-12-01"
      ],
      "text/markdown": [
       "2009-12-01"
      ],
      "text/plain": [
       "[1] \"2009-12-01\""
      ]
     },
     "metadata": {},
     "output_type": "display_data"
    }
   ],
   "source": [
    "max(IBM$Date)"
   ]
  },
  {
   "cell_type": "markdown",
   "metadata": {},
   "source": [
    "#### Problem 1.4 - Summary Statistics\n",
    "\n",
    "What is the mean stock price of IBM over this time period?"
   ]
  },
  {
   "cell_type": "code",
   "execution_count": 8,
   "metadata": {},
   "outputs": [
    {
     "data": {
      "text/html": [
       "144.375030307667"
      ],
      "text/latex": [
       "144.375030307667"
      ],
      "text/markdown": [
       "144.375030307667"
      ],
      "text/plain": [
       "[1] 144.375"
      ]
     },
     "metadata": {},
     "output_type": "display_data"
    }
   ],
   "source": [
    "mean(IBM$StockPrice)"
   ]
  },
  {
   "cell_type": "markdown",
   "metadata": {},
   "source": [
    "#### Problem 1.5 - Summary Statistics\n",
    "\n",
    "What is the minimum stock price of General Electric (GE) over this time period?"
   ]
  },
  {
   "cell_type": "code",
   "execution_count": 9,
   "metadata": {},
   "outputs": [
    {
     "data": {
      "text/html": [
       "9.293636364"
      ],
      "text/latex": [
       "9.293636364"
      ],
      "text/markdown": [
       "9.293636364"
      ],
      "text/plain": [
       "[1] 9.293636"
      ]
     },
     "metadata": {},
     "output_type": "display_data"
    }
   ],
   "source": [
    "min(GE$StockPrice)"
   ]
  },
  {
   "cell_type": "markdown",
   "metadata": {},
   "source": [
    "#### Problem 1.6 - Summary Statistics\n",
    "\n",
    "What is the maximum stock price of Coca-Cola over this time period?"
   ]
  },
  {
   "cell_type": "code",
   "execution_count": 10,
   "metadata": {},
   "outputs": [
    {
     "data": {
      "text/html": [
       "146.5842857"
      ],
      "text/latex": [
       "146.5842857"
      ],
      "text/markdown": [
       "146.5842857"
      ],
      "text/plain": [
       "[1] 146.5843"
      ]
     },
     "metadata": {},
     "output_type": "display_data"
    }
   ],
   "source": [
    "max(CocaCola$StockPrice)"
   ]
  },
  {
   "cell_type": "markdown",
   "metadata": {},
   "source": [
    "#### Problem 1.7 - Summary Statistics\n",
    "\n",
    "What is the median stock price of Boeing over this time period?"
   ]
  },
  {
   "cell_type": "code",
   "execution_count": 11,
   "metadata": {},
   "outputs": [
    {
     "data": {
      "text/html": [
       "44.88339827"
      ],
      "text/latex": [
       "44.88339827"
      ],
      "text/markdown": [
       "44.88339827"
      ],
      "text/plain": [
       "[1] 44.8834"
      ]
     },
     "metadata": {},
     "output_type": "display_data"
    }
   ],
   "source": [
    "median(Boeing$StockPrice)"
   ]
  },
  {
   "cell_type": "markdown",
   "metadata": {},
   "source": [
    "#### Problem 1.8 - Summary Statistics\n",
    "\n",
    "What is the standard deviation of the stock price of Procter & Gamble over this time period?"
   ]
  },
  {
   "cell_type": "code",
   "execution_count": 12,
   "metadata": {},
   "outputs": [
    {
     "data": {
      "text/html": [
       "18.1941403079716"
      ],
      "text/latex": [
       "18.1941403079716"
      ],
      "text/markdown": [
       "18.1941403079716"
      ],
      "text/plain": [
       "[1] 18.19414"
      ]
     },
     "metadata": {},
     "output_type": "display_data"
    }
   ],
   "source": [
    "sd(ProcterGamble$StockPrice)"
   ]
  },
  {
   "cell_type": "markdown",
   "metadata": {},
   "source": [
    "#### Problem 2.1 - Visualizing Stock Dynamics\n",
    "\n",
    "Let's plot the stock prices to see if we can visualize trends in stock prices during this time period. Using the plot function, plot the Date on the x-axis and the StockPrice on the y-axis, for Coca-Cola.\n",
    "\n",
    "This plots our observations as points, but we would really like to see a line instead, since this is a continuous time period. To do this, add the argument type=\"l\" to your plot command, and re-generate the plot (the character is quotes is the letter l, for line). You should now see a line plot of the Coca-Cola stock price.\n",
    "\n",
    "Around what year did Coca-Cola has its highest stock price in this time period?"
   ]
  },
  {
   "cell_type": "code",
   "execution_count": 20,
   "metadata": {},
   "outputs": [
    {
     "data": {
      "text/html": [
       "<table>\n",
       "<thead><tr><th></th><th scope=col>Date</th><th scope=col>StockPrice</th></tr></thead>\n",
       "<tbody>\n",
       "\t<tr><th scope=row>37</th><td>1973-01-01</td><td>146.5843  </td></tr>\n",
       "</tbody>\n",
       "</table>\n"
      ],
      "text/latex": [
       "\\begin{tabular}{r|ll}\n",
       "  & Date & StockPrice\\\\\n",
       "\\hline\n",
       "\t37 & 1973-01-01 & 146.5843  \\\\\n",
       "\\end{tabular}\n"
      ],
      "text/plain": [
       "   Date       StockPrice\n",
       "37 1973-01-01 146.5843  "
      ]
     },
     "metadata": {},
     "output_type": "display_data"
    }
   ],
   "source": [
    "CocaCola[ which(CocaCola$StockPrice==max(CocaCola$StockPrice)),]"
   ]
  },
  {
   "cell_type": "code",
   "execution_count": 13,
   "metadata": {},
   "outputs": [
    {
     "data": {
      "image/png": "[encoded data removed]",
      "text/plain": [
       "plot without title"
      ]
     },
     "metadata": {},
     "output_type": "display_data"
    }
   ],
   "source": [
    "plot(CocaCola, type='l')"
   ]
  },
  {
   "cell_type": "markdown",
   "metadata": {},
   "source": [
    "Around what year did Coca-Cola has its lowest stock price in this time period?"
   ]
  },
  {
   "cell_type": "code",
   "execution_count": 21,
   "metadata": {},
   "outputs": [
    {
     "data": {
      "text/html": [
       "<table>\n",
       "<thead><tr><th></th><th scope=col>Date</th><th scope=col>StockPrice</th></tr></thead>\n",
       "<tbody>\n",
       "\t<tr><th scope=row>123</th><td>1980-03-01</td><td>30.05714  </td></tr>\n",
       "</tbody>\n",
       "</table>\n"
      ],
      "text/latex": [
       "\\begin{tabular}{r|ll}\n",
       "  & Date & StockPrice\\\\\n",
       "\\hline\n",
       "\t123 & 1980-03-01 & 30.05714  \\\\\n",
       "\\end{tabular}\n"
      ],
      "text/plain": [
       "    Date       StockPrice\n",
       "123 1980-03-01 30.05714  "
      ]
     },
     "metadata": {},
     "output_type": "display_data"
    }
   ],
   "source": [
    "CocaCola[ which(CocaCola$StockPrice==min(CocaCola$StockPrice)),]"
   ]
  },
  {
   "cell_type": "markdown",
   "metadata": {},
   "source": [
    "#### Problem 2.2 - Visualizing Stock Dynamics\n",
    "\n",
    "Now, let's add the line for Procter & Gamble too. You can add a line to a plot in R by using the lines function instead of the plot function. Keeping the plot for Coca-Cola open, type in your R console:\n",
    "\n",
    "lines(ProcterGamble$Date, ProcterGamble$StockPrice)\n",
    "\n",
    "Unfortunately, it's hard to tell which line is which. Let's fix this by giving each line a color. First, re-run the plot command for Coca-Cola, but add the argument col=\"red\". You should see the plot for Coca-Cola show up again, but this time in red. Now, let's add the Procter & Gamble line (using the lines function like we did before), adding the argument col=\"blue\". You should now see in your plot the Coca-Cola stock price in red, and the Procter & Gamble stock price in blue.\n",
    "\n",
    "As an alternative choice to changing the colors, you could instead change the line type of the Procter & Gamble line by adding the argument lty=2. This will make the Procter & Gamble line dashed.\n",
    "\n",
    "Using this plot, answer the following questions.\n",
    "\n",
    "In March of 2000, the technology bubble burst, and a stock market crash occurred. According to this plot, which company's stock dropped more?\n",
    "\n",
    "Procter & Gamble"
   ]
  },
  {
   "cell_type": "code",
   "execution_count": 24,
   "metadata": {},
   "outputs": [
    {
     "data": {
      "image/png": "[encoded data removed]",
      "text/plain": [
       "plot without title"
      ]
     },
     "metadata": {},
     "output_type": "display_data"
    }
   ],
   "source": [
    "plot(CocaCola, type='l', col='red')\n",
    "\n",
    "lines(ProcterGamble$Date, ProcterGamble$StockPrice, col='blue', lty=2)\n",
    "\n"
   ]
  },
  {
   "cell_type": "markdown",
   "metadata": {},
   "source": [
    "To answer this question and the ones that follow, you may find it useful to draw a vertical line at a certain date. To do this, type the command\n",
    "\n",
    "abline(v=as.Date(c(\"2000-03-01\")), lwd=2)\n",
    "\n",
    "in your R console, with the plot still open. This generates a vertical line at the date March 1, 2000. The argument lwd=2 makes the line a little thicker. You can change the date in this command to generate the vertical line in different locations."
   ]
  },
  {
   "cell_type": "code",
   "execution_count": 44,
   "metadata": {},
   "outputs": [
    {
     "data": {
      "image/png": "[encoded data removed]",
      "text/plain": [
       "plot without title"
      ]
     },
     "metadata": {},
     "output_type": "display_data"
    }
   ],
   "source": [
    "plot(CocaCola, type='l', col='red')\n",
    "\n",
    "lines(ProcterGamble$Date, ProcterGamble$StockPrice, col='blue', lty=2)\n",
    "\n",
    "abline(v=as.Date(c(\"2000-03-01\")), lwd=1,lty=3)\n"
   ]
  },
  {
   "cell_type": "markdown",
   "metadata": {},
   "source": [
    "#### Problem 2.3 - Visualizing Stock Dynamics\n",
    "\n",
    "Answer these questions using the plot you generated in the previous problem.\n",
    "\n",
    "Around 1983, the stock for one of these companies (Coca-Cola or Procter and Gamble) was going up, while the other was going down. Which one was going up?"
   ]
  },
  {
   "cell_type": "code",
   "execution_count": 42,
   "metadata": {},
   "outputs": [
    {
     "data": {
      "image/png": "[encoded data removed]",
      "text/plain": [
       "plot without title"
      ]
     },
     "metadata": {},
     "output_type": "display_data"
    }
   ],
   "source": [
    "plot(CocaCola, type='l', col='red')\n",
    "\n",
    "lines(ProcterGamble$Date, ProcterGamble$StockPrice, col='blue', lty=2)\n",
    "\n",
    "abline(v=as.Date(c(\"1983-01-01\")), lwd=1,lty=2)"
   ]
  },
  {
   "cell_type": "markdown",
   "metadata": {},
   "source": [
    "Coca-Cola"
   ]
  },
  {
   "cell_type": "markdown",
   "metadata": {},
   "source": [
    "In the time period shown in the plot, which stock generally has lower values?"
   ]
  },
  {
   "cell_type": "markdown",
   "metadata": {},
   "source": [
    "Coca-Cola"
   ]
  },
  {
   "cell_type": "markdown",
   "metadata": {},
   "source": [
    "#### Problem 3.1 - Visualizing Stock Dynamics 1995-2005\n",
    "\n",
    "Let's take a look at how the stock prices changed from 1995-2005 for all five companies. In your R console, start by typing the following plot command:\n",
    "\n",
    "plot(CocaCola$Date[301:432], CocaCola$StockPrice[301:432], type=\"l\", col=\"red\", ylim=c(0,210))\n",
    "\n",
    "This will plot the CocaCola stock prices from 1995 through 2005, which are the observations numbered from 301 to 432. The additional argument, ylim=c(0,210), makes the y-axis range from 0 to 210. This will allow us to see all of the stock values when we add in the other companies.\n",
    "\n",
    "Now, use the lines function to add in the other four companies, remembering to only plot the observations from 1995 to 2005, or [301:432]. You don't need the \"type\" or \"ylim\" arguments for the lines function, but remember to make each company a different color so that you can tell them apart. Some color options are \"red\", \"blue\", \"green\", \"purple\", \"orange\", and \"black\". To see all of the color options in R, type colors() in your R console.\n",
    "\n",
    "(If you prefer to change the type of the line instead of the color, here are some options for changing the line type: lty=2 will make the line dashed, lty=3 will make the line dotted, lty=4 will make the line alternate between dashes and dots, and lty=5 will make the line long-dashed.)\n",
    "\n",
    "Use this plot to answer the following four questions.\n",
    "\n",
    "Which stock fell the most right after the technology bubble burst in March 2000? GE"
   ]
  },
  {
   "cell_type": "code",
   "execution_count": 33,
   "metadata": {},
   "outputs": [
    {
     "data": {
      "image/png": "[encoded data removed]",
      "text/plain": [
       "plot without title"
      ]
     },
     "metadata": {},
     "output_type": "display_data"
    }
   ],
   "source": [
    "plot(CocaCola$Date[301:432], CocaCola$StockPrice[301:432], type=\"l\", col=\"red\", ylim=c(0,210))\n",
    "lines(ProcterGamble$Date[301:432], ProcterGamble$StockPrice[301:432], type=\"l\", col=\"blue\",lty=2)\n",
    "lines(GE$Date[301:432], GE$StockPrice[301:432], type=\"l\", col=\"orange\",lty=1)\n",
    "lines(IBM$Date[301:432], IBM$StockPrice[301:432], type=\"l\", col=\"purple\",lty=4)\n",
    "lines(Boeing$Date[301:432], Boeing$StockPrice[301:432], type=\"l\", col=\"black\",lty=5)\n",
    "\n"
   ]
  },
  {
   "cell_type": "markdown",
   "metadata": {},
   "source": [
    "#### Problem 3.2 - Visualizing Stock Dynamics 1995-2005\n",
    "\n",
    "Which stock reaches the highest value in the time period 1995-2005?"
   ]
  },
  {
   "cell_type": "code",
   "execution_count": null,
   "metadata": {
    "collapsed": true
   },
   "outputs": [],
   "source": [
    "IBM"
   ]
  },
  {
   "cell_type": "markdown",
   "metadata": {},
   "source": [
    "#### Problem 3.3 - Visualizing Stock Dynamics 1995-2005\n",
    "\n",
    "In October of 1997, there was a global stock market crash that was caused by an economic crisis in Asia. Comparing September 1997 to November 1997, which companies saw a decreasing trend in their stock price? (Select all that apply.)"
   ]
  },
  {
   "cell_type": "code",
   "execution_count": 41,
   "metadata": {},
   "outputs": [
    {
     "data": {
      "image/png": "[encoded data removed]",
      "text/plain": [
       "plot without title"
      ]
     },
     "metadata": {},
     "output_type": "display_data"
    }
   ],
   "source": [
    "plot(CocaCola$Date[301:432], CocaCola$StockPrice[301:432], type=\"l\", col=\"red\", ylim=c(0,210))\n",
    "lines(ProcterGamble$Date[301:432], ProcterGamble$StockPrice[301:432], type=\"l\", col=\"blue\",lty=2)\n",
    "lines(GE$Date[301:432], GE$StockPrice[301:432], type=\"l\", col=\"orange\",lty=1)\n",
    "lines(IBM$Date[301:432], IBM$StockPrice[301:432], type=\"l\", col=\"purple\",lty=4)\n",
    "lines(Boeing$Date[301:432], Boeing$StockPrice[301:432], type=\"l\", col=\"black\",lty=5)\n",
    "\n",
    "abline(v=as.Date(c(\"1997-09-01\")), lwd=1, lty=2)\n",
    "abline(v=as.Date(c(\"1997-11-01\")), lwd=1, lty=2)"
   ]
  },
  {
   "cell_type": "markdown",
   "metadata": {},
   "source": [
    "#### Problem 3.4 - Visualizing Stock Dynamics 1995-2005\n",
    "\n",
    "In the last two years of this time period (2004 and 2005) which stock seems to be performing the best, in terms of increasing stock price?"
   ]
  },
  {
   "cell_type": "code",
   "execution_count": null,
   "metadata": {
    "collapsed": true
   },
   "outputs": [],
   "source": []
  },
  {
   "cell_type": "markdown",
   "metadata": {},
   "source": [
    "#### Problem 4.1 - Monthly Trends\n",
    "\n",
    "Lastly, let's see if stocks tend to be higher or lower during certain months. Use the tapply command to calculate the mean stock price of IBM, sorted by months. To sort by months, use\n",
    "\n",
    "months(IBM$Date)\n",
    "\n",
    "as the second argument of the tapply function.\n",
    "\n",
    "For IBM, compare the monthly averages to the overall average stock price. In which months has IBM historically had a higher stock price (on average)? Select all that apply."
   ]
  },
  {
   "cell_type": "code",
   "execution_count": 36,
   "metadata": {},
   "outputs": [
    {
     "data": {
      "text/html": [
       "144.375030307667"
      ],
      "text/latex": [
       "144.375030307667"
      ],
      "text/markdown": [
       "144.375030307667"
      ],
      "text/plain": [
       "[1] 144.375"
      ]
     },
     "metadata": {},
     "output_type": "display_data"
    }
   ],
   "source": [
    "mean(IBM$StockPrice)"
   ]
  },
  {
   "cell_type": "code",
   "execution_count": 35,
   "metadata": {},
   "outputs": [
    {
     "data": {
      "text/html": [
       "<dl class=dl-horizontal>\n",
       "\t<dt>abril</dt>\n",
       "\t\t<dd>152.11682382375</dd>\n",
       "\t<dt>agosto</dt>\n",
       "\t\t<dd>140.145474968</dd>\n",
       "\t<dt>diciembre</dt>\n",
       "\t\t<dd>140.75930962775</dd>\n",
       "\t<dt>enero</dt>\n",
       "\t\t<dd>150.2384226615</dd>\n",
       "\t<dt>febrero</dt>\n",
       "\t\t<dd>152.6939934145</dd>\n",
       "\t<dt>julio</dt>\n",
       "\t\t<dd>139.06701818325</dd>\n",
       "\t<dt>junio</dt>\n",
       "\t\t<dd>139.0906762995</dd>\n",
       "\t<dt>marzo</dt>\n",
       "\t\t<dd>152.432689622</dd>\n",
       "\t<dt>mayo</dt>\n",
       "\t\t<dd>151.5021941505</dd>\n",
       "\t<dt>noviembre</dt>\n",
       "\t\t<dd>138.01868188175</dd>\n",
       "\t<dt>octubre</dt>\n",
       "\t\t<dd>137.346552522</dd>\n",
       "\t<dt>septiembre</dt>\n",
       "\t\t<dd>139.0885265375</dd>\n",
       "</dl>\n"
      ],
      "text/plain": [
       "     abril     agosto  diciembre      enero    febrero      julio      junio \n",
       "  152.1168   140.1455   140.7593   150.2384   152.6940   139.0670   139.0907 \n",
       "     marzo       mayo  noviembre    octubre septiembre \n",
       "  152.4327   151.5022   138.0187   137.3466   139.0885 "
      ]
     },
     "metadata": {},
     "output_type": "display_data"
    }
   ],
   "source": [
    "tapply(IBM$StockPrice, months(IBM$Date), mean)"
   ]
  },
  {
   "cell_type": "code",
   "execution_count": 37,
   "metadata": {},
   "outputs": [
    {
     "data": {
      "text/html": [
       "<dl class=dl-horizontal>\n",
       "\t<dt>abril</dt>\n",
       "\t\t<dd>TRUE</dd>\n",
       "\t<dt>agosto</dt>\n",
       "\t\t<dd>FALSE</dd>\n",
       "\t<dt>diciembre</dt>\n",
       "\t\t<dd>FALSE</dd>\n",
       "\t<dt>enero</dt>\n",
       "\t\t<dd>TRUE</dd>\n",
       "\t<dt>febrero</dt>\n",
       "\t\t<dd>TRUE</dd>\n",
       "\t<dt>julio</dt>\n",
       "\t\t<dd>FALSE</dd>\n",
       "\t<dt>junio</dt>\n",
       "\t\t<dd>FALSE</dd>\n",
       "\t<dt>marzo</dt>\n",
       "\t\t<dd>TRUE</dd>\n",
       "\t<dt>mayo</dt>\n",
       "\t\t<dd>TRUE</dd>\n",
       "\t<dt>noviembre</dt>\n",
       "\t\t<dd>FALSE</dd>\n",
       "\t<dt>octubre</dt>\n",
       "\t\t<dd>FALSE</dd>\n",
       "\t<dt>septiembre</dt>\n",
       "\t\t<dd>FALSE</dd>\n",
       "</dl>\n"
      ],
      "text/plain": [
       "     abril     agosto  diciembre      enero    febrero      julio      junio \n",
       "      TRUE      FALSE      FALSE       TRUE       TRUE      FALSE      FALSE \n",
       "     marzo       mayo  noviembre    octubre septiembre \n",
       "      TRUE       TRUE      FALSE      FALSE      FALSE "
      ]
     },
     "metadata": {},
     "output_type": "display_data"
    }
   ],
   "source": [
    "tapply(IBM$StockPrice, months(IBM$Date), mean) > mean(IBM$StockPrice)\n"
   ]
  },
  {
   "cell_type": "markdown",
   "metadata": {},
   "source": [
    "#### Problem 4.2 - Monthly Trends\n",
    "\n",
    "Repeat the tapply function from the previous problem for each of the other four companies, and use the output to answer the remaining questions.\n",
    "\n",
    "General Electric and Coca-Cola both have their highest average stock price in the same month. Which month is this?"
   ]
  },
  {
   "cell_type": "code",
   "execution_count": 38,
   "metadata": {},
   "outputs": [
    {
     "data": {
      "text/html": [
       "<dl class=dl-horizontal>\n",
       "\t<dt>abril</dt>\n",
       "\t\t<dd>64.4800915325</dd>\n",
       "\t<dt>agosto</dt>\n",
       "\t\t<dd>56.50314874</dd>\n",
       "\t<dt>diciembre</dt>\n",
       "\t\t<dd>59.10217406075</dd>\n",
       "\t<dt>enero</dt>\n",
       "\t\t<dd>62.045106331</dd>\n",
       "\t<dt>febrero</dt>\n",
       "\t\t<dd>62.52080460625</dd>\n",
       "\t<dt>julio</dt>\n",
       "\t\t<dd>56.7334929405</dd>\n",
       "\t<dt>junio</dt>\n",
       "\t\t<dd>56.46843917825</dd>\n",
       "\t<dt>marzo</dt>\n",
       "\t\t<dd>63.15054792035</dd>\n",
       "\t<dt>mayo</dt>\n",
       "\t\t<dd>60.87135102825</dd>\n",
       "\t<dt>noviembre</dt>\n",
       "\t\t<dd>57.2887945375</dd>\n",
       "\t<dt>octubre</dt>\n",
       "\t\t<dd>56.2389679325</dd>\n",
       "\t<dt>septiembre</dt>\n",
       "\t\t<dd>56.239130513</dd>\n",
       "</dl>\n"
      ],
      "text/plain": [
       "     abril     agosto  diciembre      enero    febrero      julio      junio \n",
       "  64.48009   56.50315   59.10217   62.04511   62.52080   56.73349   56.46844 \n",
       "     marzo       mayo  noviembre    octubre septiembre \n",
       "  63.15055   60.87135   57.28879   56.23897   56.23913 "
      ]
     },
     "metadata": {},
     "output_type": "display_data"
    },
    {
     "data": {
      "text/html": [
       "<dl class=dl-horizontal>\n",
       "\t<dt>abril</dt>\n",
       "\t\t<dd>62.68888193675</dd>\n",
       "\t<dt>agosto</dt>\n",
       "\t\t<dd>58.880138883</dd>\n",
       "\t<dt>diciembre</dt>\n",
       "\t\t<dd>59.73222678275</dd>\n",
       "\t<dt>enero</dt>\n",
       "\t\t<dd>60.36848658375</dd>\n",
       "\t<dt>febrero</dt>\n",
       "\t\t<dd>60.73475394675</dd>\n",
       "\t<dt>julio</dt>\n",
       "\t\t<dd>58.983460044</dd>\n",
       "\t<dt>junio</dt>\n",
       "\t\t<dd>60.812084197</dd>\n",
       "\t<dt>marzo</dt>\n",
       "\t\t<dd>62.07135394325</dd>\n",
       "\t<dt>mayo</dt>\n",
       "\t\t<dd>61.4435805755</dd>\n",
       "\t<dt>noviembre</dt>\n",
       "\t\t<dd>59.10268317525</dd>\n",
       "\t<dt>octubre</dt>\n",
       "\t\t<dd>57.93886841525</dd>\n",
       "\t<dt>septiembre</dt>\n",
       "\t\t<dd>57.600238316</dd>\n",
       "</dl>\n"
      ],
      "text/plain": [
       "     abril     agosto  diciembre      enero    febrero      julio      junio \n",
       "  62.68888   58.88014   59.73223   60.36849   60.73475   58.98346   60.81208 \n",
       "     marzo       mayo  noviembre    octubre septiembre \n",
       "  62.07135   61.44358   59.10268   57.93887   57.60024 "
      ]
     },
     "metadata": {},
     "output_type": "display_data"
    }
   ],
   "source": [
    "tapply(GE$StockPrice, months(GE$Date), mean)\n",
    "tapply(CocaCola$StockPrice, months(CocaCola$Date), mean)"
   ]
  },
  {
   "cell_type": "markdown",
   "metadata": {},
   "source": [
    "#### Problem 4.3 - Monthly Trends\n",
    "\n",
    "For the months of December and January, every company's average stock is higher in one month and lower in the other. In which month are the stock prices lower?"
   ]
  },
  {
   "cell_type": "code",
   "execution_count": 39,
   "metadata": {},
   "outputs": [
    {
     "data": {
      "text/html": [
       "<dl class=dl-horizontal>\n",
       "\t<dt>abril</dt>\n",
       "\t\t<dd>47.04686039525</dd>\n",
       "\t<dt>agosto</dt>\n",
       "\t\t<dd>46.8631072365</dd>\n",
       "\t<dt>diciembre</dt>\n",
       "\t\t<dd>46.1731455305</dd>\n",
       "\t<dt>enero</dt>\n",
       "\t\t<dd>46.51097408775</dd>\n",
       "\t<dt>febrero</dt>\n",
       "\t\t<dd>46.89223289475</dd>\n",
       "\t<dt>julio</dt>\n",
       "\t\t<dd>46.55360213</dd>\n",
       "\t<dt>junio</dt>\n",
       "\t\t<dd>47.38525487025</dd>\n",
       "\t<dt>marzo</dt>\n",
       "\t\t<dd>46.882075791</dd>\n",
       "\t<dt>mayo</dt>\n",
       "\t\t<dd>48.1371595235</dd>\n",
       "\t<dt>noviembre</dt>\n",
       "\t\t<dd>45.14990347725</dd>\n",
       "\t<dt>octubre</dt>\n",
       "\t\t<dd>45.216034514</dd>\n",
       "\t<dt>septiembre</dt>\n",
       "\t\t<dd>46.30485379075</dd>\n",
       "</dl>\n"
      ],
      "text/plain": [
       "     abril     agosto  diciembre      enero    febrero      julio      junio \n",
       "  47.04686   46.86311   46.17315   46.51097   46.89223   46.55360   47.38525 \n",
       "     marzo       mayo  noviembre    octubre septiembre \n",
       "  46.88208   48.13716   45.14990   45.21603   46.30485 "
      ]
     },
     "metadata": {},
     "output_type": "display_data"
    },
    {
     "data": {
      "text/html": [
       "<dl class=dl-horizontal>\n",
       "\t<dt>abril</dt>\n",
       "\t\t<dd>152.11682382375</dd>\n",
       "\t<dt>agosto</dt>\n",
       "\t\t<dd>140.145474968</dd>\n",
       "\t<dt>diciembre</dt>\n",
       "\t\t<dd>140.75930962775</dd>\n",
       "\t<dt>enero</dt>\n",
       "\t\t<dd>150.2384226615</dd>\n",
       "\t<dt>febrero</dt>\n",
       "\t\t<dd>152.6939934145</dd>\n",
       "\t<dt>julio</dt>\n",
       "\t\t<dd>139.06701818325</dd>\n",
       "\t<dt>junio</dt>\n",
       "\t\t<dd>139.0906762995</dd>\n",
       "\t<dt>marzo</dt>\n",
       "\t\t<dd>152.432689622</dd>\n",
       "\t<dt>mayo</dt>\n",
       "\t\t<dd>151.5021941505</dd>\n",
       "\t<dt>noviembre</dt>\n",
       "\t\t<dd>138.01868188175</dd>\n",
       "\t<dt>octubre</dt>\n",
       "\t\t<dd>137.346552522</dd>\n",
       "\t<dt>septiembre</dt>\n",
       "\t\t<dd>139.0885265375</dd>\n",
       "</dl>\n"
      ],
      "text/plain": [
       "     abril     agosto  diciembre      enero    febrero      julio      junio \n",
       "  152.1168   140.1455   140.7593   150.2384   152.6940   139.0670   139.0907 \n",
       "     marzo       mayo  noviembre    octubre septiembre \n",
       "  152.4327   151.5022   138.0187   137.3466   139.0885 "
      ]
     },
     "metadata": {},
     "output_type": "display_data"
    },
    {
     "data": {
      "text/html": [
       "<dl class=dl-horizontal>\n",
       "\t<dt>abril</dt>\n",
       "\t\t<dd>77.6867078655</dd>\n",
       "\t<dt>agosto</dt>\n",
       "\t\t<dd>76.8226631825</dd>\n",
       "\t<dt>diciembre</dt>\n",
       "\t\t<dd>78.2966076655</dd>\n",
       "\t<dt>enero</dt>\n",
       "\t\t<dd>79.6179844985</dd>\n",
       "\t<dt>febrero</dt>\n",
       "\t\t<dd>79.02575460575</dd>\n",
       "\t<dt>julio</dt>\n",
       "\t\t<dd>76.64555938575</dd>\n",
       "\t<dt>junio</dt>\n",
       "\t\t<dd>77.392751461</dd>\n",
       "\t<dt>marzo</dt>\n",
       "\t\t<dd>77.3476069055</dd>\n",
       "\t<dt>mayo</dt>\n",
       "\t\t<dd>77.8595784645</dd>\n",
       "\t<dt>noviembre</dt>\n",
       "\t\t<dd>78.45610367575</dd>\n",
       "\t<dt>octubre</dt>\n",
       "\t\t<dd>76.67903482225</dd>\n",
       "\t<dt>septiembre</dt>\n",
       "\t\t<dd>76.623845019</dd>\n",
       "</dl>\n"
      ],
      "text/plain": [
       "     abril     agosto  diciembre      enero    febrero      julio      junio \n",
       "  77.68671   76.82266   78.29661   79.61798   79.02575   76.64556   77.39275 \n",
       "     marzo       mayo  noviembre    octubre septiembre \n",
       "  77.34761   77.85958   78.45610   76.67903   76.62385 "
      ]
     },
     "metadata": {},
     "output_type": "display_data"
    }
   ],
   "source": [
    "tapply(Boeing$StockPrice, months(Boeing$Date), mean)\n",
    "tapply(IBM$StockPrice, months(IBM$Date), mean)\n",
    "tapply(ProcterGamble$StockPrice, months(ProcterGamble$Date), mean)"
   ]
  },
  {
   "cell_type": "markdown",
   "metadata": {},
   "source": [
    "After seeing these trends, we are ready to buy stock in certain months and sell it in others! But, we should be careful, because one really good or really bad year could skew the average to show a trend that is not really there in general."
   ]
  }
 ],
 "metadata": {
  "kernelspec": {
   "display_name": "R",
   "language": "R",
   "name": "ir"
  },
  "language_info": {
   "codemirror_mode": "r",
   "file_extension": ".r",
   "mimetype": "text/x-r-source",
   "name": "R",
   "pygments_lexer": "r",
   "version": "3.3.3"
  }
 },
 "nbformat": 4,
 "nbformat_minor": 2
}
