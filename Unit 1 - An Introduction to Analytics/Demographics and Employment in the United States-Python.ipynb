{
 "cells": [
  {
   "cell_type": "markdown",
   "metadata": {},
   "source": [
    "### Demographics and employment in the united states\n",
    "\n",
    "In the wake of the Great Recession of 2009, there has been a good deal of focus on employment statistics, one of the most important metrics policymakers use to gauge the overall strength of the economy. In the United States, the government measures unemployment using the Current Population Survey (CPS), which collects demographic and employment information from a wide range of Americans each month. In this exercise, we will employ the topics reviewed in the lectures as well as a few new techniques using the September 2013 version of this rich, nationally representative dataset (available [online](http://thedataweb.rm.census.gov/ftp/cps_ftp.html)).\n",
    "\n",
    "The observations in the dataset represent people surveyed in the September 2013 CPS who actually completed a survey. While the full dataset has 385 variables, in this exercise we will use a more compact version of the dataset, CPSData.csv, which has the following variables:\n",
    "\n",
    "PeopleInHousehold: The number of people in the interviewee's household.\n",
    "\n",
    "Region: The census region where the interviewee lives.\n",
    "\n",
    "State: The state where the interviewee lives.\n",
    "\n",
    "MetroAreaCode: A code that identifies the metropolitan area in which the interviewee lives (missing if the interviewee does not live in a metropolitan area). The mapping from codes to names of metropolitan areas is provided in the file MetroAreaCodes.csv.\n",
    "\n",
    "Age: The age, in years, of the interviewee. 80 represents people aged 80-84, and 85 represents people aged 85 and higher.\n",
    "\n",
    "Married: The marriage status of the interviewee.\n",
    "\n",
    "Sex: The sex of the interviewee.\n",
    "\n",
    "Education: The maximum level of education obtained by the interviewee.\n",
    "\n",
    "Race: The race of the interviewee.\n",
    "\n",
    "Hispanic: Whether the interviewee is of Hispanic ethnicity.\n",
    "\n",
    "CountryOfBirthCode: A code identifying the country of birth of the interviewee. The mapping from codes to names of countries is provided in the file CountryCodes.csv.\n",
    "\n",
    "Citizenship: The United States citizenship status of the interviewee.\n",
    "\n",
    "EmploymentStatus: The status of employment of the interviewee.\n",
    "\n",
    "Industry: The industry of employment of the interviewee (only available if they are employed)."
   ]
  },
  {
   "cell_type": "code",
   "execution_count": 36,
   "metadata": {
    "tags": []
   },
   "outputs": [],
   "source": [
    "import pandas as pd \n",
    "import matplotlib.pyplot as plt"
   ]
  },
  {
   "cell_type": "markdown",
   "metadata": {},
   "source": [
    "#### Problem 1.1 - Loading and Summarizing the Dataset\n",
    "\n",
    "Load the dataset from CPSData.csv into a data frame called CPS, and view the dataset with the summary() and str() commands.\n",
    "\n",
    "How many interviewees are in the dataset?"
   ]
  },
  {
   "cell_type": "code",
   "execution_count": 3,
   "metadata": {
    "tags": []
   },
   "outputs": [],
   "source": [
    "CPS = pd.read_csv('CPSData.csv')"
   ]
  },
  {
   "cell_type": "code",
   "execution_count": 4,
   "metadata": {
    "tags": []
   },
   "outputs": [
    {
     "data": {
      "text/html": [
       "<div>\n",
       "<style scoped>\n",
       "    .dataframe tbody tr th:only-of-type {\n",
       "        vertical-align: middle;\n",
       "    }\n",
       "\n",
       "    .dataframe tbody tr th {\n",
       "        vertical-align: top;\n",
       "    }\n",
       "\n",
       "    .dataframe thead th {\n",
       "        text-align: right;\n",
       "    }\n",
       "</style>\n",
       "<table border=\"1\" class=\"dataframe\">\n",
       "  <thead>\n",
       "    <tr style=\"text-align: right;\">\n",
       "      <th></th>\n",
       "      <th>PeopleInHousehold</th>\n",
       "      <th>MetroAreaCode</th>\n",
       "      <th>Age</th>\n",
       "      <th>Hispanic</th>\n",
       "      <th>CountryOfBirthCode</th>\n",
       "    </tr>\n",
       "  </thead>\n",
       "  <tbody>\n",
       "    <tr>\n",
       "      <th>count</th>\n",
       "      <td>131302.000000</td>\n",
       "      <td>97064.000000</td>\n",
       "      <td>131302.000000</td>\n",
       "      <td>131302.000000</td>\n",
       "      <td>131302.000000</td>\n",
       "    </tr>\n",
       "    <tr>\n",
       "      <th>mean</th>\n",
       "      <td>3.284276</td>\n",
       "      <td>35074.709264</td>\n",
       "      <td>38.829226</td>\n",
       "      <td>0.139328</td>\n",
       "      <td>82.684079</td>\n",
       "    </tr>\n",
       "    <tr>\n",
       "      <th>std</th>\n",
       "      <td>1.700173</td>\n",
       "      <td>16551.637597</td>\n",
       "      <td>22.897130</td>\n",
       "      <td>0.346289</td>\n",
       "      <td>75.476511</td>\n",
       "    </tr>\n",
       "    <tr>\n",
       "      <th>min</th>\n",
       "      <td>1.000000</td>\n",
       "      <td>10420.000000</td>\n",
       "      <td>0.000000</td>\n",
       "      <td>0.000000</td>\n",
       "      <td>57.000000</td>\n",
       "    </tr>\n",
       "    <tr>\n",
       "      <th>25%</th>\n",
       "      <td>2.000000</td>\n",
       "      <td>21780.000000</td>\n",
       "      <td>19.000000</td>\n",
       "      <td>0.000000</td>\n",
       "      <td>57.000000</td>\n",
       "    </tr>\n",
       "    <tr>\n",
       "      <th>50%</th>\n",
       "      <td>3.000000</td>\n",
       "      <td>34740.000000</td>\n",
       "      <td>39.000000</td>\n",
       "      <td>0.000000</td>\n",
       "      <td>57.000000</td>\n",
       "    </tr>\n",
       "    <tr>\n",
       "      <th>75%</th>\n",
       "      <td>4.000000</td>\n",
       "      <td>41860.000000</td>\n",
       "      <td>57.000000</td>\n",
       "      <td>0.000000</td>\n",
       "      <td>57.000000</td>\n",
       "    </tr>\n",
       "    <tr>\n",
       "      <th>max</th>\n",
       "      <td>15.000000</td>\n",
       "      <td>79600.000000</td>\n",
       "      <td>85.000000</td>\n",
       "      <td>1.000000</td>\n",
       "      <td>555.000000</td>\n",
       "    </tr>\n",
       "  </tbody>\n",
       "</table>\n",
       "</div>"
      ],
      "text/plain": [
       "       PeopleInHousehold  MetroAreaCode            Age       Hispanic  \\\n",
       "count      131302.000000   97064.000000  131302.000000  131302.000000   \n",
       "mean            3.284276   35074.709264      38.829226       0.139328   \n",
       "std             1.700173   16551.637597      22.897130       0.346289   \n",
       "min             1.000000   10420.000000       0.000000       0.000000   \n",
       "25%             2.000000   21780.000000      19.000000       0.000000   \n",
       "50%             3.000000   34740.000000      39.000000       0.000000   \n",
       "75%             4.000000   41860.000000      57.000000       0.000000   \n",
       "max            15.000000   79600.000000      85.000000       1.000000   \n",
       "\n",
       "       CountryOfBirthCode  \n",
       "count       131302.000000  \n",
       "mean            82.684079  \n",
       "std             75.476511  \n",
       "min             57.000000  \n",
       "25%             57.000000  \n",
       "50%             57.000000  \n",
       "75%             57.000000  \n",
       "max            555.000000  "
      ]
     },
     "execution_count": 4,
     "metadata": {},
     "output_type": "execute_result"
    }
   ],
   "source": [
    "CPS.describe()"
   ]
  },
  {
   "cell_type": "code",
   "execution_count": 5,
   "metadata": {
    "tags": []
   },
   "outputs": [
    {
     "name": "stdout",
     "output_type": "stream",
     "text": [
      "<class 'pandas.core.frame.DataFrame'>\n",
      "RangeIndex: 131302 entries, 0 to 131301\n",
      "Data columns (total 14 columns):\n",
      " #   Column              Non-Null Count   Dtype  \n",
      "---  ------              --------------   -----  \n",
      " 0   PeopleInHousehold   131302 non-null  int64  \n",
      " 1   Region              131302 non-null  object \n",
      " 2   State               131302 non-null  object \n",
      " 3   MetroAreaCode       97064 non-null   float64\n",
      " 4   Age                 131302 non-null  int64  \n",
      " 5   Married             105964 non-null  object \n",
      " 6   Sex                 131302 non-null  object \n",
      " 7   Education           105964 non-null  object \n",
      " 8   Race                131302 non-null  object \n",
      " 9   Hispanic            131302 non-null  int64  \n",
      " 10  CountryOfBirthCode  131302 non-null  int64  \n",
      " 11  Citizenship         131302 non-null  object \n",
      " 12  EmploymentStatus    105513 non-null  object \n",
      " 13  Industry            66242 non-null   object \n",
      "dtypes: float64(1), int64(4), object(9)\n",
      "memory usage: 14.0+ MB\n"
     ]
    }
   ],
   "source": [
    "CPS.info()"
   ]
  },
  {
   "cell_type": "code",
   "execution_count": 6,
   "metadata": {
    "tags": []
   },
   "outputs": [
    {
     "data": {
      "text/plain": [
       "131302"
      ]
     },
     "execution_count": 6,
     "metadata": {},
     "output_type": "execute_result"
    }
   ],
   "source": [
    "CPS.shape[0]"
   ]
  },
  {
   "cell_type": "markdown",
   "metadata": {},
   "source": [
    "#### Problem 1.2 - Loading and Summarizing the Dataset\n",
    "\n",
    "Among the interviewees with a value reported for the Industry variable, what is the most common industry of employment? Please enter the name exactly how you see it."
   ]
  },
  {
   "cell_type": "code",
   "execution_count": 7,
   "metadata": {
    "tags": []
   },
   "outputs": [
    {
     "data": {
      "text/plain": [
       "Educational and health services                15017\n",
       "Trade                                           8933\n",
       "Professional and business services              7519\n",
       "Manufacturing                                   6791\n",
       "Leisure and hospitality                         6364\n",
       "Construction                                    4387\n",
       "Financial                                       4347\n",
       "Transportation and utilities                    3260\n",
       "Other services                                  3224\n",
       "Public administration                           3186\n",
       "Information                                     1328\n",
       "Agriculture, forestry, fishing, and hunting     1307\n",
       "Mining                                           550\n",
       "Armed forces                                      29\n",
       "Name: Industry, dtype: int64"
      ]
     },
     "execution_count": 7,
     "metadata": {},
     "output_type": "execute_result"
    }
   ],
   "source": [
    "CPS.Industry.value_counts()"
   ]
  },
  {
   "cell_type": "code",
   "execution_count": null,
   "metadata": {
    "tags": []
   },
   "outputs": [],
   "source": [
    "Educational and health services"
   ]
  },
  {
   "cell_type": "markdown",
   "metadata": {},
   "source": [
    "#### Problem 1.3 - Loading and Summarizing the Dataset\n",
    "\n",
    "Recall from the homework assignment \"The Analytical Detective\" that you can call the sort() function on the output of the table() function to obtain a sorted breakdown of a variable. For instance, sort(table(CPS$Region)) sorts the regions by the number of interviewees from that region.\n",
    "\n",
    "Which state has the fewest interviewees?"
   ]
  },
  {
   "cell_type": "code",
   "execution_count": 9,
   "metadata": {
    "tags": []
   },
   "outputs": [
    {
     "data": {
      "text/plain": [
       "New Mexico               1102\n",
       "Montana                  1214\n",
       "Mississippi              1230\n",
       "Alabama                  1376\n",
       "West Virginia            1409\n",
       "Arkansas                 1421\n",
       "Louisiana                1450\n",
       "Idaho                    1518\n",
       "Oklahoma                 1523\n",
       "Arizona                  1528\n",
       "Alaska                   1590\n",
       "Wyoming                  1624\n",
       "North Dakota             1645\n",
       "South Carolina           1658\n",
       "Tennessee                1784\n",
       "District of Columbia     1791\n",
       "Kentucky                 1841\n",
       "Utah                     1842\n",
       "Nevada                   1856\n",
       "Vermont                  1890\n",
       "Kansas                   1935\n",
       "Oregon                   1943\n",
       "Nebraska                 1949\n",
       "Massachusetts            1987\n",
       "South Dakota             2000\n",
       "Indiana                  2004\n",
       "Hawaii                   2099\n",
       "Missouri                 2145\n",
       "Rhode Island             2209\n",
       "Delaware                 2214\n",
       "Maine                    2263\n",
       "Washington               2366\n",
       "Iowa                     2528\n",
       "New Jersey               2567\n",
       "North Carolina           2619\n",
       "New Hampshire            2662\n",
       "Wisconsin                2686\n",
       "Georgia                  2807\n",
       "Connecticut              2836\n",
       "Colorado                 2925\n",
       "Virginia                 2953\n",
       "Michigan                 3063\n",
       "Minnesota                3139\n",
       "Maryland                 3200\n",
       "Ohio                     3678\n",
       "Illinois                 3912\n",
       "Pennsylvania             3930\n",
       "Florida                  5149\n",
       "New York                 5595\n",
       "Texas                    7077\n",
       "California              11570\n",
       "Name: State, dtype: int64"
      ]
     },
     "execution_count": 9,
     "metadata": {},
     "output_type": "execute_result"
    }
   ],
   "source": [
    "CPS.State.value_counts(ascending=True)"
   ]
  },
  {
   "cell_type": "markdown",
   "metadata": {},
   "source": [
    "Which state has the largest number of interviewees?"
   ]
  },
  {
   "cell_type": "code",
   "execution_count": 18,
   "metadata": {
    "tags": []
   },
   "outputs": [
    {
     "data": {
      "text/plain": [
       "'California'"
      ]
     },
     "execution_count": 18,
     "metadata": {},
     "output_type": "execute_result"
    }
   ],
   "source": [
    "CPS.State.value_counts(ascending=True).index.tolist()[-1]"
   ]
  },
  {
   "cell_type": "markdown",
   "metadata": {},
   "source": [
    "#### Problem 1.4 - Loading and Summarizing the Dataset\n",
    "\n",
    "What proportion of interviewees are citizens of the United States?"
   ]
  },
  {
   "cell_type": "code",
   "execution_count": 20,
   "metadata": {
    "tags": []
   },
   "outputs": [
    {
     "data": {
      "text/plain": [
       "Citizen, Native         0.888326\n",
       "Non-Citizen             0.057806\n",
       "Citizen, Naturalized    0.053868\n",
       "Name: Citizenship, dtype: float64"
      ]
     },
     "execution_count": 20,
     "metadata": {},
     "output_type": "execute_result"
    }
   ],
   "source": [
    "CPS.Citizenship.value_counts()/len(CPS)"
   ]
  },
  {
   "cell_type": "code",
   "execution_count": 27,
   "metadata": {
    "tags": []
   },
   "outputs": [
    {
     "data": {
      "text/plain": [
       "0.9421943306271039"
      ]
     },
     "execution_count": 27,
     "metadata": {},
     "output_type": "execute_result"
    }
   ],
   "source": [
    "1 - CPS['Citizenship'][CPS['Citizenship'] == 'Non-Citizen'].value_counts()[0]/len(CPS)"
   ]
  },
  {
   "cell_type": "markdown",
   "metadata": {},
   "source": [
    "#### Problem 1.5 - Loading and Summarizing the Dataset\n",
    "\n",
    "The CPS differentiates between race (with possible values American Indian, Asian, Black, Pacific Islander, White, or Multiracial) and ethnicity. A number of interviewees are of Hispanic ethnicity, as captured by the Hispanic variable. For which races are there at least 250 interviewees in the CPS dataset of Hispanic ethnicity? (Select all that apply.)"
   ]
  },
  {
   "cell_type": "code",
   "execution_count": 28,
   "metadata": {
    "tags": []
   },
   "outputs": [
    {
     "data": {
      "text/html": [
       "<div>\n",
       "<style scoped>\n",
       "    .dataframe tbody tr th:only-of-type {\n",
       "        vertical-align: middle;\n",
       "    }\n",
       "\n",
       "    .dataframe tbody tr th {\n",
       "        vertical-align: top;\n",
       "    }\n",
       "\n",
       "    .dataframe thead th {\n",
       "        text-align: right;\n",
       "    }\n",
       "</style>\n",
       "<table border=\"1\" class=\"dataframe\">\n",
       "  <thead>\n",
       "    <tr style=\"text-align: right;\">\n",
       "      <th>Race</th>\n",
       "      <th>American Indian</th>\n",
       "      <th>Asian</th>\n",
       "      <th>Black</th>\n",
       "      <th>Multiracial</th>\n",
       "      <th>Pacific Islander</th>\n",
       "      <th>White</th>\n",
       "    </tr>\n",
       "    <tr>\n",
       "      <th>Hispanic</th>\n",
       "      <th></th>\n",
       "      <th></th>\n",
       "      <th></th>\n",
       "      <th></th>\n",
       "      <th></th>\n",
       "      <th></th>\n",
       "    </tr>\n",
       "  </thead>\n",
       "  <tbody>\n",
       "    <tr>\n",
       "      <th>0</th>\n",
       "      <td>1129</td>\n",
       "      <td>6407</td>\n",
       "      <td>13292</td>\n",
       "      <td>2449</td>\n",
       "      <td>541</td>\n",
       "      <td>89190</td>\n",
       "    </tr>\n",
       "    <tr>\n",
       "      <th>1</th>\n",
       "      <td>304</td>\n",
       "      <td>113</td>\n",
       "      <td>621</td>\n",
       "      <td>448</td>\n",
       "      <td>77</td>\n",
       "      <td>16731</td>\n",
       "    </tr>\n",
       "  </tbody>\n",
       "</table>\n",
       "</div>"
      ],
      "text/plain": [
       "Race      American Indian  Asian  Black  Multiracial  Pacific Islander  White\n",
       "Hispanic                                                                     \n",
       "0                    1129   6407  13292         2449               541  89190\n",
       "1                     304    113    621          448                77  16731"
      ]
     },
     "execution_count": 28,
     "metadata": {},
     "output_type": "execute_result"
    }
   ],
   "source": [
    "pd.crosstab(CPS.Hispanic, CPS.Race)"
   ]
  },
  {
   "cell_type": "code",
   "execution_count": 29,
   "metadata": {
    "tags": []
   },
   "outputs": [
    {
     "data": {
      "text/html": [
       "<div>\n",
       "<style scoped>\n",
       "    .dataframe tbody tr th:only-of-type {\n",
       "        vertical-align: middle;\n",
       "    }\n",
       "\n",
       "    .dataframe tbody tr th {\n",
       "        vertical-align: top;\n",
       "    }\n",
       "\n",
       "    .dataframe thead th {\n",
       "        text-align: right;\n",
       "    }\n",
       "</style>\n",
       "<table border=\"1\" class=\"dataframe\">\n",
       "  <thead>\n",
       "    <tr style=\"text-align: right;\">\n",
       "      <th>Race</th>\n",
       "      <th>American Indian</th>\n",
       "      <th>Asian</th>\n",
       "      <th>Black</th>\n",
       "      <th>Multiracial</th>\n",
       "      <th>Pacific Islander</th>\n",
       "      <th>White</th>\n",
       "    </tr>\n",
       "    <tr>\n",
       "      <th>Hispanic</th>\n",
       "      <th></th>\n",
       "      <th></th>\n",
       "      <th></th>\n",
       "      <th></th>\n",
       "      <th></th>\n",
       "      <th></th>\n",
       "    </tr>\n",
       "  </thead>\n",
       "  <tbody>\n",
       "    <tr>\n",
       "      <th>0</th>\n",
       "      <td>True</td>\n",
       "      <td>True</td>\n",
       "      <td>True</td>\n",
       "      <td>True</td>\n",
       "      <td>True</td>\n",
       "      <td>True</td>\n",
       "    </tr>\n",
       "    <tr>\n",
       "      <th>1</th>\n",
       "      <td>True</td>\n",
       "      <td>False</td>\n",
       "      <td>True</td>\n",
       "      <td>True</td>\n",
       "      <td>False</td>\n",
       "      <td>True</td>\n",
       "    </tr>\n",
       "  </tbody>\n",
       "</table>\n",
       "</div>"
      ],
      "text/plain": [
       "Race      American Indian  Asian  Black  Multiracial  Pacific Islander  White\n",
       "Hispanic                                                                     \n",
       "0                    True   True   True         True              True   True\n",
       "1                    True  False   True         True             False   True"
      ]
     },
     "execution_count": 29,
     "metadata": {},
     "output_type": "execute_result"
    }
   ],
   "source": [
    "pd.crosstab(CPS.Hispanic, CPS.Race) > 250"
   ]
  },
  {
   "cell_type": "code",
   "execution_count": 31,
   "metadata": {
    "tags": []
   },
   "outputs": [
    {
     "data": {
      "text/html": [
       "<div>\n",
       "<style scoped>\n",
       "    .dataframe tbody tr th:only-of-type {\n",
       "        vertical-align: middle;\n",
       "    }\n",
       "\n",
       "    .dataframe tbody tr th {\n",
       "        vertical-align: top;\n",
       "    }\n",
       "\n",
       "    .dataframe thead th {\n",
       "        text-align: right;\n",
       "    }\n",
       "</style>\n",
       "<table border=\"1\" class=\"dataframe\">\n",
       "  <thead>\n",
       "    <tr style=\"text-align: right;\">\n",
       "      <th>Race</th>\n",
       "      <th>American Indian</th>\n",
       "      <th>Asian</th>\n",
       "      <th>Black</th>\n",
       "      <th>Multiracial</th>\n",
       "      <th>Pacific Islander</th>\n",
       "      <th>White</th>\n",
       "    </tr>\n",
       "    <tr>\n",
       "      <th>Hispanic</th>\n",
       "      <th></th>\n",
       "      <th></th>\n",
       "      <th></th>\n",
       "      <th></th>\n",
       "      <th></th>\n",
       "      <th></th>\n",
       "    </tr>\n",
       "  </thead>\n",
       "  <tbody>\n",
       "    <tr>\n",
       "      <th>0</th>\n",
       "      <td>0.859850</td>\n",
       "      <td>4.879591</td>\n",
       "      <td>10.123227</td>\n",
       "      <td>1.865166</td>\n",
       "      <td>0.412027</td>\n",
       "      <td>67.927374</td>\n",
       "    </tr>\n",
       "    <tr>\n",
       "      <th>1</th>\n",
       "      <td>0.231527</td>\n",
       "      <td>0.086061</td>\n",
       "      <td>0.472955</td>\n",
       "      <td>0.341198</td>\n",
       "      <td>0.058643</td>\n",
       "      <td>12.742380</td>\n",
       "    </tr>\n",
       "  </tbody>\n",
       "</table>\n",
       "</div>"
      ],
      "text/plain": [
       "Race      American Indian     Asian      Black  Multiracial  Pacific Islander  \\\n",
       "Hispanic                                                                        \n",
       "0                0.859850  4.879591  10.123227     1.865166          0.412027   \n",
       "1                0.231527  0.086061   0.472955     0.341198          0.058643   \n",
       "\n",
       "Race          White  \n",
       "Hispanic             \n",
       "0         67.927374  \n",
       "1         12.742380  "
      ]
     },
     "execution_count": 31,
     "metadata": {},
     "output_type": "execute_result"
    }
   ],
   "source": [
    "( pd.crosstab(CPS.Hispanic, CPS.Race) / len(CPS) ) * 100"
   ]
  },
  {
   "cell_type": "markdown",
   "metadata": {},
   "source": [
    "#### Problem 2.1 - Evaluating Missing Values\n",
    "\n",
    "Which variables have at least one interviewee with a missing (NA) value? (Select all that apply.)"
   ]
  },
  {
   "cell_type": "code",
   "execution_count": 32,
   "metadata": {
    "tags": []
   },
   "outputs": [
    {
     "data": {
      "text/plain": [
       "PeopleInHousehold         0\n",
       "Region                    0\n",
       "State                     0\n",
       "MetroAreaCode         34238\n",
       "Age                       0\n",
       "Married               25338\n",
       "Sex                       0\n",
       "Education             25338\n",
       "Race                      0\n",
       "Hispanic                  0\n",
       "CountryOfBirthCode        0\n",
       "Citizenship               0\n",
       "EmploymentStatus      25789\n",
       "Industry              65060\n",
       "dtype: int64"
      ]
     },
     "execution_count": 32,
     "metadata": {},
     "output_type": "execute_result"
    }
   ],
   "source": [
    " CPS.isna().sum()"
   ]
  },
  {
   "cell_type": "markdown",
   "metadata": {},
   "source": [
    "#### Problem 2.2 - Evaluating Missing Values\n",
    "\n",
    "Often when evaluating a new dataset, we try to identify if there is a pattern in the missing values in the dataset. We will try to determine if there is a pattern in the missing values of the Married variable. The function is.na(CPS$Married) returns a vector of TRUE/FALSE values for whether the Married variable is missing. We can see the breakdown of whether Married is missing based on the reported value of the Region variable with the function table(CPS$Region, is.na(CPS$Married)). Which is the most accurate:"
   ]
  },
  {
   "cell_type": "code",
   "execution_count": 34,
   "metadata": {
    "tags": []
   },
   "outputs": [
    {
     "data": {
      "text/html": [
       "<div>\n",
       "<style scoped>\n",
       "    .dataframe tbody tr th:only-of-type {\n",
       "        vertical-align: middle;\n",
       "    }\n",
       "\n",
       "    .dataframe tbody tr th {\n",
       "        vertical-align: top;\n",
       "    }\n",
       "\n",
       "    .dataframe thead th {\n",
       "        text-align: right;\n",
       "    }\n",
       "</style>\n",
       "<table border=\"1\" class=\"dataframe\">\n",
       "  <thead>\n",
       "    <tr style=\"text-align: right;\">\n",
       "      <th>Married</th>\n",
       "      <th>False</th>\n",
       "      <th>True</th>\n",
       "    </tr>\n",
       "    <tr>\n",
       "      <th>Region</th>\n",
       "      <th></th>\n",
       "      <th></th>\n",
       "    </tr>\n",
       "  </thead>\n",
       "  <tbody>\n",
       "    <tr>\n",
       "      <th>Midwest</th>\n",
       "      <td>24609</td>\n",
       "      <td>6075</td>\n",
       "    </tr>\n",
       "    <tr>\n",
       "      <th>Northeast</th>\n",
       "      <td>21432</td>\n",
       "      <td>4507</td>\n",
       "    </tr>\n",
       "    <tr>\n",
       "      <th>South</th>\n",
       "      <td>33535</td>\n",
       "      <td>7967</td>\n",
       "    </tr>\n",
       "    <tr>\n",
       "      <th>West</th>\n",
       "      <td>26388</td>\n",
       "      <td>6789</td>\n",
       "    </tr>\n",
       "  </tbody>\n",
       "</table>\n",
       "</div>"
      ],
      "text/plain": [
       "Married    False  True \n",
       "Region                 \n",
       "Midwest    24609   6075\n",
       "Northeast  21432   4507\n",
       "South      33535   7967\n",
       "West       26388   6789"
      ]
     },
     "execution_count": 34,
     "metadata": {},
     "output_type": "execute_result"
    }
   ],
   "source": [
    "pd.crosstab(CPS.Region, CPS.Married.isna())"
   ]
  },
  {
   "cell_type": "code",
   "execution_count": 35,
   "metadata": {
    "tags": []
   },
   "outputs": [
    {
     "data": {
      "text/plain": [
       "South        0.316080\n",
       "West         0.252677\n",
       "Midwest      0.233690\n",
       "Northeast    0.197552\n",
       "Name: Region, dtype: float64"
      ]
     },
     "execution_count": 35,
     "metadata": {},
     "output_type": "execute_result"
    }
   ],
   "source": [
    " CPS.Region.value_counts() / CPS.Region.value_counts().sum()"
   ]
  },
  {
   "cell_type": "code",
   "execution_count": 38,
   "metadata": {
    "tags": []
   },
   "outputs": [
    {
     "data": {
      "text/html": [
       "<div>\n",
       "<style scoped>\n",
       "    .dataframe tbody tr th:only-of-type {\n",
       "        vertical-align: middle;\n",
       "    }\n",
       "\n",
       "    .dataframe tbody tr th {\n",
       "        vertical-align: top;\n",
       "    }\n",
       "\n",
       "    .dataframe thead th {\n",
       "        text-align: right;\n",
       "    }\n",
       "</style>\n",
       "<table border=\"1\" class=\"dataframe\">\n",
       "  <thead>\n",
       "    <tr style=\"text-align: right;\">\n",
       "      <th>Region</th>\n",
       "      <th>Midwest</th>\n",
       "      <th>Northeast</th>\n",
       "      <th>South</th>\n",
       "      <th>West</th>\n",
       "    </tr>\n",
       "    <tr>\n",
       "      <th>Married_is_NA</th>\n",
       "      <th></th>\n",
       "      <th></th>\n",
       "      <th></th>\n",
       "      <th></th>\n",
       "    </tr>\n",
       "  </thead>\n",
       "  <tbody>\n",
       "    <tr>\n",
       "      <th>False</th>\n",
       "      <td>0.802014</td>\n",
       "      <td>0.826246</td>\n",
       "      <td>0.808033</td>\n",
       "      <td>0.79537</td>\n",
       "    </tr>\n",
       "    <tr>\n",
       "      <th>True</th>\n",
       "      <td>0.197986</td>\n",
       "      <td>0.173754</td>\n",
       "      <td>0.191967</td>\n",
       "      <td>0.20463</td>\n",
       "    </tr>\n",
       "  </tbody>\n",
       "</table>\n",
       "</div>"
      ],
      "text/plain": [
       "Region          Midwest  Northeast     South     West\n",
       "Married_is_NA                                        \n",
       "False          0.802014   0.826246  0.808033  0.79537\n",
       "True           0.197986   0.173754  0.191967  0.20463"
      ]
     },
     "execution_count": 38,
     "metadata": {},
     "output_type": "execute_result"
    }
   ],
   "source": [
    "CPS['Married_is_NA'] = CPS['Married'].isna()\n",
    "\n",
    "# Crear una tabla de contingencia\n",
    "contingency_table = pd.crosstab(CPS['Married_is_NA'], CPS['Region'], normalize='columns')\n",
    "contingency_table"
   ]
  },
  {
   "cell_type": "code",
   "execution_count": 39,
   "metadata": {
    "tags": []
   },
   "outputs": [
    {
     "data": {
      "image/png": "[encoded data removed]",
      "text/plain": [
       "<Figure size 1000x600 with 1 Axes>"
      ]
     },
     "metadata": {},
     "output_type": "display_data"
    }
   ],
   "source": [
    "proportions = contingency_table.loc[True]\n",
    "\n",
    "proportions.plot(kind='bar', figsize=(10, 6))\n",
    "plt.title('Proporciones de NA en \"Married\" por \"Region\"')\n",
    "plt.xlabel('Region')\n",
    "plt.ylabel('Proporción de NA en Married')\n",
    "plt.xticks(rotation=45) \n",
    "plt.show()"
   ]
  },
  {
   "cell_type": "markdown",
   "metadata": {},
   "source": [
    "#### Problem 2.3 - Evaluating Missing Values\n",
    "\n",
    "As mentioned in the variable descriptions, MetroAreaCode is missing if an interviewee does not live in a metropolitan area. Using the same technique as in the previous question, answer the following questions about people who live in non-metropolitan areas.\n",
    "\n",
    "How many states had all interviewees living in a non-metropolitan area (aka they have a missing MetroAreaCode value)? For this question, treat the District of Columbia as a state (even though it is not technically a state)."
   ]
  },
  {
   "cell_type": "code",
   "execution_count": 40,
   "metadata": {
    "tags": []
   },
   "outputs": [
    {
     "data": {
      "text/html": [
       "<div>\n",
       "<style scoped>\n",
       "    .dataframe tbody tr th:only-of-type {\n",
       "        vertical-align: middle;\n",
       "    }\n",
       "\n",
       "    .dataframe tbody tr th {\n",
       "        vertical-align: top;\n",
       "    }\n",
       "\n",
       "    .dataframe thead th {\n",
       "        text-align: right;\n",
       "    }\n",
       "</style>\n",
       "<table border=\"1\" class=\"dataframe\">\n",
       "  <thead>\n",
       "    <tr style=\"text-align: right;\">\n",
       "      <th>MetroAreaCode</th>\n",
       "      <th>False</th>\n",
       "      <th>True</th>\n",
       "    </tr>\n",
       "    <tr>\n",
       "      <th>State</th>\n",
       "      <th></th>\n",
       "      <th></th>\n",
       "    </tr>\n",
       "  </thead>\n",
       "  <tbody>\n",
       "    <tr>\n",
       "      <th>Alabama</th>\n",
       "      <td>1020</td>\n",
       "      <td>356</td>\n",
       "    </tr>\n",
       "    <tr>\n",
       "      <th>Alaska</th>\n",
       "      <td>0</td>\n",
       "      <td>1590</td>\n",
       "    </tr>\n",
       "    <tr>\n",
       "      <th>Arizona</th>\n",
       "      <td>1327</td>\n",
       "      <td>201</td>\n",
       "    </tr>\n",
       "    <tr>\n",
       "      <th>Arkansas</th>\n",
       "      <td>724</td>\n",
       "      <td>697</td>\n",
       "    </tr>\n",
       "    <tr>\n",
       "      <th>California</th>\n",
       "      <td>11333</td>\n",
       "      <td>237</td>\n",
       "    </tr>\n",
       "    <tr>\n",
       "      <th>Colorado</th>\n",
       "      <td>2545</td>\n",
       "      <td>380</td>\n",
       "    </tr>\n",
       "    <tr>\n",
       "      <th>Connecticut</th>\n",
       "      <td>2593</td>\n",
       "      <td>243</td>\n",
       "    </tr>\n",
       "    <tr>\n",
       "      <th>Delaware</th>\n",
       "      <td>1696</td>\n",
       "      <td>518</td>\n",
       "    </tr>\n",
       "    <tr>\n",
       "      <th>District of Columbia</th>\n",
       "      <td>1791</td>\n",
       "      <td>0</td>\n",
       "    </tr>\n",
       "    <tr>\n",
       "      <th>Florida</th>\n",
       "      <td>4947</td>\n",
       "      <td>202</td>\n",
       "    </tr>\n",
       "    <tr>\n",
       "      <th>Georgia</th>\n",
       "      <td>2250</td>\n",
       "      <td>557</td>\n",
       "    </tr>\n",
       "    <tr>\n",
       "      <th>Hawaii</th>\n",
       "      <td>1576</td>\n",
       "      <td>523</td>\n",
       "    </tr>\n",
       "    <tr>\n",
       "      <th>Idaho</th>\n",
       "      <td>761</td>\n",
       "      <td>757</td>\n",
       "    </tr>\n",
       "    <tr>\n",
       "      <th>Illinois</th>\n",
       "      <td>3473</td>\n",
       "      <td>439</td>\n",
       "    </tr>\n",
       "    <tr>\n",
       "      <th>Indiana</th>\n",
       "      <td>1420</td>\n",
       "      <td>584</td>\n",
       "    </tr>\n",
       "    <tr>\n",
       "      <th>Iowa</th>\n",
       "      <td>1297</td>\n",
       "      <td>1231</td>\n",
       "    </tr>\n",
       "    <tr>\n",
       "      <th>Kansas</th>\n",
       "      <td>1234</td>\n",
       "      <td>701</td>\n",
       "    </tr>\n",
       "    <tr>\n",
       "      <th>Kentucky</th>\n",
       "      <td>908</td>\n",
       "      <td>933</td>\n",
       "    </tr>\n",
       "    <tr>\n",
       "      <th>Louisiana</th>\n",
       "      <td>1216</td>\n",
       "      <td>234</td>\n",
       "    </tr>\n",
       "    <tr>\n",
       "      <th>Maine</th>\n",
       "      <td>909</td>\n",
       "      <td>1354</td>\n",
       "    </tr>\n",
       "    <tr>\n",
       "      <th>Maryland</th>\n",
       "      <td>2978</td>\n",
       "      <td>222</td>\n",
       "    </tr>\n",
       "    <tr>\n",
       "      <th>Massachusetts</th>\n",
       "      <td>1858</td>\n",
       "      <td>129</td>\n",
       "    </tr>\n",
       "    <tr>\n",
       "      <th>Michigan</th>\n",
       "      <td>2517</td>\n",
       "      <td>546</td>\n",
       "    </tr>\n",
       "    <tr>\n",
       "      <th>Minnesota</th>\n",
       "      <td>2150</td>\n",
       "      <td>989</td>\n",
       "    </tr>\n",
       "    <tr>\n",
       "      <th>Mississippi</th>\n",
       "      <td>376</td>\n",
       "      <td>854</td>\n",
       "    </tr>\n",
       "    <tr>\n",
       "      <th>Missouri</th>\n",
       "      <td>1440</td>\n",
       "      <td>705</td>\n",
       "    </tr>\n",
       "    <tr>\n",
       "      <th>Montana</th>\n",
       "      <td>199</td>\n",
       "      <td>1015</td>\n",
       "    </tr>\n",
       "    <tr>\n",
       "      <th>Nebraska</th>\n",
       "      <td>816</td>\n",
       "      <td>1133</td>\n",
       "    </tr>\n",
       "    <tr>\n",
       "      <th>Nevada</th>\n",
       "      <td>1609</td>\n",
       "      <td>247</td>\n",
       "    </tr>\n",
       "    <tr>\n",
       "      <th>New Hampshire</th>\n",
       "      <td>1148</td>\n",
       "      <td>1514</td>\n",
       "    </tr>\n",
       "    <tr>\n",
       "      <th>New Jersey</th>\n",
       "      <td>2567</td>\n",
       "      <td>0</td>\n",
       "    </tr>\n",
       "    <tr>\n",
       "      <th>New Mexico</th>\n",
       "      <td>832</td>\n",
       "      <td>270</td>\n",
       "    </tr>\n",
       "    <tr>\n",
       "      <th>New York</th>\n",
       "      <td>5144</td>\n",
       "      <td>451</td>\n",
       "    </tr>\n",
       "    <tr>\n",
       "      <th>North Carolina</th>\n",
       "      <td>1642</td>\n",
       "      <td>977</td>\n",
       "    </tr>\n",
       "    <tr>\n",
       "      <th>North Dakota</th>\n",
       "      <td>432</td>\n",
       "      <td>1213</td>\n",
       "    </tr>\n",
       "    <tr>\n",
       "      <th>Ohio</th>\n",
       "      <td>2754</td>\n",
       "      <td>924</td>\n",
       "    </tr>\n",
       "    <tr>\n",
       "      <th>Oklahoma</th>\n",
       "      <td>1024</td>\n",
       "      <td>499</td>\n",
       "    </tr>\n",
       "    <tr>\n",
       "      <th>Oregon</th>\n",
       "      <td>1519</td>\n",
       "      <td>424</td>\n",
       "    </tr>\n",
       "    <tr>\n",
       "      <th>Pennsylvania</th>\n",
       "      <td>3245</td>\n",
       "      <td>685</td>\n",
       "    </tr>\n",
       "    <tr>\n",
       "      <th>Rhode Island</th>\n",
       "      <td>2209</td>\n",
       "      <td>0</td>\n",
       "    </tr>\n",
       "    <tr>\n",
       "      <th>South Carolina</th>\n",
       "      <td>1139</td>\n",
       "      <td>519</td>\n",
       "    </tr>\n",
       "    <tr>\n",
       "      <th>South Dakota</th>\n",
       "      <td>595</td>\n",
       "      <td>1405</td>\n",
       "    </tr>\n",
       "    <tr>\n",
       "      <th>Tennessee</th>\n",
       "      <td>1149</td>\n",
       "      <td>635</td>\n",
       "    </tr>\n",
       "    <tr>\n",
       "      <th>Texas</th>\n",
       "      <td>6060</td>\n",
       "      <td>1017</td>\n",
       "    </tr>\n",
       "    <tr>\n",
       "      <th>Utah</th>\n",
       "      <td>1455</td>\n",
       "      <td>387</td>\n",
       "    </tr>\n",
       "    <tr>\n",
       "      <th>Vermont</th>\n",
       "      <td>657</td>\n",
       "      <td>1233</td>\n",
       "    </tr>\n",
       "    <tr>\n",
       "      <th>Virginia</th>\n",
       "      <td>2367</td>\n",
       "      <td>586</td>\n",
       "    </tr>\n",
       "    <tr>\n",
       "      <th>Washington</th>\n",
       "      <td>1937</td>\n",
       "      <td>429</td>\n",
       "    </tr>\n",
       "    <tr>\n",
       "      <th>West Virginia</th>\n",
       "      <td>344</td>\n",
       "      <td>1065</td>\n",
       "    </tr>\n",
       "    <tr>\n",
       "      <th>Wisconsin</th>\n",
       "      <td>1882</td>\n",
       "      <td>804</td>\n",
       "    </tr>\n",
       "    <tr>\n",
       "      <th>Wyoming</th>\n",
       "      <td>0</td>\n",
       "      <td>1624</td>\n",
       "    </tr>\n",
       "  </tbody>\n",
       "</table>\n",
       "</div>"
      ],
      "text/plain": [
       "MetroAreaCode         False  True \n",
       "State                             \n",
       "Alabama                1020    356\n",
       "Alaska                    0   1590\n",
       "Arizona                1327    201\n",
       "Arkansas                724    697\n",
       "California            11333    237\n",
       "Colorado               2545    380\n",
       "Connecticut            2593    243\n",
       "Delaware               1696    518\n",
       "District of Columbia   1791      0\n",
       "Florida                4947    202\n",
       "Georgia                2250    557\n",
       "Hawaii                 1576    523\n",
       "Idaho                   761    757\n",
       "Illinois               3473    439\n",
       "Indiana                1420    584\n",
       "Iowa                   1297   1231\n",
       "Kansas                 1234    701\n",
       "Kentucky                908    933\n",
       "Louisiana              1216    234\n",
       "Maine                   909   1354\n",
       "Maryland               2978    222\n",
       "Massachusetts          1858    129\n",
       "Michigan               2517    546\n",
       "Minnesota              2150    989\n",
       "Mississippi             376    854\n",
       "Missouri               1440    705\n",
       "Montana                 199   1015\n",
       "Nebraska                816   1133\n",
       "Nevada                 1609    247\n",
       "New Hampshire          1148   1514\n",
       "New Jersey             2567      0\n",
       "New Mexico              832    270\n",
       "New York               5144    451\n",
       "North Carolina         1642    977\n",
       "North Dakota            432   1213\n",
       "Ohio                   2754    924\n",
       "Oklahoma               1024    499\n",
       "Oregon                 1519    424\n",
       "Pennsylvania           3245    685\n",
       "Rhode Island           2209      0\n",
       "South Carolina         1139    519\n",
       "South Dakota            595   1405\n",
       "Tennessee              1149    635\n",
       "Texas                  6060   1017\n",
       "Utah                   1455    387\n",
       "Vermont                 657   1233\n",
       "Virginia               2367    586\n",
       "Washington             1937    429\n",
       "West Virginia           344   1065\n",
       "Wisconsin              1882    804\n",
       "Wyoming                   0   1624"
      ]
     },
     "execution_count": 40,
     "metadata": {},
     "output_type": "execute_result"
    }
   ],
   "source": [
    "pd.crosstab(CPS.State, CPS.MetroAreaCode.isna())"
   ]
  },
  {
   "cell_type": "code",
   "execution_count": 43,
   "metadata": {
    "tags": []
   },
   "outputs": [],
   "source": [
    "crosstabStateMetroAreaCode = pd.crosstab(CPS.State, CPS.MetroAreaCode.isna())"
   ]
  },
  {
   "cell_type": "code",
   "execution_count": 51,
   "metadata": {
    "tags": []
   },
   "outputs": [
    {
     "data": {
      "text/html": [
       "<div>\n",
       "<style scoped>\n",
       "    .dataframe tbody tr th:only-of-type {\n",
       "        vertical-align: middle;\n",
       "    }\n",
       "\n",
       "    .dataframe tbody tr th {\n",
       "        vertical-align: top;\n",
       "    }\n",
       "\n",
       "    .dataframe thead th {\n",
       "        text-align: right;\n",
       "    }\n",
       "</style>\n",
       "<table border=\"1\" class=\"dataframe\">\n",
       "  <thead>\n",
       "    <tr style=\"text-align: right;\">\n",
       "      <th>MetroAreaCode</th>\n",
       "      <th>False</th>\n",
       "      <th>True</th>\n",
       "    </tr>\n",
       "    <tr>\n",
       "      <th>State</th>\n",
       "      <th></th>\n",
       "      <th></th>\n",
       "    </tr>\n",
       "  </thead>\n",
       "  <tbody>\n",
       "    <tr>\n",
       "      <th>District of Columbia</th>\n",
       "      <td>1791</td>\n",
       "      <td>0</td>\n",
       "    </tr>\n",
       "    <tr>\n",
       "      <th>New Jersey</th>\n",
       "      <td>2567</td>\n",
       "      <td>0</td>\n",
       "    </tr>\n",
       "    <tr>\n",
       "      <th>Rhode Island</th>\n",
       "      <td>2209</td>\n",
       "      <td>0</td>\n",
       "    </tr>\n",
       "  </tbody>\n",
       "</table>\n",
       "</div>"
      ],
      "text/plain": [
       "MetroAreaCode         False  True \n",
       "State                             \n",
       "District of Columbia   1791      0\n",
       "New Jersey             2567      0\n",
       "Rhode Island           2209      0"
      ]
     },
     "execution_count": 51,
     "metadata": {},
     "output_type": "execute_result"
    }
   ],
   "source": [
    "crosstabStateMetroAreaCode[crosstabStateMetroAreaCode[True] == 0]"
   ]
  },
  {
   "cell_type": "markdown",
   "metadata": {},
   "source": [
    "How many states had all interviewees living in a metropolitan area? Again, treat the District of Columbia as a state."
   ]
  },
  {
   "cell_type": "code",
   "execution_count": null,
   "metadata": {
    "collapsed": true,
    "jupyter": {
     "outputs_hidden": true
    }
   },
   "outputs": [],
   "source": [
    "3"
   ]
  },
  {
   "cell_type": "markdown",
   "metadata": {},
   "source": [
    "#### Problem 2.4 - Evaluating Missing Values\n",
    "\n",
    "Which region of the United States has the largest proportion of interviewees living in a non-metropolitan area?"
   ]
  },
  {
   "cell_type": "code",
   "execution_count": 52,
   "metadata": {
    "tags": []
   },
   "outputs": [],
   "source": [
    "crosstab_RegionAreaCodeNa = pd.crosstab(CPS.Region, CPS.MetroAreaCode.isna())"
   ]
  },
  {
   "cell_type": "code",
   "execution_count": 53,
   "metadata": {
    "tags": []
   },
   "outputs": [
    {
     "data": {
      "text/html": [
       "<div>\n",
       "<style scoped>\n",
       "    .dataframe tbody tr th:only-of-type {\n",
       "        vertical-align: middle;\n",
       "    }\n",
       "\n",
       "    .dataframe tbody tr th {\n",
       "        vertical-align: top;\n",
       "    }\n",
       "\n",
       "    .dataframe thead th {\n",
       "        text-align: right;\n",
       "    }\n",
       "</style>\n",
       "<table border=\"1\" class=\"dataframe\">\n",
       "  <thead>\n",
       "    <tr style=\"text-align: right;\">\n",
       "      <th>MetroAreaCode</th>\n",
       "      <th>False</th>\n",
       "      <th>True</th>\n",
       "    </tr>\n",
       "    <tr>\n",
       "      <th>Region</th>\n",
       "      <th></th>\n",
       "      <th></th>\n",
       "    </tr>\n",
       "  </thead>\n",
       "  <tbody>\n",
       "    <tr>\n",
       "      <th>Midwest</th>\n",
       "      <td>0.652131</td>\n",
       "      <td>0.347869</td>\n",
       "    </tr>\n",
       "    <tr>\n",
       "      <th>Northeast</th>\n",
       "      <td>0.783762</td>\n",
       "      <td>0.216238</td>\n",
       "    </tr>\n",
       "    <tr>\n",
       "      <th>South</th>\n",
       "      <td>0.762156</td>\n",
       "      <td>0.237844</td>\n",
       "    </tr>\n",
       "    <tr>\n",
       "      <th>West</th>\n",
       "      <td>0.756337</td>\n",
       "      <td>0.243663</td>\n",
       "    </tr>\n",
       "  </tbody>\n",
       "</table>\n",
       "</div>"
      ],
      "text/plain": [
       "MetroAreaCode     False     True \n",
       "Region                           \n",
       "Midwest        0.652131  0.347869\n",
       "Northeast      0.783762  0.216238\n",
       "South          0.762156  0.237844\n",
       "West           0.756337  0.243663"
      ]
     },
     "execution_count": 53,
     "metadata": {},
     "output_type": "execute_result"
    }
   ],
   "source": [
    "crosstab_RegionAreaCodeNa.div(crosstab_RegionAreaCodeNa.sum(axis=1), axis=0)"
   ]
  },
  {
   "cell_type": "markdown",
   "metadata": {},
   "source": [
    "#### Problem 2.5 - Evaluating Missing Values\n",
    "\n",
    "While we were able to use the table() command to compute the proportion of interviewees from each region not living in a metropolitan area, it was somewhat tedious (it involved manually computing the proportion for each region) and isn't something you would want to do if there were a larger number of options. It turns out there is a less tedious way to compute the proportion of values that are TRUE. The mean() function, which takes the average of the values passed to it, will treat TRUE as 1 and FALSE as 0, meaning it returns the proportion of values that are true. For instance, mean(c(TRUE, FALSE, TRUE, TRUE)) returns 0.75. Knowing this, use tapply() with the mean function to answer the following questions:\n",
    "\n",
    "Which state has a proportion of interviewees living in a non-metropolitan area closest to 30%?"
   ]
  },
  {
   "cell_type": "code",
   "execution_count": 56,
   "metadata": {
    "tags": []
   },
   "outputs": [
    {
     "data": {
      "text/plain": [
       "State\n",
       "Alabama                 0.258721\n",
       "Alaska                  1.000000\n",
       "Arizona                 0.131545\n",
       "Arkansas                0.490500\n",
       "California              0.020484\n",
       "Colorado                0.129915\n",
       "Connecticut             0.085684\n",
       "Delaware                0.233966\n",
       "District of Columbia    0.000000\n",
       "Florida                 0.039231\n",
       "Georgia                 0.198432\n",
       "Hawaii                  0.249166\n",
       "Idaho                   0.498682\n",
       "Illinois                0.112219\n",
       "Indiana                 0.291417\n",
       "Iowa                    0.486946\n",
       "Kansas                  0.362274\n",
       "Kentucky                0.506790\n",
       "Louisiana               0.161379\n",
       "Maine                   0.598321\n",
       "Maryland                0.069375\n",
       "Massachusetts           0.064922\n",
       "Michigan                0.178257\n",
       "Minnesota               0.315068\n",
       "Mississippi             0.694309\n",
       "Missouri                0.328671\n",
       "Montana                 0.836079\n",
       "Nebraska                0.581324\n",
       "Nevada                  0.133082\n",
       "New Hampshire           0.568745\n",
       "New Jersey              0.000000\n",
       "New Mexico              0.245009\n",
       "New York                0.080608\n",
       "North Carolina          0.373043\n",
       "North Dakota            0.737386\n",
       "Ohio                    0.251223\n",
       "Oklahoma                0.327643\n",
       "Oregon                  0.218219\n",
       "Pennsylvania            0.174300\n",
       "Rhode Island            0.000000\n",
       "South Carolina          0.313028\n",
       "South Dakota            0.702500\n",
       "Tennessee               0.355942\n",
       "Texas                   0.143705\n",
       "Utah                    0.210098\n",
       "Vermont                 0.652381\n",
       "Virginia                0.198442\n",
       "Washington              0.181319\n",
       "West Virginia           0.755855\n",
       "Wisconsin               0.299330\n",
       "Wyoming                 1.000000\n",
       "Name: MetroAreaCode, dtype: float64"
      ]
     },
     "execution_count": 56,
     "metadata": {},
     "output_type": "execute_result"
    }
   ],
   "source": [
    "\n",
    "na_proportion_by_state = CPS.groupby('State')['MetroAreaCode'].apply(lambda x: x.isna().mean())\n",
    "\n",
    "na_proportion_by_state"
   ]
  },
  {
   "cell_type": "markdown",
   "metadata": {},
   "source": [
    "Which state has the largest proportion of non-metropolitan interviewees, ignoring states where all interviewees were non-metropolitan?"
   ]
  },
  {
   "cell_type": "code",
   "execution_count": 65,
   "metadata": {
    "tags": []
   },
   "outputs": [
    {
     "data": {
      "text/plain": [
       "State\n",
       "Montana          0.836079\n",
       "North Dakota     0.737386\n",
       "South Dakota     0.702500\n",
       "West Virginia    0.755855\n",
       "Name: MetroAreaCode, dtype: float64"
      ]
     },
     "execution_count": 65,
     "metadata": {},
     "output_type": "execute_result"
    }
   ],
   "source": [
    "na_proportion_by_state[(na_proportion_by_state > 0.7) & (na_proportion_by_state < 1)]"
   ]
  },
  {
   "cell_type": "markdown",
   "metadata": {},
   "source": [
    "#### Problem 3.1 - Integrating Metropolitan Area Data\n",
    "\n",
    "Codes like MetroAreaCode and CountryOfBirthCode are a compact way to encode factor variables with text as their possible values, and they are therefore quite common in survey datasets. In fact, all but one of the variables in this dataset were actually stored by a numeric code in the original CPS datafile.\n",
    "\n",
    "When analyzing a variable stored by a numeric code, we will often want to convert it into the values the codes represent. To do this, we will use a dictionary, which maps the the code to the actual value of the variable. We have provided dictionaries MetroAreaCodes.csv and CountryCodes.csv, which respectively map MetroAreaCode and CountryOfBirthCode into their true values. Read these two dictionaries into data frames MetroAreaMap and CountryMap.\n",
    "\n",
    "How many observations (codes for metropolitan areas) are there in MetroAreaMap?"
   ]
  },
  {
   "cell_type": "code",
   "execution_count": 66,
   "metadata": {
    "tags": []
   },
   "outputs": [
    {
     "name": "stdout",
     "output_type": "stream",
     "text": [
      "<class 'pandas.core.frame.DataFrame'>\n",
      "RangeIndex: 271 entries, 0 to 270\n",
      "Data columns (total 2 columns):\n",
      " #   Column     Non-Null Count  Dtype \n",
      "---  ------     --------------  ----- \n",
      " 0   Code       271 non-null    int64 \n",
      " 1   MetroArea  271 non-null    object\n",
      "dtypes: int64(1), object(1)\n",
      "memory usage: 4.4+ KB\n"
     ]
    }
   ],
   "source": [
    "MetroAreaMap = pd.read_csv('MetroAreaCodes.csv')\n",
    "MetroAreaMap.info()"
   ]
  },
  {
   "cell_type": "code",
   "execution_count": 67,
   "metadata": {
    "tags": []
   },
   "outputs": [
    {
     "name": "stdout",
     "output_type": "stream",
     "text": [
      "<class 'pandas.core.frame.DataFrame'>\n",
      "RangeIndex: 149 entries, 0 to 148\n",
      "Data columns (total 2 columns):\n",
      " #   Column   Non-Null Count  Dtype \n",
      "---  ------   --------------  ----- \n",
      " 0   Code     149 non-null    int64 \n",
      " 1   Country  149 non-null    object\n",
      "dtypes: int64(1), object(1)\n",
      "memory usage: 2.5+ KB\n"
     ]
    }
   ],
   "source": [
    "CountryMap = pd.read_csv('CountryCodes.csv')\n",
    "CountryMap.info()"
   ]
  },
  {
   "cell_type": "markdown",
   "metadata": {},
   "source": [
    "How many observations (codes for countries) are there in CountryMap?"
   ]
  },
  {
   "cell_type": "markdown",
   "metadata": {},
   "source": [
    "#### Problem 3.2 - Integrating Metropolitan Area Data\n",
    "\n",
    "To merge in the metropolitan areas, we want to connect the field MetroAreaCode from the CPS data frame with the field Code in MetroAreaMap. The following command merges the two data frames on these columns, overwriting the CPS data frame with the result:\n",
    "\n",
    "CPS = merge(CPS, MetroAreaMap, by.x=\"MetroAreaCode\", by.y=\"Code\", all.x=TRUE)\n",
    "\n",
    "The first two arguments determine the data frames to be merged (they are called \"x\" and \"y\", respectively, in the subsequent parameters to the merge function). by.x=\"MetroAreaCode\" means we're matching on the MetroAreaCode variable from the \"x\" data frame (CPS), while by.y=\"Code\" means we're matching on the Code variable from the \"y\" data frame (MetroAreaMap). Finally, all.x=TRUE means we want to keep all rows from the \"x\" data frame (CPS), even if some of the rows' MetroAreaCode doesn't match any codes in MetroAreaMap (for those familiar with database terminology, this parameter makes the operation a left outer join instead of an inner join).\n",
    "\n",
    "Review the new version of the CPS data frame with the summary() and str() functions. What is the name of the variable that was added to the data frame by the merge() operation?"
   ]
  },
  {
   "cell_type": "code",
   "execution_count": 69,
   "metadata": {
    "tags": []
   },
   "outputs": [
    {
     "name": "stdout",
     "output_type": "stream",
     "text": [
      "<class 'pandas.core.frame.DataFrame'>\n",
      "Int64Index: 131302 entries, 0 to 131301\n",
      "Data columns (total 18 columns):\n",
      " #   Column              Non-Null Count   Dtype  \n",
      "---  ------              --------------   -----  \n",
      " 0   PeopleInHousehold   131302 non-null  int64  \n",
      " 1   Region              131302 non-null  object \n",
      " 2   State               131302 non-null  object \n",
      " 3   MetroAreaCode       97064 non-null   float64\n",
      " 4   Age                 131302 non-null  int64  \n",
      " 5   Married             105964 non-null  object \n",
      " 6   Sex                 131302 non-null  object \n",
      " 7   Education           105964 non-null  object \n",
      " 8   Race                131302 non-null  object \n",
      " 9   Hispanic            131302 non-null  int64  \n",
      " 10  CountryOfBirthCode  131302 non-null  int64  \n",
      " 11  Citizenship         131302 non-null  object \n",
      " 12  EmploymentStatus    105513 non-null  object \n",
      " 13  Industry            66242 non-null   object \n",
      " 14  Married_is_NA       131302 non-null  bool   \n",
      " 15  is_na_metro         131302 non-null  bool   \n",
      " 16  Code                97064 non-null   float64\n",
      " 17  MetroArea           97064 non-null   object \n",
      "dtypes: bool(2), float64(2), int64(4), object(10)\n",
      "memory usage: 17.3+ MB\n"
     ]
    }
   ],
   "source": [
    "CPS = pd.merge(CPS, MetroAreaMap , left_on=\"MetroAreaCode\", right_on=\"Code\", how='left')\n",
    "CPS.info()"
   ]
  },
  {
   "cell_type": "code",
   "execution_count": 70,
   "metadata": {
    "tags": []
   },
   "outputs": [
    {
     "data": {
      "text/html": [
       "<div>\n",
       "<style scoped>\n",
       "    .dataframe tbody tr th:only-of-type {\n",
       "        vertical-align: middle;\n",
       "    }\n",
       "\n",
       "    .dataframe tbody tr th {\n",
       "        vertical-align: top;\n",
       "    }\n",
       "\n",
       "    .dataframe thead th {\n",
       "        text-align: right;\n",
       "    }\n",
       "</style>\n",
       "<table border=\"1\" class=\"dataframe\">\n",
       "  <thead>\n",
       "    <tr style=\"text-align: right;\">\n",
       "      <th></th>\n",
       "      <th>PeopleInHousehold</th>\n",
       "      <th>MetroAreaCode</th>\n",
       "      <th>Age</th>\n",
       "      <th>Hispanic</th>\n",
       "      <th>CountryOfBirthCode</th>\n",
       "      <th>Code</th>\n",
       "    </tr>\n",
       "  </thead>\n",
       "  <tbody>\n",
       "    <tr>\n",
       "      <th>count</th>\n",
       "      <td>131302.000000</td>\n",
       "      <td>97064.000000</td>\n",
       "      <td>131302.000000</td>\n",
       "      <td>131302.000000</td>\n",
       "      <td>131302.000000</td>\n",
       "      <td>97064.000000</td>\n",
       "    </tr>\n",
       "    <tr>\n",
       "      <th>mean</th>\n",
       "      <td>3.284276</td>\n",
       "      <td>35074.709264</td>\n",
       "      <td>38.829226</td>\n",
       "      <td>0.139328</td>\n",
       "      <td>82.684079</td>\n",
       "      <td>35074.709264</td>\n",
       "    </tr>\n",
       "    <tr>\n",
       "      <th>std</th>\n",
       "      <td>1.700173</td>\n",
       "      <td>16551.637597</td>\n",
       "      <td>22.897130</td>\n",
       "      <td>0.346289</td>\n",
       "      <td>75.476511</td>\n",
       "      <td>16551.637597</td>\n",
       "    </tr>\n",
       "    <tr>\n",
       "      <th>min</th>\n",
       "      <td>1.000000</td>\n",
       "      <td>10420.000000</td>\n",
       "      <td>0.000000</td>\n",
       "      <td>0.000000</td>\n",
       "      <td>57.000000</td>\n",
       "      <td>10420.000000</td>\n",
       "    </tr>\n",
       "    <tr>\n",
       "      <th>25%</th>\n",
       "      <td>2.000000</td>\n",
       "      <td>21780.000000</td>\n",
       "      <td>19.000000</td>\n",
       "      <td>0.000000</td>\n",
       "      <td>57.000000</td>\n",
       "      <td>21780.000000</td>\n",
       "    </tr>\n",
       "    <tr>\n",
       "      <th>50%</th>\n",
       "      <td>3.000000</td>\n",
       "      <td>34740.000000</td>\n",
       "      <td>39.000000</td>\n",
       "      <td>0.000000</td>\n",
       "      <td>57.000000</td>\n",
       "      <td>34740.000000</td>\n",
       "    </tr>\n",
       "    <tr>\n",
       "      <th>75%</th>\n",
       "      <td>4.000000</td>\n",
       "      <td>41860.000000</td>\n",
       "      <td>57.000000</td>\n",
       "      <td>0.000000</td>\n",
       "      <td>57.000000</td>\n",
       "      <td>41860.000000</td>\n",
       "    </tr>\n",
       "    <tr>\n",
       "      <th>max</th>\n",
       "      <td>15.000000</td>\n",
       "      <td>79600.000000</td>\n",
       "      <td>85.000000</td>\n",
       "      <td>1.000000</td>\n",
       "      <td>555.000000</td>\n",
       "      <td>79600.000000</td>\n",
       "    </tr>\n",
       "  </tbody>\n",
       "</table>\n",
       "</div>"
      ],
      "text/plain": [
       "       PeopleInHousehold  MetroAreaCode            Age       Hispanic  \\\n",
       "count      131302.000000   97064.000000  131302.000000  131302.000000   \n",
       "mean            3.284276   35074.709264      38.829226       0.139328   \n",
       "std             1.700173   16551.637597      22.897130       0.346289   \n",
       "min             1.000000   10420.000000       0.000000       0.000000   \n",
       "25%             2.000000   21780.000000      19.000000       0.000000   \n",
       "50%             3.000000   34740.000000      39.000000       0.000000   \n",
       "75%             4.000000   41860.000000      57.000000       0.000000   \n",
       "max            15.000000   79600.000000      85.000000       1.000000   \n",
       "\n",
       "       CountryOfBirthCode          Code  \n",
       "count       131302.000000  97064.000000  \n",
       "mean            82.684079  35074.709264  \n",
       "std             75.476511  16551.637597  \n",
       "min             57.000000  10420.000000  \n",
       "25%             57.000000  21780.000000  \n",
       "50%             57.000000  34740.000000  \n",
       "75%             57.000000  41860.000000  \n",
       "max            555.000000  79600.000000  "
      ]
     },
     "execution_count": 70,
     "metadata": {},
     "output_type": "execute_result"
    }
   ],
   "source": [
    "CPS.describe()"
   ]
  },
  {
   "cell_type": "markdown",
   "metadata": {},
   "source": [
    "How many interviewees have a missing value for the new metropolitan area variable? Note that all of these interviewees would have been removed from the merged data frame if we did not include the all.x=TRUE parameter."
   ]
  },
  {
   "cell_type": "code",
   "execution_count": null,
   "metadata": {
    "collapsed": true,
    "jupyter": {
     "outputs_hidden": true
    }
   },
   "outputs": [],
   "source": []
  },
  {
   "cell_type": "markdown",
   "metadata": {},
   "source": [
    "#### Problem 3.3 - Integrating Metropolitan Area Data\n",
    "\n",
    "Which of the following metropolitan areas has the largest number of interviewees?"
   ]
  },
  {
   "cell_type": "code",
   "execution_count": 72,
   "metadata": {
    "tags": []
   },
   "outputs": [
    {
     "data": {
      "text/plain": [
       "New York-Northern New Jersey-Long Island, NY-NJ-PA    5409\n",
       "Washington-Arlington-Alexandria, DC-VA-MD-WV          4177\n",
       "Los Angeles-Long Beach-Santa Ana, CA                  4102\n",
       "Philadelphia-Camden-Wilmington, PA-NJ-DE              2855\n",
       "Chicago-Naperville-Joliet, IN-IN-WI                   2772\n",
       "                                                      ... \n",
       "Warner Robins, GA                                       42\n",
       "Bloomington-Normal IL                                   40\n",
       "Springfield, OH                                         34\n",
       "Ocean City, NJ                                          30\n",
       "Bowling Green, KY                                       29\n",
       "Name: MetroArea, Length: 264, dtype: int64"
      ]
     },
     "execution_count": 72,
     "metadata": {},
     "output_type": "execute_result"
    }
   ],
   "source": [
    "CPS.MetroArea.value_counts()"
   ]
  },
  {
   "cell_type": "code",
   "execution_count": 78,
   "metadata": {
    "tags": []
   },
   "outputs": [
    {
     "data": {
      "text/plain": [
       "'New York-Northern New Jersey-Long Island, NY-NJ-PA'"
      ]
     },
     "execution_count": 78,
     "metadata": {},
     "output_type": "execute_result"
    }
   ],
   "source": [
    "CPS.MetroArea.value_counts().index.tolist()[0]"
   ]
  },
  {
   "cell_type": "markdown",
   "metadata": {},
   "source": [
    "#### Problem 3.4 - Integrating Metropolitan Area Data\n",
    "\n",
    "Which metropolitan area has the highest proportion of interviewees of Hispanic ethnicity? Hint: Use tapply() with mean, as in the previous subproblem. Calling sort() on the output of tapply() could also be helpful here."
   ]
  },
  {
   "cell_type": "code",
   "execution_count": 83,
   "metadata": {
    "tags": []
   },
   "outputs": [
    {
     "data": {
      "text/plain": [
       "MetroArea\n",
       "Laredo, TX                       0.966292\n",
       "McAllen-Edinburg-Pharr, TX       0.948718\n",
       "Brownsville-Harlingen, TX        0.797468\n",
       "El Paso, TX                      0.790984\n",
       "El Centro, CA                    0.686869\n",
       "                                   ...   \n",
       "Harrisonburg, VA                 0.000000\n",
       "Salisbury, MD                    0.000000\n",
       "Johnstown, PA                    0.000000\n",
       "Decatur, IL                      0.000000\n",
       "Hagerstown-Martinsburg, MD-WV    0.000000\n",
       "Name: Hispanic, Length: 264, dtype: float64"
      ]
     },
     "execution_count": 83,
     "metadata": {},
     "output_type": "execute_result"
    }
   ],
   "source": [
    "CPS.groupby('MetroArea')['Hispanic'].apply(lambda x: x.mean()).sort_values(ascending=False)"
   ]
  },
  {
   "cell_type": "markdown",
   "metadata": {},
   "source": [
    "#### Problem 3.5 - Integrating Metropolitan Area Data\n",
    "\n",
    "Remembering that CPS$Race == \"Asian\" returns a TRUE/FALSE vector of whether an interviewee is Asian, determine the number of metropolitan areas in the United States from which at least 20% of interviewees are Asian."
   ]
  },
  {
   "cell_type": "code",
   "execution_count": 91,
   "metadata": {
    "tags": []
   },
   "outputs": [
    {
     "data": {
      "text/plain": [
       "0         False\n",
       "1         False\n",
       "2         False\n",
       "3         False\n",
       "4         False\n",
       "          ...  \n",
       "131297    False\n",
       "131298    False\n",
       "131299    False\n",
       "131300    False\n",
       "131301    False\n",
       "Name: Race, Length: 131302, dtype: bool"
      ]
     },
     "execution_count": 91,
     "metadata": {},
     "output_type": "execute_result"
    }
   ],
   "source": [
    "CPS.Race == \"Asian\""
   ]
  },
  {
   "cell_type": "code",
   "execution_count": 92,
   "metadata": {
    "tags": []
   },
   "outputs": [
    {
     "data": {
      "text/plain": [
       "0         False\n",
       "1         False\n",
       "2         False\n",
       "3         False\n",
       "4         False\n",
       "          ...  \n",
       "131297    False\n",
       "131298    False\n",
       "131299    False\n",
       "131300    False\n",
       "131301    False\n",
       "Name: is_Asian, Length: 131302, dtype: bool"
      ]
     },
     "execution_count": 92,
     "metadata": {},
     "output_type": "execute_result"
    }
   ],
   "source": [
    "CPS['is_Asian'] = CPS.Race == \"Asian\"\n",
    "\n",
    "CPS['is_Asian']"
   ]
  },
  {
   "cell_type": "code",
   "execution_count": 105,
   "metadata": {
    "tags": []
   },
   "outputs": [],
   "source": [
    "AsianPerMetroAreaProp = CPS.groupby('MetroArea')['is_Asian'].mean()"
   ]
  },
  {
   "cell_type": "code",
   "execution_count": 106,
   "metadata": {
    "tags": []
   },
   "outputs": [
    {
     "data": {
      "text/plain": [
       "MetroArea\n",
       "Honolulu, HI                          0.501904\n",
       "San Francisco-Oakland-Fremont, CA     0.246753\n",
       "San Jose-Sunnyvale-Santa Clara, CA    0.241791\n",
       "Vallejo-Fairfield, CA                 0.203008\n",
       "Name: is_Asian, dtype: float64"
      ]
     },
     "execution_count": 106,
     "metadata": {},
     "output_type": "execute_result"
    }
   ],
   "source": [
    "AsianperMetroArea[AsianperMetroArea > 0.2]"
   ]
  },
  {
   "cell_type": "markdown",
   "metadata": {},
   "source": [
    "#### Problem 3.6 - Integrating Metropolitan Area Data\n",
    "\n",
    "Normally, we would look at the sorted proportion of interviewees from each metropolitan area who have not received a high school diploma with the command:\n",
    "\n",
    "sort(tapply(CPS$Education == \"No high school diploma\", CPS$MetroArea, mean))\n",
    "\n",
    "However, none of the interviewees aged 14 and younger have an education value reported, so the mean value is reported as NA for each metropolitan area. To get mean (and related functions, like sum) to ignore missing values, you can pass the parameter na.rm=TRUE. Passing na.rm=TRUE to the tapply function, determine which metropolitan area has the smallest proportion of interviewees who have received no high school diploma."
   ]
  },
  {
   "cell_type": "code",
   "execution_count": 111,
   "metadata": {
    "tags": []
   },
   "outputs": [
    {
     "data": {
      "text/plain": [
       "MetroArea\n",
       "Macon, GA                     0.307692\n",
       "Kingsport-Bristol, TN-VA      0.298507\n",
       "Salinas, CA                   0.288462\n",
       "McAllen-Edinburg-Pharr, TX    0.276923\n",
       "Longview, TX                  0.276923\n",
       "Name: is_NoDiploma, dtype: float64"
      ]
     },
     "execution_count": 111,
     "metadata": {},
     "output_type": "execute_result"
    }
   ],
   "source": [
    "CPS['is_NoDiploma'] = CPS.Education == \"No high school diploma\"\n",
    "AsianPerMetroAreaProp = CPS.groupby('MetroArea')['is_NoDiploma'].mean()\n",
    "AsianPerMetroAreaProp.sort_values(ascending=False).head()"
   ]
  },
  {
   "cell_type": "markdown",
   "metadata": {},
   "source": [
    "#### Problem 4.1 - Integrating Country of Birth Data\n",
    "\n",
    "Just as we did with the metropolitan area information, merge in the country of birth information from the CountryMap data frame, replacing the CPS data frame with the result. If you accidentally overwrite CPS with the wrong values, remember that you can restore it by re-loading the data frame from CPSData.csv and then merging in the metropolitan area information using the command provided in the previous subproblem.\n",
    "\n",
    "What is the name of the variable added to the CPS data frame by this merge operation?"
   ]
  },
  {
   "cell_type": "code",
   "execution_count": 112,
   "metadata": {
    "tags": []
   },
   "outputs": [],
   "source": [
    "CPS = pd.merge(CPS, CountryMap , left_on=\"CountryOfBirthCode\", right_on=\"Code\", how='left')\n"
   ]
  },
  {
   "cell_type": "code",
   "execution_count": 113,
   "metadata": {
    "tags": []
   },
   "outputs": [
    {
     "name": "stdout",
     "output_type": "stream",
     "text": [
      "<class 'pandas.core.frame.DataFrame'>\n",
      "Int64Index: 131302 entries, 0 to 131301\n",
      "Data columns (total 22 columns):\n",
      " #   Column              Non-Null Count   Dtype  \n",
      "---  ------              --------------   -----  \n",
      " 0   PeopleInHousehold   131302 non-null  int64  \n",
      " 1   Region              131302 non-null  object \n",
      " 2   State               131302 non-null  object \n",
      " 3   MetroAreaCode       97064 non-null   float64\n",
      " 4   Age                 131302 non-null  int64  \n",
      " 5   Married             105964 non-null  object \n",
      " 6   Sex                 131302 non-null  object \n",
      " 7   Education           105964 non-null  object \n",
      " 8   Race                131302 non-null  object \n",
      " 9   Hispanic            131302 non-null  int64  \n",
      " 10  CountryOfBirthCode  131302 non-null  int64  \n",
      " 11  Citizenship         131302 non-null  object \n",
      " 12  EmploymentStatus    105513 non-null  object \n",
      " 13  Industry            66242 non-null   object \n",
      " 14  Married_is_NA       131302 non-null  bool   \n",
      " 15  is_na_metro         131302 non-null  bool   \n",
      " 16  Code_x              97064 non-null   float64\n",
      " 17  MetroArea           97064 non-null   object \n",
      " 18  is_Asian            131302 non-null  bool   \n",
      " 19  is_NoDiploma        131302 non-null  bool   \n",
      " 20  Code_y              131126 non-null  float64\n",
      " 21  Country             131126 non-null  object \n",
      "dtypes: bool(4), float64(3), int64(4), object(11)\n",
      "memory usage: 19.5+ MB\n"
     ]
    }
   ],
   "source": [
    "CPS.info()"
   ]
  },
  {
   "cell_type": "code",
   "execution_count": null,
   "metadata": {
    "collapsed": true,
    "jupyter": {
     "outputs_hidden": true
    }
   },
   "outputs": [],
   "source": []
  },
  {
   "cell_type": "markdown",
   "metadata": {},
   "source": [
    "How many interviewees have a missing value for the new country of birth variable?"
   ]
  },
  {
   "cell_type": "code",
   "execution_count": 114,
   "metadata": {
    "tags": []
   },
   "outputs": [
    {
     "data": {
      "text/plain": [
       "176"
      ]
     },
     "execution_count": 114,
     "metadata": {},
     "output_type": "execute_result"
    }
   ],
   "source": [
    "CPS.Country.isna().sum()"
   ]
  },
  {
   "cell_type": "markdown",
   "metadata": {},
   "source": [
    "#### Problem 4.2 - Integrating Country of Birth Data\n",
    "\n",
    "Among all interviewees born outside of North America, which country was the most common place of birth?"
   ]
  },
  {
   "cell_type": "code",
   "execution_count": 119,
   "metadata": {
    "tags": []
   },
   "outputs": [
    {
     "data": {
      "text/plain": [
       "United States       115063\n",
       "Mexico                3921\n",
       "Philippines            839\n",
       "India                  770\n",
       "China                  581\n",
       "                     ...  \n",
       "Czechoslovakia           3\n",
       "Azerbaijan               3\n",
       "St. Kitts--Nevis         3\n",
       "Northern Ireland         2\n",
       "Tanzania                 2\n",
       "Name: Country, Length: 144, dtype: int64"
      ]
     },
     "execution_count": 119,
     "metadata": {},
     "output_type": "execute_result"
    }
   ],
   "source": [
    "CPS.Country.value_counts().sort_values(ascending=False)"
   ]
  },
  {
   "cell_type": "markdown",
   "metadata": {},
   "source": [
    "#### Problem 4.3 - Integrating Country of Birth Data\n",
    "\n",
    "What proportion of the interviewees from the \"New York-Northern New Jersey-Long Island, NY-NJ-PA\" metropolitan area have a country of birth that is not the United States? For this computation, don't include people from this metropolitan area who have a missing country of birth."
   ]
  },
  {
   "cell_type": "code",
   "execution_count": 120,
   "metadata": {
    "tags": []
   },
   "outputs": [],
   "source": [
    "is_new_york_metro = CPS['MetroArea'] == 'New York-Northern New Jersey-Long Island, NY-NJ-PA'\n",
    "is_not_usa = CPS['Country'] != 'United States'\n",
    "\n",
    "contingency_table = pd.crosstab(is_new_york_metro, is_not_usa)\n",
    "\n",
    "contingency_table.index = ['Not New York Metro', 'New York Metro']\n",
    "contingency_table.columns = ['USA', 'Not USA']"
   ]
  },
  {
   "cell_type": "code",
   "execution_count": 121,
   "metadata": {
    "tags": []
   },
   "outputs": [
    {
     "data": {
      "text/html": [
       "<div>\n",
       "<style scoped>\n",
       "    .dataframe tbody tr th:only-of-type {\n",
       "        vertical-align: middle;\n",
       "    }\n",
       "\n",
       "    .dataframe tbody tr th {\n",
       "        vertical-align: top;\n",
       "    }\n",
       "\n",
       "    .dataframe thead th {\n",
       "        text-align: right;\n",
       "    }\n",
       "</style>\n",
       "<table border=\"1\" class=\"dataframe\">\n",
       "  <thead>\n",
       "    <tr style=\"text-align: right;\">\n",
       "      <th></th>\n",
       "      <th>USA</th>\n",
       "      <th>Not USA</th>\n",
       "    </tr>\n",
       "  </thead>\n",
       "  <tbody>\n",
       "    <tr>\n",
       "      <th>Not New York Metro</th>\n",
       "      <td>111327</td>\n",
       "      <td>14566</td>\n",
       "    </tr>\n",
       "    <tr>\n",
       "      <th>New York Metro</th>\n",
       "      <td>3736</td>\n",
       "      <td>1673</td>\n",
       "    </tr>\n",
       "  </tbody>\n",
       "</table>\n",
       "</div>"
      ],
      "text/plain": [
       "                       USA  Not USA\n",
       "Not New York Metro  111327    14566\n",
       "New York Metro        3736     1673"
      ]
     },
     "execution_count": 121,
     "metadata": {},
     "output_type": "execute_result"
    }
   ],
   "source": [
    "contingency_table"
   ]
  },
  {
   "cell_type": "code",
   "execution_count": 122,
   "metadata": {
    "tags": []
   },
   "outputs": [
    {
     "data": {
      "text/html": [
       "<div>\n",
       "<style scoped>\n",
       "    .dataframe tbody tr th:only-of-type {\n",
       "        vertical-align: middle;\n",
       "    }\n",
       "\n",
       "    .dataframe tbody tr th {\n",
       "        vertical-align: top;\n",
       "    }\n",
       "\n",
       "    .dataframe thead th {\n",
       "        text-align: right;\n",
       "    }\n",
       "</style>\n",
       "<table border=\"1\" class=\"dataframe\">\n",
       "  <thead>\n",
       "    <tr style=\"text-align: right;\">\n",
       "      <th></th>\n",
       "      <th>USA</th>\n",
       "      <th>Not USA</th>\n",
       "    </tr>\n",
       "  </thead>\n",
       "  <tbody>\n",
       "    <tr>\n",
       "      <th>Not New York Metro</th>\n",
       "      <td>0.884299</td>\n",
       "      <td>0.115701</td>\n",
       "    </tr>\n",
       "    <tr>\n",
       "      <th>New York Metro</th>\n",
       "      <td>0.690701</td>\n",
       "      <td>0.309299</td>\n",
       "    </tr>\n",
       "  </tbody>\n",
       "</table>\n",
       "</div>"
      ],
      "text/plain": [
       "                         USA   Not USA\n",
       "Not New York Metro  0.884299  0.115701\n",
       "New York Metro      0.690701  0.309299"
      ]
     },
     "execution_count": 122,
     "metadata": {},
     "output_type": "execute_result"
    }
   ],
   "source": [
    "contingency_table.div(contingency_table.sum(axis=1), axis=0)"
   ]
  },
  {
   "cell_type": "markdown",
   "metadata": {},
   "source": [
    "#### Problem 4.4 - Integrating Country of Birth Data\n",
    "\n",
    "Which metropolitan area has the largest number (note -- not proportion) of interviewees with a country of birth in India? Hint -- remember to include na.rm=TRUE if you are using tapply() to answer this question."
   ]
  },
  {
   "cell_type": "code",
   "execution_count": 127,
   "metadata": {
    "tags": []
   },
   "outputs": [
    {
     "data": {
      "text/plain": [
       "MetroArea\n",
       "New York-Northern New Jersey-Long Island, NY-NJ-PA    96\n",
       "Washington-Arlington-Alexandria, DC-VA-MD-WV          50\n",
       "Philadelphia-Camden-Wilmington, PA-NJ-DE              32\n",
       "Chicago-Naperville-Joliet, IN-IN-WI                   31\n",
       "Detroit-Warren-Livonia, MI                            30\n",
       "                                                      ..\n",
       "Jacksonville, NC                                       0\n",
       "Janesville, WI                                         0\n",
       "Johnson City, TN                                       0\n",
       "Johnstown, PA                                          0\n",
       "Youngstown-Warren-Boardman, OH                         0\n",
       "Name: is_India, Length: 264, dtype: int64"
      ]
     },
     "execution_count": 127,
     "metadata": {},
     "output_type": "execute_result"
    }
   ],
   "source": [
    "CPS['is_India'] = CPS.Country == \"India\"\n",
    "\n",
    "CPS.groupby('MetroArea')['is_India'].sum().sort_values(ascending=False)"
   ]
  },
  {
   "cell_type": "code",
   "execution_count": 128,
   "metadata": {
    "tags": []
   },
   "outputs": [
    {
     "data": {
      "text/plain": [
       "MetroArea\n",
       "Boston-Cambridge-Quincy, MA-NH                  18\n",
       "Miami-Fort Lauderdale-Miami Beach, FL           16\n",
       "Los Angeles-Long Beach-Santa Ana, CA             9\n",
       "Washington-Arlington-Alexandria, DC-VA-MD-WV     8\n",
       "Bridgeport-Stamford-Norwalk, CT                  7\n",
       "                                                ..\n",
       "Houston-Baytown-Sugar Land, TX                   0\n",
       "Huntington-Ashland, WV-KY-OH                     0\n",
       "Huntsville, AL                                   0\n",
       "Indianapolis, IN                                 0\n",
       "Youngstown-Warren-Boardman, OH                   0\n",
       "Name: is_Brazil, Length: 264, dtype: int64"
      ]
     },
     "execution_count": 128,
     "metadata": {},
     "output_type": "execute_result"
    }
   ],
   "source": [
    "CPS['is_Brazil'] = CPS.Country == \"Brazil\"\n",
    "\n",
    "CPS.groupby('MetroArea')['is_Brazil'].sum().sort_values(ascending=False)"
   ]
  },
  {
   "cell_type": "markdown",
   "metadata": {},
   "source": [
    "In Brazil?"
   ]
  },
  {
   "cell_type": "markdown",
   "metadata": {},
   "source": [
    "In Somalia?"
   ]
  },
  {
   "cell_type": "code",
   "execution_count": 129,
   "metadata": {
    "tags": []
   },
   "outputs": [
    {
     "data": {
      "text/plain": [
       "MetroArea\n",
       "Minneapolis-St Paul-Bloomington, MN-WI    17\n",
       "St. Cloud, MN                              7\n",
       "Seattle-Tacoma-Bellevue, WA                7\n",
       "Phoenix-Mesa-Scottsdale, AZ                7\n",
       "Fargo, ND-MN                               5\n",
       "                                          ..\n",
       "Gulfport-Biloxi, MS                        0\n",
       "Hagerstown-Martinsburg, MD-WV              0\n",
       "Harrisburg-Carlisle, PA                    0\n",
       "Harrisonburg, VA                           0\n",
       "Youngstown-Warren-Boardman, OH             0\n",
       "Name: is_Somalia, Length: 264, dtype: int64"
      ]
     },
     "execution_count": 129,
     "metadata": {},
     "output_type": "execute_result"
    }
   ],
   "source": [
    "CPS['is_Somalia'] = CPS.Country == \"Somalia\"\n",
    "\n",
    "CPS.groupby('MetroArea')['is_Somalia'].sum().sort_values(ascending=False)"
   ]
  }
 ],
 "metadata": {
  "kernelspec": {
   "display_name": "Python 3 (ipykernel)",
   "language": "python",
   "name": "python3"
  },
  "language_info": {
   "codemirror_mode": {
    "name": "ipython",
    "version": 3
   },
   "file_extension": ".py",
   "mimetype": "text/x-python",
   "name": "python",
   "nbconvert_exporter": "python",
   "pygments_lexer": "ipython3",
   "version": "3.11.3"
  }
 },
 "nbformat": 4,
 "nbformat_minor": 4
}
