{
 "cells": [
  {
   "cell_type": "markdown",
   "metadata": {},
   "source": [
    "#### letter recognition\n",
    "\n",
    "One of the earliest applications of the predictive analytics methods we have studied so far in this class was to automatically recognize letters, which post office machines use to sort mail. In this problem, we will build a model that uses statistics of images of four letters in the Roman alphabet -- A, B, P, and R -- to predict which letter a particular image corresponds to.\n",
    "\n",
    "Note that this is a multiclass classification problem. We have mostly focused on binary classification problems (e.g., predicting whether an individual voted or not, whether the Supreme Court will affirm or reverse a case, whether or not a person is at risk for a certain disease, etc.). In this problem, we have more than two classifications that are possible for each observation, like in the D2Hawkeye lecture. \n",
    "\n",
    "The file letters_ABPR.csv contains 3116 observations, each of which corresponds to a certain image of one of the four letters A, B, P and R. The images came from 20 different fonts, which were then randomly distorted to produce the final images; each such distorted image is represented as a collection of pixels, each of which is \"on\" or \"off\". For each such distorted image, we have available certain statistics of the image in terms of these pixels, as well as which of the four letters the image is. This data comes from the UCI Machine Learning Repository.\n",
    "\n",
    "This dataset contains the following 17 variables:\n",
    "\n",
    "letter = the letter that the image corresponds to (A, B, P or R)\n",
    "    \n",
    "xbox = the horizontal position of where the smallest box covering the letter shape begins.\n",
    "    \n",
    "ybox = the vertical position of where the smallest box covering the letter shape begins.\n",
    "    \n",
    "width = the width of this smallest box.\n",
    "    \n",
    "height = the height of this smallest box.\n",
    "    \n",
    "onpix = the total number of \"on\" pixels in the character image\n",
    "    \n",
    "xbar = the mean horizontal position of all of the \"on\" pixels\n",
    "    \n",
    "ybar = the mean vertical position of all of the \"on\" pixels\n",
    "    \n",
    "x2bar = the mean squared horizontal position of all of the \"on\" pixels in the image\n",
    "    \n",
    "y2bar = the mean squared vertical position of all of the \"on\" pixels in the image\n",
    "    \n",
    "xybar = the mean of the product of the horizontal and vertical position of all of the \"on\" pixels in the image\n",
    "    \n",
    "x2ybar = the mean of the product of the squared horizontal position and the vertical position of all of the \"on\" pixels\n",
    "    \n",
    "xy2bar = the mean of the product of the horizontal position and the squared vertical position of all of the \"on\" pixels\n",
    "    \n",
    "xedge = the mean number of edges (the number of times an \"off\" pixel is followed by an \"on\" pixel, or the image boundary is hit) as the image is scanned from left to right, along the whole vertical length of the image\n",
    "    \n",
    "xedgeycor = the mean of the product of the number of horizontal edges at each vertical position and the vertical position\n",
    "    \n",
    "yedge = the mean number of edges as the images is scanned from top to bottom, along the whole horizontal length of the image\n",
    "    \n",
    "yedgexcor = the mean of the product of the number of vertical edges at each horizontal position and the horizontal position"
   ]
  },
  {
   "cell_type": "markdown",
   "metadata": {},
   "source": [
    "#### Problem 1.1 - Predicting B or not B\n",
    "\n",
    "Let's warm up by attempting to predict just whether a letter is B or not. To begin, load the file letters_ABPR.csv into R, and call it letters. Then, create a new variable isB in the dataframe, which takes the value \"TRUE\" if the observation corresponds to the letter B, and \"FALSE\" if it does not. You can do this by typing the following command into your R console:\n",
    "\n",
    "letters$isB = as.factor(letters$letter == \"B\")\n",
    "\n",
    "Now split the data set into a training and testing set, putting 50% of the data in the training set. Set the seed to 1000 before making the split. The first argument to sample.split should be the dependent variable \"letters$isB\". Remember that TRUE values from sample.split should go in the training set.\n",
    "\n",
    "Before building models, let's consider a baseline method that always predicts the most frequent outcome, which is \"not B\". What is the accuracy of this baseline method on the test set?"
   ]
  },
  {
   "cell_type": "code",
   "execution_count": null,
   "metadata": {
    "collapsed": true
   },
   "outputs": [],
   "source": []
  },
  {
   "cell_type": "markdown",
   "metadata": {},
   "source": [
    "#### Problem 1.2 - Predicting B or not B\n",
    "\n",
    "Now build a classification tree to predict whether a letter is a B or not, using the training set to build your model. Remember to remove the variable \"letter\" out of the model, as this is related to what we are trying to predict! To just remove one variable, you can either write out the other variables, or remember what we did in the Billboards problem in Week 3, and use the following notation:\n",
    "\n",
    "CARTb = rpart(isB ~ . - letter, data=train, method=\"class\")\n",
    "\n",
    "We are just using the default parameters in our CART model, so we don't need to add the minbucket or cp arguments at all. We also added the argument method=\"class\" since this is a classification problem.\n",
    "\n",
    "What is the accuracy of the CART model on the test set? (Use type=\"class\" when making predictions on the test set.)"
   ]
  },
  {
   "cell_type": "code",
   "execution_count": null,
   "metadata": {
    "collapsed": true
   },
   "outputs": [],
   "source": []
  },
  {
   "cell_type": "markdown",
   "metadata": {},
   "source": [
    "#### Problem 1.3 - Predicting B or Not B\n",
    "\n",
    "Now, build a random forest model to predict whether the letter is a B or not (the isB variable) using the training set. You should use all of the other variables as independent variables, except letter (since it helped us define what we are trying to predict!). Use the default settings for ntree and nodesize (don't include these arguments at all). Right before building the model, set the seed to 1000. (NOTE: You might get a slightly different answer on this problem, even if you set the random seed. This has to do with your operating system and the implementation of the random forest algorithm.)\n",
    "\n",
    "What is the accuracy of the model on the test set?"
   ]
  },
  {
   "cell_type": "code",
   "execution_count": null,
   "metadata": {
    "collapsed": true
   },
   "outputs": [],
   "source": []
  },
  {
   "cell_type": "markdown",
   "metadata": {},
   "source": [
    "In lecture, we noted that random forests tends to improve on CART in terms of predictive accuracy. Sometimes, this improvement can be quite significant, as it is here."
   ]
  },
  {
   "cell_type": "code",
   "execution_count": null,
   "metadata": {
    "collapsed": true
   },
   "outputs": [],
   "source": []
  },
  {
   "cell_type": "markdown",
   "metadata": {},
   "source": [
    "#### Problem 2.1 - Predicting the letters A, B, P, R\n",
    "\n",
    "Let us now move on to the problem that we were originally interested in, which is to predict whether or not a letter is one of the four letters A, B, P or R.\n",
    "\n",
    "As we saw in the D2Hawkeye lecture, building a multiclass classification CART model in R is no harder than building the models for binary classification problems. Fortunately, building a random forest model is just as easy.\n",
    "\n",
    "The variable in our data frame which we will be trying to predict is \"letter\". Start by converting letter in the original data set (letters) to a factor by running the following command in R:\n",
    "\n",
    "letters$letter = as.factor( letters$letter )\n",
    "\n",
    "Now, generate new training and testing sets of the letters data frame using letters$letter as the first input to the sample.split function. Before splitting, set your seed to 2000. Again put 50% of the data in the training set. (Why do we need to split the data again? Remember that sample.split balances the outcome variable in the training and testing sets. With a new outcome variable, we want to re-generate our split.)\n",
    "\n",
    "In a multiclass classification problem, a simple baseline model is to predict the most frequent class of all of the options.\n",
    "\n",
    "What is the baseline accuracy on the testing set?"
   ]
  },
  {
   "cell_type": "code",
   "execution_count": null,
   "metadata": {
    "collapsed": true
   },
   "outputs": [],
   "source": []
  },
  {
   "cell_type": "markdown",
   "metadata": {},
   "source": [
    "#### Problem 2.2 - Predicting the letters A, B, P, R\n",
    "\n",
    "Now build a classification tree to predict \"letter\", using the training set to build your model. You should use all of the other variables as independent variables, except \"isB\", since it is related to what we are trying to predict! Just use the default parameters in your CART model. Add the argument method=\"class\" since this is a classification problem. Even though we have multiple classes here, nothing changes in how we build the model from the binary case.\n",
    "\n",
    "What is the test set accuracy of your CART model? Use the argument type=\"class\" when making predictions.\n",
    "\n",
    "(HINT: When you are computing the test set accuracy using the confusion matrix, you want to add everything on the main diagonal and divide by the total number of observations in the test set, which can be computed with nrow(test), where test is the name of your test set)."
   ]
  },
  {
   "cell_type": "code",
   "execution_count": null,
   "metadata": {
    "collapsed": true
   },
   "outputs": [],
   "source": []
  },
  {
   "cell_type": "markdown",
   "metadata": {},
   "source": [
    "#### Problem 2.3 - Predicting the letters A, B, P, R\n",
    "\n",
    "Now build a random forest model on the training data, using the same independent variables as in the previous problem -- again, don't forget to remove the isB variable. Just use the default parameter values for ntree and nodesize (you don't need to include these arguments at all). Set the seed to 1000 right before building your model. (Remember that you might get a slightly different result even if you set the random seed.)\n",
    "\n",
    "What is the test set accuracy of your random forest model?"
   ]
  },
  {
   "cell_type": "code",
   "execution_count": null,
   "metadata": {
    "collapsed": true
   },
   "outputs": [],
   "source": []
  },
  {
   "cell_type": "markdown",
   "metadata": {},
   "source": [
    "You should find this value rather striking, for several reasons. The first is that it is significantly higher than the value for CART, highlighting the gain in accuracy that is possible from using random forest models. The second is that while the accuracy of CART decreased significantly as we transitioned from the problem of predicting B/not B (a relatively simple problem) to the problem of predicting the four letters (certainly a harder problem), the accuracy of the random forest model decreased by a tiny amount."
   ]
  },
  {
   "cell_type": "code",
   "execution_count": null,
   "metadata": {
    "collapsed": true
   },
   "outputs": [],
   "source": []
  }
 ],
 "metadata": {
  "kernelspec": {
   "display_name": "R",
   "language": "R",
   "name": "ir"
  },
  "language_info": {
   "codemirror_mode": "r",
   "file_extension": ".r",
   "mimetype": "text/x-r-source",
   "name": "R",
   "pygments_lexer": "r",
   "version": "3.3.3"
  }
 },
 "nbformat": 4,
 "nbformat_minor": 2
}
