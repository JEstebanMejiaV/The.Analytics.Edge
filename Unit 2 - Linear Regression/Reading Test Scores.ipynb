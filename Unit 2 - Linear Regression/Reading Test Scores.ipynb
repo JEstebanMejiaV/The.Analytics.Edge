{
 "cells": [
  {
   "cell_type": "markdown",
   "metadata": {},
   "source": [
    "### Reading Test Scores\n",
    "\n",
    "The Programme for International Student Assessment (PISA) is a test given every three years to 15-year-old students from around the world to evaluate their performance in mathematics, reading, and science. This test provides a quantitative way to compare the performance of students from different parts of the world. In this homework assignment, we will predict the reading scores of students from the United States of America on the 2009 PISA exam.\n",
    "\n",
    "The datasets pisa2009train.csv and pisa2009test.csv contain information about the demographics and schools for American students taking the exam, derived from 2009 PISA Public-Use Data Files distributed by the United States National Center for Education Statistics (NCES). While the datasets are not supposed to contain identifying information about students taking the test, by using the data you are bound by the NCES data use agreement, which prohibits any attempt to determine the identity of any student in the datasets.\n",
    "\n",
    "Each row in the datasets pisa2009train.csv and pisa2009test.csv represents one student taking the exam. The datasets have the following variables:\n",
    "\n",
    "grade: The grade in school of the student (most 15-year-olds in America are in 10th grade)\n",
    "\n",
    "male: Whether the student is male (1/0)\n",
    "\n",
    "raceeth: The race/ethnicity composite of the student\n",
    "\n",
    "preschool: Whether the student attended preschool (1/0)\n",
    "\n",
    "expectBachelors: Whether the student expects to obtain a bachelor's degree (1/0)\n",
    "\n",
    "motherHS: Whether the student's mother completed high school (1/0)\n",
    "\n",
    "motherBachelors: Whether the student's mother obtained a bachelor's degree (1/0)\n",
    "\n",
    "motherWork: Whether the student's mother has part-time or full-time work (1/0)\n",
    "\n",
    "fatherHS: Whether the student's father completed high school (1/0)\n",
    "\n",
    "fatherBachelors: Whether the student's father obtained a bachelor's degree (1/0)\n",
    "\n",
    "fatherWork: Whether the student's father has part-time or full-time work (1/0)\n",
    "\n",
    "selfBornUS: Whether the student was born in the United States of America (1/0)\n",
    "\n",
    "motherBornUS: Whether the student's mother was born in the United States of America (1/0)\n",
    "\n",
    "fatherBornUS: Whether the student's father was born in the United States of America (1/0)\n",
    "\n",
    "englishAtHome: Whether the student speaks English at home (1/0)\n",
    "\n",
    "computerForSchoolwork: Whether the student has access to a computer for schoolwork (1/0)\n",
    "\n",
    "read30MinsADay: Whether the student reads for pleasure for 30 minutes/day (1/0)\n",
    "\n",
    "minutesPerWeekEnglish: The number of minutes per week the student spend in English class\n",
    "\n",
    "studentsInEnglish: The number of students in this student's English class at school\n",
    "\n",
    "schoolHasLibrary: Whether this student's school has a library (1/0)\n",
    "\n",
    "publicSchool: Whether this student attends a public school (1/0)\n",
    "\n",
    "urban: Whether this student's school is in an urban area (1/0)\n",
    "\n",
    "schoolSize: The number of students in this student's school\n",
    "\n",
    "readingScore: The student's reading score, on a 1000-point scale"
   ]
  },
  {
   "cell_type": "markdown",
   "metadata": {},
   "source": [
    "#### Problem 1.1 - Dataset size\n",
    "\n",
    "Load the training and testing sets using the read.csv() function, and save them as variables with the names pisaTrain and pisaTest.\n",
    "\n",
    "How many students are there in the training set?"
   ]
  },
  {
   "cell_type": "code",
   "execution_count": 1,
   "metadata": {},
   "outputs": [
    {
     "data": {
      "text/html": [
       "3663"
      ],
      "text/latex": [
       "3663"
      ],
      "text/markdown": [
       "3663"
      ],
      "text/plain": [
       "[1] 3663"
      ]
     },
     "metadata": {},
     "output_type": "display_data"
    }
   ],
   "source": [
    "pisaTrain <- read.csv('pisa2009train.csv')\n",
    "pisaTest <- read.csv('pisa2009test.csv')\n",
    "nrow(pisaTrain)"
   ]
  },
  {
   "cell_type": "markdown",
   "metadata": {},
   "source": [
    "#### Problem 1.2 - Summarizing the dataset\n",
    "\n",
    "Using tapply() on pisaTrain, what is the average reading test score of males?"
   ]
  },
  {
   "cell_type": "code",
   "execution_count": 2,
   "metadata": {},
   "outputs": [
    {
     "data": {
      "text/html": [
       "<dl class=dl-horizontal>\n",
       "\t<dt>0</dt>\n",
       "\t\t<dd>512.94063093244</dd>\n",
       "\t<dt>1</dt>\n",
       "\t\t<dd>483.532478632479</dd>\n",
       "</dl>\n"
      ],
      "text/plain": [
       "       0        1 \n",
       "512.9406 483.5325 "
      ]
     },
     "metadata": {},
     "output_type": "display_data"
    }
   ],
   "source": [
    "tapply( pisaTrain$readingScore, pisaTrain$male, mean)"
   ]
  },
  {
   "cell_type": "markdown",
   "metadata": {},
   "source": [
    "Of females?\n",
    "\n"
   ]
  },
  {
   "cell_type": "code",
   "execution_count": null,
   "metadata": {
    "collapsed": true
   },
   "outputs": [],
   "source": []
  },
  {
   "cell_type": "markdown",
   "metadata": {},
   "source": [
    "#### Problem 1.3 - Locating missing values\n",
    "\n",
    "Which variables are missing data in at least one observation in the training set? Select all that apply."
   ]
  },
  {
   "cell_type": "code",
   "execution_count": 3,
   "metadata": {},
   "outputs": [
    {
     "data": {
      "text/html": [
       "<dl class=dl-horizontal>\n",
       "\t<dt>grade</dt>\n",
       "\t\t<dd>0</dd>\n",
       "\t<dt>male</dt>\n",
       "\t\t<dd>0</dd>\n",
       "\t<dt>raceeth</dt>\n",
       "\t\t<dd>35</dd>\n",
       "\t<dt>preschool</dt>\n",
       "\t\t<dd>56</dd>\n",
       "\t<dt>expectBachelors</dt>\n",
       "\t\t<dd>62</dd>\n",
       "\t<dt>motherHS</dt>\n",
       "\t\t<dd>97</dd>\n",
       "\t<dt>motherBachelors</dt>\n",
       "\t\t<dd>397</dd>\n",
       "\t<dt>motherWork</dt>\n",
       "\t\t<dd>93</dd>\n",
       "\t<dt>fatherHS</dt>\n",
       "\t\t<dd>245</dd>\n",
       "\t<dt>fatherBachelors</dt>\n",
       "\t\t<dd>569</dd>\n",
       "\t<dt>fatherWork</dt>\n",
       "\t\t<dd>233</dd>\n",
       "\t<dt>selfBornUS</dt>\n",
       "\t\t<dd>69</dd>\n",
       "\t<dt>motherBornUS</dt>\n",
       "\t\t<dd>71</dd>\n",
       "\t<dt>fatherBornUS</dt>\n",
       "\t\t<dd>113</dd>\n",
       "\t<dt>englishAtHome</dt>\n",
       "\t\t<dd>71</dd>\n",
       "\t<dt>computerForSchoolwork</dt>\n",
       "\t\t<dd>65</dd>\n",
       "\t<dt>read30MinsADay</dt>\n",
       "\t\t<dd>34</dd>\n",
       "\t<dt>minutesPerWeekEnglish</dt>\n",
       "\t\t<dd>186</dd>\n",
       "\t<dt>studentsInEnglish</dt>\n",
       "\t\t<dd>249</dd>\n",
       "\t<dt>schoolHasLibrary</dt>\n",
       "\t\t<dd>143</dd>\n",
       "\t<dt>publicSchool</dt>\n",
       "\t\t<dd>0</dd>\n",
       "\t<dt>urban</dt>\n",
       "\t\t<dd>0</dd>\n",
       "\t<dt>schoolSize</dt>\n",
       "\t\t<dd>162</dd>\n",
       "\t<dt>readingScore</dt>\n",
       "\t\t<dd>0</dd>\n",
       "</dl>\n"
      ],
      "text/latex": [
       "\\begin{description*}\n",
       "\\item[grade] 0\n",
       "\\item[male] 0\n",
       "\\item[raceeth] 35\n",
       "\\item[preschool] 56\n",
       "\\item[expectBachelors] 62\n",
       "\\item[motherHS] 97\n",
       "\\item[motherBachelors] 397\n",
       "\\item[motherWork] 93\n",
       "\\item[fatherHS] 245\n",
       "\\item[fatherBachelors] 569\n",
       "\\item[fatherWork] 233\n",
       "\\item[selfBornUS] 69\n",
       "\\item[motherBornUS] 71\n",
       "\\item[fatherBornUS] 113\n",
       "\\item[englishAtHome] 71\n",
       "\\item[computerForSchoolwork] 65\n",
       "\\item[read30MinsADay] 34\n",
       "\\item[minutesPerWeekEnglish] 186\n",
       "\\item[studentsInEnglish] 249\n",
       "\\item[schoolHasLibrary] 143\n",
       "\\item[publicSchool] 0\n",
       "\\item[urban] 0\n",
       "\\item[schoolSize] 162\n",
       "\\item[readingScore] 0\n",
       "\\end{description*}\n"
      ],
      "text/markdown": [
       "grade\n",
       ":   0male\n",
       ":   0raceeth\n",
       ":   35preschool\n",
       ":   56expectBachelors\n",
       ":   62motherHS\n",
       ":   97motherBachelors\n",
       ":   397motherWork\n",
       ":   93fatherHS\n",
       ":   245fatherBachelors\n",
       ":   569fatherWork\n",
       ":   233selfBornUS\n",
       ":   69motherBornUS\n",
       ":   71fatherBornUS\n",
       ":   113englishAtHome\n",
       ":   71computerForSchoolwork\n",
       ":   65read30MinsADay\n",
       ":   34minutesPerWeekEnglish\n",
       ":   186studentsInEnglish\n",
       ":   249schoolHasLibrary\n",
       ":   143publicSchool\n",
       ":   0urban\n",
       ":   0schoolSize\n",
       ":   162readingScore\n",
       ":   0\n",
       "\n"
      ],
      "text/plain": [
       "                grade                  male               raceeth \n",
       "                    0                     0                    35 \n",
       "            preschool       expectBachelors              motherHS \n",
       "                   56                    62                    97 \n",
       "      motherBachelors            motherWork              fatherHS \n",
       "                  397                    93                   245 \n",
       "      fatherBachelors            fatherWork            selfBornUS \n",
       "                  569                   233                    69 \n",
       "         motherBornUS          fatherBornUS         englishAtHome \n",
       "                   71                   113                    71 \n",
       "computerForSchoolwork        read30MinsADay minutesPerWeekEnglish \n",
       "                   65                    34                   186 \n",
       "    studentsInEnglish      schoolHasLibrary          publicSchool \n",
       "                  249                   143                     0 \n",
       "                urban            schoolSize          readingScore \n",
       "                    0                   162                     0 "
      ]
     },
     "metadata": {},
     "output_type": "display_data"
    }
   ],
   "source": [
    "apply( X =pisaTrain, MARGIN = 2, FUN = function(col) sum(is.na(col)))"
   ]
  },
  {
   "cell_type": "markdown",
   "metadata": {},
   "source": [
    "#### Problem 1.4 - Removing missing values\n",
    "\n",
    "Linear regression discards observations with missing data, so we will remove all such observations from the training and testing sets. Later in the course, we will learn about imputation, which deals with missing data by filling in missing values with plausible information.\n",
    "\n",
    "Type the following commands into your R console to remove observations with any missing value from pisaTrain and pisaTest:\n",
    "\n",
    "pisaTrain = na.omit(pisaTrain)\n",
    "\n",
    "pisaTest = na.omit(pisaTest)\n",
    "\n",
    "How many observations are now in the training set?"
   ]
  },
  {
   "cell_type": "code",
   "execution_count": 4,
   "metadata": {},
   "outputs": [
    {
     "data": {
      "text/html": [
       "2414"
      ],
      "text/latex": [
       "2414"
      ],
      "text/markdown": [
       "2414"
      ],
      "text/plain": [
       "[1] 2414"
      ]
     },
     "metadata": {},
     "output_type": "display_data"
    }
   ],
   "source": [
    "pisaTrain = na.omit(pisaTrain)\n",
    "\n",
    "pisaTest = na.omit(pisaTest)\n",
    "\n",
    "nrow(pisaTrain)"
   ]
  },
  {
   "cell_type": "markdown",
   "metadata": {},
   "source": [
    "How many observations are now in the testing set?\n",
    "\n"
   ]
  },
  {
   "cell_type": "code",
   "execution_count": 5,
   "metadata": {},
   "outputs": [
    {
     "data": {
      "text/html": [
       "990"
      ],
      "text/latex": [
       "990"
      ],
      "text/markdown": [
       "990"
      ],
      "text/plain": [
       "[1] 990"
      ]
     },
     "metadata": {},
     "output_type": "display_data"
    }
   ],
   "source": [
    "nrow(pisaTest)"
   ]
  },
  {
   "cell_type": "markdown",
   "metadata": {},
   "source": [
    "#### Problem 2.1 - Factor variables\n",
    "\n",
    "Factor variables are variables that take on a discrete set of values, like the \"Region\" variable in the WHO dataset from the second lecture of Unit 1. This is an unordered factor because there isn't any natural ordering between the levels. An ordered factor has a natural ordering between the levels (an example would be the classifications \"large,\" \"medium,\" and \"small\").\n",
    "\n",
    "Which of the following variables is an unordered factor with at least 3 levels? (Select all that apply.)"
   ]
  },
  {
   "cell_type": "code",
   "execution_count": 6,
   "metadata": {},
   "outputs": [
    {
     "data": {
      "text/plain": [
       "     grade            male                                          raceeth    \n",
       " Min.   : 8.00   Min.   :0.0000   American Indian/Alaska Native         :  20  \n",
       " 1st Qu.:10.00   1st Qu.:0.0000   Asian                                 :  95  \n",
       " Median :10.00   Median :1.0000   Black                                 : 228  \n",
       " Mean   :10.13   Mean   :0.5012   Hispanic                              : 500  \n",
       " 3rd Qu.:10.00   3rd Qu.:1.0000   More than one race                    :  81  \n",
       " Max.   :12.00   Max.   :1.0000   Native Hawaiian/Other Pacific Islander:  20  \n",
       "                                  White                                 :1470  \n",
       "   preschool      expectBachelors     motherHS     motherBachelors \n",
       " Min.   :0.0000   Min.   :0.0000   Min.   :0.000   Min.   :0.0000  \n",
       " 1st Qu.:0.0000   1st Qu.:1.0000   1st Qu.:1.000   1st Qu.:0.0000  \n",
       " Median :1.0000   Median :1.0000   Median :1.000   Median :0.0000  \n",
       " Mean   :0.7274   Mean   :0.8343   Mean   :0.896   Mean   :0.3637  \n",
       " 3rd Qu.:1.0000   3rd Qu.:1.0000   3rd Qu.:1.000   3rd Qu.:1.0000  \n",
       " Max.   :1.0000   Max.   :1.0000   Max.   :1.000   Max.   :1.0000  \n",
       "                                                                   \n",
       "   motherWork        fatherHS      fatherBachelors    fatherWork    \n",
       " Min.   :0.0000   Min.   :0.0000   Min.   :0.0000   Min.   :0.0000  \n",
       " 1st Qu.:0.0000   1st Qu.:1.0000   1st Qu.:0.0000   1st Qu.:1.0000  \n",
       " Median :1.0000   Median :1.0000   Median :0.0000   Median :1.0000  \n",
       " Mean   :0.7357   Mean   :0.8741   Mean   :0.3484   Mean   :0.8571  \n",
       " 3rd Qu.:1.0000   3rd Qu.:1.0000   3rd Qu.:1.0000   3rd Qu.:1.0000  \n",
       " Max.   :1.0000   Max.   :1.0000   Max.   :1.0000   Max.   :1.0000  \n",
       "                                                                    \n",
       "   selfBornUS      motherBornUS   fatherBornUS    englishAtHome   \n",
       " Min.   :0.0000   Min.   :0.00   Min.   :0.0000   Min.   :0.0000  \n",
       " 1st Qu.:1.0000   1st Qu.:1.00   1st Qu.:1.0000   1st Qu.:1.0000  \n",
       " Median :1.0000   Median :1.00   Median :1.0000   Median :1.0000  \n",
       " Mean   :0.9362   Mean   :0.79   Mean   :0.7854   Mean   :0.8815  \n",
       " 3rd Qu.:1.0000   3rd Qu.:1.00   3rd Qu.:1.0000   3rd Qu.:1.0000  \n",
       " Max.   :1.0000   Max.   :1.00   Max.   :1.0000   Max.   :1.0000  \n",
       "                                                                  \n",
       " computerForSchoolwork read30MinsADay   minutesPerWeekEnglish studentsInEnglish\n",
       " Min.   :0.0000        Min.   :0.0000   Min.   :   0.0        Min.   : 1.00    \n",
       " 1st Qu.:1.0000        1st Qu.:0.0000   1st Qu.: 225.0        1st Qu.:20.00    \n",
       " Median :1.0000        Median :0.0000   Median : 250.0        Median :25.00    \n",
       " Mean   :0.9155        Mean   :0.3016   Mean   : 269.8        Mean   :24.56    \n",
       " 3rd Qu.:1.0000        3rd Qu.:1.0000   3rd Qu.: 300.0        3rd Qu.:30.00    \n",
       " Max.   :1.0000        Max.   :1.0000   Max.   :1680.0        Max.   :75.00    \n",
       "                                                                               \n",
       " schoolHasLibrary  publicSchool        urban          schoolSize  \n",
       " Min.   :0.0000   Min.   :0.0000   Min.   :0.0000   Min.   : 100  \n",
       " 1st Qu.:1.0000   1st Qu.:1.0000   1st Qu.:0.0000   1st Qu.: 712  \n",
       " Median :1.0000   Median :1.0000   Median :0.0000   Median :1233  \n",
       " Mean   :0.9714   Mean   :0.9176   Mean   :0.3629   Mean   :1372  \n",
       " 3rd Qu.:1.0000   3rd Qu.:1.0000   3rd Qu.:1.0000   3rd Qu.:1900  \n",
       " Max.   :1.0000   Max.   :1.0000   Max.   :1.0000   Max.   :6694  \n",
       "                                                                  \n",
       "  readingScore  \n",
       " Min.   :244.5  \n",
       " 1st Qu.:455.8  \n",
       " Median :520.2  \n",
       " Mean   :518.0  \n",
       " 3rd Qu.:581.4  \n",
       " Max.   :746.0  \n",
       "                "
      ]
     },
     "metadata": {},
     "output_type": "display_data"
    }
   ],
   "source": [
    "summary(pisaTrain)"
   ]
  },
  {
   "cell_type": "markdown",
   "metadata": {},
   "source": [
    "raceeth"
   ]
  },
  {
   "cell_type": "markdown",
   "metadata": {},
   "source": [
    "Which of the following variables is an ordered factor with at least 3 levels? (Select all that apply.)\n",
    "\n",
    "\n"
   ]
  },
  {
   "cell_type": "markdown",
   "metadata": {
    "collapsed": true
   },
   "source": [
    "grade"
   ]
  },
  {
   "cell_type": "markdown",
   "metadata": {},
   "source": [
    "#### Problem 2.2 - Unordered factors in regression models\n",
    "\n",
    "To include unordered factors in a linear regression model, we define one level as the \"reference level\" and add a binary variable for each of the remaining levels. In this way, a factor with n levels is replaced by n-1 binary variables. The reference level is typically selected to be the most frequently occurring level in the dataset.\n",
    "\n",
    "As an example, consider the unordered factor variable \"color\", with levels \"red\", \"green\", and \"blue\". If \"green\" were the reference level, then we would add binary variables \"colorred\" and \"colorblue\" to a linear regression problem. All red examples would have colorred=1 and colorblue=0. All blue examples would have colorred=0 and colorblue=1. All green examples would have colorred=0 and colorblue=0.\n",
    "\n",
    "Now, consider the variable \"raceeth\" in our problem, which has levels \"American Indian/Alaska Native\", \"Asian\", \"Black\", \"Hispanic\", \"More than one race\", \"Native Hawaiian/Other Pacific Islander\", and \"White\". Because it is the most common in our population, we will select White as the reference level.\n",
    "\n",
    "Which binary variables will be included in the regression model? (Select all that apply.)"
   ]
  },
  {
   "cell_type": "code",
   "execution_count": null,
   "metadata": {},
   "outputs": [],
   "source": []
  },
  {
   "cell_type": "code",
   "execution_count": null,
   "metadata": {
    "collapsed": true
   },
   "outputs": [],
   "source": []
  },
  {
   "cell_type": "markdown",
   "metadata": {},
   "source": [
    "#### Problem 2.3 - Example unordered factors\n",
    "\n",
    "Consider again adding our unordered factor race to the regression model with reference level \"White\".\n",
    "\n",
    "For a student who is Asian, which binary variables would be set to 0? All remaining variables will be set to 1. (Select all that apply.)"
   ]
  },
  {
   "cell_type": "code",
   "execution_count": null,
   "metadata": {
    "collapsed": true
   },
   "outputs": [],
   "source": []
  },
  {
   "cell_type": "markdown",
   "metadata": {},
   "source": [
    "For a student who is white, which binary variables would be set to 0? All remaining variables will be set to 1. (Select all that apply.)\n",
    "\n",
    "\n"
   ]
  },
  {
   "cell_type": "code",
   "execution_count": null,
   "metadata": {
    "collapsed": true
   },
   "outputs": [],
   "source": []
  },
  {
   "cell_type": "markdown",
   "metadata": {},
   "source": [
    "#### Problem 3.1 - Building a model\n",
    "\n",
    "Because the race variable takes on text values, it was loaded as a factor variable when we read in the dataset with read.csv() -- you can see this when you run str(pisaTrain) or str(pisaTest). However, by default R selects the first level alphabetically (\"American Indian/Alaska Native\") as the reference level of our factor instead of the most common level (\"White\"). Set the reference level of the factor by typing the following two lines in your R console:\n",
    "\n",
    "pisaTrain$raceeth = relevel(pisaTrain$raceeth, \"White\")\n",
    "\n",
    "pisaTest$raceeth = relevel(pisaTest$raceeth, \"White\")\n",
    "\n",
    "Now, build a linear regression model (call it lmScore) using the training set to predict readingScore using all the remaining variables.\n",
    "\n",
    "It would be time-consuming to type all the variables, but R provides the shorthand notation \"readingScore ~ .\" to mean \"predict readingScore using all the other variables in the data frame.\" The period is used to replace listing out all of the independent variables. As an example, if your dependent variable is called \"Y\", your independent variables are called \"X1\", \"X2\", and \"X3\", and your training data set is called \"Train\", instead of the regular notation:\n",
    "\n",
    "LinReg = lm(Y ~ X1 + X2 + X3, data = Train)\n",
    "\n",
    "You would use the following command to build your model:\n",
    "\n",
    "LinReg = lm(Y ~ ., data = Train)\n",
    "\n",
    "What is the Multiple R-squared value of lmScore on the training set?"
   ]
  },
  {
   "cell_type": "code",
   "execution_count": 7,
   "metadata": {},
   "outputs": [
    {
     "name": "stdout",
     "output_type": "stream",
     "text": [
      "'data.frame':\t2414 obs. of  24 variables:\n",
      " $ grade                : int  11 10 10 10 10 10 10 10 11 9 ...\n",
      " $ male                 : int  1 0 1 0 1 0 0 0 1 1 ...\n",
      " $ raceeth              : Factor w/ 7 levels \"American Indian/Alaska Native\",..: 7 3 4 7 5 4 7 4 7 7 ...\n",
      " $ preschool            : int  0 1 1 1 1 1 1 1 1 1 ...\n",
      " $ expectBachelors      : int  0 1 0 1 1 1 1 0 1 1 ...\n",
      " $ motherHS             : int  1 0 1 1 1 1 1 0 1 1 ...\n",
      " $ motherBachelors      : int  1 0 0 0 1 0 0 0 0 1 ...\n",
      " $ motherWork           : int  1 1 1 0 1 1 1 0 0 1 ...\n",
      " $ fatherHS             : int  1 1 1 1 0 1 1 0 1 1 ...\n",
      " $ fatherBachelors      : int  0 0 0 0 0 0 1 0 1 1 ...\n",
      " $ fatherWork           : int  1 1 0 1 1 0 1 1 1 1 ...\n",
      " $ selfBornUS           : int  1 1 1 1 1 0 1 0 1 1 ...\n",
      " $ motherBornUS         : int  1 1 1 1 1 0 1 0 1 1 ...\n",
      " $ fatherBornUS         : int  1 1 0 1 1 0 1 0 1 1 ...\n",
      " $ englishAtHome        : int  1 1 1 1 1 0 1 0 1 1 ...\n",
      " $ computerForSchoolwork: int  1 1 1 1 1 0 1 1 1 1 ...\n",
      " $ read30MinsADay       : int  1 1 1 1 0 1 1 1 0 0 ...\n",
      " $ minutesPerWeekEnglish: int  450 200 250 300 294 232 225 270 275 225 ...\n",
      " $ studentsInEnglish    : int  25 23 35 30 24 14 20 25 30 15 ...\n",
      " $ schoolHasLibrary     : int  1 1 1 1 1 1 1 1 1 1 ...\n",
      " $ publicSchool         : int  1 1 1 1 1 1 1 1 1 0 ...\n",
      " $ urban                : int  0 1 1 0 0 0 0 1 1 1 ...\n",
      " $ schoolSize           : int  1173 2640 1095 1913 899 1733 149 1400 1988 915 ...\n",
      " $ readingScore         : num  575 458 614 439 466 ...\n",
      " - attr(*, \"na.action\")=Class 'omit'  Named int [1:1249] 1 3 6 7 9 11 13 21 29 30 ...\n",
      "  .. ..- attr(*, \"names\")= chr [1:1249] \"1\" \"3\" \"6\" \"7\" ...\n"
     ]
    }
   ],
   "source": [
    "str(pisaTrain)"
   ]
  },
  {
   "cell_type": "code",
   "execution_count": 8,
   "metadata": {},
   "outputs": [
    {
     "name": "stdout",
     "output_type": "stream",
     "text": [
      "'data.frame':\t2414 obs. of  24 variables:\n",
      " $ grade                : int  11 10 10 10 10 10 10 10 11 9 ...\n",
      " $ male                 : int  1 0 1 0 1 0 0 0 1 1 ...\n",
      " $ raceeth              : Factor w/ 7 levels \"White\",\"American Indian/Alaska Native\",..: 1 4 5 1 6 5 1 5 1 1 ...\n",
      " $ preschool            : int  0 1 1 1 1 1 1 1 1 1 ...\n",
      " $ expectBachelors      : int  0 1 0 1 1 1 1 0 1 1 ...\n",
      " $ motherHS             : int  1 0 1 1 1 1 1 0 1 1 ...\n",
      " $ motherBachelors      : int  1 0 0 0 1 0 0 0 0 1 ...\n",
      " $ motherWork           : int  1 1 1 0 1 1 1 0 0 1 ...\n",
      " $ fatherHS             : int  1 1 1 1 0 1 1 0 1 1 ...\n",
      " $ fatherBachelors      : int  0 0 0 0 0 0 1 0 1 1 ...\n",
      " $ fatherWork           : int  1 1 0 1 1 0 1 1 1 1 ...\n",
      " $ selfBornUS           : int  1 1 1 1 1 0 1 0 1 1 ...\n",
      " $ motherBornUS         : int  1 1 1 1 1 0 1 0 1 1 ...\n",
      " $ fatherBornUS         : int  1 1 0 1 1 0 1 0 1 1 ...\n",
      " $ englishAtHome        : int  1 1 1 1 1 0 1 0 1 1 ...\n",
      " $ computerForSchoolwork: int  1 1 1 1 1 0 1 1 1 1 ...\n",
      " $ read30MinsADay       : int  1 1 1 1 0 1 1 1 0 0 ...\n",
      " $ minutesPerWeekEnglish: int  450 200 250 300 294 232 225 270 275 225 ...\n",
      " $ studentsInEnglish    : int  25 23 35 30 24 14 20 25 30 15 ...\n",
      " $ schoolHasLibrary     : int  1 1 1 1 1 1 1 1 1 1 ...\n",
      " $ publicSchool         : int  1 1 1 1 1 1 1 1 1 0 ...\n",
      " $ urban                : int  0 1 1 0 0 0 0 1 1 1 ...\n",
      " $ schoolSize           : int  1173 2640 1095 1913 899 1733 149 1400 1988 915 ...\n",
      " $ readingScore         : num  575 458 614 439 466 ...\n",
      " - attr(*, \"na.action\")=Class 'omit'  Named int [1:1249] 1 3 6 7 9 11 13 21 29 30 ...\n",
      "  .. ..- attr(*, \"names\")= chr [1:1249] \"1\" \"3\" \"6\" \"7\" ...\n"
     ]
    }
   ],
   "source": [
    "pisaTrain$raceeth = relevel(pisaTrain$raceeth, \"White\")\n",
    "\n",
    "pisaTest$raceeth = relevel(pisaTest$raceeth, \"White\")\n",
    "\n",
    "str(pisaTrain)"
   ]
  },
  {
   "cell_type": "markdown",
   "metadata": {},
   "source": [
    "Note that this R-squared is lower than the ones for the models we saw in the lectures and recitation. This does not necessarily imply that the model is of poor quality. More often than not, it simply means that the prediction problem at hand (predicting a student's test score based on demographic and school-related variables) is more difficult than other prediction problems (like predicting a team's number of wins from their runs scored and allowed, or predicting the quality of wine from weather conditions).\n",
    "\n"
   ]
  },
  {
   "cell_type": "code",
   "execution_count": 9,
   "metadata": {},
   "outputs": [
    {
     "data": {
      "text/html": [
       "0.325143355921357"
      ],
      "text/latex": [
       "0.325143355921357"
      ],
      "text/markdown": [
       "0.325143355921357"
      ],
      "text/plain": [
       "[1] 0.3251434"
      ]
     },
     "metadata": {},
     "output_type": "display_data"
    }
   ],
   "source": [
    "lmScore <- lm(readingScore ~ . , data=pisaTrain )\n",
    "summary(lmScore)$r.squared"
   ]
  },
  {
   "cell_type": "markdown",
   "metadata": {},
   "source": [
    "#### Problem 3.2 - Computing the root-mean squared error of the model\n",
    "\n",
    "What is the training-set root-mean squared error (RMSE) of lmScore?"
   ]
  },
  {
   "cell_type": "code",
   "execution_count": 10,
   "metadata": {},
   "outputs": [
    {
     "data": {
      "text/html": [
       "73.3655514329845"
      ],
      "text/latex": [
       "73.3655514329845"
      ],
      "text/markdown": [
       "73.3655514329845"
      ],
      "text/plain": [
       "[1] 73.36555"
      ]
     },
     "metadata": {},
     "output_type": "display_data"
    }
   ],
   "source": [
    "SSE<-sum(lmScore$residuals^2)\n",
    "RMSETrain<-sqrt(SSE/nrow(pisaTrain))\n",
    "RMSETrain"
   ]
  },
  {
   "cell_type": "markdown",
   "metadata": {},
   "source": [
    "#### Problem 3.3 - Comparing predictions for similar students\n",
    "\n",
    "Consider two students A and B. They have all variable values the same, except that student A is in grade 11 and student B is in grade 9. What is the predicted reading score of student A minus the predicted reading score of student B?"
   ]
  },
  {
   "cell_type": "code",
   "execution_count": 11,
   "metadata": {},
   "outputs": [],
   "source": [
    "predictPisa <- predict(lmScore, pisaTest)"
   ]
  },
  {
   "cell_type": "code",
   "execution_count": null,
   "metadata": {
    "collapsed": true
   },
   "outputs": [],
   "source": []
  },
  {
   "cell_type": "markdown",
   "metadata": {},
   "source": [
    "#### Problem 3.4 - Interpreting model coefficients\n",
    "\n",
    "What is the meaning of the coefficient associated with variable raceethAsian?"
   ]
  },
  {
   "cell_type": "code",
   "execution_count": null,
   "metadata": {
    "collapsed": true
   },
   "outputs": [],
   "source": []
  },
  {
   "cell_type": "markdown",
   "metadata": {},
   "source": [
    "#### Problem 3.5 - Identifying variables lacking statistical significance\n",
    "\n",
    "Based on the significance codes, which variables are candidates for removal from the model? Select all that apply. (We'll assume that the factor variable raceeth should only be removed if none of its levels are significant.)"
   ]
  },
  {
   "cell_type": "code",
   "execution_count": 12,
   "metadata": {},
   "outputs": [
    {
     "data": {
      "text/plain": [
       "\n",
       "Call:\n",
       "lm(formula = readingScore ~ ., data = pisaTrain)\n",
       "\n",
       "Residuals:\n",
       "    Min      1Q  Median      3Q     Max \n",
       "-247.44  -48.86    1.86   49.77  217.18 \n",
       "\n",
       "Coefficients:\n",
       "                                                Estimate Std. Error t value\n",
       "(Intercept)                                   143.766333  33.841226   4.248\n",
       "grade                                          29.542707   2.937399  10.057\n",
       "male                                          -14.521653   3.155926  -4.601\n",
       "raceethAmerican Indian/Alaska Native          -67.277327  16.786935  -4.008\n",
       "raceethAsian                                   -4.110325   9.220071  -0.446\n",
       "raceethBlack                                  -67.012347   5.460883 -12.271\n",
       "raceethHispanic                               -38.975486   5.177743  -7.528\n",
       "raceethMore than one race                     -16.922522   8.496268  -1.992\n",
       "raceethNative Hawaiian/Other Pacific Islander  -5.101601  17.005696  -0.300\n",
       "preschool                                      -4.463670   3.486055  -1.280\n",
       "expectBachelors                                55.267080   4.293893  12.871\n",
       "motherHS                                        6.058774   6.091423   0.995\n",
       "motherBachelors                                12.638068   3.861457   3.273\n",
       "motherWork                                     -2.809101   3.521827  -0.798\n",
       "fatherHS                                        4.018214   5.579269   0.720\n",
       "fatherBachelors                                16.929755   3.995253   4.237\n",
       "fatherWork                                      5.842798   4.395978   1.329\n",
       "selfBornUS                                     -3.806278   7.323718  -0.520\n",
       "motherBornUS                                   -8.798153   6.587621  -1.336\n",
       "fatherBornUS                                    4.306994   6.263875   0.688\n",
       "englishAtHome                                   8.035685   6.859492   1.171\n",
       "computerForSchoolwork                          22.500232   5.702562   3.946\n",
       "read30MinsADay                                 34.871924   3.408447  10.231\n",
       "minutesPerWeekEnglish                           0.012788   0.010712   1.194\n",
       "studentsInEnglish                              -0.286631   0.227819  -1.258\n",
       "schoolHasLibrary                               12.215085   9.264884   1.318\n",
       "publicSchool                                  -16.857475   6.725614  -2.506\n",
       "urban                                          -0.110132   3.962724  -0.028\n",
       "schoolSize                                      0.006540   0.002197   2.977\n",
       "                                              Pr(>|t|)    \n",
       "(Intercept)                                   2.24e-05 ***\n",
       "grade                                          < 2e-16 ***\n",
       "male                                          4.42e-06 ***\n",
       "raceethAmerican Indian/Alaska Native          6.32e-05 ***\n",
       "raceethAsian                                   0.65578    \n",
       "raceethBlack                                   < 2e-16 ***\n",
       "raceethHispanic                               7.29e-14 ***\n",
       "raceethMore than one race                      0.04651 *  \n",
       "raceethNative Hawaiian/Other Pacific Islander  0.76421    \n",
       "preschool                                      0.20052    \n",
       "expectBachelors                                < 2e-16 ***\n",
       "motherHS                                       0.32001    \n",
       "motherBachelors                                0.00108 ** \n",
       "motherWork                                     0.42517    \n",
       "fatherHS                                       0.47147    \n",
       "fatherBachelors                               2.35e-05 ***\n",
       "fatherWork                                     0.18393    \n",
       "selfBornUS                                     0.60331    \n",
       "motherBornUS                                   0.18182    \n",
       "fatherBornUS                                   0.49178    \n",
       "englishAtHome                                  0.24153    \n",
       "computerForSchoolwork                         8.19e-05 ***\n",
       "read30MinsADay                                 < 2e-16 ***\n",
       "minutesPerWeekEnglish                          0.23264    \n",
       "studentsInEnglish                              0.20846    \n",
       "schoolHasLibrary                               0.18749    \n",
       "publicSchool                                   0.01226 *  \n",
       "urban                                          0.97783    \n",
       "schoolSize                                     0.00294 ** \n",
       "---\n",
       "Signif. codes:  0 '***' 0.001 '**' 0.01 '*' 0.05 '.' 0.1 ' ' 1\n",
       "\n",
       "Residual standard error: 73.81 on 2385 degrees of freedom\n",
       "Multiple R-squared:  0.3251,\tAdjusted R-squared:  0.3172 \n",
       "F-statistic: 41.04 on 28 and 2385 DF,  p-value: < 2.2e-16\n"
      ]
     },
     "metadata": {},
     "output_type": "display_data"
    }
   ],
   "source": [
    "summary(lmScore)"
   ]
  },
  {
   "cell_type": "markdown",
   "metadata": {},
   "source": [
    "#### Problem 4.1 - Predicting on unseen data\n",
    "\n",
    "Using the \"predict\" function and supplying the \"newdata\" argument, use the lmScore model to predict the reading scores of students in pisaTest. Call this vector of predictions \"predTest\". Do not change the variables in the model (for example, do not remove variables that we found were not significant in the previous part of this problem). Use the summary function to describe the test set predictions.\n",
    "\n",
    "What is the range between the maximum and minimum predicted reading score on the test set?\n",
    "\n",
    "\n",
    "sin responder\n"
   ]
  },
  {
   "cell_type": "code",
   "execution_count": 13,
   "metadata": {},
   "outputs": [
    {
     "data": {
      "text/plain": [
       "   Min. 1st Qu.  Median    Mean 3rd Qu.    Max. \n",
       "  353.2   482.0   524.0   516.7   555.7   637.7 "
      ]
     },
     "metadata": {},
     "output_type": "display_data"
    }
   ],
   "source": [
    "predTest <- predict(lmScore, pisaTest)\n",
    "summary(predTest)"
   ]
  },
  {
   "cell_type": "code",
   "execution_count": 14,
   "metadata": {},
   "outputs": [
    {
     "data": {
      "text/html": [
       "284.468311795137"
      ],
      "text/latex": [
       "284.468311795137"
      ],
      "text/markdown": [
       "284.468311795137"
      ],
      "text/plain": [
       "[1] 284.4683"
      ]
     },
     "metadata": {},
     "output_type": "display_data"
    }
   ],
   "source": [
    "max(predTest)-min(predTest)"
   ]
  },
  {
   "cell_type": "markdown",
   "metadata": {},
   "source": [
    "#### Problem 4.2 - Test set SSE and RMSE\n",
    "\n",
    "What is the sum of squared errors (SSE) of lmScore on the testing set?"
   ]
  },
  {
   "cell_type": "code",
   "execution_count": 15,
   "metadata": {},
   "outputs": [
    {
     "data": {
      "text/html": [
       "5762082.37114443"
      ],
      "text/latex": [
       "5762082.37114443"
      ],
      "text/markdown": [
       "5762082.37114443"
      ],
      "text/plain": [
       "[1] 5762082"
      ]
     },
     "metadata": {},
     "output_type": "display_data"
    }
   ],
   "source": [
    "SSE <- sum((predTest-pisaTest$readingScore)^2)\n",
    "SSE"
   ]
  },
  {
   "cell_type": "markdown",
   "metadata": {},
   "source": [
    "What is the root-mean squared error (RMSE) of lmScore on the testing set?\n",
    "\n"
   ]
  },
  {
   "cell_type": "code",
   "execution_count": 16,
   "metadata": {},
   "outputs": [
    {
     "data": {
      "text/html": [
       "76.2907938310922"
      ],
      "text/latex": [
       "76.2907938310922"
      ],
      "text/markdown": [
       "76.2907938310922"
      ],
      "text/plain": [
       "[1] 76.29079"
      ]
     },
     "metadata": {},
     "output_type": "display_data"
    }
   ],
   "source": [
    "RMSE <- sqrt(SSE/nrow(pisaTest))\n",
    "RMSE"
   ]
  },
  {
   "cell_type": "markdown",
   "metadata": {},
   "source": [
    "#### Problem 4.3 - Baseline prediction and test-set SSE\n",
    "\n",
    "\n",
    "What is the predicted test score used in the baseline model? Remember to compute this value using the training set and not the test set."
   ]
  },
  {
   "cell_type": "code",
   "execution_count": 17,
   "metadata": {},
   "outputs": [
    {
     "data": {
      "text/html": [
       "517.962887323944"
      ],
      "text/latex": [
       "517.962887323944"
      ],
      "text/markdown": [
       "517.962887323944"
      ],
      "text/plain": [
       "[1] 517.9629"
      ]
     },
     "metadata": {},
     "output_type": "display_data"
    }
   ],
   "source": [
    "baseline <- mean(pisaTrain$readingScore)\n",
    "baseline"
   ]
  },
  {
   "cell_type": "markdown",
   "metadata": {},
   "source": [
    "What is the sum of squared errors of the baseline model on the testing set? HINT: We call the sum of squared errors for the baseline model the total sum of squares (SST)."
   ]
  },
  {
   "cell_type": "code",
   "execution_count": 18,
   "metadata": {},
   "outputs": [
    {
     "data": {
      "text/html": [
       "7802354.07761384"
      ],
      "text/latex": [
       "7802354.07761384"
      ],
      "text/markdown": [
       "7802354.07761384"
      ],
      "text/plain": [
       "[1] 7802354"
      ]
     },
     "metadata": {},
     "output_type": "display_data"
    }
   ],
   "source": [
    "SST <- sum((pisaTest$readingScore - baseline)^2)\n",
    "SST"
   ]
  },
  {
   "cell_type": "markdown",
   "metadata": {},
   "source": [
    "#### Problem 4.4 - Test-set R-squared\n",
    "\n",
    "What is the test-set R-squared value of lmScore?"
   ]
  },
  {
   "cell_type": "code",
   "execution_count": 19,
   "metadata": {},
   "outputs": [
    {
     "data": {
      "text/html": [
       "0.261494375437698"
      ],
      "text/latex": [
       "0.261494375437698"
      ],
      "text/markdown": [
       "0.261494375437698"
      ],
      "text/plain": [
       "[1] 0.2614944"
      ]
     },
     "metadata": {},
     "output_type": "display_data"
    }
   ],
   "source": [
    "1-(SSE/SST)"
   ]
  }
 ],
 "metadata": {
  "kernelspec": {
   "display_name": "R",
   "language": "R",
   "name": "ir"
  },
  "language_info": {
   "codemirror_mode": "r",
   "file_extension": ".r",
   "mimetype": "text/x-r-source",
   "name": "R",
   "pygments_lexer": "r",
   "version": "3.3.3"
  }
 },
 "nbformat": 4,
 "nbformat_minor": 2
}
