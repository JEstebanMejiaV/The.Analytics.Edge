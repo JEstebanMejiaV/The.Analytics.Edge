{
 "cells": [
  {
   "cell_type": "markdown",
   "metadata": {},
   "source": [
    "### Detecting Flu Epidemics via Search Engine Query Data \n",
    "\n",
    "Flu epidemics constitute a major public health concern causing respiratory illnesses, hospitalizations, and deaths. According to the National Vital Statistics Reports published in October 2012, influenza ranked as the eighth leading cause of death in 2011 in the United States. Each year, 250,000 to 500,000 deaths are attributed to influenza related diseases throughout the world.\n",
    "\n",
    "The U.S. Centers for Disease Control and Prevention (CDC) and the European Influenza Surveillance Scheme (EISS) detect influenza activity through virologic and clinical data, including Influenza-like Illness (ILI) physician visits. Reporting national and regional data, however, are published with a 1-2 week lag.\n",
    "\n",
    "The Google Flu Trends project was initiated to see if faster reporting can be made possible by considering flu-related online search queries -- data that is available almost immediately."
   ]
  },
  {
   "cell_type": "markdown",
   "metadata": {},
   "source": [
    "#### Problem 1.1 - Understanding the Data\n",
    "\n",
    "We would like to estimate influenza-like illness (ILI) activity using Google web search logs. Fortunately, one can easily access this data online:\n",
    "\n",
    "ILI Data - The CDC publishes on its website the official regional and state-level percentage of patient visits to healthcare providers for ILI purposes on a weekly basis.\n",
    "\n",
    "Google Search Queries - Google Trends allows public retrieval of weekly counts for every query searched by users around the world. For each location, the counts are normalized by dividing the count for each query in a particular week by the total number of online search queries submitted in that location during the week. Then, the values are adjusted to be between 0 and 1.\n",
    "\n",
    "The csv file FluTrain.csv aggregates this data from January 1, 2004 until December 31, 2011 as follows:\n",
    "\n",
    "\"Week\" - The range of dates represented by this observation, in year/month/day format.\n",
    "\n",
    "\"ILI\" - This column lists the percentage of ILI-related physician visits for the corresponding week.\n",
    "\n",
    "\"Queries\" - This column lists the fraction of queries that are ILI-related for the corresponding week, adjusted to be between 0 and 1 (higher values correspond to more ILI-related search queries).\n",
    "\n",
    "Before applying analytics tools on the training set, we first need to understand the data at hand. Load \"FluTrain.csv\" into a data frame called FluTrain. Looking at the time period 2004-2011, which week corresponds to the highest percentage of ILI-related physician visits? Select the day of the month corresponding to the start of this week."
   ]
  },
  {
   "cell_type": "code",
   "execution_count": 2,
   "metadata": {},
   "outputs": [
    {
     "data": {
      "text/html": [
       "<table>\n",
       "<thead><tr><th scope=col>Week</th><th scope=col>ILI</th><th scope=col>Queries</th></tr></thead>\n",
       "<tbody>\n",
       "\t<tr><td>2004-01-04 - 2004-01-10</td><td>2.418331               </td><td>0.2377158              </td></tr>\n",
       "\t<tr><td>2004-01-11 - 2004-01-17</td><td>1.809056               </td><td>0.2204515              </td></tr>\n",
       "\t<tr><td>2004-01-18 - 2004-01-24</td><td>1.712024               </td><td>0.2257636              </td></tr>\n",
       "\t<tr><td>2004-01-25 - 2004-01-31</td><td>1.542495               </td><td>0.2377158              </td></tr>\n",
       "\t<tr><td>2004-02-01 - 2004-02-07</td><td>1.437868               </td><td>0.2244356              </td></tr>\n",
       "\t<tr><td>2004-02-08 - 2004-02-14</td><td>1.324274               </td><td>0.2071713              </td></tr>\n",
       "</tbody>\n",
       "</table>\n"
      ],
      "text/latex": [
       "\\begin{tabular}{r|lll}\n",
       " Week & ILI & Queries\\\\\n",
       "\\hline\n",
       "\t 2004-01-04 - 2004-01-10 & 2.418331                & 0.2377158              \\\\\n",
       "\t 2004-01-11 - 2004-01-17 & 1.809056                & 0.2204515              \\\\\n",
       "\t 2004-01-18 - 2004-01-24 & 1.712024                & 0.2257636              \\\\\n",
       "\t 2004-01-25 - 2004-01-31 & 1.542495                & 0.2377158              \\\\\n",
       "\t 2004-02-01 - 2004-02-07 & 1.437868                & 0.2244356              \\\\\n",
       "\t 2004-02-08 - 2004-02-14 & 1.324274                & 0.2071713              \\\\\n",
       "\\end{tabular}\n"
      ],
      "text/plain": [
       "  Week                    ILI      Queries  \n",
       "1 2004-01-04 - 2004-01-10 2.418331 0.2377158\n",
       "2 2004-01-11 - 2004-01-17 1.809056 0.2204515\n",
       "3 2004-01-18 - 2004-01-24 1.712024 0.2257636\n",
       "4 2004-01-25 - 2004-01-31 1.542495 0.2377158\n",
       "5 2004-02-01 - 2004-02-07 1.437868 0.2244356\n",
       "6 2004-02-08 - 2004-02-14 1.324274 0.2071713"
      ]
     },
     "metadata": {},
     "output_type": "display_data"
    }
   ],
   "source": [
    "FluTrain <- read.csv('FluTrain.csv')\n",
    "head(FluTrain)"
   ]
  },
  {
   "cell_type": "code",
   "execution_count": null,
   "metadata": {
    "collapsed": true
   },
   "outputs": [],
   "source": []
  },
  {
   "cell_type": "code",
   "execution_count": 3,
   "metadata": {},
   "outputs": [
    {
     "data": {
      "image/png": "[encoded data removed]",
      "text/plain": [
       "plot without title"
      ]
     },
     "metadata": {},
     "output_type": "display_data"
    }
   ],
   "source": [
    "plot(FluTrain$Week, FluTrain$ILI)"
   ]
  },
  {
   "cell_type": "code",
   "execution_count": 9,
   "metadata": {},
   "outputs": [
    {
     "data": {
      "text/html": [
       "<table>\n",
       "<thead><tr><th></th><th scope=col>Week</th><th scope=col>ILI</th><th scope=col>Queries</th></tr></thead>\n",
       "<tbody>\n",
       "\t<tr><th scope=row>NA</th><td>NA</td><td>NA</td><td>NA</td></tr>\n",
       "</tbody>\n",
       "</table>\n"
      ],
      "text/latex": [
       "\\begin{tabular}{r|lll}\n",
       "  & Week & ILI & Queries\\\\\n",
       "\\hline\n",
       "\tNA & NA & NA & NA\\\\\n",
       "\\end{tabular}\n"
      ],
      "text/plain": [
       "   Week ILI Queries\n",
       "NA NA   NA  NA     "
      ]
     },
     "metadata": {},
     "output_type": "display_data"
    }
   ],
   "source": [
    "FluTrain[which(FluTrain==max(FluTrain$ILI)),]"
   ]
  },
  {
   "cell_type": "markdown",
   "metadata": {},
   "source": [
    "Which week corresponds to the highest percentage of ILI-related query fraction?\n",
    "\n"
   ]
  },
  {
   "cell_type": "code",
   "execution_count": null,
   "metadata": {
    "collapsed": true
   },
   "outputs": [],
   "source": []
  },
  {
   "cell_type": "markdown",
   "metadata": {},
   "source": [
    "#### Problem 1.2 - Understanding the Data\n",
    "\n",
    "Let us now understand the data at an aggregate level. Plot the histogram of the dependent variable, ILI. What best describes the distribution of values of ILI?"
   ]
  },
  {
   "cell_type": "code",
   "execution_count": null,
   "metadata": {
    "collapsed": true
   },
   "outputs": [],
   "source": []
  },
  {
   "cell_type": "markdown",
   "metadata": {},
   "source": [
    "#### Problem 1.3 - Understanding the Data\n",
    "\n",
    "When handling a skewed dependent variable, it is often useful to predict the logarithm of the dependent variable instead of the dependent variable itself -- this prevents the small number of unusually large or small observations from having an undue influence on the sum of squared errors of predictive models. In this problem, we will predict the natural log of the ILI variable, which can be computed in R using the log() function.\n",
    "\n",
    "Plot the natural logarithm of ILI versus Queries. What does the plot suggest?."
   ]
  },
  {
   "cell_type": "code",
   "execution_count": null,
   "metadata": {
    "collapsed": true
   },
   "outputs": [],
   "source": []
  },
  {
   "cell_type": "markdown",
   "metadata": {},
   "source": [
    "#### Problem 2.1 - Linear Regression Model\n",
    "\n",
    "Based on the plot we just made, it seems that a linear regression model could be a good modeling choice. Based on our understanding of the data from the previous subproblem, which model best describes our estimation problem?"
   ]
  },
  {
   "cell_type": "code",
   "execution_count": null,
   "metadata": {
    "collapsed": true
   },
   "outputs": [],
   "source": []
  },
  {
   "cell_type": "markdown",
   "metadata": {},
   "source": [
    "#### Problem 2.2 - Linear Regression Model\n",
    "\n",
    "Let's call the regression model from the previous problem (Problem 2.1) FluTrend1 and run it in R. Hint: to take the logarithm of a variable Var in a regression equation, you simply use log(Var) when specifying the formula to the lm() function.\n",
    "\n",
    "What is the training set R-squared value for FluTrend1 model (the \"Multiple R-squared\")?"
   ]
  },
  {
   "cell_type": "code",
   "execution_count": null,
   "metadata": {
    "collapsed": true
   },
   "outputs": [],
   "source": []
  },
  {
   "cell_type": "markdown",
   "metadata": {},
   "source": [
    "#### Problem 2.3 - Linear Regression Model\n",
    "\n",
    "For a single variable linear regression model, there is a direct relationship between the R-squared and the correlation between the independent and the dependent variables. What is the relationship we infer from our problem? (Don't forget that you can use the cor function to compute the correlation between two variables.)"
   ]
  },
  {
   "cell_type": "code",
   "execution_count": null,
   "metadata": {
    "collapsed": true
   },
   "outputs": [],
   "source": []
  },
  {
   "cell_type": "markdown",
   "metadata": {},
   "source": [
    "Note that the \"exp\" function stands for the exponential function. The exponential can be computed in R using the function exp().\n",
    "\n"
   ]
  },
  {
   "cell_type": "code",
   "execution_count": null,
   "metadata": {
    "collapsed": true
   },
   "outputs": [],
   "source": []
  },
  {
   "cell_type": "markdown",
   "metadata": {},
   "source": [
    "#### Problem 3.1 - Performance on the Test Set\n",
    "\n",
    "The csv file FluTest.csv provides the 2012 weekly data of the ILI-related search queries and the observed weekly percentage of ILI-related physician visits. Load this data into a data frame called FluTest.\n",
    "\n",
    "Normally, we would obtain test-set predictions from the model FluTrend1 using the code\n",
    "\n",
    "PredTest1 = predict(FluTrend1, newdata=FluTest)\n",
    "\n",
    "However, the dependent variable in our model is log(ILI), so PredTest1 would contain predictions of the log(ILI) value. We are instead interested in obtaining predictions of the ILI value. We can convert from predictions of log(ILI) to predictions of ILI via exponentiation, or the exp() function. The new code, which predicts the ILI value, is\n",
    "\n",
    "PredTest1 = exp(predict(FluTrend1, newdata=FluTest))\n",
    "\n",
    "What is our estimate for the percentage of ILI-related physician visits for the week of March 11, 2012? (HINT: You can either just output FluTest$Week to find which element corresponds to March 11, 2012, or you can use the \"which\" function in R. To learn more about the which function, type ?which in your R console.)"
   ]
  },
  {
   "cell_type": "code",
   "execution_count": null,
   "metadata": {
    "collapsed": true
   },
   "outputs": [],
   "source": []
  },
  {
   "cell_type": "markdown",
   "metadata": {},
   "source": [
    "#### Problem 3.2 - Performance on the Test Set\n",
    "\n",
    "What is the relative error betweeen the estimate (our prediction) and the observed value for the week of March 11, 2012? Note that the relative error is calculated as\n",
    "\n",
    "(Observed ILI - Estimated ILI)/Observed ILI"
   ]
  },
  {
   "cell_type": "code",
   "execution_count": null,
   "metadata": {
    "collapsed": true
   },
   "outputs": [],
   "source": []
  },
  {
   "cell_type": "markdown",
   "metadata": {},
   "source": [
    "#### Problem 3.3 - Performance on the Test Set\n",
    "\n",
    "What is the Root Mean Square Error (RMSE) between our estimates and the actual observations for the percentage of ILI-related physician visits, on the test set?"
   ]
  },
  {
   "cell_type": "code",
   "execution_count": null,
   "metadata": {
    "collapsed": true
   },
   "outputs": [],
   "source": []
  },
  {
   "cell_type": "markdown",
   "metadata": {},
   "source": [
    "#### Problem 4.1 - Training a Time Series Model\n",
    "\n",
    "The observations in this dataset are consecutive weekly measurements of the dependent and independent variables. This sort of dataset is called a \"time series.\" Often, statistical models can be improved by predicting the current value of the dependent variable using the value of the dependent variable from earlier weeks. In our models, this means we will predict the ILI variable in the current week using values of the ILI variable from previous weeks.\n",
    "\n",
    "First, we need to decide the amount of time to lag the observations. Because the ILI variable is reported with a 1- or 2-week lag, a decision maker cannot rely on the previous week's ILI value to predict the current week's value. Instead, the decision maker will only have data available from 2 or more weeks ago. We will build a variable called ILILag2 that contains the ILI value from 2 weeks before the current observation.\n",
    "\n",
    "To do so, we will use the \"zoo\" package, which provides a number of helpful methods for time series models. While many functions are built into R, you need to add new packages to use some functions. New packages can be installed and loaded easily in R, and we will do this many times in this class. Run the following two commands to install and load the zoo package. In the first command, you will be prompted to select a CRAN mirror to use for your download. Select a mirror near you geographically.\n",
    "\n",
    "install.packages(\"zoo\")\n",
    "\n",
    "library(zoo)\n",
    "\n",
    "After installing and loading the zoo package, run the following commands to create the ILILag2 variable in the training set:\n",
    "\n",
    "ILILag2 = lag(zoo(FluTrain$ILI), -2, na.pad=TRUE)\n",
    "\n",
    "FluTrain$ILILag2 = coredata(ILILag2)\n",
    "\n",
    "In these commands, the value of -2 passed to lag means to return 2 observations before the current one; a positive value would have returned future observations. The parameter na.pad=TRUE means to add missing values for the first two weeks of our dataset, where we can't compute the data from 2 weeks earlier.\n",
    "\n",
    "How many values are missing in the new ILILag2 variable?"
   ]
  },
  {
   "cell_type": "code",
   "execution_count": null,
   "metadata": {
    "collapsed": true
   },
   "outputs": [],
   "source": []
  },
  {
   "cell_type": "markdown",
   "metadata": {},
   "source": [
    "#### Problem 4.2 - Training a Time Series Model\n",
    "\n",
    "Use the plot() function to plot the log of ILILag2 against the log of ILI. Which best describes the relationship between these two variables?"
   ]
  },
  {
   "cell_type": "code",
   "execution_count": null,
   "metadata": {
    "collapsed": true
   },
   "outputs": [],
   "source": []
  },
  {
   "cell_type": "markdown",
   "metadata": {},
   "source": [
    "#### Problem 4.3 - Training a Time Series Model\n",
    "\n",
    "Train a linear regression model on the FluTrain dataset to predict the log of the ILI variable using the Queries variable as well as the log of the ILILag2 variable. Call this model FluTrend2.\n",
    "\n",
    "Which coefficients are significant at the p=0.05 level in this regression model? (Select all that apply.)"
   ]
  },
  {
   "cell_type": "code",
   "execution_count": null,
   "metadata": {
    "collapsed": true
   },
   "outputs": [],
   "source": []
  },
  {
   "cell_type": "markdown",
   "metadata": {},
   "source": [
    "What is the R^2 value of the FluTrend2 model?\n",
    "\n"
   ]
  },
  {
   "cell_type": "code",
   "execution_count": null,
   "metadata": {
    "collapsed": true
   },
   "outputs": [],
   "source": []
  },
  {
   "cell_type": "markdown",
   "metadata": {},
   "source": [
    "#### Problem 4.4 - Training a Time Series Model\n",
    "\n",
    "On the basis of R-squared value and significance of coefficients, which statement is the most accurate?"
   ]
  },
  {
   "cell_type": "code",
   "execution_count": null,
   "metadata": {
    "collapsed": true
   },
   "outputs": [],
   "source": []
  },
  {
   "cell_type": "markdown",
   "metadata": {},
   "source": [
    "#### Problem 5.1 - Evaluating the Time Series Model in the Test Set\n",
    "\n",
    "So far, we have only added the ILILag2 variable to the FluTrain data frame. To make predictions with our FluTrend2 model, we will also need to add ILILag2 to the FluTest data frame (note that adding variables before splitting into a training and testing set can prevent this duplication of effort).\n",
    "\n",
    "Modify the code from the previous subproblem to add an ILILag2 variable to the FluTest data frame. How many missing values are there in this new variable?"
   ]
  },
  {
   "cell_type": "code",
   "execution_count": null,
   "metadata": {
    "collapsed": true
   },
   "outputs": [],
   "source": []
  },
  {
   "cell_type": "markdown",
   "metadata": {},
   "source": [
    "#### Problem 5.2 - Evaluating the Time Series Model in the Test Set\n",
    "\n",
    "In this problem, the training and testing sets are split sequentially -- the training set contains all observations from 2004-2011 and the testing set contains all observations from 2012. There is no time gap between the two datasets, meaning the first observation in FluTest was recorded one week after the last observation in FluTrain. From this, we can identify how to fill in the missing values for the ILILag2 variable in FluTest.\n",
    "\n",
    "Which value should be used to fill in the ILILag2 variable for the first observation in FluTest?"
   ]
  },
  {
   "cell_type": "code",
   "execution_count": null,
   "metadata": {
    "collapsed": true
   },
   "outputs": [],
   "source": []
  },
  {
   "cell_type": "markdown",
   "metadata": {},
   "source": [
    "Which value should be used to fill in the ILILag2 variable for the second observation in FluTest?\n",
    "\n",
    "\n"
   ]
  },
  {
   "cell_type": "code",
   "execution_count": null,
   "metadata": {
    "collapsed": true
   },
   "outputs": [],
   "source": []
  },
  {
   "cell_type": "markdown",
   "metadata": {},
   "source": [
    "#### Problem 5.3 - Evaluating the Time Series Model in the Test Set\n",
    "\n",
    "Fill in the missing values for ILILag2 in FluTest. In terms of syntax, you could set the value of ILILag2 in row \"x\" of the FluTest data frame to the value of ILI in row \"y\" of the FluTrain data frame with \"FluTest$ILILag2[x] = FluTrain$ILI[y]\". Use the answer to the previous questions to determine the appropriate values of \"x\" and \"y\". It may be helpful to check the total number of rows in FluTrain using str(FluTrain) or nrow(FluTrain).\n",
    "\n",
    "What is the new value of the ILILag2 variable in the first row of FluTest?"
   ]
  },
  {
   "cell_type": "code",
   "execution_count": null,
   "metadata": {
    "collapsed": true
   },
   "outputs": [],
   "source": []
  },
  {
   "cell_type": "markdown",
   "metadata": {},
   "source": [
    "What is the new value of the ILILag2 variable in the second row of FluTest?\n",
    "\n"
   ]
  },
  {
   "cell_type": "code",
   "execution_count": null,
   "metadata": {
    "collapsed": true
   },
   "outputs": [],
   "source": []
  },
  {
   "cell_type": "markdown",
   "metadata": {},
   "source": [
    "#### Problem 5.4 - Evaluating the Time Series Model in the Test Set\n",
    "\n",
    "Obtain test set predictions of the ILI variable from the FluTrend2 model, again remembering to call the exp() function on the result of the predict() function to obtain predictions for ILI instead of log(ILI).\n",
    "\n",
    "What is the test-set RMSE of the FluTrend2 model?"
   ]
  },
  {
   "cell_type": "code",
   "execution_count": null,
   "metadata": {
    "collapsed": true
   },
   "outputs": [],
   "source": []
  },
  {
   "cell_type": "markdown",
   "metadata": {},
   "source": [
    "#### Problem 5.5 - Evaluating the Time Series Model in the Test Set\n",
    "\n",
    "Which model obtained the best test-set RMSE?"
   ]
  },
  {
   "cell_type": "code",
   "execution_count": null,
   "metadata": {
    "collapsed": true
   },
   "outputs": [],
   "source": []
  },
  {
   "cell_type": "markdown",
   "metadata": {},
   "source": [
    "In this problem, we used a simple time series model with a single lag term. ARIMA models are a more general form of the model we built, which can include multiple lag terms as well as more complicated combinations of previous values of the dependent variable. If you're interested in learning more, check out ?arima or the available online tutorials for these sorts of models."
   ]
  },
  {
   "cell_type": "code",
   "execution_count": null,
   "metadata": {
    "collapsed": true
   },
   "outputs": [],
   "source": []
  }
 ],
 "metadata": {
  "kernelspec": {
   "display_name": "R",
   "language": "R",
   "name": "ir"
  },
  "language_info": {
   "codemirror_mode": "r",
   "file_extension": ".r",
   "mimetype": "text/x-r-source",
   "name": "R",
   "pygments_lexer": "r",
   "version": "3.3.3"
  }
 },
 "nbformat": 4,
 "nbformat_minor": 2
}
