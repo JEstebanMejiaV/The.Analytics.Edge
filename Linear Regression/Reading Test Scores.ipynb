{
 "cells": [
  {
   "cell_type": "markdown",
   "metadata": {},
   "source": [
    "### Reading Test Scores\n",
    "\n",
    "The Programme for International Student Assessment (PISA) is a test given every three years to 15-year-old students from around the world to evaluate their performance in mathematics, reading, and science. This test provides a quantitative way to compare the performance of students from different parts of the world. In this homework assignment, we will predict the reading scores of students from the United States of America on the 2009 PISA exam.\n",
    "\n",
    "The datasets pisa2009train.csv and pisa2009test.csv contain information about the demographics and schools for American students taking the exam, derived from 2009 PISA Public-Use Data Files distributed by the United States National Center for Education Statistics (NCES). While the datasets are not supposed to contain identifying information about students taking the test, by using the data you are bound by the NCES data use agreement, which prohibits any attempt to determine the identity of any student in the datasets.\n",
    "\n",
    "Each row in the datasets pisa2009train.csv and pisa2009test.csv represents one student taking the exam. The datasets have the following variables:\n",
    "\n",
    "grade: The grade in school of the student (most 15-year-olds in America are in 10th grade)\n",
    "\n",
    "male: Whether the stubdent is male (1/0)\n",
    "\n",
    "raceeth: The race/ethnicity composite of the student\n",
    "\n",
    "preschool: Whether the student attended preschool (1/0)\n",
    "\n",
    "expectBachelors: Whether the student expects to obtain a bachelor's degree (1/0)\n",
    "\n",
    "motherHS: Whether the student's mother completed high school (1/0)\n",
    "\n",
    "motherBachelors: Whether the student's mother obtained a bachelor's degree (1/0)\n",
    "\n",
    "motherWork: Whether the student's mother has part-time or full-time work (1/0)\n",
    "\n",
    "fatherHS: Whether the student's father completed high school (1/0)\n",
    "\n",
    "fatherBachelors: Whether the student's father obtained a bachelor's degree (1/0)\n",
    "\n",
    "fatherWork: Whether the student's father has part-time or full-time work (1/0)\n",
    "\n",
    "selfBornUS: Whether the student was born in the United States of America (1/0)\n",
    "\n",
    "motherBornUS: Whether the student's mother was born in the United States of America (1/0)\n",
    "\n",
    "fatherBornUS: Whether the student's father was born in the United States of America (1/0)\n",
    "\n",
    "englishAtHome: Whether the student speaks English at home (1/0)\n",
    "\n",
    "computerForSchoolwork: Whether the student has access to a computer for schoolwork (1/0)\n",
    "\n",
    "read30MinsADay: Whether the student reads for pleasure for 30 minutes/day (1/0)\n",
    "\n",
    "minutesPerWeekEnglish: The number of minutes per week the student spend in English class\n",
    "\n",
    "studentsInEnglish: The number of students in this student's English class at school\n",
    "\n",
    "schoolHasLibrary: Whether this student's school has a library (1/0)\n",
    "\n",
    "publicSchool: Whether this student attends a public school (1/0)\n",
    "\n",
    "urban: Whether this student's school is in an urban area (1/0)\n",
    "\n",
    "schoolSize: The number of students in this student's school\n",
    "\n",
    "readingScore: The student's reading score, on a 1000-point scale"
   ]
  },
  {
   "cell_type": "code",
   "execution_count": null,
   "metadata": {
    "collapsed": true
   },
   "outputs": [],
   "source": []
  },
  {
   "cell_type": "markdown",
   "metadata": {},
   "source": [
    "#### Problem 1.1 - Dataset size\n",
    "\n",
    "Load the training and testing sets using the read.csv() function, and save them as variables with the names pisaTrain and pisaTest.\n",
    "\n",
    "How many students are there in the training set?"
   ]
  },
  {
   "cell_type": "code",
   "execution_count": null,
   "metadata": {
    "collapsed": true
   },
   "outputs": [],
   "source": []
  },
  {
   "cell_type": "markdown",
   "metadata": {},
   "source": [
    "#### Problem 1.2 - Summarizing the dataset\n",
    "\n",
    "Using tapply() on pisaTrain, what is the average reading test score of males?"
   ]
  },
  {
   "cell_type": "code",
   "execution_count": null,
   "metadata": {
    "collapsed": true
   },
   "outputs": [],
   "source": []
  },
  {
   "cell_type": "markdown",
   "metadata": {},
   "source": [
    "Of females?\n",
    "\n"
   ]
  },
  {
   "cell_type": "code",
   "execution_count": null,
   "metadata": {
    "collapsed": true
   },
   "outputs": [],
   "source": []
  },
  {
   "cell_type": "markdown",
   "metadata": {},
   "source": [
    "#### Problem 1.3 - Locating missing values\n",
    "\n",
    "Which variables are missing data in at least one observation in the training set? Select all that apply."
   ]
  },
  {
   "cell_type": "code",
   "execution_count": null,
   "metadata": {
    "collapsed": true
   },
   "outputs": [],
   "source": []
  },
  {
   "cell_type": "markdown",
   "metadata": {},
   "source": [
    "#### Problem 1.4 - Removing missing values\n",
    "\n",
    "Linear regression discards observations with missing data, so we will remove all such observations from the training and testing sets. Later in the course, we will learn about imputation, which deals with missing data by filling in missing values with plausible information.\n",
    "\n",
    "Type the following commands into your R console to remove observations with any missing value from pisaTrain and pisaTest:\n",
    "\n",
    "pisaTrain = na.omit(pisaTrain)\n",
    "\n",
    "pisaTest = na.omit(pisaTest)\n",
    "\n",
    "How many observations are now in the training set?"
   ]
  },
  {
   "cell_type": "code",
   "execution_count": null,
   "metadata": {
    "collapsed": true
   },
   "outputs": [],
   "source": []
  },
  {
   "cell_type": "markdown",
   "metadata": {},
   "source": [
    "How many observations are now in the testing set?\n",
    "\n"
   ]
  },
  {
   "cell_type": "code",
   "execution_count": null,
   "metadata": {
    "collapsed": true
   },
   "outputs": [],
   "source": []
  },
  {
   "cell_type": "markdown",
   "metadata": {},
   "source": [
    "#### Problem 2.1 - Factor variables\n",
    "\n",
    "Factor variables are variables that take on a discrete set of values, like the \"Region\" variable in the WHO dataset from the second lecture of Unit 1. This is an unordered factor because there isn't any natural ordering between the levels. An ordered factor has a natural ordering between the levels (an example would be the classifications \"large,\" \"medium,\" and \"small\").\n",
    "\n",
    "Which of the following variables is an unordered factor with at least 3 levels? (Select all that apply.)"
   ]
  },
  {
   "cell_type": "code",
   "execution_count": null,
   "metadata": {
    "collapsed": true
   },
   "outputs": [],
   "source": []
  },
  {
   "cell_type": "markdown",
   "metadata": {},
   "source": [
    "Which of the following variables is an ordered factor with at least 3 levels? (Select all that apply.)\n",
    "\n",
    "\n"
   ]
  },
  {
   "cell_type": "code",
   "execution_count": null,
   "metadata": {
    "collapsed": true
   },
   "outputs": [],
   "source": []
  },
  {
   "cell_type": "markdown",
   "metadata": {},
   "source": [
    "#### Problem 2.2 - Unordered factors in regression models\n",
    "\n",
    "To include unordered factors in a linear regression model, we define one level as the \"reference level\" and add a binary variable for each of the remaining levels. In this way, a factor with n levels is replaced by n-1 binary variables. The reference level is typically selected to be the most frequently occurring level in the dataset.\n",
    "\n",
    "As an example, consider the unordered factor variable \"color\", with levels \"red\", \"green\", and \"blue\". If \"green\" were the reference level, then we would add binary variables \"colorred\" and \"colorblue\" to a linear regression problem. All red examples would have colorred=1 and colorblue=0. All blue examples would have colorred=0 and colorblue=1. All green examples would have colorred=0 and colorblue=0.\n",
    "\n",
    "Now, consider the variable \"raceeth\" in our problem, which has levels \"American Indian/Alaska Native\", \"Asian\", \"Black\", \"Hispanic\", \"More than one race\", \"Native Hawaiian/Other Pacific Islander\", and \"White\". Because it is the most common in our population, we will select White as the reference level.\n",
    "\n",
    "Which binary variables will be included in the regression model? (Select all that apply.)"
   ]
  },
  {
   "cell_type": "code",
   "execution_count": null,
   "metadata": {
    "collapsed": true
   },
   "outputs": [],
   "source": []
  },
  {
   "cell_type": "markdown",
   "metadata": {},
   "source": [
    "#### Problem 2.3 - Example unordered factors\n",
    "\n",
    "Consider again adding our unordered factor race to the regression model with reference level \"White\".\n",
    "\n",
    "For a student who is Asian, which binary variables would be set to 0? All remaining variables will be set to 1. (Select all that apply.)"
   ]
  },
  {
   "cell_type": "code",
   "execution_count": null,
   "metadata": {
    "collapsed": true
   },
   "outputs": [],
   "source": []
  },
  {
   "cell_type": "markdown",
   "metadata": {},
   "source": [
    "For a student who is white, which binary variables would be set to 0? All remaining variables will be set to 1. (Select all that apply.)\n",
    "\n",
    "\n"
   ]
  },
  {
   "cell_type": "code",
   "execution_count": null,
   "metadata": {
    "collapsed": true
   },
   "outputs": [],
   "source": []
  },
  {
   "cell_type": "markdown",
   "metadata": {},
   "source": [
    "#### Problem 3.1 - Building a model\n",
    "\n",
    "Because the race variable takes on text values, it was loaded as a factor variable when we read in the dataset with read.csv() -- you can see this when you run str(pisaTrain) or str(pisaTest). However, by default R selects the first level alphabetically (\"American Indian/Alaska Native\") as the reference level of our factor instead of the most common level (\"White\"). Set the reference level of the factor by typing the following two lines in your R console:\n",
    "\n",
    "pisaTrain$raceeth = relevel(pisaTrain$raceeth, \"White\")\n",
    "\n",
    "pisaTest$raceeth = relevel(pisaTest$raceeth, \"White\")\n",
    "\n",
    "Now, build a linear regression model (call it lmScore) using the training set to predict readingScore using all the remaining variables.\n",
    "\n",
    "It would be time-consuming to type all the variables, but R provides the shorthand notation \"readingScore ~ .\" to mean \"predict readingScore using all the other variables in the data frame.\" The period is used to replace listing out all of the independent variables. As an example, if your dependent variable is called \"Y\", your independent variables are called \"X1\", \"X2\", and \"X3\", and your training data set is called \"Train\", instead of the regular notation:\n",
    "\n",
    "LinReg = lm(Y ~ X1 + X2 + X3, data = Train)\n",
    "\n",
    "You would use the following command to build your model:\n",
    "\n",
    "LinReg = lm(Y ~ ., data = Train)\n",
    "\n",
    "What is the Multiple R-squared value of lmScore on the training set?"
   ]
  },
  {
   "cell_type": "code",
   "execution_count": null,
   "metadata": {
    "collapsed": true
   },
   "outputs": [],
   "source": []
  },
  {
   "cell_type": "markdown",
   "metadata": {},
   "source": [
    "Note that this R-squared is lower than the ones for the models we saw in the lectures and recitation. This does not necessarily imply that the model is of poor quality. More often than not, it simply means that the prediction problem at hand (predicting a student's test score based on demographic and school-related variables) is more difficult than other prediction problems (like predicting a team's number of wins from their runs scored and allowed, or predicting the quality of wine from weather conditions).\n",
    "\n"
   ]
  },
  {
   "cell_type": "code",
   "execution_count": null,
   "metadata": {
    "collapsed": true
   },
   "outputs": [],
   "source": []
  },
  {
   "cell_type": "markdown",
   "metadata": {},
   "source": [
    "#### Problem 3.2 - Computing the root-mean squared error of the model\n",
    "\n",
    "What is the training-set root-mean squared error (RMSE) of lmScore?"
   ]
  },
  {
   "cell_type": "code",
   "execution_count": null,
   "metadata": {
    "collapsed": true
   },
   "outputs": [],
   "source": []
  },
  {
   "cell_type": "markdown",
   "metadata": {},
   "source": [
    "#### Problem 3.3 - Comparing predictions for similar students\n",
    "\n",
    "Consider two students A and B. They have all variable values the same, except that student A is in grade 11 and student B is in grade 9. What is the predicted reading score of student A minus the predicted reading score of student B?"
   ]
  },
  {
   "cell_type": "code",
   "execution_count": null,
   "metadata": {
    "collapsed": true
   },
   "outputs": [],
   "source": []
  },
  {
   "cell_type": "code",
   "execution_count": null,
   "metadata": {
    "collapsed": true
   },
   "outputs": [],
   "source": []
  },
  {
   "cell_type": "markdown",
   "metadata": {},
   "source": [
    "#### Problem 3.4 - Interpreting model coefficients\n",
    "\n",
    "What is the meaning of the coefficient associated with variable raceethAsian?"
   ]
  },
  {
   "cell_type": "code",
   "execution_count": null,
   "metadata": {
    "collapsed": true
   },
   "outputs": [],
   "source": []
  },
  {
   "cell_type": "markdown",
   "metadata": {},
   "source": [
    "#### Problem 3.5 - Identifying variables lacking statistical significance\n",
    "\n",
    "Based on the significance codes, which variables are candidates for removal from the model? Select all that apply. (We'll assume that the factor variable raceeth should only be removed if none of its levels are significant.)"
   ]
  },
  {
   "cell_type": "code",
   "execution_count": null,
   "metadata": {
    "collapsed": true
   },
   "outputs": [],
   "source": []
  },
  {
   "cell_type": "markdown",
   "metadata": {},
   "source": [
    "#### Problem 4.1 - Predicting on unseen data\n",
    "\n",
    "Using the \"predict\" function and supplying the \"newdata\" argument, use the lmScore model to predict the reading scores of students in pisaTest. Call this vector of predictions \"predTest\". Do not change the variables in the model (for example, do not remove variables that we found were not significant in the previous part of this problem). Use the summary function to describe the test set predictions.\n",
    "\n",
    "What is the range between the maximum and minimum predicted reading score on the test set?\n",
    "\n",
    "\n",
    "sin responder\n"
   ]
  },
  {
   "cell_type": "code",
   "execution_count": null,
   "metadata": {
    "collapsed": true
   },
   "outputs": [],
   "source": []
  },
  {
   "cell_type": "markdown",
   "metadata": {},
   "source": [
    "#### Problem 4.2 - Test set SSE and RMSE\n",
    "\n",
    "What is the sum of squared errors (SSE) of lmScore on the testing set?"
   ]
  },
  {
   "cell_type": "code",
   "execution_count": null,
   "metadata": {
    "collapsed": true
   },
   "outputs": [],
   "source": []
  },
  {
   "cell_type": "markdown",
   "metadata": {},
   "source": [
    "What is the root-mean squared error (RMSE) of lmScore on the testing set?\n",
    "\n"
   ]
  },
  {
   "cell_type": "code",
   "execution_count": null,
   "metadata": {
    "collapsed": true
   },
   "outputs": [],
   "source": []
  },
  {
   "cell_type": "markdown",
   "metadata": {},
   "source": [
    "#### Problem 4.3 - Baseline prediction and test-set SSE\n",
    "\n",
    "\n",
    "What is the predicted test score used in the baseline model? Remember to compute this value using the training set and not the test set."
   ]
  },
  {
   "cell_type": "code",
   "execution_count": null,
   "metadata": {
    "collapsed": true
   },
   "outputs": [],
   "source": []
  },
  {
   "cell_type": "markdown",
   "metadata": {},
   "source": [
    "What is the sum of squared errors of the baseline model on the testing set? HINT: We call the sum of squared errors for the baseline model the total sum of squares (SST)."
   ]
  },
  {
   "cell_type": "code",
   "execution_count": null,
   "metadata": {
    "collapsed": true
   },
   "outputs": [],
   "source": []
  },
  {
   "cell_type": "markdown",
   "metadata": {},
   "source": [
    "#### Problem 4.4 - Test-set R-squared\n",
    "\n",
    "What is the test-set R-squared value of lmScore?"
   ]
  },
  {
   "cell_type": "code",
   "execution_count": null,
   "metadata": {
    "collapsed": true
   },
   "outputs": [],
   "source": []
  },
  {
   "cell_type": "code",
   "execution_count": null,
   "metadata": {
    "collapsed": true
   },
   "outputs": [],
   "source": []
  }
 ],
 "metadata": {
  "kernelspec": {
   "display_name": "R",
   "language": "R",
   "name": "ir"
  },
  "language_info": {
   "codemirror_mode": "r",
   "file_extension": ".r",
   "mimetype": "text/x-r-source",
   "name": "R",
   "pygments_lexer": "r",
   "version": "3.3.3"
  }
 },
 "nbformat": 4,
 "nbformat_minor": 2
}
