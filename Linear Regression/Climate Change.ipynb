{
 "cells": [
  {
   "cell_type": "markdown",
   "metadata": {},
   "source": [
    "### Climate Change\n",
    "\n",
    "There have been many studies documenting that the average global temperature has been increasing over the last century. The consequences of a continued rise in global temperature will be dire. Rising sea levels and an increased frequency of extreme weather events will affect billions of people.\n",
    "\n",
    "In this problem, we will attempt to study the relationship between average global temperature and several other factors.\n",
    "\n",
    "The file climate_change.csv contains climate data from May 1983 to December 2008. The available variables include:\n",
    "\n",
    "Year: the observation year.\n",
    "\n",
    "Month: the observation month.\n",
    "\n",
    "Temp: the difference in degrees Celsius between the average global temperature in that period and a reference value. This data comes from the Climatic Research Unit at the University of East Anglia.\n",
    "\n",
    "CO2, N2O, CH4, CFC.11, CFC.12: atmospheric concentrations of carbon dioxide (CO2), nitrous oxide (N2O), methane  (CH4), trichlorofluoromethane (CCl3F; commonly referred to as CFC-11) and dichlorodifluoromethane (CCl2F2; commonly referred to as CFC-12), respectively. This data comes from the ESRL/NOAA Global Monitoring Division.\n",
    "\n",
    "CO2, N2O and CH4 are expressed in ppmv (parts per million by volume  -- i.e., 397 ppmv of CO2 means that CO2 constitutes 397 millionths of the total volume of the atmosphere)\n",
    "\n",
    "CFC.11 and CFC.12 are expressed in ppbv (parts per billion by volume). \n",
    "\n",
    "Aerosols: the mean stratospheric aerosol optical depth at 550 nm. This variable is linked to volcanoes, as volcanic eruptions result in new particles being added to the atmosphere, which affect how much of the sun's energy is reflected back into space. This data is from the Godard Institute for Space Studies at NASA.\n",
    "\n",
    "TSI: the total solar irradiance (TSI) in W/m2 (the rate at which the sun's energy is deposited per unit area). Due to sunspots and other solar phenomena, the amount of energy that is given off by the sun varies substantially with time. This data is from the SOLARIS-HEPPA project website.\n",
    "\n",
    "MEI: multivariate El Nino Southern Oscillation index (MEI), a measure of the strength of the El Nino/La Nina-Southern Oscillation (a weather effect in the Pacific Ocean that affects global temperatures). This data comes from the ESRL/NOAA Physical Sciences Division."
   ]
  },
  {
   "cell_type": "markdown",
   "metadata": {},
   "source": [
    "#### Problem 1.1 - Creating Our First Model\n",
    "\n",
    "We are interested in how changes in these variables affect future temperatures, as well as how well these variables explain temperature changes so far. To do this, first read the dataset climate_change.csv into R.\n",
    "\n",
    "Then, split the data into a training set, consisting of all the observations up to and including 2006, and a testing set consisting of the remaining years (bhint: use subset). A training set refers to the data that will be used to build the model (this is the data we give to the lm() function), and a testing set refers to the data we will use to test our predictive ability.\n",
    "\n",
    "Next, build a linear regression model to predict the dependent variable Temp, using MEI, CO2, CH4, N2O, CFC.11, CFC.12, TSI, and Aerosols as independent variables (Year and Month should NOT be used in the model). Use the training set to build the model.\n",
    "\n",
    "Enter the model R2 (the \"Multiple R-squared\" value):"
   ]
  },
  {
   "cell_type": "code",
   "execution_count": 1,
   "metadata": {
    "collapsed": true
   },
   "outputs": [],
   "source": [
    "CC <- read.csv('climate_change.csv')"
   ]
  },
  {
   "cell_type": "code",
   "execution_count": 4,
   "metadata": {},
   "outputs": [
    {
     "name": "stdout",
     "output_type": "stream",
     "text": [
      "'data.frame':\t284 obs. of  11 variables:\n",
      " $ Year    : int  1983 1983 1983 1983 1983 1983 1983 1983 1984 1984 ...\n",
      " $ Month   : int  5 6 7 8 9 10 11 12 1 2 ...\n",
      " $ MEI     : num  2.556 2.167 1.741 1.13 0.428 ...\n",
      " $ CO2     : num  346 346 344 342 340 ...\n",
      " $ CH4     : num  1639 1634 1633 1631 1648 ...\n",
      " $ N2O     : num  304 304 304 304 304 ...\n",
      " $ CFC.11  : num  191 192 193 194 194 ...\n",
      " $ CFC.12  : num  350 352 354 356 357 ...\n",
      " $ TSI     : num  1366 1366 1366 1366 1366 ...\n",
      " $ Aerosols: num  0.0863 0.0794 0.0731 0.0673 0.0619 0.0569 0.0524 0.0486 0.0451 0.0416 ...\n",
      " $ Temp    : num  0.109 0.118 0.137 0.176 0.149 0.093 0.232 0.078 0.089 0.013 ...\n"
     ]
    }
   ],
   "source": [
    "Train <- subset(CC, CC$Year<=2006)\n",
    "Test <- subset(CC, CC$Year>2006)\n",
    "str(Train)\n"
   ]
  },
  {
   "cell_type": "code",
   "execution_count": 5,
   "metadata": {},
   "outputs": [
    {
     "name": "stdout",
     "output_type": "stream",
     "text": [
      "'data.frame':\t24 obs. of  11 variables:\n",
      " $ Year    : int  2007 2007 2007 2007 2007 2007 2007 2007 2007 2007 ...\n",
      " $ Month   : int  1 2 3 4 5 6 7 8 9 10 ...\n",
      " $ MEI     : num  0.974 0.51 0.074 -0.049 0.183 ...\n",
      " $ CO2     : num  383 384 385 386 387 ...\n",
      " $ CH4     : num  1800 1803 1803 1802 1796 ...\n",
      " $ N2O     : num  321 321 321 321 320 ...\n",
      " $ CFC.11  : num  248 248 248 248 247 ...\n",
      " $ CFC.12  : num  539 539 539 539 538 ...\n",
      " $ TSI     : num  1366 1366 1366 1366 1366 ...\n",
      " $ Aerosols: num  0.0054 0.0051 0.0045 0.0045 0.0041 0.004 0.004 0.0041 0.0042 0.0041 ...\n",
      " $ Temp    : num  0.601 0.498 0.435 0.466 0.372 0.382 0.394 0.358 0.402 0.362 ...\n"
     ]
    }
   ],
   "source": [
    "str(Test)"
   ]
  },
  {
   "cell_type": "code",
   "execution_count": 6,
   "metadata": {
    "collapsed": true
   },
   "outputs": [],
   "source": [
    "Mod1 <- lm(Temp ~ . -Year - Month, data=Train)"
   ]
  },
  {
   "cell_type": "code",
   "execution_count": 7,
   "metadata": {},
   "outputs": [
    {
     "data": {
      "text/plain": [
       "\n",
       "Call:\n",
       "lm(formula = Temp ~ . - Year - Month, data = Train)\n",
       "\n",
       "Residuals:\n",
       "     Min       1Q   Median       3Q      Max \n",
       "-0.25888 -0.05913 -0.00082  0.05649  0.32433 \n",
       "\n",
       "Coefficients:\n",
       "              Estimate Std. Error t value Pr(>|t|)    \n",
       "(Intercept) -1.246e+02  1.989e+01  -6.265 1.43e-09 ***\n",
       "MEI          6.421e-02  6.470e-03   9.923  < 2e-16 ***\n",
       "CO2          6.457e-03  2.285e-03   2.826  0.00505 ** \n",
       "CH4          1.240e-04  5.158e-04   0.240  0.81015    \n",
       "N2O         -1.653e-02  8.565e-03  -1.930  0.05467 .  \n",
       "CFC.11      -6.631e-03  1.626e-03  -4.078 5.96e-05 ***\n",
       "CFC.12       3.808e-03  1.014e-03   3.757  0.00021 ***\n",
       "TSI          9.314e-02  1.475e-02   6.313 1.10e-09 ***\n",
       "Aerosols    -1.538e+00  2.133e-01  -7.210 5.41e-12 ***\n",
       "---\n",
       "Signif. codes:  0 '***' 0.001 '**' 0.01 '*' 0.05 '.' 0.1 ' ' 1\n",
       "\n",
       "Residual standard error: 0.09171 on 275 degrees of freedom\n",
       "Multiple R-squared:  0.7509,\tAdjusted R-squared:  0.7436 \n",
       "F-statistic: 103.6 on 8 and 275 DF,  p-value: < 2.2e-16\n"
      ]
     },
     "metadata": {},
     "output_type": "display_data"
    }
   ],
   "source": [
    "summary(Mod1)"
   ]
  },
  {
   "cell_type": "code",
   "execution_count": 21,
   "metadata": {},
   "outputs": [
    {
     "data": {
      "text/html": [
       "0.750893277052348"
      ],
      "text/latex": [
       "0.750893277052348"
      ],
      "text/markdown": [
       "0.750893277052348"
      ],
      "text/plain": [
       "[1] 0.7508933"
      ]
     },
     "metadata": {},
     "output_type": "display_data"
    }
   ],
   "source": [
    "summary(Mod1)$r.square"
   ]
  },
  {
   "cell_type": "markdown",
   "metadata": {},
   "source": [
    "#### Problem 1.2 - Creating Our First Model\n",
    "\n",
    "\n",
    "Which variables are significant in the model? We will consider a variable signficant only if the p-value is below 0.05. (Select all that apply.)"
   ]
  },
  {
   "cell_type": "code",
   "execution_count": 22,
   "metadata": {},
   "outputs": [
    {
     "data": {
      "text/html": [
       "<dl class=dl-horizontal>\n",
       "\t<dt>(Intercept)</dt>\n",
       "\t\t<dd>1.43104629286655e-09</dd>\n",
       "\t<dt>MEI</dt>\n",
       "\t\t<dd>4.89888675429639e-20</dd>\n",
       "\t<dt>CO2</dt>\n",
       "\t\t<dd>0.00505252061682674</dd>\n",
       "\t<dt>CH4</dt>\n",
       "\t\t<dd>0.810145552286452</dd>\n",
       "\t<dt>N2O</dt>\n",
       "\t\t<dd>0.0546693118207209</dd>\n",
       "\t<dt>CFC.11</dt>\n",
       "\t\t<dd>5.957287646419e-05</dd>\n",
       "\t<dt>CFC.12</dt>\n",
       "\t\t<dd>0.000209719898668264</dd>\n",
       "\t<dt>TSI</dt>\n",
       "\t\t<dd>1.09594454464891e-09</dd>\n",
       "\t<dt>Aerosols</dt>\n",
       "\t\t<dd>5.41127317589633e-12</dd>\n",
       "</dl>\n"
      ],
      "text/latex": [
       "\\begin{description*}\n",
       "\\item[(Intercept)] 1.43104629286655e-09\n",
       "\\item[MEI] 4.89888675429639e-20\n",
       "\\item[CO2] 0.00505252061682674\n",
       "\\item[CH4] 0.810145552286452\n",
       "\\item[N2O] 0.0546693118207209\n",
       "\\item[CFC.11] 5.957287646419e-05\n",
       "\\item[CFC.12] 0.000209719898668264\n",
       "\\item[TSI] 1.09594454464891e-09\n",
       "\\item[Aerosols] 5.41127317589633e-12\n",
       "\\end{description*}\n"
      ],
      "text/markdown": [
       "(Intercept)\n",
       ":   1.43104629286655e-09MEI\n",
       ":   4.89888675429639e-20CO2\n",
       ":   0.00505252061682674CH4\n",
       ":   0.810145552286452N2O\n",
       ":   0.0546693118207209CFC.11\n",
       ":   5.957287646419e-05CFC.12\n",
       ":   0.000209719898668264TSI\n",
       ":   1.09594454464891e-09Aerosols\n",
       ":   5.41127317589633e-12\n",
       "\n"
      ],
      "text/plain": [
       " (Intercept)          MEI          CO2          CH4          N2O       CFC.11 \n",
       "1.431046e-09 4.898887e-20 5.052521e-03 8.101456e-01 5.466931e-02 5.957288e-05 \n",
       "      CFC.12          TSI     Aerosols \n",
       "2.097199e-04 1.095945e-09 5.411273e-12 "
      ]
     },
     "metadata": {},
     "output_type": "display_data"
    }
   ],
   "source": [
    "coef(summary(Mod1))[, \"Pr(>|t|)\"]"
   ]
  },
  {
   "cell_type": "markdown",
   "metadata": {},
   "source": [
    "#### Problem 2.1 - Understanding the Model\n",
    "\n",
    "Current scientific opinion is that nitrous oxide and CFC-11 are greenhouse gases: gases that are able to trap heat from the sun and contribute to the heating of the Earth. However, the regression coefficients of both the N2O and CFC-11 variables are negative, indicating that increasing atmospheric concentrations of either of these two compounds is associated with lower global temperatures.\n",
    "\n",
    "Which of the following is the simplest correct explanation for this contradiction?"
   ]
  },
  {
   "cell_type": "markdown",
   "metadata": {
    "collapsed": true
   },
   "source": [
    "All of the gas concentration variables reflect human development - N2O and CFC.11 are correlated with other variables in the data set."
   ]
  },
  {
   "cell_type": "markdown",
   "metadata": {},
   "source": [
    "#### Problem 2.2 - Understanding the Model\n",
    "\n",
    "Compute the correlations between all the variables in the training set. Which of the following independent variables is N2O highly correlated with (absolute correlation greater than 0.7)? Select all that apply."
   ]
  },
  {
   "cell_type": "code",
   "execution_count": 23,
   "metadata": {},
   "outputs": [
    {
     "data": {
      "text/html": [
       "<table>\n",
       "<thead><tr><th></th><th scope=col>Year</th><th scope=col>Month</th><th scope=col>MEI</th><th scope=col>CO2</th><th scope=col>CH4</th><th scope=col>N2O</th><th scope=col>CFC.11</th><th scope=col>CFC.12</th><th scope=col>TSI</th><th scope=col>Aerosols</th><th scope=col>Temp</th></tr></thead>\n",
       "<tbody>\n",
       "\t<tr><th scope=row>Year</th><td> 1.00000000  </td><td>-0.0279419602</td><td>-0.0369876842</td><td> 0.98274939  </td><td> 0.91565945  </td><td> 0.99384523  </td><td> 0.56910643  </td><td> 0.8970116635</td><td> 0.17030201  </td><td>-0.34524670  </td><td> 0.78679714  </td></tr>\n",
       "\t<tr><th scope=row>Month</th><td>-0.02794196  </td><td> 1.0000000000</td><td> 0.0008846905</td><td>-0.10673246  </td><td> 0.01856866  </td><td> 0.01363153  </td><td>-0.01311122  </td><td> 0.0006751102</td><td>-0.03460619  </td><td> 0.01488954  </td><td>-0.09985674  </td></tr>\n",
       "\t<tr><th scope=row>MEI</th><td>-0.03698768  </td><td> 0.0008846905</td><td> 1.0000000000</td><td>-0.04114717  </td><td>-0.03341930  </td><td>-0.05081978  </td><td> 0.06900044  </td><td> 0.0082855443</td><td>-0.15449192  </td><td> 0.34023779  </td><td> 0.17247075  </td></tr>\n",
       "\t<tr><th scope=row>CO2</th><td> 0.98274939  </td><td>-0.1067324607</td><td>-0.0411471651</td><td> 1.00000000  </td><td> 0.87727963  </td><td> 0.97671982  </td><td> 0.51405975  </td><td> 0.8526896272</td><td> 0.17742893  </td><td>-0.35615480  </td><td> 0.78852921  </td></tr>\n",
       "\t<tr><th scope=row>CH4</th><td> 0.91565945  </td><td> 0.0185686624</td><td>-0.0334193014</td><td> 0.87727963  </td><td> 1.00000000  </td><td> 0.89983864  </td><td> 0.77990402  </td><td> 0.9636162478</td><td> 0.24552844  </td><td>-0.26780919  </td><td> 0.70325502  </td></tr>\n",
       "\t<tr><th scope=row>N2O</th><td> 0.99384523  </td><td> 0.0136315303</td><td>-0.0508197755</td><td> 0.97671982  </td><td> 0.89983864  </td><td> 1.00000000  </td><td> 0.52247732  </td><td> 0.8679307757</td><td> 0.19975668  </td><td>-0.33705457  </td><td> 0.77863893  </td></tr>\n",
       "\t<tr><th scope=row>CFC.11</th><td> 0.56910643  </td><td>-0.0131112236</td><td> 0.0690004387</td><td> 0.51405975  </td><td> 0.77990402  </td><td> 0.52247732  </td><td> 1.00000000  </td><td> 0.8689851828</td><td> 0.27204596  </td><td>-0.04392120  </td><td> 0.40771029  </td></tr>\n",
       "\t<tr><th scope=row>CFC.12</th><td> 0.89701166  </td><td> 0.0006751102</td><td> 0.0082855443</td><td> 0.85268963  </td><td> 0.96361625  </td><td> 0.86793078  </td><td> 0.86898518  </td><td> 1.0000000000</td><td> 0.25530281  </td><td>-0.22513124  </td><td> 0.68755755  </td></tr>\n",
       "\t<tr><th scope=row>TSI</th><td> 0.17030201  </td><td>-0.0346061935</td><td>-0.1544919227</td><td> 0.17742893  </td><td> 0.24552844  </td><td> 0.19975668  </td><td> 0.27204596  </td><td> 0.2553028138</td><td> 1.00000000  </td><td> 0.05211651  </td><td> 0.24338269  </td></tr>\n",
       "\t<tr><th scope=row>Aerosols</th><td>-0.34524670  </td><td> 0.0148895406</td><td> 0.3402377871</td><td>-0.35615480  </td><td>-0.26780919  </td><td>-0.33705457  </td><td>-0.04392120  </td><td>-0.2251312440</td><td> 0.05211651  </td><td> 1.00000000  </td><td>-0.38491375  </td></tr>\n",
       "\t<tr><th scope=row>Temp</th><td> 0.78679714  </td><td>-0.0998567411</td><td> 0.1724707512</td><td> 0.78852921  </td><td> 0.70325502  </td><td> 0.77863893  </td><td> 0.40771029  </td><td> 0.6875575483</td><td> 0.24338269  </td><td>-0.38491375  </td><td> 1.00000000  </td></tr>\n",
       "</tbody>\n",
       "</table>\n"
      ],
      "text/latex": [
       "\\begin{tabular}{r|lllllllllll}\n",
       "  & Year & Month & MEI & CO2 & CH4 & N2O & CFC.11 & CFC.12 & TSI & Aerosols & Temp\\\\\n",
       "\\hline\n",
       "\tYear &  1.00000000   & -0.0279419602 & -0.0369876842 &  0.98274939   &  0.91565945   &  0.99384523   &  0.56910643   &  0.8970116635 &  0.17030201   & -0.34524670   &  0.78679714  \\\\\n",
       "\tMonth & -0.02794196   &  1.0000000000 &  0.0008846905 & -0.10673246   &  0.01856866   &  0.01363153   & -0.01311122   &  0.0006751102 & -0.03460619   &  0.01488954   & -0.09985674  \\\\\n",
       "\tMEI & -0.03698768   &  0.0008846905 &  1.0000000000 & -0.04114717   & -0.03341930   & -0.05081978   &  0.06900044   &  0.0082855443 & -0.15449192   &  0.34023779   &  0.17247075  \\\\\n",
       "\tCO2 &  0.98274939   & -0.1067324607 & -0.0411471651 &  1.00000000   &  0.87727963   &  0.97671982   &  0.51405975   &  0.8526896272 &  0.17742893   & -0.35615480   &  0.78852921  \\\\\n",
       "\tCH4 &  0.91565945   &  0.0185686624 & -0.0334193014 &  0.87727963   &  1.00000000   &  0.89983864   &  0.77990402   &  0.9636162478 &  0.24552844   & -0.26780919   &  0.70325502  \\\\\n",
       "\tN2O &  0.99384523   &  0.0136315303 & -0.0508197755 &  0.97671982   &  0.89983864   &  1.00000000   &  0.52247732   &  0.8679307757 &  0.19975668   & -0.33705457   &  0.77863893  \\\\\n",
       "\tCFC.11 &  0.56910643   & -0.0131112236 &  0.0690004387 &  0.51405975   &  0.77990402   &  0.52247732   &  1.00000000   &  0.8689851828 &  0.27204596   & -0.04392120   &  0.40771029  \\\\\n",
       "\tCFC.12 &  0.89701166   &  0.0006751102 &  0.0082855443 &  0.85268963   &  0.96361625   &  0.86793078   &  0.86898518   &  1.0000000000 &  0.25530281   & -0.22513124   &  0.68755755  \\\\\n",
       "\tTSI &  0.17030201   & -0.0346061935 & -0.1544919227 &  0.17742893   &  0.24552844   &  0.19975668   &  0.27204596   &  0.2553028138 &  1.00000000   &  0.05211651   &  0.24338269  \\\\\n",
       "\tAerosols & -0.34524670   &  0.0148895406 &  0.3402377871 & -0.35615480   & -0.26780919   & -0.33705457   & -0.04392120   & -0.2251312440 &  0.05211651   &  1.00000000   & -0.38491375  \\\\\n",
       "\tTemp &  0.78679714   & -0.0998567411 &  0.1724707512 &  0.78852921   &  0.70325502   &  0.77863893   &  0.40771029   &  0.6875575483 &  0.24338269   & -0.38491375   &  1.00000000  \\\\\n",
       "\\end{tabular}\n"
      ],
      "text/markdown": [
       "1. 1\n",
       "2. -0.0279419602466886\n",
       "3. -0.0369876841579054\n",
       "4. 0.982749392190792\n",
       "5. 0.915659451035995\n",
       "6. 0.993845230734959\n",
       "7. 0.56910643128672\n",
       "8. 0.897011663456516\n",
       "9. 0.170302014979093\n",
       "10. -0.345246704029245\n",
       "11. 0.786797136884519\n",
       "12. -0.0279419602466886\n",
       "13. 1\n",
       "14. 0.000884690506104957\n",
       "15. -0.106732460661687\n",
       "16. 0.0185686623884355\n",
       "17. 0.013631530299999\n",
       "18. -0.0131112235705166\n",
       "19. 0.000675110243317882\n",
       "20. -0.0346061935216731\n",
       "21. 0.0148895405665457\n",
       "22. -0.0998567410819309\n",
       "23. -0.0369876841579054\n",
       "24. 0.000884690506104957\n",
       "25. 1\n",
       "26. -0.0411471650694688\n",
       "27. -0.0334193014322536\n",
       "28. -0.0508197754723296\n",
       "29. 0.069000438724312\n",
       "30. 0.0082855442691995\n",
       "31. -0.154491922703152\n",
       "32. 0.340237787075898\n",
       "33. 0.172470751238139\n",
       "34. 0.982749392190792\n",
       "35. -0.106732460661687\n",
       "36. -0.0411471650694688\n",
       "37. 1\n",
       "38. 0.877279633155744\n",
       "39. 0.976719818217478\n",
       "40. 0.514059748009346\n",
       "41. 0.852689627176487\n",
       "42. 0.177428932730747\n",
       "43. -0.356154800296452\n",
       "44. 0.788529209330876\n",
       "45. 0.915659451035995\n",
       "46. 0.0185686623884355\n",
       "47. -0.0334193014322536\n",
       "48. 0.877279633155744\n",
       "49. 1\n",
       "50. 0.899838643766285\n",
       "51. 0.779904020023314\n",
       "52. 0.963616247755802\n",
       "53. 0.245528442246153\n",
       "54. -0.26780918608935\n",
       "55. 0.703255021650043\n",
       "56. 0.993845230734959\n",
       "57. 0.013631530299999\n",
       "58. -0.0508197754723296\n",
       "59. 0.976719818217478\n",
       "60. 0.899838643766285\n",
       "61. 1\n",
       "62. 0.522477318794013\n",
       "63. 0.867930775708513\n",
       "64. 0.199756679427515\n",
       "65. -0.337054570706549\n",
       "66. 0.778638929771754\n",
       "67. 0.56910643128672\n",
       "68. -0.0131112235705166\n",
       "69. 0.069000438724312\n",
       "70. 0.514059748009346\n",
       "71. 0.779904020023314\n",
       "72. 0.522477318794013\n",
       "73. 1\n",
       "74. 0.868985182783086\n",
       "75. 0.272045960296638\n",
       "76. -0.0439211981477643\n",
       "77. 0.407710289658055\n",
       "78. 0.897011663456516\n",
       "79. 0.000675110243317882\n",
       "80. 0.0082855442691995\n",
       "81. 0.852689627176487\n",
       "82. 0.963616247755802\n",
       "83. 0.867930775708513\n",
       "84. 0.868985182783086\n",
       "85. 1\n",
       "86. 0.255302813765044\n",
       "87. -0.225131243989765\n",
       "88. 0.68755754829402\n",
       "89. 0.170302014979093\n",
       "90. -0.0346061935216731\n",
       "91. -0.154491922703152\n",
       "92. 0.177428932730747\n",
       "93. 0.245528442246153\n",
       "94. 0.199756679427515\n",
       "95. 0.272045960296638\n",
       "96. 0.255302813765044\n",
       "97. 1\n",
       "98. 0.0521165081947243\n",
       "99. 0.243382687405267\n",
       "100. -0.345246704029245\n",
       "101. 0.0148895405665457\n",
       "102. 0.340237787075898\n",
       "103. -0.356154800296452\n",
       "104. -0.26780918608935\n",
       "105. -0.337054570706549\n",
       "106. -0.0439211981477643\n",
       "107. -0.225131243989765\n",
       "108. 0.0521165081947243\n",
       "109. 1\n",
       "110. -0.384913746198221\n",
       "111. 0.786797136884519\n",
       "112. -0.0998567410819309\n",
       "113. 0.172470751238139\n",
       "114. 0.788529209330876\n",
       "115. 0.703255021650043\n",
       "116. 0.778638929771754\n",
       "117. 0.407710289658055\n",
       "118. 0.68755754829402\n",
       "119. 0.243382687405267\n",
       "120. -0.384913746198221\n",
       "121. 1\n",
       "\n",
       "\n"
      ],
      "text/plain": [
       "         Year        Month         MEI           CO2         CH4        \n",
       "Year      1.00000000 -0.0279419602 -0.0369876842  0.98274939  0.91565945\n",
       "Month    -0.02794196  1.0000000000  0.0008846905 -0.10673246  0.01856866\n",
       "MEI      -0.03698768  0.0008846905  1.0000000000 -0.04114717 -0.03341930\n",
       "CO2       0.98274939 -0.1067324607 -0.0411471651  1.00000000  0.87727963\n",
       "CH4       0.91565945  0.0185686624 -0.0334193014  0.87727963  1.00000000\n",
       "N2O       0.99384523  0.0136315303 -0.0508197755  0.97671982  0.89983864\n",
       "CFC.11    0.56910643 -0.0131112236  0.0690004387  0.51405975  0.77990402\n",
       "CFC.12    0.89701166  0.0006751102  0.0082855443  0.85268963  0.96361625\n",
       "TSI       0.17030201 -0.0346061935 -0.1544919227  0.17742893  0.24552844\n",
       "Aerosols -0.34524670  0.0148895406  0.3402377871 -0.35615480 -0.26780919\n",
       "Temp      0.78679714 -0.0998567411  0.1724707512  0.78852921  0.70325502\n",
       "         N2O         CFC.11      CFC.12        TSI         Aerosols   \n",
       "Year      0.99384523  0.56910643  0.8970116635  0.17030201 -0.34524670\n",
       "Month     0.01363153 -0.01311122  0.0006751102 -0.03460619  0.01488954\n",
       "MEI      -0.05081978  0.06900044  0.0082855443 -0.15449192  0.34023779\n",
       "CO2       0.97671982  0.51405975  0.8526896272  0.17742893 -0.35615480\n",
       "CH4       0.89983864  0.77990402  0.9636162478  0.24552844 -0.26780919\n",
       "N2O       1.00000000  0.52247732  0.8679307757  0.19975668 -0.33705457\n",
       "CFC.11    0.52247732  1.00000000  0.8689851828  0.27204596 -0.04392120\n",
       "CFC.12    0.86793078  0.86898518  1.0000000000  0.25530281 -0.22513124\n",
       "TSI       0.19975668  0.27204596  0.2553028138  1.00000000  0.05211651\n",
       "Aerosols -0.33705457 -0.04392120 -0.2251312440  0.05211651  1.00000000\n",
       "Temp      0.77863893  0.40771029  0.6875575483  0.24338269 -0.38491375\n",
       "         Temp       \n",
       "Year      0.78679714\n",
       "Month    -0.09985674\n",
       "MEI       0.17247075\n",
       "CO2       0.78852921\n",
       "CH4       0.70325502\n",
       "N2O       0.77863893\n",
       "CFC.11    0.40771029\n",
       "CFC.12    0.68755755\n",
       "TSI       0.24338269\n",
       "Aerosols -0.38491375\n",
       "Temp      1.00000000"
      ]
     },
     "metadata": {},
     "output_type": "display_data"
    }
   ],
   "source": [
    "cor(Train)"
   ]
  },
  {
   "cell_type": "code",
   "execution_count": 25,
   "metadata": {},
   "outputs": [
    {
     "data": {
      "text/html": [
       "<table>\n",
       "<thead><tr><th></th><th scope=col>Year</th><th scope=col>Month</th><th scope=col>MEI</th><th scope=col>CO2</th><th scope=col>CH4</th><th scope=col>N2O</th><th scope=col>CFC.11</th><th scope=col>CFC.12</th><th scope=col>TSI</th><th scope=col>Aerosols</th><th scope=col>Temp</th></tr></thead>\n",
       "<tbody>\n",
       "\t<tr><th scope=row>Year</th><td> TRUE</td><td>FALSE</td><td>FALSE</td><td> TRUE</td><td> TRUE</td><td> TRUE</td><td>FALSE</td><td> TRUE</td><td>FALSE</td><td>FALSE</td><td> TRUE</td></tr>\n",
       "\t<tr><th scope=row>Month</th><td>FALSE</td><td> TRUE</td><td>FALSE</td><td>FALSE</td><td>FALSE</td><td>FALSE</td><td>FALSE</td><td>FALSE</td><td>FALSE</td><td>FALSE</td><td>FALSE</td></tr>\n",
       "\t<tr><th scope=row>MEI</th><td>FALSE</td><td>FALSE</td><td> TRUE</td><td>FALSE</td><td>FALSE</td><td>FALSE</td><td>FALSE</td><td>FALSE</td><td>FALSE</td><td>FALSE</td><td>FALSE</td></tr>\n",
       "\t<tr><th scope=row>CO2</th><td> TRUE</td><td>FALSE</td><td>FALSE</td><td> TRUE</td><td> TRUE</td><td> TRUE</td><td>FALSE</td><td> TRUE</td><td>FALSE</td><td>FALSE</td><td> TRUE</td></tr>\n",
       "\t<tr><th scope=row>CH4</th><td> TRUE</td><td>FALSE</td><td>FALSE</td><td> TRUE</td><td> TRUE</td><td> TRUE</td><td> TRUE</td><td> TRUE</td><td>FALSE</td><td>FALSE</td><td> TRUE</td></tr>\n",
       "\t<tr><th scope=row>N2O</th><td> TRUE</td><td>FALSE</td><td>FALSE</td><td> TRUE</td><td> TRUE</td><td> TRUE</td><td>FALSE</td><td> TRUE</td><td>FALSE</td><td>FALSE</td><td> TRUE</td></tr>\n",
       "\t<tr><th scope=row>CFC.11</th><td>FALSE</td><td>FALSE</td><td>FALSE</td><td>FALSE</td><td> TRUE</td><td>FALSE</td><td> TRUE</td><td> TRUE</td><td>FALSE</td><td>FALSE</td><td>FALSE</td></tr>\n",
       "\t<tr><th scope=row>CFC.12</th><td> TRUE</td><td>FALSE</td><td>FALSE</td><td> TRUE</td><td> TRUE</td><td> TRUE</td><td> TRUE</td><td> TRUE</td><td>FALSE</td><td>FALSE</td><td>FALSE</td></tr>\n",
       "\t<tr><th scope=row>TSI</th><td>FALSE</td><td>FALSE</td><td>FALSE</td><td>FALSE</td><td>FALSE</td><td>FALSE</td><td>FALSE</td><td>FALSE</td><td> TRUE</td><td>FALSE</td><td>FALSE</td></tr>\n",
       "\t<tr><th scope=row>Aerosols</th><td>FALSE</td><td>FALSE</td><td>FALSE</td><td>FALSE</td><td>FALSE</td><td>FALSE</td><td>FALSE</td><td>FALSE</td><td>FALSE</td><td> TRUE</td><td>FALSE</td></tr>\n",
       "\t<tr><th scope=row>Temp</th><td> TRUE</td><td>FALSE</td><td>FALSE</td><td> TRUE</td><td> TRUE</td><td> TRUE</td><td>FALSE</td><td>FALSE</td><td>FALSE</td><td>FALSE</td><td> TRUE</td></tr>\n",
       "</tbody>\n",
       "</table>\n"
      ],
      "text/latex": [
       "\\begin{tabular}{r|lllllllllll}\n",
       "  & Year & Month & MEI & CO2 & CH4 & N2O & CFC.11 & CFC.12 & TSI & Aerosols & Temp\\\\\n",
       "\\hline\n",
       "\tYear &  TRUE & FALSE & FALSE &  TRUE &  TRUE &  TRUE & FALSE &  TRUE & FALSE & FALSE &  TRUE\\\\\n",
       "\tMonth & FALSE &  TRUE & FALSE & FALSE & FALSE & FALSE & FALSE & FALSE & FALSE & FALSE & FALSE\\\\\n",
       "\tMEI & FALSE & FALSE &  TRUE & FALSE & FALSE & FALSE & FALSE & FALSE & FALSE & FALSE & FALSE\\\\\n",
       "\tCO2 &  TRUE & FALSE & FALSE &  TRUE &  TRUE &  TRUE & FALSE &  TRUE & FALSE & FALSE &  TRUE\\\\\n",
       "\tCH4 &  TRUE & FALSE & FALSE &  TRUE &  TRUE &  TRUE &  TRUE &  TRUE & FALSE & FALSE &  TRUE\\\\\n",
       "\tN2O &  TRUE & FALSE & FALSE &  TRUE &  TRUE &  TRUE & FALSE &  TRUE & FALSE & FALSE &  TRUE\\\\\n",
       "\tCFC.11 & FALSE & FALSE & FALSE & FALSE &  TRUE & FALSE &  TRUE &  TRUE & FALSE & FALSE & FALSE\\\\\n",
       "\tCFC.12 &  TRUE & FALSE & FALSE &  TRUE &  TRUE &  TRUE &  TRUE &  TRUE & FALSE & FALSE & FALSE\\\\\n",
       "\tTSI & FALSE & FALSE & FALSE & FALSE & FALSE & FALSE & FALSE & FALSE &  TRUE & FALSE & FALSE\\\\\n",
       "\tAerosols & FALSE & FALSE & FALSE & FALSE & FALSE & FALSE & FALSE & FALSE & FALSE &  TRUE & FALSE\\\\\n",
       "\tTemp &  TRUE & FALSE & FALSE &  TRUE &  TRUE &  TRUE & FALSE & FALSE & FALSE & FALSE &  TRUE\\\\\n",
       "\\end{tabular}\n"
      ],
      "text/markdown": [
       "1. TRUE\n",
       "2. FALSE\n",
       "3. FALSE\n",
       "4. TRUE\n",
       "5. TRUE\n",
       "6. TRUE\n",
       "7. FALSE\n",
       "8. TRUE\n",
       "9. FALSE\n",
       "10. FALSE\n",
       "11. TRUE\n",
       "12. FALSE\n",
       "13. TRUE\n",
       "14. FALSE\n",
       "15. FALSE\n",
       "16. FALSE\n",
       "17. FALSE\n",
       "18. FALSE\n",
       "19. FALSE\n",
       "20. FALSE\n",
       "21. FALSE\n",
       "22. FALSE\n",
       "23. FALSE\n",
       "24. FALSE\n",
       "25. TRUE\n",
       "26. FALSE\n",
       "27. FALSE\n",
       "28. FALSE\n",
       "29. FALSE\n",
       "30. FALSE\n",
       "31. FALSE\n",
       "32. FALSE\n",
       "33. FALSE\n",
       "34. TRUE\n",
       "35. FALSE\n",
       "36. FALSE\n",
       "37. TRUE\n",
       "38. TRUE\n",
       "39. TRUE\n",
       "40. FALSE\n",
       "41. TRUE\n",
       "42. FALSE\n",
       "43. FALSE\n",
       "44. TRUE\n",
       "45. TRUE\n",
       "46. FALSE\n",
       "47. FALSE\n",
       "48. TRUE\n",
       "49. TRUE\n",
       "50. TRUE\n",
       "51. TRUE\n",
       "52. TRUE\n",
       "53. FALSE\n",
       "54. FALSE\n",
       "55. TRUE\n",
       "56. TRUE\n",
       "57. FALSE\n",
       "58. FALSE\n",
       "59. TRUE\n",
       "60. TRUE\n",
       "61. TRUE\n",
       "62. FALSE\n",
       "63. TRUE\n",
       "64. FALSE\n",
       "65. FALSE\n",
       "66. TRUE\n",
       "67. FALSE\n",
       "68. FALSE\n",
       "69. FALSE\n",
       "70. FALSE\n",
       "71. TRUE\n",
       "72. FALSE\n",
       "73. TRUE\n",
       "74. TRUE\n",
       "75. FALSE\n",
       "76. FALSE\n",
       "77. FALSE\n",
       "78. TRUE\n",
       "79. FALSE\n",
       "80. FALSE\n",
       "81. TRUE\n",
       "82. TRUE\n",
       "83. TRUE\n",
       "84. TRUE\n",
       "85. TRUE\n",
       "86. FALSE\n",
       "87. FALSE\n",
       "88. FALSE\n",
       "89. FALSE\n",
       "90. FALSE\n",
       "91. FALSE\n",
       "92. FALSE\n",
       "93. FALSE\n",
       "94. FALSE\n",
       "95. FALSE\n",
       "96. FALSE\n",
       "97. TRUE\n",
       "98. FALSE\n",
       "99. FALSE\n",
       "100. FALSE\n",
       "101. FALSE\n",
       "102. FALSE\n",
       "103. FALSE\n",
       "104. FALSE\n",
       "105. FALSE\n",
       "106. FALSE\n",
       "107. FALSE\n",
       "108. FALSE\n",
       "109. TRUE\n",
       "110. FALSE\n",
       "111. TRUE\n",
       "112. FALSE\n",
       "113. FALSE\n",
       "114. TRUE\n",
       "115. TRUE\n",
       "116. TRUE\n",
       "117. FALSE\n",
       "118. FALSE\n",
       "119. FALSE\n",
       "120. FALSE\n",
       "121. TRUE\n",
       "\n",
       "\n"
      ],
      "text/plain": [
       "         Year  Month MEI   CO2   CH4   N2O   CFC.11 CFC.12 TSI   Aerosols Temp \n",
       "Year      TRUE FALSE FALSE  TRUE  TRUE  TRUE FALSE   TRUE  FALSE FALSE     TRUE\n",
       "Month    FALSE  TRUE FALSE FALSE FALSE FALSE FALSE  FALSE  FALSE FALSE    FALSE\n",
       "MEI      FALSE FALSE  TRUE FALSE FALSE FALSE FALSE  FALSE  FALSE FALSE    FALSE\n",
       "CO2       TRUE FALSE FALSE  TRUE  TRUE  TRUE FALSE   TRUE  FALSE FALSE     TRUE\n",
       "CH4       TRUE FALSE FALSE  TRUE  TRUE  TRUE  TRUE   TRUE  FALSE FALSE     TRUE\n",
       "N2O       TRUE FALSE FALSE  TRUE  TRUE  TRUE FALSE   TRUE  FALSE FALSE     TRUE\n",
       "CFC.11   FALSE FALSE FALSE FALSE  TRUE FALSE  TRUE   TRUE  FALSE FALSE    FALSE\n",
       "CFC.12    TRUE FALSE FALSE  TRUE  TRUE  TRUE  TRUE   TRUE  FALSE FALSE    FALSE\n",
       "TSI      FALSE FALSE FALSE FALSE FALSE FALSE FALSE  FALSE   TRUE FALSE    FALSE\n",
       "Aerosols FALSE FALSE FALSE FALSE FALSE FALSE FALSE  FALSE  FALSE  TRUE    FALSE\n",
       "Temp      TRUE FALSE FALSE  TRUE  TRUE  TRUE FALSE  FALSE  FALSE FALSE     TRUE"
      ]
     },
     "metadata": {},
     "output_type": "display_data"
    }
   ],
   "source": [
    "abs(cor(Train)) > 0.7"
   ]
  },
  {
   "cell_type": "markdown",
   "metadata": {},
   "source": [
    "Which of the following independent variables is CFC.11 highly correlated with? Select all that apply.\n"
   ]
  },
  {
   "cell_type": "code",
   "execution_count": null,
   "metadata": {},
   "outputs": [],
   "source": []
  },
  {
   "cell_type": "markdown",
   "metadata": {},
   "source": [
    "#### Problem 3 - Simplifying the Model\n",
    "\n",
    "Given that the correlations are so high, let us focus on the N2O variable and build a model with only MEI, TSI, Aerosols and N2O as independent variables. Remember to use the training set to build the model.\n",
    "\n",
    "Enter the coefficient of N2O in this reduced model:"
   ]
  },
  {
   "cell_type": "code",
   "execution_count": 27,
   "metadata": {},
   "outputs": [
    {
     "data": {
      "text/plain": [
       "\n",
       "Call:\n",
       "lm(formula = Temp ~ N2O + MEI + TSI + Aerosols, data = Train)\n",
       "\n",
       "Residuals:\n",
       "     Min       1Q   Median       3Q      Max \n",
       "-0.27916 -0.05975 -0.00595  0.05672  0.34195 \n",
       "\n",
       "Coefficients:\n",
       "              Estimate Std. Error t value Pr(>|t|)    \n",
       "(Intercept) -1.162e+02  2.022e+01  -5.747 2.37e-08 ***\n",
       "N2O          2.532e-02  1.311e-03  19.307  < 2e-16 ***\n",
       "MEI          6.419e-02  6.652e-03   9.649  < 2e-16 ***\n",
       "TSI          7.949e-02  1.487e-02   5.344 1.89e-07 ***\n",
       "Aerosols    -1.702e+00  2.180e-01  -7.806 1.19e-13 ***\n",
       "---\n",
       "Signif. codes:  0 '***' 0.001 '**' 0.01 '*' 0.05 '.' 0.1 ' ' 1\n",
       "\n",
       "Residual standard error: 0.09547 on 279 degrees of freedom\n",
       "Multiple R-squared:  0.7261,\tAdjusted R-squared:  0.7222 \n",
       "F-statistic: 184.9 on 4 and 279 DF,  p-value: < 2.2e-16\n"
      ]
     },
     "metadata": {},
     "output_type": "display_data"
    }
   ],
   "source": [
    "Mod2 <- lm(Temp ~  N2O + MEI + TSI + Aerosols, data=Train)\n",
    "summary(Mod2)"
   ]
  },
  {
   "cell_type": "markdown",
   "metadata": {},
   "source": [
    "(How does this compare to the coefficient in the previous model with all of the variables?)\n",
    "\n",
    "Enter the model R2:"
   ]
  },
  {
   "cell_type": "code",
   "execution_count": 28,
   "metadata": {},
   "outputs": [
    {
     "data": {
      "text/html": [
       "0.72613212795111"
      ],
      "text/latex": [
       "0.72613212795111"
      ],
      "text/markdown": [
       "0.72613212795111"
      ],
      "text/plain": [
       "[1] 0.7261321"
      ]
     },
     "metadata": {},
     "output_type": "display_data"
    }
   ],
   "source": [
    "summary(Mod2)$r.square"
   ]
  },
  {
   "cell_type": "markdown",
   "metadata": {},
   "source": [
    "#### Problem 4 - Automatically Building the Model\n",
    "\n",
    "We have many variables in this problem, and as we have seen above, dropping some from the model does not decrease model quality. R provides a function, step, that will automate the procedure of trying different combinations of variables to find a good compromise of model simplicity and R2. This trade-off is formalized by the Akaike information criterion (AIC) - it can be informally thought of as the quality of the model with a penalty for the number of variables in the model.\n",
    "\n",
    "The step function has one argument - the name of the initial model. It returns a simplified model. Use the step function in R to derive a new model, with the full model as the initial model (HINT: If your initial full model was called \"climateLM\", you could create a new model with the step function by typing step(climateLM). Be sure to save your new model to a variable name so that you can look at the summary. For more information about the step function, type ?step in your R console.)\n",
    "\n",
    "Enter the R2 value of the model produced by the step function:"
   ]
  },
  {
   "cell_type": "code",
   "execution_count": 29,
   "metadata": {},
   "outputs": [
    {
     "name": "stdout",
     "output_type": "stream",
     "text": [
      "Start:  AIC=-1348.16\n",
      "Temp ~ (Year + Month + MEI + CO2 + CH4 + N2O + CFC.11 + CFC.12 + \n",
      "    TSI + Aerosols) - Year - Month\n",
      "\n",
      "           Df Sum of Sq    RSS     AIC\n",
      "- CH4       1   0.00049 2.3135 -1350.1\n",
      "<none>                  2.3130 -1348.2\n",
      "- N2O       1   0.03132 2.3443 -1346.3\n",
      "- CO2       1   0.06719 2.3802 -1342.0\n",
      "- CFC.12    1   0.11874 2.4318 -1335.9\n",
      "- CFC.11    1   0.13986 2.4529 -1333.5\n",
      "- TSI       1   0.33516 2.6482 -1311.7\n",
      "- Aerosols  1   0.43727 2.7503 -1301.0\n",
      "- MEI       1   0.82823 3.1412 -1263.2\n",
      "\n",
      "Step:  AIC=-1350.1\n",
      "Temp ~ MEI + CO2 + N2O + CFC.11 + CFC.12 + TSI + Aerosols\n",
      "\n",
      "           Df Sum of Sq    RSS     AIC\n",
      "<none>                  2.3135 -1350.1\n",
      "- N2O       1   0.03133 2.3448 -1348.3\n",
      "- CO2       1   0.06672 2.3802 -1344.0\n",
      "- CFC.12    1   0.13023 2.4437 -1336.5\n",
      "- CFC.11    1   0.13938 2.4529 -1335.5\n",
      "- TSI       1   0.33500 2.6485 -1313.7\n",
      "- Aerosols  1   0.43987 2.7534 -1302.7\n",
      "- MEI       1   0.83118 3.1447 -1264.9\n"
     ]
    },
    {
     "data": {
      "text/plain": [
       "\n",
       "Call:\n",
       "lm(formula = Temp ~ MEI + CO2 + N2O + CFC.11 + CFC.12 + TSI + \n",
       "    Aerosols, data = Train)\n",
       "\n",
       "Residuals:\n",
       "     Min       1Q   Median       3Q      Max \n",
       "-0.25770 -0.05994 -0.00104  0.05588  0.32203 \n",
       "\n",
       "Coefficients:\n",
       "              Estimate Std. Error t value Pr(>|t|)    \n",
       "(Intercept) -1.245e+02  1.985e+01  -6.273 1.37e-09 ***\n",
       "MEI          6.407e-02  6.434e-03   9.958  < 2e-16 ***\n",
       "CO2          6.402e-03  2.269e-03   2.821 0.005129 ** \n",
       "N2O         -1.602e-02  8.287e-03  -1.933 0.054234 .  \n",
       "CFC.11      -6.609e-03  1.621e-03  -4.078 5.95e-05 ***\n",
       "CFC.12       3.868e-03  9.812e-04   3.942 0.000103 ***\n",
       "TSI          9.312e-02  1.473e-02   6.322 1.04e-09 ***\n",
       "Aerosols    -1.540e+00  2.126e-01  -7.244 4.36e-12 ***\n",
       "---\n",
       "Signif. codes:  0 '***' 0.001 '**' 0.01 '*' 0.05 '.' 0.1 ' ' 1\n",
       "\n",
       "Residual standard error: 0.09155 on 276 degrees of freedom\n",
       "Multiple R-squared:  0.7508,\tAdjusted R-squared:  0.7445 \n",
       "F-statistic: 118.8 on 7 and 276 DF,  p-value: < 2.2e-16\n"
      ]
     },
     "metadata": {},
     "output_type": "display_data"
    }
   ],
   "source": [
    "Mod3 <- step(Mod1)\n",
    "summary(Mod3)"
   ]
  },
  {
   "cell_type": "code",
   "execution_count": 30,
   "metadata": {},
   "outputs": [
    {
     "data": {
      "text/html": [
       "0.750840896221693"
      ],
      "text/latex": [
       "0.750840896221693"
      ],
      "text/markdown": [
       "0.750840896221693"
      ],
      "text/plain": [
       "[1] 0.7508409"
      ]
     },
     "metadata": {},
     "output_type": "display_data"
    }
   ],
   "source": [
    "summary(Mod3)$r.square"
   ]
  },
  {
   "cell_type": "markdown",
   "metadata": {},
   "source": [
    "Which of the following variable(s) were eliminated from the full model by the step function? Select all that apply."
   ]
  },
  {
   "cell_type": "code",
   "execution_count": null,
   "metadata": {
    "collapsed": true
   },
   "outputs": [],
   "source": [
    "CH4"
   ]
  },
  {
   "cell_type": "markdown",
   "metadata": {},
   "source": [
    "It is interesting to note that the step function does not address the collinearity of the variables, except that adding highly correlated variables will not improve the R2 significantly. The consequence of this is that the step function will not necessarily produce a very interpretable model - just a model that has balanced quality and simplicity for a particular weighting of quality and simplicity (AIC)."
   ]
  },
  {
   "cell_type": "code",
   "execution_count": null,
   "metadata": {
    "collapsed": true
   },
   "outputs": [],
   "source": []
  },
  {
   "cell_type": "markdown",
   "metadata": {},
   "source": [
    "#### Problem 5 - Testing on Unseen Data\n",
    "\n",
    "We have developed an understanding of how well we can fit a linear regression to the training data, but does the model quality hold when applied to unseen data?\n",
    "\n",
    "Using the model produced from the step function, calculate temperature predictions for the testing data set, using the predict function.\n",
    "\n",
    "Enter the testing set R2:"
   ]
  },
  {
   "cell_type": "code",
   "execution_count": 35,
   "metadata": {},
   "outputs": [],
   "source": [
    "Test$Predict  <- predict(Mod3, newdata = Test)"
   ]
  },
  {
   "cell_type": "code",
   "execution_count": 36,
   "metadata": {},
   "outputs": [
    {
     "data": {
      "text/html": [
       "<ol class=list-inline>\n",
       "\t<li>0.467780765861989</li>\n",
       "\t<li>0.443540423387189</li>\n",
       "\t<li>0.426554059669475</li>\n",
       "\t<li>0.429916210439632</li>\n",
       "\t<li>0.445511274787303</li>\n",
       "\t<li>0.415142182477796</li>\n",
       "\t<li>0.409736650864366</li>\n",
       "\t<li>0.383939042266461</li>\n",
       "\t<li>0.325559538377013</li>\n",
       "\t<li>0.327414734164151</li>\n",
       "\t<li>0.323140084952691</li>\n",
       "\t<li>0.331670396500472</li>\n",
       "\t<li>0.352213416475164</li>\n",
       "\t<li>0.33131285229506</li>\n",
       "\t<li>0.31421117809766</li>\n",
       "\t<li>0.370341011265885</li>\n",
       "\t<li>0.416221271631953</li>\n",
       "\t<li>0.439145790048377</li>\n",
       "\t<li>0.42379653303312</li>\n",
       "\t<li>0.391367909033623</li>\n",
       "\t<li>0.358761466878739</li>\n",
       "\t<li>0.345199074288692</li>\n",
       "\t<li>0.360708690747724</li>\n",
       "\t<li>0.363807628911282</li>\n",
       "</ol>\n"
      ],
      "text/latex": [
       "\\begin{enumerate*}\n",
       "\\item 0.467780765861989\n",
       "\\item 0.443540423387189\n",
       "\\item 0.426554059669475\n",
       "\\item 0.429916210439632\n",
       "\\item 0.445511274787303\n",
       "\\item 0.415142182477796\n",
       "\\item 0.409736650864366\n",
       "\\item 0.383939042266461\n",
       "\\item 0.325559538377013\n",
       "\\item 0.327414734164151\n",
       "\\item 0.323140084952691\n",
       "\\item 0.331670396500472\n",
       "\\item 0.352213416475164\n",
       "\\item 0.33131285229506\n",
       "\\item 0.31421117809766\n",
       "\\item 0.370341011265885\n",
       "\\item 0.416221271631953\n",
       "\\item 0.439145790048377\n",
       "\\item 0.42379653303312\n",
       "\\item 0.391367909033623\n",
       "\\item 0.358761466878739\n",
       "\\item 0.345199074288692\n",
       "\\item 0.360708690747724\n",
       "\\item 0.363807628911282\n",
       "\\end{enumerate*}\n"
      ],
      "text/markdown": [
       "1. 0.467780765861989\n",
       "2. 0.443540423387189\n",
       "3. 0.426554059669475\n",
       "4. 0.429916210439632\n",
       "5. 0.445511274787303\n",
       "6. 0.415142182477796\n",
       "7. 0.409736650864366\n",
       "8. 0.383939042266461\n",
       "9. 0.325559538377013\n",
       "10. 0.327414734164151\n",
       "11. 0.323140084952691\n",
       "12. 0.331670396500472\n",
       "13. 0.352213416475164\n",
       "14. 0.33131285229506\n",
       "15. 0.31421117809766\n",
       "16. 0.370341011265885\n",
       "17. 0.416221271631953\n",
       "18. 0.439145790048377\n",
       "19. 0.42379653303312\n",
       "20. 0.391367909033623\n",
       "21. 0.358761466878739\n",
       "22. 0.345199074288692\n",
       "23. 0.360708690747724\n",
       "24. 0.363807628911282\n",
       "\n",
       "\n"
      ],
      "text/plain": [
       " [1] 0.4677808 0.4435404 0.4265541 0.4299162 0.4455113 0.4151422 0.4097367\n",
       " [8] 0.3839390 0.3255595 0.3274147 0.3231401 0.3316704 0.3522134 0.3313129\n",
       "[15] 0.3142112 0.3703410 0.4162213 0.4391458 0.4237965 0.3913679 0.3587615\n",
       "[22] 0.3451991 0.3607087 0.3638076"
      ]
     },
     "metadata": {},
     "output_type": "display_data"
    }
   ],
   "source": [
    "Test$Predict"
   ]
  },
  {
   "cell_type": "code",
   "execution_count": 37,
   "metadata": {},
   "outputs": [
    {
     "data": {
      "text/html": [
       "<table>\n",
       "<thead><tr><th></th><th scope=col>Year</th><th scope=col>Month</th><th scope=col>MEI</th><th scope=col>CO2</th><th scope=col>CH4</th><th scope=col>N2O</th><th scope=col>CFC.11</th><th scope=col>CFC.12</th><th scope=col>TSI</th><th scope=col>Aerosols</th><th scope=col>Temp</th><th scope=col>Predict</th></tr></thead>\n",
       "<tbody>\n",
       "\t<tr><th scope=row>285</th><td>2007     </td><td> 1       </td><td> 0.974   </td><td>382.93   </td><td>1799.66  </td><td>320.561  </td><td>248.372  </td><td>539.206  </td><td>1365.717 </td><td>0.0054   </td><td>0.601    </td><td>0.4677808</td></tr>\n",
       "\t<tr><th scope=row>286</th><td>2007     </td><td> 2       </td><td> 0.510   </td><td>383.81   </td><td>1803.08  </td><td>320.571  </td><td>248.264  </td><td>538.973  </td><td>1365.715 </td><td>0.0051   </td><td>0.498    </td><td>0.4435404</td></tr>\n",
       "\t<tr><th scope=row>287</th><td>2007     </td><td> 3       </td><td> 0.074   </td><td>384.56   </td><td>1803.10  </td><td>320.548  </td><td>247.997  </td><td>538.811  </td><td>1365.754 </td><td>0.0045   </td><td>0.435    </td><td>0.4265541</td></tr>\n",
       "\t<tr><th scope=row>288</th><td>2007     </td><td> 4       </td><td>-0.049   </td><td>386.40   </td><td>1802.11  </td><td>320.518  </td><td>247.574  </td><td>538.586  </td><td>1365.723 </td><td>0.0045   </td><td>0.466    </td><td>0.4299162</td></tr>\n",
       "\t<tr><th scope=row>289</th><td>2007     </td><td> 5       </td><td> 0.183   </td><td>386.58   </td><td>1795.65  </td><td>320.445  </td><td>247.224  </td><td>538.130  </td><td>1365.693 </td><td>0.0041   </td><td>0.372    </td><td>0.4455113</td></tr>\n",
       "\t<tr><th scope=row>290</th><td>2007     </td><td> 6       </td><td>-0.358   </td><td>386.05   </td><td>1781.81  </td><td>320.332  </td><td>246.881  </td><td>537.376  </td><td>1365.762 </td><td>0.0040   </td><td>0.382    </td><td>0.4151422</td></tr>\n",
       "\t<tr><th scope=row>291</th><td>2007     </td><td> 7       </td><td>-0.290   </td><td>384.49   </td><td>1771.89  </td><td>320.349  </td><td>246.497  </td><td>537.113  </td><td>1365.751 </td><td>0.0040   </td><td>0.394    </td><td>0.4097367</td></tr>\n",
       "\t<tr><th scope=row>292</th><td>2007     </td><td> 8       </td><td>-0.440   </td><td>382.00   </td><td>1779.38  </td><td>320.471  </td><td>246.307  </td><td>537.125  </td><td>1365.757 </td><td>0.0041   </td><td>0.358    </td><td>0.3839390</td></tr>\n",
       "\t<tr><th scope=row>293</th><td>2007     </td><td> 9       </td><td>-1.162   </td><td>380.90   </td><td>1794.21  </td><td>320.618  </td><td>246.214  </td><td>537.281  </td><td>1365.716 </td><td>0.0042   </td><td>0.402    </td><td>0.3255595</td></tr>\n",
       "\t<tr><th scope=row>294</th><td>2007     </td><td>10       </td><td>-1.142   </td><td>381.14   </td><td>1802.38  </td><td>320.855  </td><td>246.189  </td><td>537.380  </td><td>1365.739 </td><td>0.0041   </td><td>0.362    </td><td>0.3274147</td></tr>\n",
       "\t<tr><th scope=row>295</th><td>2007     </td><td>11       </td><td>-1.177   </td><td>382.42   </td><td>1803.79  </td><td>321.062  </td><td>246.178  </td><td>537.319  </td><td>1365.668 </td><td>0.0042   </td><td>0.266    </td><td>0.3231401</td></tr>\n",
       "\t<tr><th scope=row>296</th><td>2007     </td><td>12       </td><td>-1.168   </td><td>383.89   </td><td>1805.58  </td><td>321.217  </td><td>246.261  </td><td>537.052  </td><td>1365.693 </td><td>0.0040   </td><td>0.226    </td><td>0.3316704</td></tr>\n",
       "\t<tr><th scope=row>297</th><td>2008     </td><td> 1       </td><td>-1.011   </td><td>385.44   </td><td>1809.92  </td><td>321.328  </td><td>246.183  </td><td>536.876  </td><td>1365.716 </td><td>0.0038   </td><td>0.074    </td><td>0.3522134</td></tr>\n",
       "\t<tr><th scope=row>298</th><td>2008     </td><td> 2       </td><td>-1.402   </td><td>385.73   </td><td>1803.45  </td><td>321.345  </td><td>245.898  </td><td>536.484  </td><td>1365.737 </td><td>0.0036   </td><td>0.198    </td><td>0.3313129</td></tr>\n",
       "\t<tr><th scope=row>299</th><td>2008     </td><td> 3       </td><td>-1.635   </td><td>385.97   </td><td>1792.84  </td><td>321.295  </td><td>245.430  </td><td>535.979  </td><td>1365.673 </td><td>0.0034   </td><td>0.447    </td><td>0.3142112</td></tr>\n",
       "\t<tr><th scope=row>300</th><td>2008     </td><td> 4       </td><td>-0.942   </td><td>387.16   </td><td>1792.57  </td><td>321.354  </td><td>245.086  </td><td>535.648  </td><td>1365.715 </td><td>0.0033   </td><td>0.278    </td><td>0.3703410</td></tr>\n",
       "\t<tr><th scope=row>301</th><td>2008     </td><td> 5       </td><td>-0.355   </td><td>388.50   </td><td>1796.43  </td><td>321.420  </td><td>244.914  </td><td>535.399  </td><td>1365.717 </td><td>0.0031   </td><td>0.283    </td><td>0.4162213</td></tr>\n",
       "\t<tr><th scope=row>302</th><td>2008     </td><td> 6       </td><td> 0.128   </td><td>387.88   </td><td>1791.80  </td><td>321.447  </td><td>244.676  </td><td>535.128  </td><td>1365.673 </td><td>0.0031   </td><td>0.315    </td><td>0.4391458</td></tr>\n",
       "\t<tr><th scope=row>303</th><td>2008     </td><td> 7       </td><td> 0.003   </td><td>386.42   </td><td>1782.93  </td><td>321.372  </td><td>244.434  </td><td>535.026  </td><td>1365.672 </td><td>0.0033   </td><td>0.406    </td><td>0.4237965</td></tr>\n",
       "\t<tr><th scope=row>304</th><td>2008     </td><td> 8       </td><td>-0.266   </td><td>384.15   </td><td>1779.88  </td><td>321.405  </td><td>244.200  </td><td>535.072  </td><td>1365.657 </td><td>0.0036   </td><td>0.407    </td><td>0.3913679</td></tr>\n",
       "\t<tr><th scope=row>305</th><td>2008     </td><td> 9       </td><td>-0.643   </td><td>383.09   </td><td>1795.08  </td><td>321.529  </td><td>244.083  </td><td>535.048  </td><td>1365.665 </td><td>0.0043   </td><td>0.378    </td><td>0.3587615</td></tr>\n",
       "\t<tr><th scope=row>306</th><td>2008     </td><td>10       </td><td>-0.780   </td><td>382.99   </td><td>1814.18  </td><td>321.796  </td><td>244.080  </td><td>534.927  </td><td>1365.676 </td><td>0.0046   </td><td>0.440    </td><td>0.3451991</td></tr>\n",
       "\t<tr><th scope=row>307</th><td>2008     </td><td>11       </td><td>-0.621   </td><td>384.13   </td><td>1812.37  </td><td>322.013  </td><td>244.225  </td><td>534.906  </td><td>1365.707 </td><td>0.0048   </td><td>0.394    </td><td>0.3607087</td></tr>\n",
       "\t<tr><th scope=row>308</th><td>2008     </td><td>12       </td><td>-0.666   </td><td>385.56   </td><td>1812.88  </td><td>322.182  </td><td>244.204  </td><td>535.005  </td><td>1365.693 </td><td>0.0046   </td><td>0.330    </td><td>0.3638076</td></tr>\n",
       "</tbody>\n",
       "</table>\n"
      ],
      "text/latex": [
       "\\begin{tabular}{r|llllllllllll}\n",
       "  & Year & Month & MEI & CO2 & CH4 & N2O & CFC.11 & CFC.12 & TSI & Aerosols & Temp & Predict\\\\\n",
       "\\hline\n",
       "\t285 & 2007      &  1        &  0.974    & 382.93    & 1799.66   & 320.561   & 248.372   & 539.206   & 1365.717  & 0.0054    & 0.601     & 0.4677808\\\\\n",
       "\t286 & 2007      &  2        &  0.510    & 383.81    & 1803.08   & 320.571   & 248.264   & 538.973   & 1365.715  & 0.0051    & 0.498     & 0.4435404\\\\\n",
       "\t287 & 2007      &  3        &  0.074    & 384.56    & 1803.10   & 320.548   & 247.997   & 538.811   & 1365.754  & 0.0045    & 0.435     & 0.4265541\\\\\n",
       "\t288 & 2007      &  4        & -0.049    & 386.40    & 1802.11   & 320.518   & 247.574   & 538.586   & 1365.723  & 0.0045    & 0.466     & 0.4299162\\\\\n",
       "\t289 & 2007      &  5        &  0.183    & 386.58    & 1795.65   & 320.445   & 247.224   & 538.130   & 1365.693  & 0.0041    & 0.372     & 0.4455113\\\\\n",
       "\t290 & 2007      &  6        & -0.358    & 386.05    & 1781.81   & 320.332   & 246.881   & 537.376   & 1365.762  & 0.0040    & 0.382     & 0.4151422\\\\\n",
       "\t291 & 2007      &  7        & -0.290    & 384.49    & 1771.89   & 320.349   & 246.497   & 537.113   & 1365.751  & 0.0040    & 0.394     & 0.4097367\\\\\n",
       "\t292 & 2007      &  8        & -0.440    & 382.00    & 1779.38   & 320.471   & 246.307   & 537.125   & 1365.757  & 0.0041    & 0.358     & 0.3839390\\\\\n",
       "\t293 & 2007      &  9        & -1.162    & 380.90    & 1794.21   & 320.618   & 246.214   & 537.281   & 1365.716  & 0.0042    & 0.402     & 0.3255595\\\\\n",
       "\t294 & 2007      & 10        & -1.142    & 381.14    & 1802.38   & 320.855   & 246.189   & 537.380   & 1365.739  & 0.0041    & 0.362     & 0.3274147\\\\\n",
       "\t295 & 2007      & 11        & -1.177    & 382.42    & 1803.79   & 321.062   & 246.178   & 537.319   & 1365.668  & 0.0042    & 0.266     & 0.3231401\\\\\n",
       "\t296 & 2007      & 12        & -1.168    & 383.89    & 1805.58   & 321.217   & 246.261   & 537.052   & 1365.693  & 0.0040    & 0.226     & 0.3316704\\\\\n",
       "\t297 & 2008      &  1        & -1.011    & 385.44    & 1809.92   & 321.328   & 246.183   & 536.876   & 1365.716  & 0.0038    & 0.074     & 0.3522134\\\\\n",
       "\t298 & 2008      &  2        & -1.402    & 385.73    & 1803.45   & 321.345   & 245.898   & 536.484   & 1365.737  & 0.0036    & 0.198     & 0.3313129\\\\\n",
       "\t299 & 2008      &  3        & -1.635    & 385.97    & 1792.84   & 321.295   & 245.430   & 535.979   & 1365.673  & 0.0034    & 0.447     & 0.3142112\\\\\n",
       "\t300 & 2008      &  4        & -0.942    & 387.16    & 1792.57   & 321.354   & 245.086   & 535.648   & 1365.715  & 0.0033    & 0.278     & 0.3703410\\\\\n",
       "\t301 & 2008      &  5        & -0.355    & 388.50    & 1796.43   & 321.420   & 244.914   & 535.399   & 1365.717  & 0.0031    & 0.283     & 0.4162213\\\\\n",
       "\t302 & 2008      &  6        &  0.128    & 387.88    & 1791.80   & 321.447   & 244.676   & 535.128   & 1365.673  & 0.0031    & 0.315     & 0.4391458\\\\\n",
       "\t303 & 2008      &  7        &  0.003    & 386.42    & 1782.93   & 321.372   & 244.434   & 535.026   & 1365.672  & 0.0033    & 0.406     & 0.4237965\\\\\n",
       "\t304 & 2008      &  8        & -0.266    & 384.15    & 1779.88   & 321.405   & 244.200   & 535.072   & 1365.657  & 0.0036    & 0.407     & 0.3913679\\\\\n",
       "\t305 & 2008      &  9        & -0.643    & 383.09    & 1795.08   & 321.529   & 244.083   & 535.048   & 1365.665  & 0.0043    & 0.378     & 0.3587615\\\\\n",
       "\t306 & 2008      & 10        & -0.780    & 382.99    & 1814.18   & 321.796   & 244.080   & 534.927   & 1365.676  & 0.0046    & 0.440     & 0.3451991\\\\\n",
       "\t307 & 2008      & 11        & -0.621    & 384.13    & 1812.37   & 322.013   & 244.225   & 534.906   & 1365.707  & 0.0048    & 0.394     & 0.3607087\\\\\n",
       "\t308 & 2008      & 12        & -0.666    & 385.56    & 1812.88   & 322.182   & 244.204   & 535.005   & 1365.693  & 0.0046    & 0.330     & 0.3638076\\\\\n",
       "\\end{tabular}\n"
      ],
      "text/plain": [
       "    Year Month MEI    CO2    CH4     N2O     CFC.11  CFC.12  TSI      Aerosols\n",
       "285 2007  1     0.974 382.93 1799.66 320.561 248.372 539.206 1365.717 0.0054  \n",
       "286 2007  2     0.510 383.81 1803.08 320.571 248.264 538.973 1365.715 0.0051  \n",
       "287 2007  3     0.074 384.56 1803.10 320.548 247.997 538.811 1365.754 0.0045  \n",
       "288 2007  4    -0.049 386.40 1802.11 320.518 247.574 538.586 1365.723 0.0045  \n",
       "289 2007  5     0.183 386.58 1795.65 320.445 247.224 538.130 1365.693 0.0041  \n",
       "290 2007  6    -0.358 386.05 1781.81 320.332 246.881 537.376 1365.762 0.0040  \n",
       "291 2007  7    -0.290 384.49 1771.89 320.349 246.497 537.113 1365.751 0.0040  \n",
       "292 2007  8    -0.440 382.00 1779.38 320.471 246.307 537.125 1365.757 0.0041  \n",
       "293 2007  9    -1.162 380.90 1794.21 320.618 246.214 537.281 1365.716 0.0042  \n",
       "294 2007 10    -1.142 381.14 1802.38 320.855 246.189 537.380 1365.739 0.0041  \n",
       "295 2007 11    -1.177 382.42 1803.79 321.062 246.178 537.319 1365.668 0.0042  \n",
       "296 2007 12    -1.168 383.89 1805.58 321.217 246.261 537.052 1365.693 0.0040  \n",
       "297 2008  1    -1.011 385.44 1809.92 321.328 246.183 536.876 1365.716 0.0038  \n",
       "298 2008  2    -1.402 385.73 1803.45 321.345 245.898 536.484 1365.737 0.0036  \n",
       "299 2008  3    -1.635 385.97 1792.84 321.295 245.430 535.979 1365.673 0.0034  \n",
       "300 2008  4    -0.942 387.16 1792.57 321.354 245.086 535.648 1365.715 0.0033  \n",
       "301 2008  5    -0.355 388.50 1796.43 321.420 244.914 535.399 1365.717 0.0031  \n",
       "302 2008  6     0.128 387.88 1791.80 321.447 244.676 535.128 1365.673 0.0031  \n",
       "303 2008  7     0.003 386.42 1782.93 321.372 244.434 535.026 1365.672 0.0033  \n",
       "304 2008  8    -0.266 384.15 1779.88 321.405 244.200 535.072 1365.657 0.0036  \n",
       "305 2008  9    -0.643 383.09 1795.08 321.529 244.083 535.048 1365.665 0.0043  \n",
       "306 2008 10    -0.780 382.99 1814.18 321.796 244.080 534.927 1365.676 0.0046  \n",
       "307 2008 11    -0.621 384.13 1812.37 322.013 244.225 534.906 1365.707 0.0048  \n",
       "308 2008 12    -0.666 385.56 1812.88 322.182 244.204 535.005 1365.693 0.0046  \n",
       "    Temp  Predict  \n",
       "285 0.601 0.4677808\n",
       "286 0.498 0.4435404\n",
       "287 0.435 0.4265541\n",
       "288 0.466 0.4299162\n",
       "289 0.372 0.4455113\n",
       "290 0.382 0.4151422\n",
       "291 0.394 0.4097367\n",
       "292 0.358 0.3839390\n",
       "293 0.402 0.3255595\n",
       "294 0.362 0.3274147\n",
       "295 0.266 0.3231401\n",
       "296 0.226 0.3316704\n",
       "297 0.074 0.3522134\n",
       "298 0.198 0.3313129\n",
       "299 0.447 0.3142112\n",
       "300 0.278 0.3703410\n",
       "301 0.283 0.4162213\n",
       "302 0.315 0.4391458\n",
       "303 0.406 0.4237965\n",
       "304 0.407 0.3913679\n",
       "305 0.378 0.3587615\n",
       "306 0.440 0.3451991\n",
       "307 0.394 0.3607087\n",
       "308 0.330 0.3638076"
      ]
     },
     "metadata": {},
     "output_type": "display_data"
    }
   ],
   "source": [
    "Test"
   ]
  },
  {
   "cell_type": "code",
   "execution_count": 43,
   "metadata": {},
   "outputs": [
    {
     "data": {
      "text/html": [
       "0.62860512250996"
      ],
      "text/latex": [
       "0.62860512250996"
      ],
      "text/markdown": [
       "0.62860512250996"
      ],
      "text/plain": [
       "[1] 0.6286051"
      ]
     },
     "metadata": {},
     "output_type": "display_data"
    }
   ],
   "source": [
    "SSE = sum((Test$Predict - Test$Temp)^2)\n",
    "baseline = mean(Train$Temp, na.rm=T)\n",
    "SST = sum((Test$Temp - baseline)^2)\n",
    "R.squared = 1-SSE/SST\n",
    "R.squared"
   ]
  }
 ],
 "metadata": {
  "kernelspec": {
   "display_name": "R",
   "language": "R",
   "name": "ir"
  },
  "language_info": {
   "codemirror_mode": "r",
   "file_extension": ".r",
   "mimetype": "text/x-r-source",
   "name": "R",
   "pygments_lexer": "r",
   "version": "3.3.3"
  }
 },
 "nbformat": 4,
 "nbformat_minor": 2
}
