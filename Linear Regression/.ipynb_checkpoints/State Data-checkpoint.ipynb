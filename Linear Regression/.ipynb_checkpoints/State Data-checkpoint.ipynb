{
 "cells": [
  {
   "cell_type": "markdown",
   "metadata": {},
   "source": [
    "### State Data \n",
    "\n",
    "We often take data for granted. However, one of the hardest parts about analyzing a problem you're interested in can be to find good data to answer the questions you want to ask. As you're learning R, though, there are many datasets that R has built in that you can take advantage of.\n",
    "\n",
    "In this problem, we will be examining the \"state\" dataset, which has data from the 1970s on all fifty US states. For each state, the dataset includes the population, per capita income, illiteracy rate, murder rate, high school graduation rate, average number of frost days, area, latitude and longitude, division the state belongs to,  region the state belongs to, and two-letter abbreviation.\n",
    "\n",
    "Load the dataset and convert it to a data frame by running the following two commands in R:\n",
    "\n",
    "data(state)\n",
    "\n",
    "statedata = cbind(data.frame(state.x77), state.abb, state.area, state.center,  state.division, state.name, state.region)\n",
    "\n",
    "If you can't access the state dataset in R, here is a CSV file with the same data that you can load into R using the read.csv function: statedata.csv\n",
    "\n",
    "After you have loaded the data into R, inspect the data set using the command: str(statedata)\n",
    "\n",
    "This dataset has 50 observations (one for each US state) and the following 15 variables:\n",
    "\n",
    "Population - the population estimate of the state in 1975\n",
    "\n",
    "Income - per capita income in 1974\n",
    "\n",
    "Illiteracy - illiteracy rates in 1970, as a percent of the population\n",
    "\n",
    "Life.Exp - the life expectancy in years of residents of the state in 1970\n",
    "\n",
    "Murder - the murder and non-negligent manslaughter rate per 100,000 population in 1976 \n",
    "\n",
    "HS.Grad - percent of high-school graduates in 1970\n",
    "\n",
    "Frost - the mean number of days with minimum temperature below freezing from 1931–1960 in the capital or a large city of the state\n",
    "\n",
    "Area - the land area (in square miles) of the state\n",
    "\n",
    "state.abb - a 2-letter abreviation for each state\n",
    "\n",
    "state.area - the area of each state, in square miles\n",
    "\n",
    "x - the longitude of the center of the state\n",
    "\n",
    "y - the latitude of the center of the state\n",
    "\n",
    "state.division - the division each state belongs to (New England, Middle Atlantic, South Atlantic, East South Central, West South Central, East North Central, West North Central, Mountain, or Pacific)\n",
    "\n",
    "state.name - the full names of each state\n",
    "\n",
    "state.region - the region each state belong to (Northeast, South, North Central, or West)"
   ]
  },
  {
   "cell_type": "markdown",
   "metadata": {},
   "source": [
    "Problem 1.1 - Data Exploration\n",
    "\n",
    "We begin by exploring the data. Plot all of the states' centers with latitude on the y axis (the \"y\" variable in our dataset) and longitude on the x axis (the \"x\" variable in our dataset). The shape of the plot should look like the outline of the United States! Note that Alaska and Hawaii have had their coordinates adjusted to appear just off of the west coast.\n",
    "\n",
    "In the R command you used to generate this plot, which variable name did you use as the first argument?"
   ]
  },
  {
   "cell_type": "code",
   "execution_count": 1,
   "metadata": {
    "collapsed": true
   },
   "outputs": [],
   "source": [
    "data(state)\n",
    "\n",
    "statedata = cbind(data.frame(state.x77), state.abb, state.area, state.center,  state.division, state.name, state.region)"
   ]
  },
  {
   "cell_type": "code",
   "execution_count": 2,
   "metadata": {},
   "outputs": [
    {
     "name": "stdout",
     "output_type": "stream",
     "text": [
      "'data.frame':\t50 obs. of  15 variables:\n",
      " $ Population    : num  3615 365 2212 2110 21198 ...\n",
      " $ Income        : num  3624 6315 4530 3378 5114 ...\n",
      " $ Illiteracy    : num  2.1 1.5 1.8 1.9 1.1 0.7 1.1 0.9 1.3 2 ...\n",
      " $ Life.Exp      : num  69 69.3 70.5 70.7 71.7 ...\n",
      " $ Murder        : num  15.1 11.3 7.8 10.1 10.3 6.8 3.1 6.2 10.7 13.9 ...\n",
      " $ HS.Grad       : num  41.3 66.7 58.1 39.9 62.6 63.9 56 54.6 52.6 40.6 ...\n",
      " $ Frost         : num  20 152 15 65 20 166 139 103 11 60 ...\n",
      " $ Area          : num  50708 566432 113417 51945 156361 ...\n",
      " $ state.abb     : Factor w/ 50 levels \"AK\",\"AL\",\"AR\",..: 2 1 4 3 5 6 7 8 9 10 ...\n",
      " $ state.area    : num  51609 589757 113909 53104 158693 ...\n",
      " $ x             : num  -86.8 -127.2 -111.6 -92.3 -119.8 ...\n",
      " $ y             : num  32.6 49.2 34.2 34.7 36.5 ...\n",
      " $ state.division: Factor w/ 9 levels \"New England\",..: 4 9 8 5 9 8 1 3 3 3 ...\n",
      " $ state.name    : Factor w/ 50 levels \"Alabama\",\"Alaska\",..: 1 2 3 4 5 6 7 8 9 10 ...\n",
      " $ state.region  : Factor w/ 4 levels \"Northeast\",\"South\",..: 2 4 4 2 4 4 1 2 2 2 ...\n"
     ]
    }
   ],
   "source": [
    "str(statedata)"
   ]
  },
  {
   "cell_type": "markdown",
   "metadata": {},
   "source": [
    "#### Problem 1.2 - Data Exploration\n",
    "\n",
    "Using the tapply command, determine which region of the US (West, North Central, South, or Northeast) has the highest average high school graduation rate of all the states in the region:"
   ]
  },
  {
   "cell_type": "code",
   "execution_count": null,
   "metadata": {
    "collapsed": true
   },
   "outputs": [],
   "source": []
  },
  {
   "cell_type": "markdown",
   "metadata": {},
   "source": [
    "#### Problem 1.3 - Data Exploration\n",
    "\n",
    "Now, make a boxplot of the murder rate by region (for more information about creating boxplots in R, type ?boxplot in your console).\n",
    "\n",
    "Which region has the highest median murder rate?"
   ]
  },
  {
   "cell_type": "code",
   "execution_count": null,
   "metadata": {
    "collapsed": true
   },
   "outputs": [],
   "source": []
  },
  {
   "cell_type": "markdown",
   "metadata": {},
   "source": [
    "#### Problem 1.4 - Data Exploration\n",
    "\n",
    "You should see that there is an outlier in the Northeast region of the boxplot you just generated. Which state does this correspond to? (Hint: There are many ways to find the answer to this question, but one way is to use the subset command to only look at the Northeast data.)"
   ]
  },
  {
   "cell_type": "code",
   "execution_count": null,
   "metadata": {
    "collapsed": true
   },
   "outputs": [],
   "source": []
  },
  {
   "cell_type": "markdown",
   "metadata": {},
   "source": [
    "#### Problem 2.1 - Predicting Life Expectancy - An Initial Model\n",
    "\n",
    "We would like to build a model to predict life expectancy by state using the state statistics we have in our dataset.\n",
    "\n",
    "Build the model with all potential variables included (Population, Income, Illiteracy, Murder, HS.Grad, Frost, and Area). Note that you should use the variable \"Area\" in your model, NOT the variable \"state.area\".\n",
    "\n",
    "What is the coefficient for \"Income\" in your linear regression model?"
   ]
  },
  {
   "cell_type": "code",
   "execution_count": null,
   "metadata": {
    "collapsed": true
   },
   "outputs": [],
   "source": []
  },
  {
   "cell_type": "markdown",
   "metadata": {},
   "source": [
    "#### Problem 2.2 - Predicting Life Expectancy - An Initial Model\n",
    "\n",
    "Call the coefficient for income x (the answer to Problem 2.1). What is the interpretation of the coefficient x?"
   ]
  },
  {
   "cell_type": "code",
   "execution_count": null,
   "metadata": {
    "collapsed": true
   },
   "outputs": [],
   "source": []
  },
  {
   "cell_type": "markdown",
   "metadata": {},
   "source": [
    "#### Problem 2.3 - Predicting Life Expectancy - An Initial Model\n",
    "\n",
    "Now plot a graph of life expectancy vs. income using the command:\n",
    "\n",
    "plot(statedata$Income, statedata$Life.Exp)\n",
    "\n",
    "Visually observe the plot. What appears to be the relationship?"
   ]
  },
  {
   "cell_type": "code",
   "execution_count": null,
   "metadata": {
    "collapsed": true
   },
   "outputs": [],
   "source": []
  },
  {
   "cell_type": "markdown",
   "metadata": {},
   "source": [
    "#### Problem 2.4 - Predicting Life Expectancy - An Initial Model\n",
    "\n",
    "The model we built does not display the relationship we saw from the plot of life expectancy vs. income. Which of the following explanations seems the most reasonable?"
   ]
  },
  {
   "cell_type": "code",
   "execution_count": null,
   "metadata": {
    "collapsed": true
   },
   "outputs": [],
   "source": []
  },
  {
   "cell_type": "markdown",
   "metadata": {},
   "source": [
    "#### Problem 3.1 - Predicting Life Expectancy - Refining the Model and Analyzing Predictions\n",
    "\n",
    "Recall that we discussed the principle of simplicity: that is, a model with fewer variables is preferable to a model with many unnnecessary variables. Experiment with removing independent variables from the original model. Remember to use the significance of the coefficients to decide which variables to remove (remove the one with the largest \"p-value\" first, or the one with the \"t value\" closest to zero), and to remove them one at a time (this is called \"backwards variable selection\"). This is important due to multicollinearity issues - removing one insignificant variable may make another previously insignificant variable become significant.\n",
    "\n",
    "You should be able to find a good model with only 4 independent variables, instead of the original 7. Which variables does this model contain?"
   ]
  },
  {
   "cell_type": "code",
   "execution_count": null,
   "metadata": {
    "collapsed": true
   },
   "outputs": [],
   "source": []
  },
  {
   "cell_type": "markdown",
   "metadata": {},
   "source": [
    "#### Problem 3.2 - Predicting Life Expectancy - Refining the Model and Analyzing Predictions\n",
    "\n",
    "Removing insignificant variables changes the Multiple R-squared value of the model. By looking at the summary output for both the initial model (all independent variables) and the simplified model (only 4 independent variables) and using what you learned in class, which of the following correctly explains the change in the Multiple R-squared value?"
   ]
  },
  {
   "cell_type": "code",
   "execution_count": null,
   "metadata": {
    "collapsed": true
   },
   "outputs": [],
   "source": []
  },
  {
   "cell_type": "markdown",
   "metadata": {},
   "source": [
    "#### Problem 3.3 - Predicting Life Expectancy - Refining the Model and Analyzing Predictions\n",
    "\n",
    "Using the simplified 4 variable model that we created, we'll now take a look at how our predictions compare to the actual values.\n",
    "\n",
    "Take a look at the vector of predictions by using the predict function (since we are just looking at predictions on the training set, you don't need to pass a \"newdata\" argument to the predict function).\n",
    "\n",
    "Which state do we predict to have the lowest life expectancy? (Hint: use the sort function)"
   ]
  },
  {
   "cell_type": "code",
   "execution_count": null,
   "metadata": {
    "collapsed": true
   },
   "outputs": [],
   "source": []
  },
  {
   "cell_type": "markdown",
   "metadata": {},
   "source": [
    "Which state actually has the lowest life expectancy? (Hint: use the which.min function)"
   ]
  },
  {
   "cell_type": "code",
   "execution_count": null,
   "metadata": {
    "collapsed": true
   },
   "outputs": [],
   "source": []
  },
  {
   "cell_type": "markdown",
   "metadata": {},
   "source": [
    "#### Problem 3.4 - Predicting Life Expectancy - Refining the Model and Analyzing Predictions\n",
    "\n",
    "Which state do we predict to have the highest life expectancy?"
   ]
  },
  {
   "cell_type": "code",
   "execution_count": null,
   "metadata": {
    "collapsed": true
   },
   "outputs": [],
   "source": []
  },
  {
   "cell_type": "markdown",
   "metadata": {},
   "source": [
    "Which state actually has the highest life expectancy?\n",
    "\n",
    "\n"
   ]
  },
  {
   "cell_type": "code",
   "execution_count": null,
   "metadata": {
    "collapsed": true
   },
   "outputs": [],
   "source": []
  },
  {
   "cell_type": "markdown",
   "metadata": {},
   "source": [
    "#### Problem 3.5 - Predicting Life Expectancy - Refining the Model and Analyzing Predictions\n",
    "\n",
    "Take a look at the vector of residuals (the difference between the predicted and actual values).\n",
    "\n",
    "For which state do we make the smallest absolute error?"
   ]
  },
  {
   "cell_type": "code",
   "execution_count": null,
   "metadata": {
    "collapsed": true
   },
   "outputs": [],
   "source": []
  },
  {
   "cell_type": "markdown",
   "metadata": {},
   "source": [
    "For which state do we make the largest absolute error?\n",
    "\n",
    "\n"
   ]
  },
  {
   "cell_type": "code",
   "execution_count": null,
   "metadata": {
    "collapsed": true
   },
   "outputs": [],
   "source": []
  }
 ],
 "metadata": {
  "kernelspec": {
   "display_name": "R",
   "language": "R",
   "name": "ir"
  },
  "language_info": {
   "codemirror_mode": "r",
   "file_extension": ".r",
   "mimetype": "text/x-r-source",
   "name": "R",
   "pygments_lexer": "r",
   "version": "3.3.3"
  }
 },
 "nbformat": 4,
 "nbformat_minor": 2
}
