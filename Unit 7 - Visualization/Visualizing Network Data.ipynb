{
 "cells": [
  {
   "cell_type": "markdown",
   "metadata": {},
   "source": [
    "### Visualizing Network Data\n",
    "\n",
    "The cliche goes that the world is an increasingly interconnected place, and the connections between different entities are often best represented with a graph. Graphs are comprised of vertices (also often called \"nodes\") and edges connecting those nodes. In this assignment, we will learn how to visualize networks using the igraph package in R.\n",
    "\n",
    "For this assignment, we will visualize social networking data using anonymized data from Facebook; this data was originally curated in a recent paper about computing social circles in social networks. In our visualizations, the vertices in our network will represent Facebook users and the edges will represent these users being Facebook friends with each other.\n",
    "\n",
    "The first file we will use, edges.csv, contains variables V1 and V2, which label the endpoints of edges in our network. Each row represents a pair of users in our graph who are Facebook friends. For a pair of friends A and B, edges.csv will only contain a single row -- the smaller identifier will be listed first in this row. From this row, we will know that A is friends with B and B is friends with A.\n",
    "\n",
    "The second file, users.csv, contains information about the Facebook users, who are the vertices in our network. This file contains the following variables:\n",
    "\n",
    "id: A unique identifier for this user; this is the value that appears in the rows of edges.csv\n",
    "\n",
    "gender: An identifier for the gender of a user taking the values A and B. Because the data is anonymized, we don't know which value refers to males and which value refers to females.\n",
    "\n",
    "school: An identifier for the school the user attended taking the values A and AB (users with AB attended school A as well as another school B). Because the data is anonymized, we don't know the schools represented by A and B.\n",
    "\n",
    "locale: An identifier for the locale of the user taking the values A and B. Because the data is anonymized, we don't know which value refers to what locale."
   ]
  },
  {
   "cell_type": "markdown",
   "metadata": {},
   "source": [
    "#### Problem 1.1 - Summarizing the Data\n",
    "\n",
    "mbLoad the data from edges.csv into a data frame called edges, and load the data from users.csv into a data frame called users.\n",
    "\n",
    "How many Facebook users are there in our dataset?"
   ]
  },
  {
   "cell_type": "code",
   "execution_count": null,
   "metadata": {
    "collapsed": true
   },
   "outputs": [],
   "source": []
  },
  {
   "cell_type": "markdown",
   "metadata": {},
   "source": [
    "In our dataset, what is the average number of friends per user? Hint: this question is tricky, and it might help to start by thinking about a small example with two users who are friends."
   ]
  },
  {
   "cell_type": "code",
   "execution_count": null,
   "metadata": {
    "collapsed": true
   },
   "outputs": [],
   "source": []
  },
  {
   "cell_type": "markdown",
   "metadata": {},
   "source": [
    "#### Problem 1.2 - Summarizing the Data\n",
    "\n",
    "Out of all the students who listed a school, what was the most common locale?"
   ]
  },
  {
   "cell_type": "code",
   "execution_count": null,
   "metadata": {
    "collapsed": true
   },
   "outputs": [],
   "source": []
  },
  {
   "cell_type": "markdown",
   "metadata": {},
   "source": [
    "#### Problem 1.3 - Summarizing the Data\n",
    "\n",
    "Is it possible that either school A or B is an all-girls or all-boys school?"
   ]
  },
  {
   "cell_type": "code",
   "execution_count": null,
   "metadata": {
    "collapsed": true
   },
   "outputs": [],
   "source": []
  },
  {
   "cell_type": "markdown",
   "metadata": {},
   "source": [
    "#### Problem 2.1 - Creating a Network\n",
    "\n",
    "We will be using the igraph package to visualize networks; install and load this package using the install.packages and library commands.\n",
    "\n",
    "We can create a new graph object using the graph.data.frame() function. Based on ?graph.data.frame, which of the following commands will create a graph g describing our social network, with the attributes of each user correctly loaded?\n",
    "\n",
    "Note: A directed graph is one where the edges only go one way -- they point from one vertex to another. The other option is an undirected graph, which means that the relations between the vertices are symmetric."
   ]
  },
  {
   "cell_type": "code",
   "execution_count": null,
   "metadata": {
    "collapsed": true
   },
   "outputs": [],
   "source": []
  },
  {
   "cell_type": "markdown",
   "metadata": {},
   "source": [
    "#### Problem 2.2 - Creating a Network\n",
    "\n",
    "Use the correct command from Problem 2.1 to load the graph g.\n",
    "\n",
    "Now, we want to plot our graph. By default, the vertices are large and have text labels of a user's identifier. Because this would clutter the output, we will plot with no text labels and smaller vertices:\n",
    "\n",
    "plot(g, vertex.size=5, vertex.label=NA)\n",
    "\n",
    "In this graph, there are a number of groups of nodes where all the nodes in each group are connected but the groups are disjoint from one another, forming \"islands\" in the graph. Such groups are called \"connected components,\" or \"components\" for short. How many connected components with at least 2 nodes are there in the graph?"
   ]
  },
  {
   "cell_type": "code",
   "execution_count": null,
   "metadata": {
    "collapsed": true
   },
   "outputs": [],
   "source": []
  },
  {
   "cell_type": "markdown",
   "metadata": {},
   "source": [
    "How many users are there with no friends in the network?"
   ]
  },
  {
   "cell_type": "code",
   "execution_count": null,
   "metadata": {
    "collapsed": true
   },
   "outputs": [],
   "source": []
  },
  {
   "cell_type": "markdown",
   "metadata": {},
   "source": [
    "#### Problem 2.3 - Creating a Network\n",
    "\n",
    "In our graph, the \"degree\" of a node is its number of friends. We have already seen that some nodes in our graph have degree 0 (these are the nodes with no friends), while others have much higher degree. We can use degree(g) to compute the degree of all the nodes in our graph g.\n",
    "\n",
    "How many users are friends with 10 or more other Facebook users in this network?"
   ]
  },
  {
   "cell_type": "code",
   "execution_count": null,
   "metadata": {
    "collapsed": true
   },
   "outputs": [],
   "source": []
  },
  {
   "cell_type": "markdown",
   "metadata": {},
   "source": [
    "#### Problem 2.4 - Creating a Network\n",
    "\n",
    "In a network, it's often visually useful to draw attention to \"important\" nodes in the network. While this might mean different things in different contexts, in a social network we might consider a user with a large number of friends to be an important user. From the previous problem, we know this is the same as saying that nodes with a high degree are important users.\n",
    "\n",
    "To visually draw attention to these nodes, we will change the size of the vertices so the vertices with high degrees are larger. To do this, we will change the \"size\" attribute of the vertices of our graph to be an increasing function of their degrees:\n",
    "\n",
    "V(g)$size = degree(g)/2+2\n",
    "\n",
    "Now that we have specified the vertex size of each vertex, we will no longer use the vertex.size parameter when we plot our graph:\n",
    "\n",
    "plot(g, vertex.label=NA)\n",
    "\n",
    "What is the largest size we assigned to any node in our graph?"
   ]
  },
  {
   "cell_type": "code",
   "execution_count": null,
   "metadata": {
    "collapsed": true
   },
   "outputs": [],
   "source": []
  },
  {
   "cell_type": "markdown",
   "metadata": {},
   "source": [
    "What is the smallest size we assigned to any node in our graph?"
   ]
  },
  {
   "cell_type": "code",
   "execution_count": null,
   "metadata": {
    "collapsed": true
   },
   "outputs": [],
   "source": []
  },
  {
   "cell_type": "markdown",
   "metadata": {},
   "source": [
    "#### Problem 3.1 - Coloring Vertices\n",
    "\n",
    "Thus far, we have changed the \"size\" attributes of our vertices. However, we can also change the colors of vertices to capture additional information about the Facebook users we are depicting.\n",
    "\n",
    "When changing the size of nodes, we first obtained the vertices of our graph with V(g) and then accessed the the size attribute with V(g)$size. To change the color, we will update the attribute V(g)$color.\n",
    "\n",
    "To color the vertices based on the gender of the user, we will need access to that variable. When we created our graph g, we provided it with the data frame users, which had variables gender, school, and locale. These are now stored as attributes V(g)$gender, V(g)$school, and V(g)$locale.\n",
    "\n",
    "We can update the colors by setting the color to black for all vertices, than setting it to red for the vertices with gender A and setting it to gray for the vertices with gender B:\n",
    "\n",
    "V(g)$color = \"black\"\n",
    "\n",
    "V(g)$color[V(g)$gender == \"A\"] = \"red\"\n",
    "\n",
    "V(g)$color[V(g)$gender == \"B\"] = \"gray\"\n",
    "\n",
    "Plot the resulting graph. What is the gender of the users with the highest degree in the graph?"
   ]
  },
  {
   "cell_type": "code",
   "execution_count": null,
   "metadata": {
    "collapsed": true
   },
   "outputs": [],
   "source": []
  },
  {
   "cell_type": "markdown",
   "metadata": {},
   "source": [
    "#### Problem 3.2 - Coloring Vertices\n",
    "\n",
    "Now, color the vertices based on the school that each user in our network attended.\n",
    "\n",
    "Are the two users who attended both schools A and B Facebook friends with each other?"
   ]
  },
  {
   "cell_type": "code",
   "execution_count": null,
   "metadata": {
    "collapsed": true
   },
   "outputs": [],
   "source": []
  },
  {
   "cell_type": "markdown",
   "metadata": {},
   "source": [
    "What best describes the users with highest degree?"
   ]
  },
  {
   "cell_type": "code",
   "execution_count": null,
   "metadata": {
    "collapsed": true
   },
   "outputs": [],
   "source": []
  },
  {
   "cell_type": "markdown",
   "metadata": {},
   "source": [
    "#### Problem 3.3 - Coloring Vertices\n",
    "\n",
    "Now, color the vertices based on the locale of the user.\n",
    "\n",
    "The large connected component is most associated with which locale?"
   ]
  },
  {
   "cell_type": "code",
   "execution_count": null,
   "metadata": {
    "collapsed": true
   },
   "outputs": [],
   "source": []
  },
  {
   "cell_type": "markdown",
   "metadata": {},
   "source": [
    "The 4-user connected component is most associated with which locale?"
   ]
  },
  {
   "cell_type": "code",
   "execution_count": null,
   "metadata": {
    "collapsed": true
   },
   "outputs": [],
   "source": []
  },
  {
   "cell_type": "markdown",
   "metadata": {},
   "source": [
    "#### Problem 4 - Other Plotting Options\n",
    "\n",
    "The help page is a helpful tool when making visualizations. Answer the following questions with the help of ?igraph.plotting and experimentation in your R console.\n",
    "\n",
    "Which igraph plotting function would enable us to plot our graph in 3-D?"
   ]
  },
  {
   "cell_type": "code",
   "execution_count": null,
   "metadata": {
    "collapsed": true
   },
   "outputs": [],
   "source": []
  },
  {
   "cell_type": "markdown",
   "metadata": {},
   "source": [
    "What parameter to the plot() function would we use to change the edge width when plotting g?\n",
    "\n"
   ]
  },
  {
   "cell_type": "code",
   "execution_count": null,
   "metadata": {
    "collapsed": true
   },
   "outputs": [],
   "source": []
  },
  {
   "cell_type": "code",
   "execution_count": null,
   "metadata": {
    "collapsed": true
   },
   "outputs": [],
   "source": []
  }
 ],
 "metadata": {
  "kernelspec": {
   "display_name": "R",
   "language": "R",
   "name": "ir"
  },
  "language_info": {
   "codemirror_mode": "r",
   "file_extension": ".r",
   "mimetype": "text/x-r-source",
   "name": "R",
   "pygments_lexer": "r",
   "version": "3.3.3"
  }
 },
 "nbformat": 4,
 "nbformat_minor": 2
}
