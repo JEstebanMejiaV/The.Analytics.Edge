{
 "cells": [
  {
   "cell_type": "markdown",
   "metadata": {},
   "source": [
    "### Election Forecasting Revisited\n",
    "\n",
    "In the recitation from Unit 3, we used logistic regression on polling data in order to construct US presidential election predictions. We separated our data into a training set, containing data from 2004 and 2008 polls, and a test set, containing the data from 2012 polls. We then proceeded to develop a logistic regression model to forecast the 2012 US presidential election.\n",
    "\n",
    "In this homework problem, we'll revisit our logistic regression model from Unit 3, and learn how to plot the output on a map of the United States. Unlike what we did in the Crime lecture, this time we'll be plotting predictions rather than data!\n",
    "\n",
    "First, load the ggplot2, maps, and ggmap packages using the library function. All three packages should be installed on your computer from lecture, but if not, you may need to install them too using the install.packages function.\n",
    "\n",
    "Then, load the US map and save it to the variable statesMap, like we did during the Crime lecture:\n",
    "\n",
    "statesMap = map_data(\"state\")\n",
    "\n",
    "The maps package contains other built-in maps, including a US county map, a world map, and maps for France and Italy."
   ]
  },
  {
   "cell_type": "markdown",
   "metadata": {},
   "source": [
    "#### Problem 1.1 - Drawing a Map of the US\n",
    "\n",
    "If you look at the structure of the statesMap data frame using the str function, you should see that there are 6 variables. One of the variables, group, defines the different shapes or polygons on the map. Sometimes a state may have multiple groups, for example, if it includes islands. How many different groups are there?"
   ]
  },
  {
   "cell_type": "code",
   "execution_count": null,
   "metadata": {
    "collapsed": true
   },
   "outputs": [],
   "source": []
  },
  {
   "cell_type": "markdown",
   "metadata": {},
   "source": [
    "The variable \"order\" defines the order to connect the points within each group, and the variable \"region\" gives the name of the state."
   ]
  },
  {
   "cell_type": "code",
   "execution_count": null,
   "metadata": {
    "collapsed": true
   },
   "outputs": [],
   "source": []
  },
  {
   "cell_type": "markdown",
   "metadata": {},
   "source": [
    "#### Problem 1.2 - Drawing a Map of the US\n",
    "\n",
    "You can draw a map of the United States by typing the following in your R console:\n",
    "\n",
    "ggplot(statesMap, aes(x = long, y = lat, group = group)) + geom_polygon(fill = \"white\", color = \"black\")\n",
    "\n",
    "We specified two colors in geom_polygon -- fill and color. Which one defined the color of the outline of the states?"
   ]
  },
  {
   "cell_type": "code",
   "execution_count": null,
   "metadata": {
    "collapsed": true
   },
   "outputs": [],
   "source": []
  },
  {
   "cell_type": "markdown",
   "metadata": {},
   "source": [
    "#### Problem 2.1 - Coloring the States by Predictions\n",
    "\n",
    "Now, let's color the map of the US according to our 2012 US presidential election predictions from the Unit 3 Recitation. We'll rebuild the model here, using the dataset PollingImputed.csv. Be sure to use this file so that you don't have to redo the imputation to fill in the missing values, like we did in the Unit 3 Recitation.\n",
    "\n",
    "Load the data using the read.csv function, and call it \"polling\". Then split the data using the subset function into a training set called \"Train\" that has observations from 2004 and 2008, and a testing set called \"Test\" that has observations from 2012.\n",
    "\n",
    "Note that we only have 45 states in our testing set, since we are missing observations for Alaska, Delaware, Alabama, Wyoming, and Vermont, so these states will not appear colored in our map.\n",
    "\n",
    "Then, create a logistic regression model and make predictions on the test set using the following commands:\n",
    "\n",
    "mod2 = glm(Republican~SurveyUSA+DiffCount, data=Train, family=\"binomial\")\n",
    "\n",
    "TestPrediction = predict(mod2, newdata=Test, type=\"response\")\n",
    "\n",
    "TestPrediction gives the predicted probabilities for each state, but let's also create a vector of Republican/Democrat predictions by using the following command:\n",
    "\n",
    "TestPredictionBinary = as.numeric(TestPrediction > 0.5)\n",
    "\n",
    "Now, put the predictions and state labels in a data.frame so that we can use ggplot:\n",
    "\n",
    "predictionDataFrame = data.frame(TestPrediction, TestPredictionBinary, Test$State)\n",
    "\n",
    "To make sure everything went smoothly, answer the following questions.\n",
    "\n",
    "For how many states is our binary prediction 1 (for 2012), corresponding to Republican?"
   ]
  },
  {
   "cell_type": "code",
   "execution_count": null,
   "metadata": {
    "collapsed": true
   },
   "outputs": [],
   "source": []
  },
  {
   "cell_type": "markdown",
   "metadata": {},
   "source": [
    "What is the average predicted probability of our model (on the Test set, for 2012)?"
   ]
  },
  {
   "cell_type": "code",
   "execution_count": null,
   "metadata": {
    "collapsed": true
   },
   "outputs": [],
   "source": []
  },
  {
   "cell_type": "markdown",
   "metadata": {},
   "source": [
    "#### Problem 2.2 - Coloring the States by Predictions\n",
    "\n",
    "Now, we need to merge \"predictionDataFrame\" with the map data \"statesMap\", like we did in lecture. Before doing so, we need to convert the Test.State variable to lowercase, so that it matches the region variable in statesMap. Do this by typing the following in your R console:\n",
    "\n",
    "predictionDataFrame$region = tolower(predictionDataFrame$Test.State)\n",
    "\n",
    "Now, merge the two data frames using the following command:\n",
    "\n",
    "predictionMap = merge(statesMap, predictionDataFrame, by = \"region\")\n",
    "\n",
    "Lastly, we need to make sure the observations are in order so that the map is drawn properly, by typing the following:\n",
    "\n",
    "predictionMap = predictionMap[order(predictionMap$order),]\n",
    "\n",
    "How many observations are there in predictionMap?"
   ]
  },
  {
   "cell_type": "code",
   "execution_count": null,
   "metadata": {
    "collapsed": true
   },
   "outputs": [],
   "source": []
  },
  {
   "cell_type": "markdown",
   "metadata": {},
   "source": [
    "How many observations are there in statesMap?"
   ]
  },
  {
   "cell_type": "code",
   "execution_count": null,
   "metadata": {
    "collapsed": true
   },
   "outputs": [],
   "source": []
  },
  {
   "cell_type": "markdown",
   "metadata": {},
   "source": [
    "#### Problem 2.3 - Coloring the States by Predictions\n",
    "\n",
    "When we merged the data in the previous problem, it caused the number of observations to change. Why? Check out the help page for merge by typing ?merge to help you answer this question."
   ]
  },
  {
   "cell_type": "code",
   "execution_count": null,
   "metadata": {
    "collapsed": true
   },
   "outputs": [],
   "source": []
  },
  {
   "cell_type": "markdown",
   "metadata": {},
   "source": [
    "#### Problem 2.4 - Coloring the States by Predictions\n",
    "\n",
    "Now we are ready to color the US map with our predictions! You can color the states according to our binary predictions by typing the following in your R console:\n",
    "\n",
    "ggplot(predictionMap, aes(x = long, y = lat, group = group, fill = TestPredictionBinary)) + geom_polygon(color = \"black\")\n",
    "\n",
    "The states appear light blue and dark blue in this map. Which color represents a Republican prediction?"
   ]
  },
  {
   "cell_type": "code",
   "execution_count": null,
   "metadata": {
    "collapsed": true
   },
   "outputs": [],
   "source": []
  },
  {
   "cell_type": "markdown",
   "metadata": {},
   "source": [
    "#### Problem 2.5 - Coloring the States by Predictions\n",
    "\n",
    "We see that the legend displays a blue gradient for outcomes between 0 and 1. However, when plotting the binary predictions there are only two possible outcomes: 0 or 1. Let's replot the map with discrete outcomes. We can also change the color scheme to blue and red, to match the blue color associated with the Democratic Party in the US and the red color associated with the Republican Party in the US. This can be done with the following command:\n",
    "\n",
    "ggplot(predictionMap, aes(x = long, y = lat, group = group, fill = TestPredictionBinary))+ geom_polygon(color = \"black\") + scale_fill_gradient(low = \"blue\", high = \"red\", guide = \"legend\", breaks= c(0,1), labels = c(\"Democrat\", \"Republican\"), name = \"Prediction 2012\")\n",
    "\n",
    "Alternatively, we could plot the probabilities instead of the binary predictions. Change the plot command above to instead color the states by the variable TestPrediction. You should see a gradient of colors ranging from red to blue. Do the colors of the states in the map for TestPrediction look different from the colors of the states in the map with TestPredictionBinary? Why or why not?\n",
    "\n",
    "NOTE: If you have a hard time seeing the red/blue gradient, feel free to change the color scheme, by changing the arguments low = \"blue\" and high = \"red\" to colors of your choice (to see all of the color options in R, type colors() in your R console). You can even change it to a gray scale, by changing the low and high colors to \"gray\" and \"black\"."
   ]
  },
  {
   "cell_type": "code",
   "execution_count": null,
   "metadata": {
    "collapsed": true
   },
   "outputs": [],
   "source": []
  },
  {
   "cell_type": "markdown",
   "metadata": {},
   "source": [
    "#### Problem 3.1 - Understanding the Predictions\n",
    "\n",
    "In the 2012 election, the state of Florida ended up being a very close race. It was ultimately won by the Democratic party. Did we predict this state correctly or incorrectly? To see the names and locations of the different states, take a look at the World Atlas map here."
   ]
  },
  {
   "cell_type": "code",
   "execution_count": null,
   "metadata": {
    "collapsed": true
   },
   "outputs": [],
   "source": []
  },
  {
   "cell_type": "markdown",
   "metadata": {},
   "source": [
    "#### Problem 3.2 - Understanding the Predictions\n",
    "\n",
    "What was our predicted probability for the state of Florida?"
   ]
  },
  {
   "cell_type": "code",
   "execution_count": null,
   "metadata": {
    "collapsed": true
   },
   "outputs": [],
   "source": []
  },
  {
   "cell_type": "markdown",
   "metadata": {},
   "source": [
    "What does this imply?"
   ]
  },
  {
   "cell_type": "code",
   "execution_count": null,
   "metadata": {
    "collapsed": true
   },
   "outputs": [],
   "source": []
  },
  {
   "cell_type": "markdown",
   "metadata": {},
   "source": [
    "#### Problem 4 - Parameter Settings\n",
    "\n",
    "In this part, we'll explore what the different parameter settings of geom_polygon do. Throughout the problem, use the help page for geom_polygon, which can be accessed by ?geom_polygon. To see more information about a certain parameter, just type a question mark and then the parameter name to get the help page for that parameter. Experiment with different parameter settings to try and replicate the plots!\n",
    "\n",
    "We'll be asking questions about the following three plots:\n"
   ]
  },
  {
   "cell_type": "code",
   "execution_count": null,
   "metadata": {
    "collapsed": true
   },
   "outputs": [],
   "source": []
  },
  {
   "cell_type": "markdown",
   "metadata": {},
   "source": [
    "\n",
    "### Plot (1)\n",
    "![](ElectionForecastingMap1.png)"
   ]
  },
  {
   "cell_type": "markdown",
   "metadata": {},
   "source": [
    "\n",
    "### Plot (2)\n",
    "![](ElectionForecastingMap2.png)"
   ]
  },
  {
   "cell_type": "markdown",
   "metadata": {},
   "source": [
    "\n",
    "### Plot (1)\n",
    "![](ElectionForecastingMap3.png)"
   ]
  },
  {
   "cell_type": "markdown",
   "metadata": {},
   "source": [
    "#### Problem 4.1 - Parameter Settings\n",
    "\n",
    "Plots (1) and (2) were created by setting different parameters of geom_polygon to the value 3.\n",
    "\n",
    "What is the name of the parameter we set to have value 3 to create plot (1)?"
   ]
  },
  {
   "cell_type": "code",
   "execution_count": null,
   "metadata": {
    "collapsed": true
   },
   "outputs": [],
   "source": []
  },
  {
   "cell_type": "markdown",
   "metadata": {},
   "source": [
    "What is the name of the parameter we set to have value 3 to create plot (2)?"
   ]
  },
  {
   "cell_type": "code",
   "execution_count": null,
   "metadata": {
    "collapsed": true
   },
   "outputs": [],
   "source": []
  },
  {
   "cell_type": "markdown",
   "metadata": {},
   "source": [
    "#### Problem 4.2 - Parameter Settings\n",
    "\n",
    "Plot (3) was created by changing the value of a different geom_polygon parameter to have value 0.3. Which parameter did we use?"
   ]
  },
  {
   "cell_type": "code",
   "execution_count": null,
   "metadata": {
    "collapsed": true
   },
   "outputs": [],
   "source": []
  },
  {
   "cell_type": "code",
   "execution_count": null,
   "metadata": {
    "collapsed": true
   },
   "outputs": [],
   "source": []
  }
 ],
 "metadata": {
  "kernelspec": {
   "display_name": "R",
   "language": "R",
   "name": "ir"
  },
  "language_info": {
   "codemirror_mode": "r",
   "file_extension": ".r",
   "mimetype": "text/x-r-source",
   "name": "R",
   "pygments_lexer": "r",
   "version": "3.3.3"
  }
 },
 "nbformat": 4,
 "nbformat_minor": 2
}
