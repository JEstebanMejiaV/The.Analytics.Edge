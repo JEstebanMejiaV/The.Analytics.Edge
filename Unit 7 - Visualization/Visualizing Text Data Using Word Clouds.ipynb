{
 "cells": [
  {
   "cell_type": "markdown",
   "metadata": {},
   "source": [
    "### Visualizing Text Data Using Word CLouds\n",
    "\n",
    "Earlier in the course, we used text analytics as a predictive tool, using word frequencies as independent variables in our models. However, sometimes our goal is to understand commonly occurring topics in text data instead of to predict the value of some dependent variable. In such cases, word clouds can be a visually appealing way to display the most frequent words in a body of text.\n",
    "\n",
    "A word cloud arranges the most common words in some text, using size to indicate the frequency of a word. For instance, this is a word cloud for the complete works of Shakespeare, removing English stopwords:"
   ]
  },
  {
   "cell_type": "markdown",
   "metadata": {},
   "source": [
    "![](shakespeare.png)"
   ]
  },
  {
   "cell_type": "markdown",
   "metadata": {},
   "source": [
    "While we could generate word clouds using free generators available on the Internet, we will have more flexibility and control over the process if we do so in R. We will visualize the text of tweets about Apple, a dataset we used earlier in the course. As a reminder, this dataset (which can be downloaded from tweets.csv) has the following variables:\n",
    "\n",
    "Tweet -- the text of the tweet\n",
    "\n",
    "Avg -- the sentiment of the tweet, as assigned by users of Amazon Mechanical Turk. The score ranges on a scale from -2 to 2, where 2 means highly positive sentiment, -2 means highly negative sentiment, and 0 means neutral sentiment."
   ]
  },
  {
   "cell_type": "markdown",
   "metadata": {},
   "source": [
    "Problem 1.1 - Preparing the Data\n",
    "\n",
    "Download the dataset \"tweets.csv\", and load it into a data frame called \"tweets\" using the read.csv() function, remembering to use stringsAsFactors=FALSE when loading the data.\n",
    "\n",
    "Next, perform the following pre-processing tasks (like we did in Unit 5), noting that we don't stem the words in the document or remove sparse terms:\n",
    "\n",
    "1) Create a corpus using the Tweet variable\n",
    "\n",
    "2) Convert the corpus to lowercase (don't forget to type \"corpus = tm_map(corpus, PlainTextDocument)\" in your R console right after this step)\n",
    "\n",
    "3) Remove punctuation from the corpus\n",
    "\n",
    "4) Remove all English-language stopwords\n",
    "\n",
    "5) Build a document-term matrix out of the corpus\n",
    "\n",
    "6) Convert the document-term matrix to a data frame called allTweets\n",
    "\n",
    "How many unique words are there across all the documents?"
   ]
  },
  {
   "cell_type": "code",
   "execution_count": null,
   "metadata": {
    "collapsed": true
   },
   "outputs": [],
   "source": []
  },
  {
   "cell_type": "markdown",
   "metadata": {},
   "source": [
    "Problem 1.2 - Preparing the Data\n",
    "\n",
    "Although we typically stem words during the text preprocessing step, we did not do so here. What is the most compelling rationale for skipping this step when visualizing text data?"
   ]
  },
  {
   "cell_type": "code",
   "execution_count": null,
   "metadata": {
    "collapsed": true
   },
   "outputs": [],
   "source": []
  },
  {
   "cell_type": "markdown",
   "metadata": {},
   "source": [
    "Problem 2.1 - Building a Word Cloud\n",
    "\n",
    "Install and load the \"wordcloud\" package, which is needed to build word clouds.\n",
    "\n",
    "As we can read from ?wordcloud, we will need to provide the function with a vector of words and a vector of word frequencies. Which function can we apply to allTweets to get a vector of the words in our dataset, which we'll pass as the first argument to wordcloud()?"
   ]
  },
  {
   "cell_type": "code",
   "execution_count": null,
   "metadata": {
    "collapsed": true
   },
   "outputs": [],
   "source": []
  },
  {
   "cell_type": "markdown",
   "metadata": {},
   "source": [
    "Problem 2.2 - Building a Word Cloud\n",
    "\n",
    "Which function should we apply to allTweets to obtain the frequency of each word across all tweets?"
   ]
  },
  {
   "cell_type": "code",
   "execution_count": null,
   "metadata": {
    "collapsed": true
   },
   "outputs": [],
   "source": []
  },
  {
   "cell_type": "markdown",
   "metadata": {},
   "source": [
    "Problem 2.3 - Building a Word Cloud\n",
    "\n",
    "Use allTweets to build a word cloud. Make sure to check out the help page for wordcloud if you are not sure how to do this.\n",
    "\n",
    "Because we are plotting a large number of words, you might get warnings that some of the words could not be fit on the page and were therefore not plotted -- this is especially likely if you are using a smaller screen. You can address these warnings by plotting the words smaller. From ?wordcloud, we can see that the \"scale\" parameter controls the sizes of the plotted words. By default, the sizes range from 4 for the most frequent words to 0.5 for the least frequent, as denoted by the parameter \"scale=c(4, 0.5)\". We could obtain a much smaller plot with, for instance, parameter \"scale=c(2, 0.25)\".\n",
    "\n",
    "What is the most common word across all the tweets (it will be the largest in the outputted word cloud)? Please type the word exactly how you see it in the word cloud. The most frequent word might not be printed if you got a warning about words being cut off -- if this happened, be sure to follow the instructions in the paragraph above."
   ]
  },
  {
   "cell_type": "code",
   "execution_count": null,
   "metadata": {
    "collapsed": true
   },
   "outputs": [],
   "source": []
  },
  {
   "cell_type": "markdown",
   "metadata": {},
   "source": [
    "Problem 2.4 - Building a Word Cloud\n",
    "\n",
    "In the previous subproblem, we noted that there is one word with a much higher frequency than the other words. Repeat the steps to load and pre-process the corpus, this time removing the most frequent word in addition to all elements of stopwords(\"english\") in the call to tm_map with removeWords. For a refresher on how to remove this additional word, see the Twitter text analytics lecture.\n",
    "\n",
    "Replace allTweets with the document-term matrix of this new corpus -- we will use this updated corpus for the remainder of the assignment.\n",
    "\n",
    "Create a word cloud with the updated corpus. What is the most common word in this new corpus (the largest word in the outputted word cloud)? The most frequent word might not be printed if you got a warning about words being cut off -- if this happened, be sure to follow the instructions in the previous problem."
   ]
  },
  {
   "cell_type": "code",
   "execution_count": null,
   "metadata": {
    "collapsed": true
   },
   "outputs": [],
   "source": []
  },
  {
   "cell_type": "markdown",
   "metadata": {},
   "source": [
    "Problem 3 - Size and Color\n",
    "\n",
    "So far, the word clouds we've built have not been too visually appealing -- they are crowded by having too many words displayed, and they don't take advantage of color. One important step to building visually appealing visualizations is to experiment with the parameters available, which in this case can be viewed by typing ?wordcloud in your R console. In this problem, you should look through the help page and experiment with different parameters to answer the questions.\n",
    "\n",
    "Below are four word clouds, each of which uses different parameter settings in the call to the wordcloud() function:\n",
    "\n"
   ]
  },
  {
   "cell_type": "code",
   "execution_count": null,
   "metadata": {
    "collapsed": true
   },
   "outputs": [],
   "source": []
  },
  {
   "cell_type": "markdown",
   "metadata": {},
   "source": [
    "Word Cloud A:\n",
    "![](wordcloudA.png)"
   ]
  },
  {
   "cell_type": "markdown",
   "metadata": {},
   "source": [
    "Word Cloud B:\n",
    "![](wordcloudB.png)"
   ]
  },
  {
   "cell_type": "markdown",
   "metadata": {},
   "source": [
    "Word Cloud C:\n",
    "![](wordcloudC.png)"
   ]
  },
  {
   "cell_type": "markdown",
   "metadata": {},
   "source": [
    "Word Cloud D:\n",
    "![](wordcloudD.png)\n",
    "\n",
    "We will refer to these four word clouds in the next several problems.\n",
    "\n"
   ]
  },
  {
   "cell_type": "markdown",
   "metadata": {},
   "source": [
    "Problem 3.1 - Size and Color\n",
    "\n",
    "Which word cloud is based only on the negative tweets (tweets with Avg value -1 or less)?"
   ]
  },
  {
   "cell_type": "code",
   "execution_count": null,
   "metadata": {
    "collapsed": true
   },
   "outputs": [],
   "source": []
  },
  {
   "cell_type": "markdown",
   "metadata": {},
   "source": [
    "Problem 3.2 - Size and Color\n",
    "\n",
    "Only one word cloud was created without modifying parameters min.freq or max.words. Which word cloud is this?"
   ]
  },
  {
   "cell_type": "code",
   "execution_count": null,
   "metadata": {
    "collapsed": true
   },
   "outputs": [],
   "source": []
  },
  {
   "cell_type": "markdown",
   "metadata": {},
   "source": [
    "Problem 3.3 - Size and Color\n",
    "\n",
    "Which word clouds were created with parameter random.order set to FALSE?"
   ]
  },
  {
   "cell_type": "code",
   "execution_count": null,
   "metadata": {
    "collapsed": true
   },
   "outputs": [],
   "source": []
  },
  {
   "cell_type": "markdown",
   "metadata": {},
   "source": [
    "Problem 3.4 - Size and Color\n",
    "\n",
    "Which word cloud was built with a non-default value for parameter rot.per?"
   ]
  },
  {
   "cell_type": "code",
   "execution_count": null,
   "metadata": {
    "collapsed": true
   },
   "outputs": [],
   "source": []
  },
  {
   "cell_type": "markdown",
   "metadata": {},
   "source": [
    "Problem 3.5 - Size and Color\n",
    "\n",
    "In Word Cloud C and Word Cloud D, we provided a color palette ranging from light purple to dark purple as the parameter colors (you will learn how to make such a color palette later in this assignment). For which word cloud was the parameter random.color set to TRUE?"
   ]
  },
  {
   "cell_type": "code",
   "execution_count": null,
   "metadata": {
    "collapsed": true
   },
   "outputs": [],
   "source": []
  },
  {
   "cell_type": "markdown",
   "metadata": {},
   "source": [
    "Problem 4.1 - Selecting a Color Palette\n",
    "\n",
    "The use of a palette of colors can often improve the overall effect of a visualization. We can easily select our own colors when plotting; for instance, we could pass c(\"red\", \"green\", \"blue\") as the colors parameter to wordcloud(). The RColorBrewer package, which is based on the ColorBrewer project (colorbrewer.org), provides pre-selected palettes that can lead to more visually appealing images. Though these palettes are designed specifically for coloring maps, we can also use them in our word clouds and other visualizations.\n",
    "\n",
    "Begin by installing and loading the \"RColorBrewer\" package. This package may have already been installed and loaded when you installed and loaded the \"wordcloud\" package, in which case you don't need to go through this additional installation step. If you obtain errors (for instance, \"Error: lazy-load database 'P' is corrupt\") after installing and loading the RColorBrewer package and running some of the commands, try closing and re-opening R.\n",
    "\n",
    "The function brewer.pal() returns color palettes from the ColorBrewer project when provided with appropriate parameters, and the function display.brewer.all() displays the palettes we can choose from.\n",
    "\n",
    "Which color palette would be most appropriate for use in a word cloud for which we want to use color to indicate word frequency?"
   ]
  },
  {
   "cell_type": "code",
   "execution_count": null,
   "metadata": {
    "collapsed": true
   },
   "outputs": [],
   "source": []
  },
  {
   "cell_type": "markdown",
   "metadata": {},
   "source": [
    "Problem 4.2 - Selecting a Color Palette\n",
    "\n",
    "Which RColorBrewer palette name would be most appropriate to use when preparing an image for a document that must be in grayscale?"
   ]
  },
  {
   "cell_type": "code",
   "execution_count": null,
   "metadata": {
    "collapsed": true
   },
   "outputs": [],
   "source": []
  },
  {
   "cell_type": "markdown",
   "metadata": {},
   "source": [
    "Problem 4.3 - Selecting a Color Palette\n",
    "\n",
    "In sequential palettes, sometimes there is an undesirably large contrast between the lightest and darkest colors. You can see this effect when plotting a word cloud for allTweets with parameter colors=brewer.pal(9, \"Blues\"), which returns a sequential blue palette with 9 colors.\n",
    "\n",
    "Which of the following commands addresses this issue by removing the first 4 elements of the 9-color palette of blue colors? Select all that apply."
   ]
  },
  {
   "cell_type": "code",
   "execution_count": null,
   "metadata": {
    "collapsed": true
   },
   "outputs": [],
   "source": []
  },
  {
   "cell_type": "code",
   "execution_count": null,
   "metadata": {
    "collapsed": true
   },
   "outputs": [],
   "source": []
  }
 ],
 "metadata": {
  "kernelspec": {
   "display_name": "R",
   "language": "R",
   "name": "ir"
  },
  "language_info": {
   "codemirror_mode": "r",
   "file_extension": ".r",
   "mimetype": "text/x-r-source",
   "name": "R",
   "pygments_lexer": "r",
   "version": "3.3.3"
  }
 },
 "nbformat": 4,
 "nbformat_minor": 2
}
