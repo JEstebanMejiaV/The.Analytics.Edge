{
 "cells": [
  {
   "cell_type": "markdown",
   "metadata": {},
   "source": [
    "### An analytical detective\n",
    "\n",
    "Crime is an international concern, but it is documented and handled in very different ways in different countries. In the United States, violent crimes and property crimes are recorded by the Federal Bureau of Investigation (FBI).  Additionally, each city documents crime, and some cities release data regarding crime rates. The city of Chicago, Illinois releases crime data from 2001 onward online.\n",
    "\n",
    "Chicago is the third most populous city in the United States, with a population of over 2.7 million people. The city of Chicago is shown in the map below, with the state of Illinois highlighted in red. \n",
    "\n"
   ]
  },
  {
   "cell_type": "markdown",
   "metadata": {},
   "source": [
    "![Title](ChicagoMap.png)"
   ]
  },
  {
   "cell_type": "markdown",
   "metadata": {},
   "source": [
    "There are two main types of crimes: violent crimes, and property crimes. In this problem, we'll focus on one specific type of property crime, called \"motor vehicle theft\" (sometimes referred to as grand theft auto). This is the act of stealing, or attempting to steal, a car. In this problem, we'll use some basic data analysis in R to understand the motor vehicle thefts in Chicago. \n",
    "\n",
    "Please download the file mvtWeek1.csv for this problem (do not open this file in any spreadsheet software before completing this problem because it might change the format of the Date field). Here is a list of descriptions of the variables:\n",
    "\n",
    "**ID**: a unique identifier for each observation\n",
    "\n",
    "**Date**: the date the crime occurred\n",
    "\n",
    "**LocationDescription**: the location where the crime occurred\n",
    "\n",
    "Arrest: whether or not an arrest was made for the crime (TRUE if an arrest was made, and FALSE if an arrest was not made)\n",
    "\n",
    "Domestic: whether or not the crime was a domestic crime, meaning that it was committed against a family member (TRUE if it was domestic, and FALSE if it was not domestic)\n",
    "\n",
    "Beat: the area, or \"beat\" in which the crime occurred. This is the smallest regional division defined by the Chicago police department.\n",
    "\n",
    "District: the police district in which the crime occured. Each district is composed of many beats, and are defined by the Chicago Police Department.\n",
    "\n",
    "CommunityArea: the community area in which the crime occurred. Since the 1920s, Chicago has been divided into what are called \"community areas\", of which there are now 77. The community areas were devised in an attempt to create socially homogeneous regions.\n",
    "\n",
    "Year: the year in which the crime occurred.\n",
    "\n",
    "Latitude: the latitude of the location at which the crime occurred.\n",
    "\n",
    "Longitude: the longitude of the location at which the crime occurred."
   ]
  },
  {
   "cell_type": "markdown",
   "metadata": {},
   "source": [
    "#### Problem 1.1 - Loading the Data"
   ]
  },
  {
   "cell_type": "markdown",
   "metadata": {},
   "source": [
    "Read the dataset mvtWeek1.csv into R, using the read.csv function, and call the data frame \"mvt\". Remember to navigate to the directory on your computer containing the file mvtWeek1.csv first. It may take a few minutes to read in the data, since it is pretty large. Then, use the str and summary functions to answer the following questions.\n",
    "\n",
    "How many rows of data (observations) are in this dataset? : 191.641"
   ]
  },
  {
   "cell_type": "code",
   "execution_count": 5,
   "metadata": {},
   "outputs": [
    {
     "name": "stdout",
     "output_type": "stream",
     "text": [
      "'data.frame':\t191641 obs. of  11 variables:\n",
      " $ ID                 : int  8951354 8951141 8952745 8952223 8951608 8950793 8950760 8951611 8951802 8950706 ...\n",
      " $ Date               : Factor w/ 131680 levels \"1/1/01 0:01\",..: 42824 42823 42823 42823 42822 42821 42820 42819 42817 42816 ...\n",
      " $ LocationDescription: Factor w/ 78 levels \"ABANDONED BUILDING\",..: 72 72 62 72 72 72 72 72 72 72 ...\n",
      " $ Arrest             : logi  FALSE FALSE FALSE FALSE FALSE TRUE ...\n",
      " $ Domestic           : logi  FALSE FALSE FALSE FALSE FALSE FALSE ...\n",
      " $ Beat               : int  623 1213 1622 724 211 2521 423 231 1021 1215 ...\n",
      " $ District           : int  6 12 16 7 2 25 4 2 10 12 ...\n",
      " $ CommunityArea      : int  69 24 11 67 35 19 48 40 29 24 ...\n",
      " $ Year               : int  2012 2012 2012 2012 2012 2012 2012 2012 2012 2012 ...\n",
      " $ Latitude           : num  41.8 41.9 42 41.8 41.8 ...\n",
      " $ Longitude          : num  -87.6 -87.7 -87.8 -87.7 -87.6 ...\n"
     ]
    }
   ],
   "source": [
    "mvt <- read.csv('mvtWeek1.csv')\n",
    "str(mvt)"
   ]
  },
  {
   "cell_type": "markdown",
   "metadata": {},
   "source": [
    "#### Problem 1.2 - Loading the Data\n",
    "How many rows of data (observations) are in this dataset?"
   ]
  },
  {
   "cell_type": "markdown",
   "metadata": {},
   "source": [
    "#### Problem 1.3 - Loading the Data\n",
    "\n",
    "Using the \"max\" function, what is the maximum value of the variable \"ID\"?"
   ]
  },
  {
   "cell_type": "code",
   "execution_count": 6,
   "metadata": {},
   "outputs": [
    {
     "data": {
      "text/html": [
       "9181151"
      ],
      "text/latex": [
       "9181151"
      ],
      "text/markdown": [
       "9181151"
      ],
      "text/plain": [
       "[1] 9181151"
      ]
     },
     "metadata": {},
     "output_type": "display_data"
    }
   ],
   "source": [
    "max(mvt$ID)"
   ]
  },
  {
   "cell_type": "markdown",
   "metadata": {},
   "source": [
    "#### Problem 1.4 - Loading the Data\n",
    "\n",
    "What is the minimum value of the variable \"Beat\"?"
   ]
  },
  {
   "cell_type": "code",
   "execution_count": 7,
   "metadata": {},
   "outputs": [
    {
     "data": {
      "text/html": [
       "111"
      ],
      "text/latex": [
       "111"
      ],
      "text/markdown": [
       "111"
      ],
      "text/plain": [
       "[1] 111"
      ]
     },
     "metadata": {},
     "output_type": "display_data"
    }
   ],
   "source": [
    "min(mvt$Beat)"
   ]
  },
  {
   "cell_type": "markdown",
   "metadata": {},
   "source": [
    "#### Problem 1.5 - Loading the Data\n",
    "\n",
    "How many observations have value TRUE in the Arrest variable (this is the number of crimes for which an arrest was made)?"
   ]
  },
  {
   "cell_type": "code",
   "execution_count": 8,
   "metadata": {},
   "outputs": [
    {
     "data": {
      "text/html": [
       "15536"
      ],
      "text/latex": [
       "15536"
      ],
      "text/markdown": [
       "15536"
      ],
      "text/plain": [
       "[1] 15536"
      ]
     },
     "metadata": {},
     "output_type": "display_data"
    }
   ],
   "source": [
    "sum(mvt$Arrest)"
   ]
  },
  {
   "cell_type": "markdown",
   "metadata": {},
   "source": [
    "#### Problem 1.6 - Loading the Data\n",
    "\n",
    "How many observations have a LocationDescription value of ALLEY?"
   ]
  },
  {
   "cell_type": "code",
   "execution_count": 13,
   "metadata": {},
   "outputs": [
    {
     "data": {
      "text/plain": [
       "\n",
       " FALSE   TRUE \n",
       "189333   2308 "
      ]
     },
     "metadata": {},
     "output_type": "display_data"
    }
   ],
   "source": [
    "table(mvt$LocationDescription == 'ALLEY')"
   ]
  },
  {
   "cell_type": "code",
   "execution_count": 16,
   "metadata": {},
   "outputs": [
    {
     "data": {
      "text/plain": [
       "\n",
       "                             ABANDONED BUILDING \n",
       "                                              4 \n",
       "AIRPORT BUILDING NON-TERMINAL - NON-SECURE AREA \n",
       "                                              4 \n",
       "    AIRPORT BUILDING NON-TERMINAL - SECURE AREA \n",
       "                                              1 \n",
       "             AIRPORT EXTERIOR - NON-SECURE AREA \n",
       "                                             24 \n",
       "                 AIRPORT EXTERIOR - SECURE AREA \n",
       "                                              1 \n",
       "                            AIRPORT PARKING LOT \n",
       "                                             11 "
      ]
     },
     "metadata": {},
     "output_type": "display_data"
    }
   ],
   "source": [
    "head(table(mvt$LocationDescription))"
   ]
  },
  {
   "cell_type": "code",
   "execution_count": 17,
   "metadata": {},
   "outputs": [
    {
     "data": {
      "text/plain": [
       "       ID                      Date       \n",
       " Min.   :1310022   5/16/08 0:00  :    11  \n",
       " 1st Qu.:2832144   10/17/01 22:00:    10  \n",
       " Median :4762956   4/13/04 21:00 :    10  \n",
       " Mean   :4968629   9/17/05 22:00 :    10  \n",
       " 3rd Qu.:7201878   10/12/01 22:00:     9  \n",
       " Max.   :9181151   10/13/01 22:00:     9  \n",
       "                   (Other)       :191582  \n",
       "                     LocationDescription   Arrest         Domestic      \n",
       " STREET                        :156564   Mode :logical   Mode :logical  \n",
       " PARKING LOT/GARAGE(NON.RESID.): 14852   FALSE:176105    FALSE:191226   \n",
       " OTHER                         :  4573   TRUE :15536     TRUE :415      \n",
       " ALLEY                         :  2308   NA's :0         NA's :0        \n",
       " GAS STATION                   :  2111                                  \n",
       " DRIVEWAY - RESIDENTIAL        :  1675                                  \n",
       " (Other)                       :  9558                                  \n",
       "      Beat         District     CommunityArea        Year         Latitude    \n",
       " Min.   : 111   Min.   : 1.00   Min.   : 0      Min.   :2001   Min.   :41.64  \n",
       " 1st Qu.: 722   1st Qu.: 6.00   1st Qu.:22      1st Qu.:2003   1st Qu.:41.77  \n",
       " Median :1121   Median :10.00   Median :32      Median :2006   Median :41.85  \n",
       " Mean   :1259   Mean   :11.82   Mean   :38      Mean   :2006   Mean   :41.84  \n",
       " 3rd Qu.:1733   3rd Qu.:17.00   3rd Qu.:60      3rd Qu.:2009   3rd Qu.:41.92  \n",
       " Max.   :2535   Max.   :31.00   Max.   :77      Max.   :2012   Max.   :42.02  \n",
       "                NA's   :43056   NA's   :24616                  NA's   :2276   \n",
       "   Longitude     \n",
       " Min.   :-87.93  \n",
       " 1st Qu.:-87.72  \n",
       " Median :-87.68  \n",
       " Mean   :-87.68  \n",
       " 3rd Qu.:-87.64  \n",
       " Max.   :-87.52  \n",
       " NA's   :2276    "
      ]
     },
     "metadata": {},
     "output_type": "display_data"
    }
   ],
   "source": [
    "summary(mvt)"
   ]
  },
  {
   "cell_type": "markdown",
   "metadata": {},
   "source": [
    "#### Problem 2.1 - Understanding Dates in R\n",
    "\n",
    "In many datasets, like this one, you have a date field. Unfortunately, R does not automatically recognize entries that look like dates. We need to use a function in R to extract the date and time. Take a look at the first entry of Date (remember to use square brackets when looking at a certain entry of a variable).\n",
    "\n",
    "In what format are the entries in the variable Date?"
   ]
  },
  {
   "cell_type": "code",
   "execution_count": 19,
   "metadata": {},
   "outputs": [
    {
     "data": {
      "text/html": [
       "12/31/12 23:15"
      ],
      "text/latex": [
       "12/31/12 23:15"
      ],
      "text/markdown": [
       "12/31/12 23:15"
      ],
      "text/plain": [
       "[1] 12/31/12 23:15\n",
       "131680 Levels: 1/1/01 0:01 1/1/01 0:05 1/1/01 0:30 1/1/01 1:17 ... 9/9/12 9:50"
      ]
     },
     "metadata": {},
     "output_type": "display_data"
    }
   ],
   "source": [
    "mvt$Date[1]"
   ]
  },
  {
   "cell_type": "code",
   "execution_count": 21,
   "metadata": {},
   "outputs": [
    {
     "data": {
      "text/html": [
       "<table>\n",
       "<thead><tr><th scope=col>ID</th><th scope=col>Date</th><th scope=col>LocationDescription</th><th scope=col>Arrest</th><th scope=col>Domestic</th><th scope=col>Beat</th><th scope=col>District</th><th scope=col>CommunityArea</th><th scope=col>Year</th><th scope=col>Latitude</th><th scope=col>Longitude</th></tr></thead>\n",
       "<tbody>\n",
       "\t<tr><td>8951354       </td><td>12/31/12 23:15</td><td>STREET        </td><td>FALSE         </td><td>FALSE         </td><td>623           </td><td>6             </td><td>69            </td><td>2012          </td><td>41.75628      </td><td>-87.62164     </td></tr>\n",
       "</tbody>\n",
       "</table>\n"
      ],
      "text/latex": [
       "\\begin{tabular}{r|lllllllllll}\n",
       " ID & Date & LocationDescription & Arrest & Domestic & Beat & District & CommunityArea & Year & Latitude & Longitude\\\\\n",
       "\\hline\n",
       "\t 8951354        & 12/31/12 23:15 & STREET         & FALSE          & FALSE          & 623            & 6              & 69             & 2012           & 41.75628       & -87.62164     \\\\\n",
       "\\end{tabular}\n"
      ],
      "text/plain": [
       "  ID      Date           LocationDescription Arrest Domestic Beat District\n",
       "1 8951354 12/31/12 23:15 STREET              FALSE  FALSE    623  6       \n",
       "  CommunityArea Year Latitude Longitude\n",
       "1 69            2012 41.75628 -87.62164"
      ]
     },
     "metadata": {},
     "output_type": "display_data"
    }
   ],
   "source": [
    "mvt[1,]"
   ]
  },
  {
   "cell_type": "markdown",
   "metadata": {},
   "source": [
    "Month/Day/Year Hour:Minute "
   ]
  },
  {
   "cell_type": "markdown",
   "metadata": {},
   "source": [
    "#### Problem 2.2 - Understanding Dates in R\n",
    "\n",
    "Now, let's convert these characters into a Date object in R. In your R console, type\n",
    "\n",
    "DateConvert = as.Date(strptime(mvt$Date, \"%m/%d/%y %H:%M\"))\n",
    "\n",
    "This converts the variable \"Date\" into a Date object in R. Take a look at the variable DateConvert using the summary function.\n",
    "\n",
    "What is the month and year of the median date in our dataset? Enter your answer as \"Month Year\", without the quotes. (Ex: if the answer was 2008-03-28, you would give the answer \"March 2008\", without the quotes.)"
   ]
  },
  {
   "cell_type": "code",
   "execution_count": 22,
   "metadata": {
    "collapsed": true
   },
   "outputs": [],
   "source": [
    "DateConvert = as.Date(strptime(mvt$Date, \"%m/%d/%y %H:%M\"))"
   ]
  },
  {
   "cell_type": "code",
   "execution_count": 23,
   "metadata": {},
   "outputs": [
    {
     "data": {
      "text/html": [
       "<dl class=dl-horizontal>\n",
       "\t<dt>Min.</dt>\n",
       "\t\t<dd><time datetime=\"2001-01-01\">2001-01-01</time></dd>\n",
       "\t<dt>1st Qu.</dt>\n",
       "\t\t<dd><time datetime=\"2003-07-10\">2003-07-10</time></dd>\n",
       "\t<dt>Median</dt>\n",
       "\t\t<dd><time datetime=\"2006-05-21\">2006-05-21</time></dd>\n",
       "\t<dt>Mean</dt>\n",
       "\t\t<dd><time datetime=\"2006-08-23\">2006-08-23</time></dd>\n",
       "\t<dt>3rd Qu.</dt>\n",
       "\t\t<dd><time datetime=\"2009-10-24\">2009-10-24</time></dd>\n",
       "\t<dt>Max.</dt>\n",
       "\t\t<dd><time datetime=\"2012-12-31\">2012-12-31</time></dd>\n",
       "</dl>\n"
      ],
      "text/latex": [
       "\\begin{description*}\n",
       "\\item[Min.] 2001-01-01\n",
       "\\item[1st Qu.] 2003-07-10\n",
       "\\item[Median] 2006-05-21\n",
       "\\item[Mean] 2006-08-23\n",
       "\\item[3rd Qu.] 2009-10-24\n",
       "\\item[Max.] 2012-12-31\n",
       "\\end{description*}\n"
      ],
      "text/markdown": [
       "Min.\n",
       ":   2001-01-011st Qu.\n",
       ":   2003-07-10Median\n",
       ":   2006-05-21Mean\n",
       ":   2006-08-233rd Qu.\n",
       ":   2009-10-24Max.\n",
       ":   2012-12-31\n",
       "\n"
      ],
      "text/plain": [
       "        Min.      1st Qu.       Median         Mean      3rd Qu.         Max. \n",
       "\"2001-01-01\" \"2003-07-10\" \"2006-05-21\" \"2006-08-23\" \"2009-10-24\" \"2012-12-31\" "
      ]
     },
     "metadata": {},
     "output_type": "display_data"
    }
   ],
   "source": [
    "summary(DateConvert)"
   ]
  },
  {
   "cell_type": "markdown",
   "metadata": {},
   "source": [
    "#### Problem 2.3 - Understanding Dates in R\n",
    "\n",
    "Now, let's extract the month and the day of the week, and add these variables to our data frame mvt. We can do this with two simple functions. Type the following commands in R:\n",
    "\n",
    "mvt$Month = months(DateConvert)\n",
    "\n",
    "mvt$Weekday = weekdays(DateConvert)\n",
    "\n",
    "This creates two new variables in our data frame, Month and Weekday, and sets them equal to the month and weekday values that we can extract from the Date object. Lastly, replace the old Date variable with DateConvert by typing:\n",
    "\n",
    "mvt$Date = DateConvert\n",
    "\n",
    "Using the table command, answer the following questions.\n",
    "\n",
    "In which month did the fewest motor vehicle thefts occur?"
   ]
  },
  {
   "cell_type": "code",
   "execution_count": 25,
   "metadata": {
    "collapsed": true
   },
   "outputs": [],
   "source": [
    "mvt$Month = months(DateConvert)\n",
    "mvt$Weekday = weekdays(DateConvert)\n",
    "mvt$Date = DateConvert"
   ]
  },
  {
   "cell_type": "code",
   "execution_count": 26,
   "metadata": {},
   "outputs": [
    {
     "data": {
      "text/plain": [
       "\n",
       "     abril     agosto  diciembre      enero    febrero      julio      junio \n",
       "     15280      16572      16426      16047      13511      16801      16002 \n",
       "     marzo       mayo  noviembre    octubre septiembre \n",
       "     15758      16035      16063      17086      16060 "
      ]
     },
     "metadata": {},
     "output_type": "display_data"
    }
   ],
   "source": [
    "table(mvt$Month)"
   ]
  },
  {
   "cell_type": "code",
   "execution_count": 27,
   "metadata": {},
   "outputs": [
    {
     "data": {
      "text/html": [
       "13511"
      ],
      "text/latex": [
       "13511"
      ],
      "text/markdown": [
       "13511"
      ],
      "text/plain": [
       "[1] 13511"
      ]
     },
     "metadata": {},
     "output_type": "display_data"
    }
   ],
   "source": [
    "min(table(mvt$Month))"
   ]
  },
  {
   "cell_type": "code",
   "execution_count": 34,
   "metadata": {},
   "outputs": [
    {
     "data": {
      "text/html": [
       "<strong>febrero:</strong> 5"
      ],
      "text/latex": [
       "\\textbf{febrero:} 5"
      ],
      "text/markdown": [
       "**febrero:** 5"
      ],
      "text/plain": [
       "febrero \n",
       "      5 "
      ]
     },
     "metadata": {},
     "output_type": "display_data"
    }
   ],
   "source": [
    "which(table(mvt$Month)==min(table(mvt$Month)))"
   ]
  },
  {
   "cell_type": "markdown",
   "metadata": {},
   "source": [
    "#### Problem 2.4 - Understanding Dates in R\n",
    "\n",
    "On which weekday did the most motor vehicle thefts occur?"
   ]
  },
  {
   "cell_type": "code",
   "execution_count": 41,
   "metadata": {},
   "outputs": [
    {
     "data": {
      "text/html": [
       "<strong>viernes:</strong> 7"
      ],
      "text/latex": [
       "\\textbf{viernes:} 7"
      ],
      "text/markdown": [
       "**viernes:** 7"
      ],
      "text/plain": [
       "viernes \n",
       "      7 "
      ]
     },
     "metadata": {},
     "output_type": "display_data"
    }
   ],
   "source": [
    "which(table(mvt$Weekday)==max(table(mvt$Weekday)))"
   ]
  },
  {
   "cell_type": "code",
   "execution_count": 40,
   "metadata": {},
   "outputs": [
    {
     "data": {
      "text/plain": [
       "\n",
       "  domingo    jueves     lunes    martes miércoles    sábado   viernes \n",
       "    26316     27319     27397     26791     27416     27118     29284 "
      ]
     },
     "metadata": {},
     "output_type": "display_data"
    }
   ],
   "source": [
    "table(mvt$Weekday)"
   ]
  },
  {
   "cell_type": "markdown",
   "metadata": {},
   "source": [
    "#### Problem 2.5 - Understanding Dates in R\n",
    "\n",
    "Each observation in the dataset represents a motor vehicle theft, and the Arrest variable indicates whether an arrest was later made for this theft. Which month has the largest number of motor vehicle thefts for which an arrest was made?"
   ]
  },
  {
   "cell_type": "code",
   "execution_count": 43,
   "metadata": {},
   "outputs": [
    {
     "data": {
      "text/plain": [
       "            \n",
       "             FALSE  TRUE\n",
       "  abril      14028  1252\n",
       "  agosto     15243  1329\n",
       "  diciembre  15029  1397\n",
       "  enero      14612  1435\n",
       "  febrero    12273  1238\n",
       "  julio      15477  1324\n",
       "  junio      14772  1230\n",
       "  marzo      14460  1298\n",
       "  mayo       14848  1187\n",
       "  noviembre  14807  1256\n",
       "  octubre    15744  1342\n",
       "  septiembre 14812  1248"
      ]
     },
     "metadata": {},
     "output_type": "display_data"
    }
   ],
   "source": [
    "table(mvt$Month,mvt$Arrest)"
   ]
  },
  {
   "cell_type": "code",
   "execution_count": null,
   "metadata": {
    "collapsed": true
   },
   "outputs": [],
   "source": []
  },
  {
   "cell_type": "markdown",
   "metadata": {},
   "source": [
    "#### Problem 3.1 - Visualizing Crime Trends\n",
    "\n",
    "Now, let's make some plots to help us better understand how crime has changed over time in Chicago. Throughout this problem, and in general, you can save your plot to a file. For more information, [this website very](https://www.stat.berkeley.edu/~s133/saving.html) clearly explains the process.\n",
    "\n",
    "First, let's make a histogram of the variable Date. We'll add an extra argument, to specify the number of bars we want in our histogram. In your R console, type\n",
    "\n",
    "hist(mvt$Date, breaks=100)\n",
    "\n",
    "Looking at the histogram, answer the following questions.\n",
    "\n"
   ]
  },
  {
   "cell_type": "code",
   "execution_count": 44,
   "metadata": {},
   "outputs": [
    {
     "data": {
      "image/png": "[encoded data removed]",
      "text/plain": [
       "Plot with title \"Histogram of mvt$Date\""
      ]
     },
     "metadata": {},
     "output_type": "display_data"
    }
   ],
   "source": [
    "hist(mvt$Date, breaks=100)"
   ]
  },
  {
   "cell_type": "markdown",
   "metadata": {},
   "source": [
    "In general, does it look like crime increases or decreases from 2002 - 2012?"
   ]
  },
  {
   "cell_type": "markdown",
   "metadata": {},
   "source": [
    "Decreases"
   ]
  },
  {
   "cell_type": "markdown",
   "metadata": {},
   "source": [
    "In general, does it look like crime increases or decreases from 2005 - 2008?\n",
    "\n",
    "\n"
   ]
  },
  {
   "cell_type": "markdown",
   "metadata": {},
   "source": [
    "Decreases"
   ]
  },
  {
   "cell_type": "markdown",
   "metadata": {},
   "source": [
    "In general, does it look like crime increases or decreases from 2009 - 2011?\n",
    "\n",
    "\n"
   ]
  },
  {
   "cell_type": "markdown",
   "metadata": {},
   "source": [
    "Increases"
   ]
  },
  {
   "cell_type": "markdown",
   "metadata": {},
   "source": [
    "##### Problem 3.2 - Visualizing Crime Trends\n",
    "\n",
    "Now, let's see how arrests have changed over time. Create a boxplot of the variable \"Date\", sorted by the variable \"Arrest\" (if you are not familiar with boxplots and would like to learn more, check out this [tutorial](https://www.r-bloggers.com/box-plot-with-r-tutorial/)). In a boxplot, the bold horizontal line is the median value of the data, the box shows the range of values between the first quartile and third quartile, and the whiskers (the dotted lines extending outside the box) show the minimum and maximum values, excluding any outliers (which are plotted as circles). Outliers are defined by first computing the difference between the first and third quartile values, or the height of the box. This number is called the Inter-Quartile Range (IQR). Any point that is greater than the third quartile plus the IQR or less than the first quartile minus the IQR is considered an outlier.\n",
    "\n",
    "Does it look like there were more crimes for which arrests were made in the first half of the time period or the second half of the time period? (Note that the time period is from 2001 to 2012, so the middle of the time period is the beginning of 2007.)"
   ]
  },
  {
   "cell_type": "code",
   "execution_count": 47,
   "metadata": {},
   "outputs": [
    {
     "data": {
      "image/png": "[encoded data removed]",
      "text/plain": [
       "plot without title"
      ]
     },
     "metadata": {},
     "output_type": "display_data"
    }
   ],
   "source": [
    "boxplot(mvt$Date ~ mvt$Arrest)"
   ]
  },
  {
   "cell_type": "markdown",
   "metadata": {},
   "source": [
    "Fist Half"
   ]
  },
  {
   "cell_type": "markdown",
   "metadata": {},
   "source": [
    "#### Problem 3.3 - Visualizing Crime Trends\n",
    "\n",
    "Let's investigate this further. Use the table function for the next few questions.\n",
    "\n",
    "For what proportion of motor vehicle thefts in 2001 was an arrest made?\n",
    "\n",
    "Note: in this question and many others in the course, we are asking for an answer as a proportion. Therefore, your answer should take a value between 0 and 1."
   ]
  },
  {
   "cell_type": "code",
   "execution_count": 53,
   "metadata": {},
   "outputs": [
    {
     "data": {
      "text/plain": [
       "      \n",
       "            FALSE       TRUE\n",
       "  2001 0.89588272 0.10411728\n",
       "  2002 0.88721805 0.11278195\n",
       "  2003 0.89205739 0.10794261\n",
       "  2004 0.89959673 0.10040327\n",
       "  2005 0.90730405 0.09269595\n",
       "  2006 0.91912039 0.08087961\n",
       "  2007 0.91512605 0.08487395\n",
       "  2008 0.92938733 0.07061267\n",
       "  2009 0.93096080 0.06903920\n",
       "  2010 0.95476544 0.04523456\n",
       "  2011 0.96003070 0.03996930\n",
       "  2012 0.96097076 0.03902924"
      ]
     },
     "metadata": {},
     "output_type": "display_data"
    }
   ],
   "source": [
    "prop.table(table(mvt$Year, mvt$Arrest), margin=1)"
   ]
  },
  {
   "cell_type": "markdown",
   "metadata": {},
   "source": [
    "0.10411728"
   ]
  },
  {
   "cell_type": "markdown",
   "metadata": {},
   "source": [
    "Problem 3.4 - Visualizing Crime Trends\n",
    "1 punto posible (calificado)\n",
    "For what proportion of motor vehicle thefts in 2007 was an arrest made?"
   ]
  },
  {
   "cell_type": "markdown",
   "metadata": {},
   "source": [
    "0.08487395"
   ]
  },
  {
   "cell_type": "markdown",
   "metadata": {},
   "source": [
    "#### Problem 3.5 - Visualizing Crime Trends\n",
    "\n",
    "For what proportion of motor vehicle thefts in 2012 was an arrest made?"
   ]
  },
  {
   "cell_type": "markdown",
   "metadata": {},
   "source": [
    "0.03902924"
   ]
  },
  {
   "cell_type": "markdown",
   "metadata": {},
   "source": [
    "Since there may still be open investigations for recent crimes, this could explain the trend we are seeing in the data. There could also be other factors at play, and this trend should be investigated further. However, since we don't know when the arrests were actually made, our detective work in this area has reached a dead end."
   ]
  },
  {
   "cell_type": "markdown",
   "metadata": {},
   "source": [
    "#### Problem 4.1 - Popular Locations\n",
    "\n",
    "Analyzing this data could be useful to the Chicago Police Department when deciding where to allocate resources. If they want to increase the number of arrests that are made for motor vehicle thefts, where should they focus their efforts?\n",
    "\n",
    "We want to find the top five locations where motor vehicle thefts occur. If you create a table of the LocationDescription variable, it is unfortunately very hard to read since there are 78 different locations in the data set. By using the sort function, we can view this same table, but sorted by the number of observations in each category. In your R console, type:\n",
    "\n",
    "sort(table(mvt$LocationDescription))\n",
    "\n",
    "Which locations are the top five locations for motor vehicle thefts, excluding the \"Other\" category? You should select 5 of the following options."
   ]
  },
  {
   "cell_type": "code",
   "execution_count": 56,
   "metadata": {},
   "outputs": [
    {
     "data": {
      "text/plain": [
       "\n",
       "                        STREET PARKING LOT/GARAGE(NON.RESID.) \n",
       "                        156564                          14852 \n",
       "                         OTHER                          ALLEY \n",
       "                          4573                           2308 \n",
       "                   GAS STATION         DRIVEWAY - RESIDENTIAL \n",
       "                          2111                           1675 "
      ]
     },
     "metadata": {},
     "output_type": "display_data"
    }
   ],
   "source": [
    "head(sort(table(mvt$LocationDescription), decreasing = T) , 6 )"
   ]
  },
  {
   "cell_type": "markdown",
   "metadata": {},
   "source": [
    "#### Problem 4.2 - Popular Locations\n",
    "\n",
    "Create a subset of your data, only taking observations for which the theft happened in one of these five locations, and call this new data set \"Top5\". To do this, you can use the | symbol. In lecture, we used the & symbol to use two criteria to make a subset of the data. To only take observations that have a certain value in one variable or the other, the | character can be used in place of the & symbol. This is also called a logical \"or\" operation.\n",
    "\n",
    "Alternately, you could create five different subsets, and then merge them together into one data frame using rbind.\n",
    "\n",
    "How many observations are in Top5?"
   ]
  },
  {
   "cell_type": "code",
   "execution_count": 57,
   "metadata": {},
   "outputs": [
    {
     "data": {
      "text/html": [
       "<table>\n",
       "<thead><tr><th></th><th scope=col>ID</th><th scope=col>Date</th><th scope=col>LocationDescription</th><th scope=col>Arrest</th><th scope=col>Domestic</th><th scope=col>Beat</th><th scope=col>District</th><th scope=col>CommunityArea</th><th scope=col>Year</th><th scope=col>Latitude</th><th scope=col>Longitude</th><th scope=col>Month</th><th scope=col>Weekday</th></tr></thead>\n",
       "<tbody>\n",
       "\t<tr><th scope=row>1</th><td>8951354   </td><td>2012-12-31</td><td>STREET    </td><td>FALSE     </td><td>FALSE     </td><td> 623      </td><td> 6        </td><td>69        </td><td>2012      </td><td>41.75628  </td><td>-87.62164 </td><td>diciembre </td><td>lunes     </td></tr>\n",
       "\t<tr><th scope=row>2</th><td>8951141   </td><td>2012-12-31</td><td>STREET    </td><td>FALSE     </td><td>FALSE     </td><td>1213      </td><td>12        </td><td>24        </td><td>2012      </td><td>41.89879  </td><td>-87.66130 </td><td>diciembre </td><td>lunes     </td></tr>\n",
       "\t<tr><th scope=row>4</th><td>8952223   </td><td>2012-12-31</td><td>STREET    </td><td>FALSE     </td><td>FALSE     </td><td> 724      </td><td> 7        </td><td>67        </td><td>2012      </td><td>41.76933  </td><td>-87.65773 </td><td>diciembre </td><td>lunes     </td></tr>\n",
       "\t<tr><th scope=row>5</th><td>8951608   </td><td>2012-12-31</td><td>STREET    </td><td>FALSE     </td><td>FALSE     </td><td> 211      </td><td> 2        </td><td>35        </td><td>2012      </td><td>41.83757  </td><td>-87.62176 </td><td>diciembre </td><td>lunes     </td></tr>\n",
       "\t<tr><th scope=row>6</th><td>8950793   </td><td>2012-12-31</td><td>STREET    </td><td> TRUE     </td><td>FALSE     </td><td>2521      </td><td>25        </td><td>19        </td><td>2012      </td><td>41.92856  </td><td>-87.75400 </td><td>diciembre </td><td>lunes     </td></tr>\n",
       "\t<tr><th scope=row>7</th><td>8950760   </td><td>2012-12-31</td><td>STREET    </td><td>FALSE     </td><td>FALSE     </td><td> 423      </td><td> 4        </td><td>48        </td><td>2012      </td><td>41.73206  </td><td>-87.56481 </td><td>diciembre </td><td>lunes     </td></tr>\n",
       "</tbody>\n",
       "</table>\n"
      ],
      "text/latex": [
       "\\begin{tabular}{r|lllllllllllll}\n",
       "  & ID & Date & LocationDescription & Arrest & Domestic & Beat & District & CommunityArea & Year & Latitude & Longitude & Month & Weekday\\\\\n",
       "\\hline\n",
       "\t1 & 8951354    & 2012-12-31 & STREET     & FALSE      & FALSE      &  623       &  6         & 69         & 2012       & 41.75628   & -87.62164  & diciembre  & lunes     \\\\\n",
       "\t2 & 8951141    & 2012-12-31 & STREET     & FALSE      & FALSE      & 1213       & 12         & 24         & 2012       & 41.89879   & -87.66130  & diciembre  & lunes     \\\\\n",
       "\t4 & 8952223    & 2012-12-31 & STREET     & FALSE      & FALSE      &  724       &  7         & 67         & 2012       & 41.76933   & -87.65773  & diciembre  & lunes     \\\\\n",
       "\t5 & 8951608    & 2012-12-31 & STREET     & FALSE      & FALSE      &  211       &  2         & 35         & 2012       & 41.83757   & -87.62176  & diciembre  & lunes     \\\\\n",
       "\t6 & 8950793    & 2012-12-31 & STREET     &  TRUE      & FALSE      & 2521       & 25         & 19         & 2012       & 41.92856   & -87.75400  & diciembre  & lunes     \\\\\n",
       "\t7 & 8950760    & 2012-12-31 & STREET     & FALSE      & FALSE      &  423       &  4         & 48         & 2012       & 41.73206   & -87.56481  & diciembre  & lunes     \\\\\n",
       "\\end{tabular}\n"
      ],
      "text/plain": [
       "  ID      Date       LocationDescription Arrest Domestic Beat District\n",
       "1 8951354 2012-12-31 STREET              FALSE  FALSE     623  6      \n",
       "2 8951141 2012-12-31 STREET              FALSE  FALSE    1213 12      \n",
       "4 8952223 2012-12-31 STREET              FALSE  FALSE     724  7      \n",
       "5 8951608 2012-12-31 STREET              FALSE  FALSE     211  2      \n",
       "6 8950793 2012-12-31 STREET               TRUE  FALSE    2521 25      \n",
       "7 8950760 2012-12-31 STREET              FALSE  FALSE     423  4      \n",
       "  CommunityArea Year Latitude Longitude Month     Weekday\n",
       "1 69            2012 41.75628 -87.62164 diciembre lunes  \n",
       "2 24            2012 41.89879 -87.66130 diciembre lunes  \n",
       "4 67            2012 41.76933 -87.65773 diciembre lunes  \n",
       "5 35            2012 41.83757 -87.62176 diciembre lunes  \n",
       "6 19            2012 41.92856 -87.75400 diciembre lunes  \n",
       "7 48            2012 41.73206 -87.56481 diciembre lunes  "
      ]
     },
     "metadata": {},
     "output_type": "display_data"
    }
   ],
   "source": [
    "Top5 <- subset(mvt, LocationDescription == 'STREET' | LocationDescription == 'PARKING LOT/GARAGE(NON.RESID.)' | \n",
    "               LocationDescription == 'ALLEY' | LocationDescription == 'GAS STATION' |\n",
    "               LocationDescription == 'DRIVEWAY - RESIDENTIAL')\n",
    "\n",
    "head(Top5)"
   ]
  },
  {
   "cell_type": "code",
   "execution_count": null,
   "metadata": {
    "collapsed": true
   },
   "outputs": [],
   "source": []
  },
  {
   "cell_type": "markdown",
   "metadata": {},
   "source": [
    "#### Problem 4.3 - Popular Locations\n",
    "\n",
    "R will remember the other categories of the LocationDescription variable from the original dataset, so running table(Top5$LocationDescription) will have a lot of unnecessary output. To make our tables a bit nicer to read, we can refresh this factor variable. In your R console, type:\n",
    "\n",
    "Top5$LocationDescription = factor(Top5$LocationDescription)\n",
    "\n",
    "If you run the str or table function on Top5 now, you should see that LocationDescription now only has 5 values, as we expect.\n",
    "\n",
    "Use the Top5 data frame to answer the remaining questions.\n",
    "\n",
    "One of the locations has a much higher arrest rate than the other locations. Which is it? Please enter the text in exactly the same way as how it looks in the answer options for Problem 4.1."
   ]
  },
  {
   "cell_type": "code",
   "execution_count": null,
   "metadata": {
    "collapsed": true
   },
   "outputs": [],
   "source": []
  },
  {
   "cell_type": "markdown",
   "metadata": {},
   "source": [
    "#### Problem 4.4 - Popular Locations\n",
    "\n",
    "On which day of the week do the most motor vehicle thefts at gas stations happen?"
   ]
  },
  {
   "cell_type": "code",
   "execution_count": null,
   "metadata": {
    "collapsed": true
   },
   "outputs": [],
   "source": []
  },
  {
   "cell_type": "markdown",
   "metadata": {},
   "source": [
    "#### Problem 4.5 - Popular Locations\n",
    "\n",
    "On which day of the week do the fewest motor vehicle thefts in residential driveways happen?"
   ]
  },
  {
   "cell_type": "code",
   "execution_count": null,
   "metadata": {
    "collapsed": true
   },
   "outputs": [],
   "source": []
  },
  {
   "cell_type": "code",
   "execution_count": null,
   "metadata": {
    "collapsed": true
   },
   "outputs": [],
   "source": []
  },
  {
   "cell_type": "code",
   "execution_count": null,
   "metadata": {
    "collapsed": true
   },
   "outputs": [],
   "source": []
  }
 ],
 "metadata": {
  "kernelspec": {
   "display_name": "R",
   "language": "R",
   "name": "ir"
  },
  "language_info": {
   "codemirror_mode": "r",
   "file_extension": ".r",
   "mimetype": "text/x-r-source",
   "name": "R",
   "pygments_lexer": "r",
   "version": "3.3.3"
  }
 },
 "nbformat": 4,
 "nbformat_minor": 2
}
