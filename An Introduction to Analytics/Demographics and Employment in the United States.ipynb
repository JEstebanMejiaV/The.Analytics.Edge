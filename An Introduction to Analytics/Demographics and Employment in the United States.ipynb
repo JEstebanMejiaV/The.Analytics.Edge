{
 "cells": [
  {
   "cell_type": "markdown",
   "metadata": {},
   "source": [
    "### Demographics and employment in the united states\n",
    "\n",
    "In the wake of the Great Recession of 2009, there has been a good deal of focus on employment statistics, one of the most important metrics policymakers use to gauge the overall strength of the economy. In the United States, the government measures unemployment using the Current Population Survey (CPS), which collects demographic and employment information from a wide range of Americans each month. In this exercise, we will employ the topics reviewed in the lectures as well as a few new techniques using the September 2013 version of this rich, nationally representative dataset (available [online](http://thedataweb.rm.census.gov/ftp/cps_ftp.html)).\n",
    "\n",
    "The observations in the dataset represent people surveyed in the September 2013 CPS who actually completed a survey. While the full dataset has 385 variables, in this exercise we will use a more compact version of the dataset, CPSData.csv, which has the following variables:\n",
    "\n",
    "PeopleInHousehold: The number of people in the interviewee's household.\n",
    "\n",
    "Region: The census region where the interviewee lives.\n",
    "\n",
    "State: The state where the interviewee lives.\n",
    "\n",
    "MetroAreaCode: A code that identifies the metropolitan area in which the interviewee lives (missing if the interviewee does not live in a metropolitan area). The mapping from codes to names of metropolitan areas is provided in the file MetroAreaCodes.csv.\n",
    "\n",
    "Age: The age, in years, of the interviewee. 80 represents people aged 80-84, and 85 represents people aged 85 and higher.\n",
    "\n",
    "Married: The marriage status of the interviewee.\n",
    "\n",
    "Sex: The sex of the interviewee.\n",
    "\n",
    "Education: The maximum level of education obtained by the interviewee.\n",
    "\n",
    "Race: The race of the interviewee.\n",
    "\n",
    "Hispanic: Whether the interviewee is of Hispanic ethnicity.\n",
    "\n",
    "CountryOfBirthCode: A code identifying the country of birth of the interviewee. The mapping from codes to names of countries is provided in the file CountryCodes.csv.\n",
    "\n",
    "Citizenship: The United States citizenship status of the interviewee.\n",
    "\n",
    "EmploymentStatus: The status of employment of the interviewee.\n",
    "\n",
    "Industry: The industry of employment of the interviewee (only available if they are employed)."
   ]
  },
  {
   "cell_type": "markdown",
   "metadata": {},
   "source": [
    "#### Problem 1.1 - Loading and Summarizing the Dataset\n",
    "\n",
    "Load the dataset from CPSData.csv into a data frame called CPS, and view the dataset with the summary() and str() commands.\n",
    "\n",
    "How many interviewees are in the dataset?"
   ]
  },
  {
   "cell_type": "code",
   "execution_count": 2,
   "metadata": {},
   "outputs": [
    {
     "name": "stdout",
     "output_type": "stream",
     "text": [
      "'data.frame':\t131302 obs. of  14 variables:\n",
      " $ PeopleInHousehold : int  1 3 3 3 3 3 3 2 2 2 ...\n",
      " $ Region            : Factor w/ 4 levels \"Midwest\",\"Northeast\",..: 3 3 3 3 3 3 3 3 3 3 ...\n",
      " $ State             : Factor w/ 51 levels \"Alabama\",\"Alaska\",..: 1 1 1 1 1 1 1 1 1 1 ...\n",
      " $ MetroAreaCode     : int  26620 13820 13820 13820 26620 26620 26620 33660 33660 26620 ...\n",
      " $ Age               : int  85 21 37 18 52 24 26 71 43 52 ...\n",
      " $ Married           : Factor w/ 5 levels \"Divorced\",\"Married\",..: 5 3 3 3 5 3 3 1 1 3 ...\n",
      " $ Sex               : Factor w/ 2 levels \"Female\",\"Male\": 1 2 1 2 1 2 2 1 2 2 ...\n",
      " $ Education         : Factor w/ 8 levels \"Associate degree\",..: 1 4 4 6 1 2 4 4 4 2 ...\n",
      " $ Race              : Factor w/ 6 levels \"American Indian\",..: 6 3 3 3 6 6 6 6 6 6 ...\n",
      " $ Hispanic          : int  0 0 0 0 0 0 0 0 0 0 ...\n",
      " $ CountryOfBirthCode: int  57 57 57 57 57 57 57 57 57 57 ...\n",
      " $ Citizenship       : Factor w/ 3 levels \"Citizen, Native\",..: 1 1 1 1 1 1 1 1 1 1 ...\n",
      " $ EmploymentStatus  : Factor w/ 5 levels \"Disabled\",\"Employed\",..: 4 5 1 3 2 2 2 2 3 2 ...\n",
      " $ Industry          : Factor w/ 14 levels \"Agriculture, forestry, fishing, and hunting\",..: NA 11 NA NA 11 4 14 4 NA 12 ...\n"
     ]
    },
    {
     "data": {
      "text/plain": [
       " PeopleInHousehold       Region               State       MetroAreaCode  \n",
       " Min.   : 1.000    Midwest  :30684   California  :11570   Min.   :10420  \n",
       " 1st Qu.: 2.000    Northeast:25939   Texas       : 7077   1st Qu.:21780  \n",
       " Median : 3.000    South    :41502   New York    : 5595   Median :34740  \n",
       " Mean   : 3.284    West     :33177   Florida     : 5149   Mean   :35075  \n",
       " 3rd Qu.: 4.000                      Pennsylvania: 3930   3rd Qu.:41860  \n",
       " Max.   :15.000                      Illinois    : 3912   Max.   :79600  \n",
       "                                     (Other)     :94069   NA's   :34238  \n",
       "      Age                 Married          Sex       \n",
       " Min.   : 0.00   Divorced     :11151   Female:67481  \n",
       " 1st Qu.:19.00   Married      :55509   Male  :63821  \n",
       " Median :39.00   Never Married:30772                 \n",
       " Mean   :38.83   Separated    : 2027                 \n",
       " 3rd Qu.:57.00   Widowed      : 6505                 \n",
       " Max.   :85.00   NA's         :25338                 \n",
       "                                                     \n",
       "                   Education                   Race           Hispanic     \n",
       " High school            :30906   American Indian :  1433   Min.   :0.0000  \n",
       " Bachelor's degree      :19443   Asian           :  6520   1st Qu.:0.0000  \n",
       " Some college, no degree:18863   Black           : 13913   Median :0.0000  \n",
       " No high school diploma :16095   Multiracial     :  2897   Mean   :0.1393  \n",
       " Associate degree       : 9913   Pacific Islander:   618   3rd Qu.:0.0000  \n",
       " (Other)                :10744   White           :105921   Max.   :1.0000  \n",
       " NA's                   :25338                                             \n",
       " CountryOfBirthCode               Citizenship               EmploymentStatus\n",
       " Min.   : 57.00     Citizen, Native     :116639   Disabled          : 5712  \n",
       " 1st Qu.: 57.00     Citizen, Naturalized:  7073   Employed          :61733  \n",
       " Median : 57.00     Non-Citizen         :  7590   Not in Labor Force:15246  \n",
       " Mean   : 82.68                                   Retired           :18619  \n",
       " 3rd Qu.: 57.00                                   Unemployed        : 4203  \n",
       " Max.   :555.00                                   NA's              :25789  \n",
       "                                                                            \n",
       "                               Industry    \n",
       " Educational and health services   :15017  \n",
       " Trade                             : 8933  \n",
       " Professional and business services: 7519  \n",
       " Manufacturing                     : 6791  \n",
       " Leisure and hospitality           : 6364  \n",
       " (Other)                           :21618  \n",
       " NA's                              :65060  "
      ]
     },
     "metadata": {},
     "output_type": "display_data"
    }
   ],
   "source": [
    "CPS <- read.csv('CPSData.csv')\n",
    "\n",
    "str(CPS)\n",
    "\n",
    "summary(CPS)"
   ]
  },
  {
   "cell_type": "markdown",
   "metadata": {},
   "source": [
    "#### Problem 1.2 - Loading and Summarizing the Dataset\n",
    "\n",
    "Among the interviewees with a value reported for the Industry variable, what is the most common industry of employment? Please enter the name exactly how you see it."
   ]
  },
  {
   "cell_type": "code",
   "execution_count": null,
   "metadata": {
    "collapsed": true
   },
   "outputs": [],
   "source": [
    "Educational and health services"
   ]
  },
  {
   "cell_type": "markdown",
   "metadata": {},
   "source": [
    "#### Problem 1.3 - Loading and Summarizing the Dataset\n",
    "\n",
    "Recall from the homework assignment \"The Analytical Detective\" that you can call the sort() function on the output of the table() function to obtain a sorted breakdown of a variable. For instance, sort(table(CPS$Region)) sorts the regions by the number of interviewees from that region.\n",
    "\n",
    "Which state has the fewest interviewees?"
   ]
  },
  {
   "cell_type": "code",
   "execution_count": 4,
   "metadata": {},
   "outputs": [
    {
     "data": {
      "text/plain": [
       "\n",
       "          California                Texas             New York \n",
       "               11570                 7077                 5595 \n",
       "             Florida         Pennsylvania             Illinois \n",
       "                5149                 3930                 3912 \n",
       "                Ohio             Maryland            Minnesota \n",
       "                3678                 3200                 3139 \n",
       "            Michigan             Virginia             Colorado \n",
       "                3063                 2953                 2925 \n",
       "         Connecticut              Georgia            Wisconsin \n",
       "                2836                 2807                 2686 \n",
       "       New Hampshire       North Carolina           New Jersey \n",
       "                2662                 2619                 2567 \n",
       "                Iowa           Washington                Maine \n",
       "                2528                 2366                 2263 \n",
       "            Delaware         Rhode Island             Missouri \n",
       "                2214                 2209                 2145 \n",
       "              Hawaii              Indiana         South Dakota \n",
       "                2099                 2004                 2000 \n",
       "       Massachusetts             Nebraska               Oregon \n",
       "                1987                 1949                 1943 \n",
       "              Kansas              Vermont               Nevada \n",
       "                1935                 1890                 1856 \n",
       "                Utah             Kentucky District of Columbia \n",
       "                1842                 1841                 1791 \n",
       "           Tennessee       South Carolina         North Dakota \n",
       "                1784                 1658                 1645 \n",
       "             Wyoming               Alaska              Arizona \n",
       "                1624                 1590                 1528 \n",
       "            Oklahoma                Idaho            Louisiana \n",
       "                1523                 1518                 1450 \n",
       "            Arkansas        West Virginia              Alabama \n",
       "                1421                 1409                 1376 \n",
       "         Mississippi              Montana           New Mexico \n",
       "                1230                 1214                 1102 "
      ]
     },
     "metadata": {},
     "output_type": "display_data"
    }
   ],
   "source": [
    "sort(table(CPS$State), decreasing = T)"
   ]
  },
  {
   "cell_type": "code",
   "execution_count": null,
   "metadata": {
    "collapsed": true
   },
   "outputs": [],
   "source": []
  },
  {
   "cell_type": "markdown",
   "metadata": {},
   "source": [
    "Which state has the largest number of interviewees?"
   ]
  },
  {
   "cell_type": "code",
   "execution_count": 5,
   "metadata": {},
   "outputs": [
    {
     "data": {
      "text/html": [
       "<strong>California:</strong> 11570"
      ],
      "text/latex": [
       "\\textbf{California:} 11570"
      ],
      "text/markdown": [
       "**California:** 11570"
      ],
      "text/plain": [
       "California \n",
       "     11570 "
      ]
     },
     "metadata": {},
     "output_type": "display_data"
    }
   ],
   "source": [
    "sort(table(CPS$State), decreasing = T)[1]"
   ]
  },
  {
   "cell_type": "markdown",
   "metadata": {},
   "source": [
    "#### Problem 1.4 - Loading and Summarizing the Dataset\n",
    "\n",
    "What proportion of interviewees are citizens of the United States?"
   ]
  },
  {
   "cell_type": "code",
   "execution_count": 20,
   "metadata": {
    "scrolled": true
   },
   "outputs": [
    {
     "data": {
      "text/plain": [
       "\n",
       "     Citizen, Native Citizen, Naturalized          Non-Citizen \n",
       "          0.88832615           0.05386818           0.05780567 "
      ]
     },
     "metadata": {},
     "output_type": "display_data"
    }
   ],
   "source": [
    "table(CPS$Citizenship)/nrow(CPS)"
   ]
  },
  {
   "cell_type": "code",
   "execution_count": 21,
   "metadata": {},
   "outputs": [
    {
     "data": {
      "text/plain": [
       "\n",
       "     FALSE       TRUE \n",
       "0.05780567 0.94219433 "
      ]
     },
     "metadata": {},
     "output_type": "display_data"
    }
   ],
   "source": [
    "1 - table(CPS$Citizenship=='Non-Citizen')/nrow(CPS)"
   ]
  },
  {
   "cell_type": "code",
   "execution_count": 22,
   "metadata": {},
   "outputs": [
    {
     "data": {
      "text/plain": [
       "\n",
       " FALSE   TRUE \n",
       "123712   7590 "
      ]
     },
     "metadata": {},
     "output_type": "display_data"
    }
   ],
   "source": [
    "table(CPS$Citizenship=='Non-Citizen')"
   ]
  },
  {
   "cell_type": "markdown",
   "metadata": {},
   "source": [
    "#### Problem 1.5 - Loading and Summarizing the Dataset\n",
    "\n",
    "The CPS differentiates between race (with possible values American Indian, Asian, Black, Pacific Islander, White, or Multiracial) and ethnicity. A number of interviewees are of Hispanic ethnicity, as captured by the Hispanic variable. For which races are there at least 250 interviewees in the CPS dataset of Hispanic ethnicity? (Select all that apply.)"
   ]
  },
  {
   "cell_type": "code",
   "execution_count": 24,
   "metadata": {},
   "outputs": [
    {
     "data": {
      "text/plain": [
       "   \n",
       "    American Indian Asian Black Multiracial Pacific Islander White\n",
       "  0            1129  6407 13292        2449              541 89190\n",
       "  1             304   113   621         448               77 16731"
      ]
     },
     "metadata": {},
     "output_type": "display_data"
    }
   ],
   "source": [
    "table(CPS$Hispanic, CPS$Race)"
   ]
  },
  {
   "cell_type": "code",
   "execution_count": 28,
   "metadata": {},
   "outputs": [
    {
     "data": {
      "text/html": [
       "<table>\n",
       "<thead><tr><th></th><th scope=col>American Indian</th><th scope=col>Asian</th><th scope=col>Black</th><th scope=col>Multiracial</th><th scope=col>Pacific Islander</th><th scope=col>White</th></tr></thead>\n",
       "<tbody>\n",
       "\t<tr><th scope=row>0</th><td>TRUE </td><td> TRUE</td><td>TRUE </td><td>TRUE </td><td> TRUE</td><td>TRUE </td></tr>\n",
       "\t<tr><th scope=row>1</th><td>TRUE </td><td>FALSE</td><td>TRUE </td><td>TRUE </td><td>FALSE</td><td>TRUE </td></tr>\n",
       "</tbody>\n",
       "</table>\n"
      ],
      "text/latex": [
       "\\begin{tabular}{r|llllll}\n",
       "  & American Indian & Asian & Black & Multiracial & Pacific Islander & White\\\\\n",
       "\\hline\n",
       "\t0 & TRUE  &  TRUE & TRUE  & TRUE  &  TRUE & TRUE \\\\\n",
       "\t1 & TRUE  & FALSE & TRUE  & TRUE  & FALSE & TRUE \\\\\n",
       "\\end{tabular}\n"
      ],
      "text/markdown": [
       "1. TRUE\n",
       "2. TRUE\n",
       "3. TRUE\n",
       "4. FALSE\n",
       "5. TRUE\n",
       "6. TRUE\n",
       "7. TRUE\n",
       "8. TRUE\n",
       "9. TRUE\n",
       "10. FALSE\n",
       "11. TRUE\n",
       "12. TRUE\n",
       "\n",
       "\n"
      ],
      "text/plain": [
       "   \n",
       "    American Indian Asian Black Multiracial Pacific Islander White\n",
       "  0 TRUE             TRUE TRUE  TRUE         TRUE            TRUE \n",
       "  1 TRUE            FALSE TRUE  TRUE        FALSE            TRUE "
      ]
     },
     "metadata": {},
     "output_type": "display_data"
    }
   ],
   "source": [
    "table(CPS$Hispanic, CPS$Race) > 250"
   ]
  },
  {
   "cell_type": "markdown",
   "metadata": {},
   "source": [
    "#### Problem 2.1 - Evaluating Missing Values\n",
    "\n",
    "Which variables have at least one interviewee with a missing (NA) value? (Select all that apply.)"
   ]
  },
  {
   "cell_type": "code",
   "execution_count": 35,
   "metadata": {},
   "outputs": [
    {
     "data": {
      "text/html": [
       "<dl class=dl-horizontal>\n",
       "\t<dt>PeopleInHousehold</dt>\n",
       "\t\t<dd>0</dd>\n",
       "\t<dt>Region</dt>\n",
       "\t\t<dd>0</dd>\n",
       "\t<dt>State</dt>\n",
       "\t\t<dd>0</dd>\n",
       "\t<dt>MetroAreaCode</dt>\n",
       "\t\t<dd>34238</dd>\n",
       "\t<dt>Age</dt>\n",
       "\t\t<dd>0</dd>\n",
       "\t<dt>Married</dt>\n",
       "\t\t<dd>25338</dd>\n",
       "\t<dt>Sex</dt>\n",
       "\t\t<dd>0</dd>\n",
       "\t<dt>Education</dt>\n",
       "\t\t<dd>25338</dd>\n",
       "\t<dt>Race</dt>\n",
       "\t\t<dd>0</dd>\n",
       "\t<dt>Hispanic</dt>\n",
       "\t\t<dd>0</dd>\n",
       "\t<dt>CountryOfBirthCode</dt>\n",
       "\t\t<dd>0</dd>\n",
       "\t<dt>Citizenship</dt>\n",
       "\t\t<dd>0</dd>\n",
       "\t<dt>EmploymentStatus</dt>\n",
       "\t\t<dd>25789</dd>\n",
       "\t<dt>Industry</dt>\n",
       "\t\t<dd>65060</dd>\n",
       "</dl>\n"
      ],
      "text/latex": [
       "\\begin{description*}\n",
       "\\item[PeopleInHousehold] 0\n",
       "\\item[Region] 0\n",
       "\\item[State] 0\n",
       "\\item[MetroAreaCode] 34238\n",
       "\\item[Age] 0\n",
       "\\item[Married] 25338\n",
       "\\item[Sex] 0\n",
       "\\item[Education] 25338\n",
       "\\item[Race] 0\n",
       "\\item[Hispanic] 0\n",
       "\\item[CountryOfBirthCode] 0\n",
       "\\item[Citizenship] 0\n",
       "\\item[EmploymentStatus] 25789\n",
       "\\item[Industry] 65060\n",
       "\\end{description*}\n"
      ],
      "text/markdown": [
       "PeopleInHousehold\n",
       ":   0Region\n",
       ":   0State\n",
       ":   0MetroAreaCode\n",
       ":   34238Age\n",
       ":   0Married\n",
       ":   25338Sex\n",
       ":   0Education\n",
       ":   25338Race\n",
       ":   0Hispanic\n",
       ":   0CountryOfBirthCode\n",
       ":   0Citizenship\n",
       ":   0EmploymentStatus\n",
       ":   25789Industry\n",
       ":   65060\n",
       "\n"
      ],
      "text/plain": [
       " PeopleInHousehold             Region              State      MetroAreaCode \n",
       "                 0                  0                  0              34238 \n",
       "               Age            Married                Sex          Education \n",
       "                 0              25338                  0              25338 \n",
       "              Race           Hispanic CountryOfBirthCode        Citizenship \n",
       "                 0                  0                  0                  0 \n",
       "  EmploymentStatus           Industry \n",
       "             25789              65060 "
      ]
     },
     "metadata": {},
     "output_type": "display_data"
    }
   ],
   "source": [
    "apply(CPS, 2, function(col) sum(is.na(col)))"
   ]
  },
  {
   "cell_type": "markdown",
   "metadata": {},
   "source": [
    "#### Problem 2.2 - Evaluating Missing Values\n",
    "\n",
    "Often when evaluating a new dataset, we try to identify if there is a pattern in the missing values in the dataset. We will try to determine if there is a pattern in the missing values of the Married variable. The function is.na(CPS$Married) returns a vector of TRUE/FALSE values for whether the Married variable is missing. We can see the breakdown of whether Married is missing based on the reported value of the Region variable with the function table(CPS$Region, is.na(CPS$Married)). Which is the most accurate:"
   ]
  },
  {
   "cell_type": "code",
   "execution_count": 36,
   "metadata": {
    "scrolled": true
   },
   "outputs": [
    {
     "data": {
      "text/plain": [
       "           \n",
       "            FALSE  TRUE\n",
       "  Midwest   24609  6075\n",
       "  Northeast 21432  4507\n",
       "  South     33535  7967\n",
       "  West      26388  6789"
      ]
     },
     "metadata": {},
     "output_type": "display_data"
    }
   ],
   "source": [
    "table(CPS$Region, is.na(CPS$Married))"
   ]
  },
  {
   "cell_type": "code",
   "execution_count": 53,
   "metadata": {},
   "outputs": [
    {
     "data": {
      "image/png": "[encoded data removed]",
      "text/plain": [
       "plot without title"
      ]
     },
     "metadata": {},
     "output_type": "display_data"
    }
   ],
   "source": [
    "barplot(prop.table(table(is.na(CPS$Married), CPS$Region),margin=2 )  )"
   ]
  },
  {
   "cell_type": "code",
   "execution_count": 55,
   "metadata": {},
   "outputs": [
    {
     "data": {
      "text/plain": [
       "        \n",
       "         FALSE  TRUE\n",
       "  Female 55264 12217\n",
       "  Male   50700 13121"
      ]
     },
     "metadata": {},
     "output_type": "display_data"
    },
    {
     "data": {
      "image/png": "[encoded data removed]",
      "text/plain": [
       "plot without title"
      ]
     },
     "metadata": {},
     "output_type": "display_data"
    }
   ],
   "source": [
    "table(CPS$Sex, is.na(CPS$Married))\n",
    "barplot(prop.table(table(is.na(CPS$Married), CPS$Sex),margin=2 )  )"
   ]
  },
  {
   "cell_type": "code",
   "execution_count": 60,
   "metadata": {
    "scrolled": false
   },
   "outputs": [
    {
     "data": {
      "text/plain": [
       "    \n",
       "     FALSE TRUE\n",
       "  0      0 1283\n",
       "  1      0 1559\n",
       "  2      0 1574\n",
       "  3      0 1693\n",
       "  4      0 1695\n",
       "  5      0 1795\n",
       "  6      0 1721\n",
       "  7      0 1681\n",
       "  8      0 1729\n",
       "  9      0 1748\n",
       "  10     0 1750\n",
       "  11     0 1721\n",
       "  12     0 1797\n",
       "  13     0 1802\n",
       "  14     0 1790\n",
       "  15  1795    0\n",
       "  16  1751    0\n",
       "  17  1764    0\n",
       "  18  1596    0\n",
       "  19  1517    0\n",
       "  20  1398    0\n",
       "  21  1525    0\n",
       "  22  1536    0\n",
       "  23  1638    0\n",
       "  24  1627    0\n",
       "  25  1604    0\n",
       "  26  1643    0\n",
       "  27  1657    0\n",
       "  28  1736    0\n",
       "  29  1645    0\n",
       "  30  1854    0\n",
       "  31  1762    0\n",
       "  32  1790    0\n",
       "  33  1804    0\n",
       "  34  1653    0\n",
       "  35  1716    0\n",
       "  36  1663    0\n",
       "  37  1531    0\n",
       "  38  1530    0\n",
       "  39  1542    0\n",
       "  40  1571    0\n",
       "  41  1673    0\n",
       "  42  1711    0\n",
       "  43  1819    0\n",
       "  44  1764    0\n",
       "  45  1749    0\n",
       "  46  1665    0\n",
       "  47  1647    0\n",
       "  48  1791    0\n",
       "  49  1989    0\n",
       "  50  1966    0\n",
       "  51  1931    0\n",
       "  52  1935    0\n",
       "  53  1994    0\n",
       "  54  1912    0\n",
       "  55  1895    0\n",
       "  56  1935    0\n",
       "  57  1827    0\n",
       "  58  1874    0\n",
       "  59  1758    0\n",
       "  60  1746    0\n",
       "  61  1735    0\n",
       "  62  1595    0\n",
       "  63  1596    0\n",
       "  64  1519    0\n",
       "  65  1569    0\n",
       "  66  1577    0\n",
       "  67  1227    0\n",
       "  68  1130    0\n",
       "  69  1062    0\n",
       "  70  1195    0\n",
       "  71  1031    0\n",
       "  72   941    0\n",
       "  73   896    0\n",
       "  74   842    0\n",
       "  75   763    0\n",
       "  76   729    0\n",
       "  77   698    0\n",
       "  78   659    0\n",
       "  79   661    0\n",
       "  80  2664    0\n",
       "  85  2446    0"
      ]
     },
     "metadata": {},
     "output_type": "display_data"
    }
   ],
   "source": [
    "table(CPS$Age, is.na(CPS$Married))\n"
   ]
  },
  {
   "cell_type": "code",
   "execution_count": 62,
   "metadata": {},
   "outputs": [
    {
     "data": {
      "text/plain": [
       "       \n",
       "         FALSE   TRUE\n",
       "  FALSE      0  25338\n",
       "  TRUE  105964      0"
      ]
     },
     "metadata": {},
     "output_type": "display_data"
    }
   ],
   "source": [
    "table(CPS$Age >14, is.na(CPS$Married))"
   ]
  },
  {
   "cell_type": "code",
   "execution_count": 63,
   "metadata": {},
   "outputs": [
    {
     "data": {
      "image/png": "[encoded data removed]",
      "text/plain": [
       "plot without title"
      ]
     },
     "metadata": {},
     "output_type": "display_data"
    }
   ],
   "source": [
    "barplot(prop.table(table(is.na(CPS$Married), CPS$Age >14),margin=2 )  )"
   ]
  },
  {
   "cell_type": "code",
   "execution_count": 61,
   "metadata": {},
   "outputs": [
    {
     "data": {
      "text/plain": [
       "                      \n",
       "                       FALSE  TRUE\n",
       "  Citizen, Native      91956 24683\n",
       "  Citizen, Naturalized  6910   163\n",
       "  Non-Citizen           7098   492"
      ]
     },
     "metadata": {},
     "output_type": "display_data"
    },
    {
     "data": {
      "image/png": "[encoded data removed]",
      "text/plain": [
       "plot without title"
      ]
     },
     "metadata": {},
     "output_type": "display_data"
    }
   ],
   "source": [
    "table(CPS$Citizenship, is.na(CPS$Married))\n",
    "barplot(prop.table(table(is.na(CPS$Married), CPS$Citizenship),margin=2 )  )"
   ]
  },
  {
   "cell_type": "markdown",
   "metadata": {},
   "source": [
    "#### Problem 2.3 - Evaluating Missing Values\n",
    "\n",
    "As mentioned in the variable descriptions, MetroAreaCode is missing if an interviewee does not live in a metropolitan area. Using the same technique as in the previous question, answer the following questions about people who live in non-metropolitan areas.\n",
    "\n",
    "How many states had all interviewees living in a non-metropolitan area (aka they have a missing MetroAreaCode value)? For this question, treat the District of Columbia as a state (even though it is not technically a state)."
   ]
  },
  {
   "cell_type": "code",
   "execution_count": 66,
   "metadata": {},
   "outputs": [
    {
     "data": {
      "text/plain": [
       "                      \n",
       "                       FALSE  TRUE\n",
       "  Alabama               1020   356\n",
       "  Alaska                   0  1590\n",
       "  Arizona               1327   201\n",
       "  Arkansas               724   697\n",
       "  California           11333   237\n",
       "  Colorado              2545   380\n",
       "  Connecticut           2593   243\n",
       "  Delaware              1696   518\n",
       "  District of Columbia  1791     0\n",
       "  Florida               4947   202\n",
       "  Georgia               2250   557\n",
       "  Hawaii                1576   523\n",
       "  Idaho                  761   757\n",
       "  Illinois              3473   439\n",
       "  Indiana               1420   584\n",
       "  Iowa                  1297  1231\n",
       "  Kansas                1234   701\n",
       "  Kentucky               908   933\n",
       "  Louisiana             1216   234\n",
       "  Maine                  909  1354\n",
       "  Maryland              2978   222\n",
       "  Massachusetts         1858   129\n",
       "  Michigan              2517   546\n",
       "  Minnesota             2150   989\n",
       "  Mississippi            376   854\n",
       "  Missouri              1440   705\n",
       "  Montana                199  1015\n",
       "  Nebraska               816  1133\n",
       "  Nevada                1609   247\n",
       "  New Hampshire         1148  1514\n",
       "  New Jersey            2567     0\n",
       "  New Mexico             832   270\n",
       "  New York              5144   451\n",
       "  North Carolina        1642   977\n",
       "  North Dakota           432  1213\n",
       "  Ohio                  2754   924\n",
       "  Oklahoma              1024   499\n",
       "  Oregon                1519   424\n",
       "  Pennsylvania          3245   685\n",
       "  Rhode Island          2209     0\n",
       "  South Carolina        1139   519\n",
       "  South Dakota           595  1405\n",
       "  Tennessee             1149   635\n",
       "  Texas                 6060  1017\n",
       "  Utah                  1455   387\n",
       "  Vermont                657  1233\n",
       "  Virginia              2367   586\n",
       "  Washington            1937   429\n",
       "  West Virginia          344  1065\n",
       "  Wisconsin             1882   804\n",
       "  Wyoming                  0  1624"
      ]
     },
     "metadata": {},
     "output_type": "display_data"
    }
   ],
   "source": [
    "table(CPS$State , is.na(CPS$MetroAreaCode))"
   ]
  },
  {
   "cell_type": "markdown",
   "metadata": {},
   "source": [
    "How many states had all interviewees living in a metropolitan area? Again, treat the District of Columbia as a state."
   ]
  },
  {
   "cell_type": "code",
   "execution_count": null,
   "metadata": {
    "collapsed": true
   },
   "outputs": [],
   "source": []
  },
  {
   "cell_type": "markdown",
   "metadata": {},
   "source": [
    "#### Problem 2.4 - Evaluating Missing Values\n",
    "\n",
    "Which region of the United States has the largest proportion of interviewees living in a non-metropolitan area?"
   ]
  },
  {
   "cell_type": "code",
   "execution_count": 69,
   "metadata": {},
   "outputs": [
    {
     "data": {
      "text/plain": [
       "           \n",
       "                FALSE      TRUE\n",
       "  Midwest   0.6521314 0.3478686\n",
       "  Northeast 0.7837619 0.2162381\n",
       "  South     0.7621560 0.2378440\n",
       "  West      0.7563372 0.2436628"
      ]
     },
     "metadata": {},
     "output_type": "display_data"
    }
   ],
   "source": [
    "prop.table(table(CPS$Region , is.na(CPS$MetroAreaCode)), margin=1 )"
   ]
  },
  {
   "cell_type": "markdown",
   "metadata": {},
   "source": [
    "#### Problem 2.5 - Evaluating Missing Values\n",
    "\n",
    "While we were able to use the table() command to compute the proportion of interviewees from each region not living in a metropolitan area, it was somewhat tedious (it involved manually computing the proportion for each region) and isn't something you would want to do if there were a larger number of options. It turns out there is a less tedious way to compute the proportion of values that are TRUE. The mean() function, which takes the average of the values passed to it, will treat TRUE as 1 and FALSE as 0, meaning it returns the proportion of values that are true. For instance, mean(c(TRUE, FALSE, TRUE, TRUE)) returns 0.75. Knowing this, use tapply() with the mean function to answer the following questions:\n",
    "\n",
    "Which state has a proportion of interviewees living in a non-metropolitan area closest to 30%?"
   ]
  },
  {
   "cell_type": "code",
   "execution_count": 70,
   "metadata": {},
   "outputs": [
    {
     "data": {
      "text/html": [
       "<dl class=dl-horizontal>\n",
       "\t<dt>Alabama</dt>\n",
       "\t\t<dd>0.258720930232558</dd>\n",
       "\t<dt>Alaska</dt>\n",
       "\t\t<dd>1</dd>\n",
       "\t<dt>Arizona</dt>\n",
       "\t\t<dd>0.131544502617801</dd>\n",
       "\t<dt>Arkansas</dt>\n",
       "\t\t<dd>0.490499648135116</dd>\n",
       "\t<dt>California</dt>\n",
       "\t\t<dd>0.0204840103716508</dd>\n",
       "\t<dt>Colorado</dt>\n",
       "\t\t<dd>0.12991452991453</dd>\n",
       "\t<dt>Connecticut</dt>\n",
       "\t\t<dd>0.0856840620592384</dd>\n",
       "\t<dt>Delaware</dt>\n",
       "\t\t<dd>0.233965672990063</dd>\n",
       "\t<dt>District of Columbia</dt>\n",
       "\t\t<dd>0</dd>\n",
       "\t<dt>Florida</dt>\n",
       "\t\t<dd>0.0392309186249757</dd>\n",
       "\t<dt>Georgia</dt>\n",
       "\t\t<dd>0.198432490203064</dd>\n",
       "\t<dt>Hawaii</dt>\n",
       "\t\t<dd>0.249166269652215</dd>\n",
       "\t<dt>Idaho</dt>\n",
       "\t\t<dd>0.498682476943346</dd>\n",
       "\t<dt>Illinois</dt>\n",
       "\t\t<dd>0.11221881390593</dd>\n",
       "\t<dt>Indiana</dt>\n",
       "\t\t<dd>0.291417165668663</dd>\n",
       "\t<dt>Iowa</dt>\n",
       "\t\t<dd>0.486946202531646</dd>\n",
       "\t<dt>Kansas</dt>\n",
       "\t\t<dd>0.362273901808786</dd>\n",
       "\t<dt>Kentucky</dt>\n",
       "\t\t<dd>0.506789788158609</dd>\n",
       "\t<dt>Louisiana</dt>\n",
       "\t\t<dd>0.161379310344828</dd>\n",
       "\t<dt>Maine</dt>\n",
       "\t\t<dd>0.598320813079982</dd>\n",
       "\t<dt>Maryland</dt>\n",
       "\t\t<dd>0.069375</dd>\n",
       "\t<dt>Massachusetts</dt>\n",
       "\t\t<dd>0.0649219929542023</dd>\n",
       "\t<dt>Michigan</dt>\n",
       "\t\t<dd>0.178256611165524</dd>\n",
       "\t<dt>Minnesota</dt>\n",
       "\t\t<dd>0.315068493150685</dd>\n",
       "\t<dt>Mississippi</dt>\n",
       "\t\t<dd>0.694308943089431</dd>\n",
       "\t<dt>Missouri</dt>\n",
       "\t\t<dd>0.328671328671329</dd>\n",
       "\t<dt>Montana</dt>\n",
       "\t\t<dd>0.836079077429984</dd>\n",
       "\t<dt>Nebraska</dt>\n",
       "\t\t<dd>0.581323755772191</dd>\n",
       "\t<dt>Nevada</dt>\n",
       "\t\t<dd>0.133081896551724</dd>\n",
       "\t<dt>New Hampshire</dt>\n",
       "\t\t<dd>0.568745304282494</dd>\n",
       "\t<dt>New Jersey</dt>\n",
       "\t\t<dd>0</dd>\n",
       "\t<dt>New Mexico</dt>\n",
       "\t\t<dd>0.245009074410163</dd>\n",
       "\t<dt>New York</dt>\n",
       "\t\t<dd>0.0806076854334227</dd>\n",
       "\t<dt>North Carolina</dt>\n",
       "\t\t<dd>0.373043146239023</dd>\n",
       "\t<dt>North Dakota</dt>\n",
       "\t\t<dd>0.737386018237082</dd>\n",
       "\t<dt>Ohio</dt>\n",
       "\t\t<dd>0.251223491027732</dd>\n",
       "\t<dt>Oklahoma</dt>\n",
       "\t\t<dd>0.327642810242942</dd>\n",
       "\t<dt>Oregon</dt>\n",
       "\t\t<dd>0.218219248584663</dd>\n",
       "\t<dt>Pennsylvania</dt>\n",
       "\t\t<dd>0.174300254452926</dd>\n",
       "\t<dt>Rhode Island</dt>\n",
       "\t\t<dd>0</dd>\n",
       "\t<dt>South Carolina</dt>\n",
       "\t\t<dd>0.313027744270205</dd>\n",
       "\t<dt>South Dakota</dt>\n",
       "\t\t<dd>0.7025</dd>\n",
       "\t<dt>Tennessee</dt>\n",
       "\t\t<dd>0.355941704035874</dd>\n",
       "\t<dt>Texas</dt>\n",
       "\t\t<dd>0.143704959728699</dd>\n",
       "\t<dt>Utah</dt>\n",
       "\t\t<dd>0.210097719869707</dd>\n",
       "\t<dt>Vermont</dt>\n",
       "\t\t<dd>0.652380952380952</dd>\n",
       "\t<dt>Virginia</dt>\n",
       "\t\t<dd>0.198442262106333</dd>\n",
       "\t<dt>Washington</dt>\n",
       "\t\t<dd>0.181318681318681</dd>\n",
       "\t<dt>West Virginia</dt>\n",
       "\t\t<dd>0.755855216465578</dd>\n",
       "\t<dt>Wisconsin</dt>\n",
       "\t\t<dd>0.299329858525689</dd>\n",
       "\t<dt>Wyoming</dt>\n",
       "\t\t<dd>1</dd>\n",
       "</dl>\n"
      ],
      "text/plain": [
       "             Alabama               Alaska              Arizona \n",
       "          0.25872093           1.00000000           0.13154450 \n",
       "            Arkansas           California             Colorado \n",
       "          0.49049965           0.02048401           0.12991453 \n",
       "         Connecticut             Delaware District of Columbia \n",
       "          0.08568406           0.23396567           0.00000000 \n",
       "             Florida              Georgia               Hawaii \n",
       "          0.03923092           0.19843249           0.24916627 \n",
       "               Idaho             Illinois              Indiana \n",
       "          0.49868248           0.11221881           0.29141717 \n",
       "                Iowa               Kansas             Kentucky \n",
       "          0.48694620           0.36227390           0.50678979 \n",
       "           Louisiana                Maine             Maryland \n",
       "          0.16137931           0.59832081           0.06937500 \n",
       "       Massachusetts             Michigan            Minnesota \n",
       "          0.06492199           0.17825661           0.31506849 \n",
       "         Mississippi             Missouri              Montana \n",
       "          0.69430894           0.32867133           0.83607908 \n",
       "            Nebraska               Nevada        New Hampshire \n",
       "          0.58132376           0.13308190           0.56874530 \n",
       "          New Jersey           New Mexico             New York \n",
       "          0.00000000           0.24500907           0.08060769 \n",
       "      North Carolina         North Dakota                 Ohio \n",
       "          0.37304315           0.73738602           0.25122349 \n",
       "            Oklahoma               Oregon         Pennsylvania \n",
       "          0.32764281           0.21821925           0.17430025 \n",
       "        Rhode Island       South Carolina         South Dakota \n",
       "          0.00000000           0.31302774           0.70250000 \n",
       "           Tennessee                Texas                 Utah \n",
       "          0.35594170           0.14370496           0.21009772 \n",
       "             Vermont             Virginia           Washington \n",
       "          0.65238095           0.19844226           0.18131868 \n",
       "       West Virginia            Wisconsin              Wyoming \n",
       "          0.75585522           0.29932986           1.00000000 "
      ]
     },
     "metadata": {},
     "output_type": "display_data"
    }
   ],
   "source": [
    "tapply(is.na(CPS$MetroAreaCode) , CPS$State, mean )"
   ]
  },
  {
   "cell_type": "markdown",
   "metadata": {},
   "source": [
    "Which state has the largest proportion of non-metropolitan interviewees, ignoring states where all interviewees were non-metropolitan?"
   ]
  },
  {
   "cell_type": "code",
   "execution_count": null,
   "metadata": {
    "collapsed": true
   },
   "outputs": [],
   "source": []
  },
  {
   "cell_type": "markdown",
   "metadata": {},
   "source": [
    "#### Problem 3.1 - Integrating Metropolitan Area Data\n",
    "\n",
    "Codes like MetroAreaCode and CountryOfBirthCode are a compact way to encode factor variables with text as their possible values, and they are therefore quite common in survey datasets. In fact, all but one of the variables in this dataset were actually stored by a numeric code in the original CPS datafile.\n",
    "\n",
    "When analyzing a variable stored by a numeric code, we will often want to convert it into the values the codes represent. To do this, we will use a dictionary, which maps the the code to the actual value of the variable. We have provided dictionaries MetroAreaCodes.csv and CountryCodes.csv, which respectively map MetroAreaCode and CountryOfBirthCode into their true values. Read these two dictionaries into data frames MetroAreaMap and CountryMap.\n",
    "\n",
    "How many observations (codes for metropolitan areas) are there in MetroAreaMap?"
   ]
  },
  {
   "cell_type": "code",
   "execution_count": 71,
   "metadata": {},
   "outputs": [
    {
     "name": "stdout",
     "output_type": "stream",
     "text": [
      "'data.frame':\t271 obs. of  2 variables:\n",
      " $ Code     : int  460 3000 3160 3610 3720 6450 10420 10500 10580 10740 ...\n",
      " $ MetroArea: Factor w/ 271 levels \"Akron, OH\",\"Albany-Schenectady-Troy, NY\",..: 12 92 97 117 122 195 1 3 2 4 ...\n"
     ]
    }
   ],
   "source": [
    "MetroAreaMap <- read.csv('MetroAreaCodes.csv')\n",
    "str(MetroAreaMap)"
   ]
  },
  {
   "cell_type": "markdown",
   "metadata": {},
   "source": [
    "How many observations (codes for countries) are there in CountryMap?"
   ]
  },
  {
   "cell_type": "code",
   "execution_count": 72,
   "metadata": {},
   "outputs": [
    {
     "name": "stdout",
     "output_type": "stream",
     "text": [
      "'data.frame':\t149 obs. of  2 variables:\n",
      " $ Code   : int  57 66 73 78 96 100 102 103 104 105 ...\n",
      " $ Country: Factor w/ 149 levels \"Afghanistan\",..: 139 57 105 135 97 3 11 18 24 37 ...\n"
     ]
    }
   ],
   "source": [
    "CountryMap <- read.csv('CountryCodes.csv')\n",
    "str(CountryMap)"
   ]
  },
  {
   "cell_type": "markdown",
   "metadata": {},
   "source": [
    "#### Problem 3.2 - Integrating Metropolitan Area Data\n",
    "\n",
    "To merge in the metropolitan areas, we want to connect the field MetroAreaCode from the CPS data frame with the field Code in MetroAreaMap. The following command merges the two data frames on these columns, overwriting the CPS data frame with the result:\n",
    "\n",
    "CPS = merge(CPS, MetroAreaMap, by.x=\"MetroAreaCode\", by.y=\"Code\", all.x=TRUE)\n",
    "\n",
    "The first two arguments determine the data frames to be merged (they are called \"x\" and \"y\", respectively, in the subsequent parameters to the merge function). by.x=\"MetroAreaCode\" means we're matching on the MetroAreaCode variable from the \"x\" data frame (CPS), while by.y=\"Code\" means we're matching on the Code variable from the \"y\" data frame (MetroAreaMap). Finally, all.x=TRUE means we want to keep all rows from the \"x\" data frame (CPS), even if some of the rows' MetroAreaCode doesn't match any codes in MetroAreaMap (for those familiar with database terminology, this parameter makes the operation a left outer join instead of an inner join).\n",
    "\n",
    "Review the new version of the CPS data frame with the summary() and str() functions. What is the name of the variable that was added to the data frame by the merge() operation?"
   ]
  },
  {
   "cell_type": "code",
   "execution_count": 73,
   "metadata": {
    "collapsed": true
   },
   "outputs": [],
   "source": [
    "CPS = merge(CPS, MetroAreaMap, by.x=\"MetroAreaCode\", by.y=\"Code\", all.x=TRUE)\n",
    "\n"
   ]
  },
  {
   "cell_type": "code",
   "execution_count": 74,
   "metadata": {},
   "outputs": [
    {
     "data": {
      "text/plain": [
       " MetroAreaCode   PeopleInHousehold       Region               State      \n",
       " Min.   :10420   Min.   : 1.000    Midwest  :30684   California  :11570  \n",
       " 1st Qu.:21780   1st Qu.: 2.000    Northeast:25939   Texas       : 7077  \n",
       " Median :34740   Median : 3.000    South    :41502   New York    : 5595  \n",
       " Mean   :35075   Mean   : 3.284    West     :33177   Florida     : 5149  \n",
       " 3rd Qu.:41860   3rd Qu.: 4.000                      Pennsylvania: 3930  \n",
       " Max.   :79600   Max.   :15.000                      Illinois    : 3912  \n",
       " NA's   :34238                                       (Other)     :94069  \n",
       "      Age                 Married          Sex       \n",
       " Min.   : 0.00   Divorced     :11151   Female:67481  \n",
       " 1st Qu.:19.00   Married      :55509   Male  :63821  \n",
       " Median :39.00   Never Married:30772                 \n",
       " Mean   :38.83   Separated    : 2027                 \n",
       " 3rd Qu.:57.00   Widowed      : 6505                 \n",
       " Max.   :85.00   NA's         :25338                 \n",
       "                                                     \n",
       "                   Education                   Race           Hispanic     \n",
       " High school            :30906   American Indian :  1433   Min.   :0.0000  \n",
       " Bachelor's degree      :19443   Asian           :  6520   1st Qu.:0.0000  \n",
       " Some college, no degree:18863   Black           : 13913   Median :0.0000  \n",
       " No high school diploma :16095   Multiracial     :  2897   Mean   :0.1393  \n",
       " Associate degree       : 9913   Pacific Islander:   618   3rd Qu.:0.0000  \n",
       " (Other)                :10744   White           :105921   Max.   :1.0000  \n",
       " NA's                   :25338                                             \n",
       " CountryOfBirthCode               Citizenship               EmploymentStatus\n",
       " Min.   : 57.00     Citizen, Native     :116639   Disabled          : 5712  \n",
       " 1st Qu.: 57.00     Citizen, Naturalized:  7073   Employed          :61733  \n",
       " Median : 57.00     Non-Citizen         :  7590   Not in Labor Force:15246  \n",
       " Mean   : 82.68                                   Retired           :18619  \n",
       " 3rd Qu.: 57.00                                   Unemployed        : 4203  \n",
       " Max.   :555.00                                   NA's              :25789  \n",
       "                                                                            \n",
       "                               Industry    \n",
       " Educational and health services   :15017  \n",
       " Trade                             : 8933  \n",
       " Professional and business services: 7519  \n",
       " Manufacturing                     : 6791  \n",
       " Leisure and hospitality           : 6364  \n",
       " (Other)                           :21618  \n",
       " NA's                              :65060  \n",
       "                                              MetroArea    \n",
       " New York-Northern New Jersey-Long Island, NY-NJ-PA: 5409  \n",
       " Washington-Arlington-Alexandria, DC-VA-MD-WV      : 4177  \n",
       " Los Angeles-Long Beach-Santa Ana, CA              : 4102  \n",
       " Philadelphia-Camden-Wilmington, PA-NJ-DE          : 2855  \n",
       " Chicago-Naperville-Joliet, IN-IN-WI               : 2772  \n",
       " (Other)                                           :77749  \n",
       " NA's                                              :34238  "
      ]
     },
     "metadata": {},
     "output_type": "display_data"
    },
    {
     "name": "stdout",
     "output_type": "stream",
     "text": [
      "'data.frame':\t131302 obs. of  15 variables:\n",
      " $ MetroAreaCode     : int  10420 10420 10420 10420 10420 10420 10420 10420 10420 10420 ...\n",
      " $ PeopleInHousehold : int  4 4 2 4 1 3 4 4 2 3 ...\n",
      " $ Region            : Factor w/ 4 levels \"Midwest\",\"Northeast\",..: 1 1 1 1 1 1 1 1 1 1 ...\n",
      " $ State             : Factor w/ 51 levels \"Alabama\",\"Alaska\",..: 36 36 36 36 36 36 36 36 36 36 ...\n",
      " $ Age               : int  2 9 73 40 63 19 30 6 60 32 ...\n",
      " $ Married           : Factor w/ 5 levels \"Divorced\",\"Married\",..: NA NA 2 2 3 3 2 NA 2 2 ...\n",
      " $ Sex               : Factor w/ 2 levels \"Female\",\"Male\": 2 2 1 1 2 1 1 1 1 2 ...\n",
      " $ Education         : Factor w/ 8 levels \"Associate degree\",..: NA NA 8 4 6 4 2 NA 4 4 ...\n",
      " $ Race              : Factor w/ 6 levels \"American Indian\",..: 6 6 6 6 6 6 2 6 6 6 ...\n",
      " $ Hispanic          : int  0 0 0 0 0 0 0 1 0 0 ...\n",
      " $ CountryOfBirthCode: int  57 57 57 362 57 57 203 57 57 57 ...\n",
      " $ Citizenship       : Factor w/ 3 levels \"Citizen, Native\",..: 1 1 1 2 1 1 3 1 1 1 ...\n",
      " $ EmploymentStatus  : Factor w/ 5 levels \"Disabled\",\"Employed\",..: NA NA 4 3 1 2 3 NA 2 2 ...\n",
      " $ Industry          : Factor w/ 14 levels \"Agriculture, forestry, fishing, and hunting\",..: NA NA NA NA NA 7 NA NA 4 13 ...\n",
      " $ MetroArea         : Factor w/ 271 levels \"Akron, OH\",\"Albany-Schenectady-Troy, NY\",..: 1 1 1 1 1 1 1 1 1 1 ...\n"
     ]
    }
   ],
   "source": [
    "summary(CPS)\n",
    "str(CPS)"
   ]
  },
  {
   "cell_type": "markdown",
   "metadata": {},
   "source": [
    "How many interviewees have a missing value for the new metropolitan area variable? Note that all of these interviewees would have been removed from the merged data frame if we did not include the all.x=TRUE parameter."
   ]
  },
  {
   "cell_type": "code",
   "execution_count": null,
   "metadata": {
    "collapsed": true
   },
   "outputs": [],
   "source": []
  },
  {
   "cell_type": "markdown",
   "metadata": {},
   "source": [
    "#### Problem 3.3 - Integrating Metropolitan Area Data\n",
    "\n",
    "Which of the following metropolitan areas has the largest number of interviewees?"
   ]
  },
  {
   "cell_type": "code",
   "execution_count": 77,
   "metadata": {},
   "outputs": [
    {
     "data": {
      "text/plain": [
       "\n",
       "New York-Northern New Jersey-Long Island, NY-NJ-PA \n",
       "                                              5409 \n",
       "      Washington-Arlington-Alexandria, DC-VA-MD-WV \n",
       "                                              4177 \n",
       "              Los Angeles-Long Beach-Santa Ana, CA \n",
       "                                              4102 \n",
       "          Philadelphia-Camden-Wilmington, PA-NJ-DE \n",
       "                                              2855 \n",
       "               Chicago-Naperville-Joliet, IN-IN-WI \n",
       "                                              2772 \n",
       "              Providence-Fall River-Warwick, MA-RI \n",
       "                                              2284 \n",
       "                    Boston-Cambridge-Quincy, MA-NH \n",
       "                                              2229 \n",
       "            Minneapolis-St Paul-Bloomington, MN-WI \n",
       "                                              1942 \n",
       "                   Dallas-Fort Worth-Arlington, TX \n",
       "                                              1863 \n",
       "                    Houston-Baytown-Sugar Land, TX \n",
       "                                              1649 \n",
       "                                      Honolulu, HI \n",
       "                                              1576 \n",
       "             Miami-Fort Lauderdale-Miami Beach, FL \n",
       "                                              1554 \n",
       "                Atlanta-Sandy Springs-Marietta, GA \n",
       "                                              1552 \n",
       "                                 Denver-Aurora, CO \n",
       "                                              1504 \n",
       "                              Baltimore-Towson, MD \n",
       "                                              1483 \n",
       "                 San Francisco-Oakland-Fremont, CA \n",
       "                                              1386 \n",
       "                        Detroit-Warren-Livonia, MI \n",
       "                                              1354 \n",
       "                            Las Vegas-Paradise, NV \n",
       "                                              1299 \n",
       "                      Riverside-San Bernardino, CA \n",
       "                                              1290 \n",
       "                       Seattle-Tacoma-Bellevue, WA \n",
       "                                              1255 "
      ]
     },
     "metadata": {},
     "output_type": "display_data"
    }
   ],
   "source": [
    "head(sort(table(CPS$MetroArea), decreasing = T), 20)"
   ]
  },
  {
   "cell_type": "markdown",
   "metadata": {},
   "source": [
    "#### Problem 3.4 - Integrating Metropolitan Area Data\n",
    "\n",
    "Which metropolitan area has the highest proportion of interviewees of Hispanic ethnicity? Hint: Use tapply() with mean, as in the previous subproblem. Calling sort() on the output of tapply() could also be helpful here."
   ]
  },
  {
   "cell_type": "code",
   "execution_count": 81,
   "metadata": {},
   "outputs": [
    {
     "data": {
      "text/html": [
       "<dl class=dl-horizontal>\n",
       "\t<dt>Laredo, TX</dt>\n",
       "\t\t<dd>0.966292134831461</dd>\n",
       "\t<dt>McAllen-Edinburg-Pharr, TX</dt>\n",
       "\t\t<dd>0.948717948717949</dd>\n",
       "\t<dt>Brownsville-Harlingen, TX</dt>\n",
       "\t\t<dd>0.79746835443038</dd>\n",
       "\t<dt>El Paso, TX</dt>\n",
       "\t\t<dd>0.790983606557377</dd>\n",
       "\t<dt>El Centro, CA</dt>\n",
       "\t\t<dd>0.686868686868687</dd>\n",
       "\t<dt>San Antonio, TX</dt>\n",
       "\t\t<dd>0.644151565074135</dd>\n",
       "\t<dt>Madera, CA</dt>\n",
       "\t\t<dd>0.614035087719298</dd>\n",
       "\t<dt>Corpus Christi, TX</dt>\n",
       "\t\t<dd>0.606060606060606</dd>\n",
       "\t<dt>Merced, CA</dt>\n",
       "\t\t<dd>0.566037735849057</dd>\n",
       "\t<dt>Salinas, CA</dt>\n",
       "\t\t<dd>0.557692307692308</dd>\n",
       "</dl>\n"
      ],
      "text/plain": [
       "                Laredo, TX McAllen-Edinburg-Pharr, TX \n",
       "                 0.9662921                  0.9487179 \n",
       " Brownsville-Harlingen, TX                El Paso, TX \n",
       "                 0.7974684                  0.7909836 \n",
       "             El Centro, CA            San Antonio, TX \n",
       "                 0.6868687                  0.6441516 \n",
       "                Madera, CA         Corpus Christi, TX \n",
       "                 0.6140351                  0.6060606 \n",
       "                Merced, CA                Salinas, CA \n",
       "                 0.5660377                  0.5576923 "
      ]
     },
     "metadata": {},
     "output_type": "display_data"
    }
   ],
   "source": [
    "head(sort(tapply(CPS$Hispanic, CPS$MetroArea, mean), decreasing = T), 10)"
   ]
  },
  {
   "cell_type": "markdown",
   "metadata": {},
   "source": [
    "#### Problem 3.5 - Integrating Metropolitan Area Data\n",
    "\n",
    "Remembering that CPS$Race == \"Asian\" returns a TRUE/FALSE vector of whether an interviewee is Asian, determine the number of metropolitan areas in the United States from which at least 20% of interviewees are Asian."
   ]
  },
  {
   "cell_type": "code",
   "execution_count": 83,
   "metadata": {
    "scrolled": true
   },
   "outputs": [
    {
     "data": {
      "text/html": [
       "<dl class=dl-horizontal>\n",
       "\t<dt>Honolulu, HI</dt>\n",
       "\t\t<dd>0.501903553299492</dd>\n",
       "\t<dt>San Francisco-Oakland-Fremont, CA</dt>\n",
       "\t\t<dd>0.246753246753247</dd>\n",
       "\t<dt>San Jose-Sunnyvale-Santa Clara, CA</dt>\n",
       "\t\t<dd>0.241791044776119</dd>\n",
       "\t<dt>Vallejo-Fairfield, CA</dt>\n",
       "\t\t<dd>0.203007518796992</dd>\n",
       "\t<dt>Fresno, CA</dt>\n",
       "\t\t<dd>0.184818481848185</dd>\n",
       "\t<dt>Warner Robins, GA</dt>\n",
       "\t\t<dd>0.166666666666667</dd>\n",
       "\t<dt>Stockton, CA</dt>\n",
       "\t\t<dd>0.155440414507772</dd>\n",
       "\t<dt>Atlantic City, NJ</dt>\n",
       "\t\t<dd>0.144144144144144</dd>\n",
       "\t<dt>Sacramento-Arden-Arcade-Roseville, CA</dt>\n",
       "\t\t<dd>0.142428785607196</dd>\n",
       "\t<dt>San Diego-Carlsbad-San Marcos, CA</dt>\n",
       "\t\t<dd>0.142227122381477</dd>\n",
       "</dl>\n"
      ],
      "text/plain": [
       "                         Honolulu, HI     San Francisco-Oakland-Fremont, CA \n",
       "                            0.5019036                             0.2467532 \n",
       "   San Jose-Sunnyvale-Santa Clara, CA                 Vallejo-Fairfield, CA \n",
       "                            0.2417910                             0.2030075 \n",
       "                           Fresno, CA                     Warner Robins, GA \n",
       "                            0.1848185                             0.1666667 \n",
       "                         Stockton, CA                     Atlantic City, NJ \n",
       "                            0.1554404                             0.1441441 \n",
       "Sacramento-Arden-Arcade-Roseville, CA     San Diego-Carlsbad-San Marcos, CA \n",
       "                            0.1424288                             0.1422271 "
      ]
     },
     "metadata": {},
     "output_type": "display_data"
    }
   ],
   "source": [
    "head(sort(tapply(CPS$Race == \"Asian\", CPS$MetroArea, mean), decreasing = T), 10)"
   ]
  },
  {
   "cell_type": "code",
   "execution_count": 84,
   "metadata": {},
   "outputs": [
    {
     "data": {
      "text/html": [
       "4"
      ],
      "text/latex": [
       "4"
      ],
      "text/markdown": [
       "4"
      ],
      "text/plain": [
       "[1] 4"
      ]
     },
     "metadata": {},
     "output_type": "display_data"
    }
   ],
   "source": [
    "sum( sort(tapply(CPS$Race == \"Asian\", CPS$MetroArea, mean), decreasing = T) > 0.2)"
   ]
  },
  {
   "cell_type": "markdown",
   "metadata": {},
   "source": [
    "#### Problem 3.6 - Integrating Metropolitan Area Data\n",
    "\n",
    "Normally, we would look at the sorted proportion of interviewees from each metropolitan area who have not received a high school diploma with the command:\n",
    "\n",
    "sort(tapply(CPS$Education == \"No high school diploma\", CPS$MetroArea, mean))\n",
    "\n",
    "However, none of the interviewees aged 14 and younger have an education value reported, so the mean value is reported as NA for each metropolitan area. To get mean (and related functions, like sum) to ignore missing values, you can pass the parameter na.rm=TRUE. Passing na.rm=TRUE to the tapply function, determine which metropolitan area has the smallest proportion of interviewees who have received no high school diploma."
   ]
  },
  {
   "cell_type": "code",
   "execution_count": 86,
   "metadata": {},
   "outputs": [
    {
     "data": {
      "text/html": [
       "<dl class=dl-horizontal>\n",
       "\t<dt>Iowa City, IA</dt>\n",
       "\t\t<dd>0.029126213592233</dd>\n",
       "\t<dt>Bowling Green, KY</dt>\n",
       "\t\t<dd>0.037037037037037</dd>\n",
       "\t<dt>Kalamazoo-Portage, MI</dt>\n",
       "\t\t<dd>0.0505050505050505</dd>\n",
       "\t<dt>Champaign-Urbana, IL</dt>\n",
       "\t\t<dd>0.0515463917525773</dd>\n",
       "\t<dt>Bremerton-Silverdale, WA</dt>\n",
       "\t\t<dd>0.0540540540540541</dd>\n",
       "\t<dt>Lawrence, KS</dt>\n",
       "\t\t<dd>0.0595238095238095</dd>\n",
       "\t<dt>Bloomington-Normal IL</dt>\n",
       "\t\t<dd>0.0606060606060606</dd>\n",
       "\t<dt>Jacksonville, NC</dt>\n",
       "\t\t<dd>0.0612244897959184</dd>\n",
       "\t<dt>Eau Claire, WI</dt>\n",
       "\t\t<dd>0.0625</dd>\n",
       "\t<dt>Palm Bay-Melbourne-Titusville, FL</dt>\n",
       "\t\t<dd>0.0666666666666667</dd>\n",
       "</dl>\n"
      ],
      "text/plain": [
       "                    Iowa City, IA                 Bowling Green, KY \n",
       "                       0.02912621                        0.03703704 \n",
       "            Kalamazoo-Portage, MI              Champaign-Urbana, IL \n",
       "                       0.05050505                        0.05154639 \n",
       "         Bremerton-Silverdale, WA                      Lawrence, KS \n",
       "                       0.05405405                        0.05952381 \n",
       "            Bloomington-Normal IL                  Jacksonville, NC \n",
       "                       0.06060606                        0.06122449 \n",
       "                   Eau Claire, WI Palm Bay-Melbourne-Titusville, FL \n",
       "                       0.06250000                        0.06666667 "
      ]
     },
     "metadata": {},
     "output_type": "display_data"
    }
   ],
   "source": [
    "head(sort(tapply(CPS$Education == \"No high school diploma\", CPS$MetroArea, mean, na.rm=T)), 10)"
   ]
  },
  {
   "cell_type": "markdown",
   "metadata": {},
   "source": [
    "#### Problem 4.1 - Integrating Country of Birth Data\n",
    "\n",
    "Just as we did with the metropolitan area information, merge in the country of birth information from the CountryMap data frame, replacing the CPS data frame with the result. If you accidentally overwrite CPS with the wrong values, remember that you can restore it by re-loading the data frame from CPSData.csv and then merging in the metropolitan area information using the command provided in the previous subproblem.\n",
    "\n",
    "What is the name of the variable added to the CPS data frame by this merge operation?"
   ]
  },
  {
   "cell_type": "code",
   "execution_count": 87,
   "metadata": {},
   "outputs": [
    {
     "name": "stdout",
     "output_type": "stream",
     "text": [
      "'data.frame':\t149 obs. of  2 variables:\n",
      " $ Code   : int  57 66 73 78 96 100 102 103 104 105 ...\n",
      " $ Country: Factor w/ 149 levels \"Afghanistan\",..: 139 57 105 135 97 3 11 18 24 37 ...\n"
     ]
    }
   ],
   "source": [
    "CountryMap <- read.csv('CountryCodes.csv')\n",
    "str(CountryMap)"
   ]
  },
  {
   "cell_type": "code",
   "execution_count": 89,
   "metadata": {},
   "outputs": [
    {
     "name": "stdout",
     "output_type": "stream",
     "text": [
      "'data.frame':\t131302 obs. of  15 variables:\n",
      " $ MetroAreaCode     : int  10420 10420 10420 10420 10420 10420 10420 10420 10420 10420 ...\n",
      " $ PeopleInHousehold : int  4 4 2 4 1 3 4 4 2 3 ...\n",
      " $ Region            : Factor w/ 4 levels \"Midwest\",\"Northeast\",..: 1 1 1 1 1 1 1 1 1 1 ...\n",
      " $ State             : Factor w/ 51 levels \"Alabama\",\"Alaska\",..: 36 36 36 36 36 36 36 36 36 36 ...\n",
      " $ Age               : int  2 9 73 40 63 19 30 6 60 32 ...\n",
      " $ Married           : Factor w/ 5 levels \"Divorced\",\"Married\",..: NA NA 2 2 3 3 2 NA 2 2 ...\n",
      " $ Sex               : Factor w/ 2 levels \"Female\",\"Male\": 2 2 1 1 2 1 1 1 1 2 ...\n",
      " $ Education         : Factor w/ 8 levels \"Associate degree\",..: NA NA 8 4 6 4 2 NA 4 4 ...\n",
      " $ Race              : Factor w/ 6 levels \"American Indian\",..: 6 6 6 6 6 6 2 6 6 6 ...\n",
      " $ Hispanic          : int  0 0 0 0 0 0 0 1 0 0 ...\n",
      " $ CountryOfBirthCode: int  57 57 57 362 57 57 203 57 57 57 ...\n",
      " $ Citizenship       : Factor w/ 3 levels \"Citizen, Native\",..: 1 1 1 2 1 1 3 1 1 1 ...\n",
      " $ EmploymentStatus  : Factor w/ 5 levels \"Disabled\",\"Employed\",..: NA NA 4 3 1 2 3 NA 2 2 ...\n",
      " $ Industry          : Factor w/ 14 levels \"Agriculture, forestry, fishing, and hunting\",..: NA NA NA NA NA 7 NA NA 4 13 ...\n",
      " $ MetroArea         : Factor w/ 271 levels \"Akron, OH\",\"Albany-Schenectady-Troy, NY\",..: 1 1 1 1 1 1 1 1 1 1 ...\n"
     ]
    }
   ],
   "source": [
    "str(CPS)"
   ]
  },
  {
   "cell_type": "code",
   "execution_count": 90,
   "metadata": {},
   "outputs": [
    {
     "name": "stdout",
     "output_type": "stream",
     "text": [
      "'data.frame':\t131302 obs. of  16 variables:\n",
      " $ CountryOfBirthCode: int  57 57 57 57 57 57 57 57 57 57 ...\n",
      " $ MetroAreaCode     : int  10420 71650 10420 10420 10420 10420 10420 10420 10420 10420 ...\n",
      " $ PeopleInHousehold : int  2 4 5 2 2 3 1 3 4 4 ...\n",
      " $ Region            : Factor w/ 4 levels \"Midwest\",\"Northeast\",..: 1 2 1 1 1 1 1 1 1 1 ...\n",
      " $ State             : Factor w/ 51 levels \"Alabama\",\"Alaska\",..: 36 30 36 36 36 36 36 36 36 36 ...\n",
      " $ Age               : int  73 5 10 30 30 0 34 32 6 9 ...\n",
      " $ Married           : Factor w/ 5 levels \"Divorced\",\"Married\",..: 2 NA NA 2 2 NA 1 2 NA NA ...\n",
      " $ Sex               : Factor w/ 2 levels \"Female\",\"Male\": 1 1 1 1 1 2 2 2 1 2 ...\n",
      " $ Education         : Factor w/ 8 levels \"Associate degree\",..: 8 NA NA 1 2 NA 4 4 NA NA ...\n",
      " $ Race              : Factor w/ 6 levels \"American Indian\",..: 6 6 6 6 6 6 6 6 6 6 ...\n",
      " $ Hispanic          : int  0 0 0 0 0 0 0 0 1 0 ...\n",
      " $ Citizenship       : Factor w/ 3 levels \"Citizen, Native\",..: 1 1 1 1 1 1 1 1 1 1 ...\n",
      " $ EmploymentStatus  : Factor w/ 5 levels \"Disabled\",\"Employed\",..: 4 NA NA 2 2 NA 2 2 NA NA ...\n",
      " $ Industry          : Factor w/ 14 levels \"Agriculture, forestry, fishing, and hunting\",..: NA NA NA 13 9 NA 3 13 NA NA ...\n",
      " $ MetroArea         : Factor w/ 271 levels \"Akron, OH\",\"Albany-Schenectady-Troy, NY\",..: 1 34 1 1 1 1 1 1 1 1 ...\n",
      " $ Country           : Factor w/ 149 levels \"Afghanistan\",..: 139 139 139 139 139 139 139 139 139 139 ...\n"
     ]
    }
   ],
   "source": [
    "CPS = merge(CPS, CountryMap, by.x=\"CountryOfBirthCode\", by.y=\"Code\", all.x=TRUE)\n",
    "str(CPS)"
   ]
  },
  {
   "cell_type": "code",
   "execution_count": null,
   "metadata": {
    "collapsed": true
   },
   "outputs": [],
   "source": []
  },
  {
   "cell_type": "markdown",
   "metadata": {},
   "source": [
    "How many interviewees have a missing value for the new country of birth variable?"
   ]
  },
  {
   "cell_type": "code",
   "execution_count": 91,
   "metadata": {},
   "outputs": [
    {
     "data": {
      "text/html": [
       "176"
      ],
      "text/latex": [
       "176"
      ],
      "text/markdown": [
       "176"
      ],
      "text/plain": [
       "[1] 176"
      ]
     },
     "metadata": {},
     "output_type": "display_data"
    }
   ],
   "source": [
    "sum(is.na(CPS$Country))"
   ]
  },
  {
   "cell_type": "markdown",
   "metadata": {},
   "source": [
    "#### Problem 4.2 - Integrating Country of Birth Data\n",
    "\n",
    "Among all interviewees born outside of North America, which country was the most common place of birth?"
   ]
  },
  {
   "cell_type": "code",
   "execution_count": 94,
   "metadata": {},
   "outputs": [
    {
     "data": {
      "text/plain": [
       "\n",
       "United States        Mexico   Philippines         India         China \n",
       "       115063          3921           839           770           581 \n",
       "  Puerto Rico   El Salvador       Vietnam       Germany          Cuba \n",
       "          518           477           458           438           426 "
      ]
     },
     "metadata": {},
     "output_type": "display_data"
    }
   ],
   "source": [
    "head(sort(table(CPS$Country), decreasing = T) , 10)"
   ]
  },
  {
   "cell_type": "markdown",
   "metadata": {},
   "source": [
    "#### Problem 4.3 - Integrating Country of Birth Data\n",
    "\n",
    "What proportion of the interviewees from the \"New York-Northern New Jersey-Long Island, NY-NJ-PA\" metropolitan area have a country of birth that is not the United States? For this computation, don't include people from this metropolitan area who have a missing country of birth."
   ]
  },
  {
   "cell_type": "code",
   "execution_count": 103,
   "metadata": {
    "scrolled": true
   },
   "outputs": [
    {
     "data": {
      "text/plain": [
       "       \n",
       "        FALSE  TRUE\n",
       "  FALSE 78757 12744\n",
       "  TRUE   3736  1668"
      ]
     },
     "metadata": {},
     "output_type": "display_data"
    }
   ],
   "source": [
    "table( CPS$MetroArea=='New York-Northern New Jersey-Long Island, NY-NJ-PA' , CPS$Country!='United States')"
   ]
  },
  {
   "cell_type": "code",
   "execution_count": 105,
   "metadata": {},
   "outputs": [
    {
     "data": {
      "text/plain": [
       "       \n",
       "            FALSE      TRUE\n",
       "  FALSE 0.8607228 0.1392772\n",
       "  TRUE  0.6913397 0.3086603"
      ]
     },
     "metadata": {},
     "output_type": "display_data"
    }
   ],
   "source": [
    "prop.table(table( CPS$MetroArea=='New York-Northern New Jersey-Long Island, NY-NJ-PA' , CPS$Country!='United States'), margin=1)"
   ]
  },
  {
   "cell_type": "markdown",
   "metadata": {},
   "source": [
    "#### Problem 4.4 - Integrating Country of Birth Data\n",
    "\n",
    "Which metropolitan area has the largest number (note -- not proportion) of interviewees with a country of birth in India? Hint -- remember to include na.rm=TRUE if you are using tapply() to answer this question."
   ]
  },
  {
   "cell_type": "code",
   "execution_count": 108,
   "metadata": {},
   "outputs": [
    {
     "data": {
      "text/html": [
       "<dl class=dl-horizontal>\n",
       "\t<dt>New York-Northern New Jersey-Long Island, NY-NJ-PA</dt>\n",
       "\t\t<dd>96</dd>\n",
       "\t<dt>Washington-Arlington-Alexandria, DC-VA-MD-WV</dt>\n",
       "\t\t<dd>50</dd>\n",
       "\t<dt>Philadelphia-Camden-Wilmington, PA-NJ-DE</dt>\n",
       "\t\t<dd>32</dd>\n",
       "\t<dt>Chicago-Naperville-Joliet, IN-IN-WI</dt>\n",
       "\t\t<dd>31</dd>\n",
       "\t<dt>Detroit-Warren-Livonia, MI</dt>\n",
       "\t\t<dd>30</dd>\n",
       "\t<dt>Atlanta-Sandy Springs-Marietta, GA</dt>\n",
       "\t\t<dd>27</dd>\n",
       "\t<dt>San Francisco-Oakland-Fremont, CA</dt>\n",
       "\t\t<dd>27</dd>\n",
       "\t<dt>Hartford-West Hartford-East Hartford, CT</dt>\n",
       "\t\t<dd>26</dd>\n",
       "\t<dt>Minneapolis-St Paul-Bloomington, MN-WI</dt>\n",
       "\t\t<dd>23</dd>\n",
       "\t<dt>Los Angeles-Long Beach-Santa Ana, CA</dt>\n",
       "\t\t<dd>19</dd>\n",
       "</dl>\n"
      ],
      "text/plain": [
       "New York-Northern New Jersey-Long Island, NY-NJ-PA \n",
       "                                                96 \n",
       "      Washington-Arlington-Alexandria, DC-VA-MD-WV \n",
       "                                                50 \n",
       "          Philadelphia-Camden-Wilmington, PA-NJ-DE \n",
       "                                                32 \n",
       "               Chicago-Naperville-Joliet, IN-IN-WI \n",
       "                                                31 \n",
       "                        Detroit-Warren-Livonia, MI \n",
       "                                                30 \n",
       "                Atlanta-Sandy Springs-Marietta, GA \n",
       "                                                27 \n",
       "                 San Francisco-Oakland-Fremont, CA \n",
       "                                                27 \n",
       "          Hartford-West Hartford-East Hartford, CT \n",
       "                                                26 \n",
       "            Minneapolis-St Paul-Bloomington, MN-WI \n",
       "                                                23 \n",
       "              Los Angeles-Long Beach-Santa Ana, CA \n",
       "                                                19 "
      ]
     },
     "metadata": {},
     "output_type": "display_data"
    }
   ],
   "source": [
    "head(sort(tapply(CPS$Country == \"India\", CPS$MetroArea, sum, na.rm=T), decreasing = T), 10)"
   ]
  },
  {
   "cell_type": "markdown",
   "metadata": {},
   "source": [
    "In Brazil?"
   ]
  },
  {
   "cell_type": "code",
   "execution_count": 109,
   "metadata": {},
   "outputs": [
    {
     "data": {
      "text/html": [
       "<dl class=dl-horizontal>\n",
       "\t<dt>Boston-Cambridge-Quincy, MA-NH</dt>\n",
       "\t\t<dd>18</dd>\n",
       "\t<dt>Miami-Fort Lauderdale-Miami Beach, FL</dt>\n",
       "\t\t<dd>16</dd>\n",
       "\t<dt>Los Angeles-Long Beach-Santa Ana, CA</dt>\n",
       "\t\t<dd>9</dd>\n",
       "\t<dt>Washington-Arlington-Alexandria, DC-VA-MD-WV</dt>\n",
       "\t\t<dd>8</dd>\n",
       "\t<dt>Bridgeport-Stamford-Norwalk, CT</dt>\n",
       "\t\t<dd>7</dd>\n",
       "\t<dt>New York-Northern New Jersey-Long Island, NY-NJ-PA</dt>\n",
       "\t\t<dd>7</dd>\n",
       "\t<dt>San Francisco-Oakland-Fremont, CA</dt>\n",
       "\t\t<dd>6</dd>\n",
       "\t<dt>Danbury, CT</dt>\n",
       "\t\t<dd>5</dd>\n",
       "\t<dt>Davenport-Moline-Rock Island, IA-IL</dt>\n",
       "\t\t<dd>4</dd>\n",
       "\t<dt>Philadelphia-Camden-Wilmington, PA-NJ-DE</dt>\n",
       "\t\t<dd>4</dd>\n",
       "</dl>\n"
      ],
      "text/plain": [
       "                    Boston-Cambridge-Quincy, MA-NH \n",
       "                                                18 \n",
       "             Miami-Fort Lauderdale-Miami Beach, FL \n",
       "                                                16 \n",
       "              Los Angeles-Long Beach-Santa Ana, CA \n",
       "                                                 9 \n",
       "      Washington-Arlington-Alexandria, DC-VA-MD-WV \n",
       "                                                 8 \n",
       "                   Bridgeport-Stamford-Norwalk, CT \n",
       "                                                 7 \n",
       "New York-Northern New Jersey-Long Island, NY-NJ-PA \n",
       "                                                 7 \n",
       "                 San Francisco-Oakland-Fremont, CA \n",
       "                                                 6 \n",
       "                                       Danbury, CT \n",
       "                                                 5 \n",
       "               Davenport-Moline-Rock Island, IA-IL \n",
       "                                                 4 \n",
       "          Philadelphia-Camden-Wilmington, PA-NJ-DE \n",
       "                                                 4 "
      ]
     },
     "metadata": {},
     "output_type": "display_data"
    }
   ],
   "source": [
    "head(sort(tapply(CPS$Country == \"Brazil\", CPS$MetroArea, sum, na.rm=T), decreasing = T), 10)"
   ]
  },
  {
   "cell_type": "markdown",
   "metadata": {},
   "source": [
    "In Somalia?"
   ]
  },
  {
   "cell_type": "code",
   "execution_count": 110,
   "metadata": {},
   "outputs": [
    {
     "data": {
      "text/html": [
       "<dl class=dl-horizontal>\n",
       "\t<dt>Minneapolis-St Paul-Bloomington, MN-WI</dt>\n",
       "\t\t<dd>17</dd>\n",
       "\t<dt>Phoenix-Mesa-Scottsdale, AZ</dt>\n",
       "\t\t<dd>7</dd>\n",
       "\t<dt>Seattle-Tacoma-Bellevue, WA</dt>\n",
       "\t\t<dd>7</dd>\n",
       "\t<dt>St. Cloud, MN</dt>\n",
       "\t\t<dd>7</dd>\n",
       "\t<dt>Columbus, OH</dt>\n",
       "\t\t<dd>5</dd>\n",
       "\t<dt>Fargo, ND-MN</dt>\n",
       "\t\t<dd>5</dd>\n",
       "\t<dt>Burlington-South Burlington, VT</dt>\n",
       "\t\t<dd>3</dd>\n",
       "\t<dt>Portland-South Portland, ME</dt>\n",
       "\t\t<dd>3</dd>\n",
       "\t<dt>Portland-Vancouver-Beaverton, OR-WA</dt>\n",
       "\t\t<dd>3</dd>\n",
       "\t<dt>Houston-Baytown-Sugar Land, TX</dt>\n",
       "\t\t<dd>2</dd>\n",
       "</dl>\n"
      ],
      "text/plain": [
       "Minneapolis-St Paul-Bloomington, MN-WI            Phoenix-Mesa-Scottsdale, AZ \n",
       "                                    17                                      7 \n",
       "           Seattle-Tacoma-Bellevue, WA                          St. Cloud, MN \n",
       "                                     7                                      7 \n",
       "                          Columbus, OH                           Fargo, ND-MN \n",
       "                                     5                                      5 \n",
       "       Burlington-South Burlington, VT            Portland-South Portland, ME \n",
       "                                     3                                      3 \n",
       "   Portland-Vancouver-Beaverton, OR-WA         Houston-Baytown-Sugar Land, TX \n",
       "                                     3                                      2 "
      ]
     },
     "metadata": {},
     "output_type": "display_data"
    }
   ],
   "source": [
    "head(sort(tapply(CPS$Country == \"Somalia\", CPS$MetroArea, sum, na.rm=T), decreasing = T), 10)"
   ]
  }
 ],
 "metadata": {
  "kernelspec": {
   "display_name": "R",
   "language": "R",
   "name": "ir"
  },
  "language_info": {
   "codemirror_mode": "r",
   "file_extension": ".r",
   "mimetype": "text/x-r-source",
   "name": "R",
   "pygments_lexer": "r",
   "version": "3.3.3"
  }
 },
 "nbformat": 4,
 "nbformat_minor": 2
}
