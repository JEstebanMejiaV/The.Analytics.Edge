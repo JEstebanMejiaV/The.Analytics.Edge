{
 "cells": [
  {
   "cell_type": "markdown",
   "metadata": {},
   "source": [
    "### Automating reviews in medicine\n",
    "\n",
    "The medical literature is enormous. Pubmed, a database of medical publications maintained by the U.S. National Library of Medicine, has indexed over 23 million medical publications. Further, the rate of medical publication has increased over time, and now there are nearly 1 million new publications in the field each year, or more than one per minute.\n",
    "\n",
    "The large size and fast-changing nature of the medical literature has increased the need for reviews, which search databases like Pubmed for papers on a particular topic and then report results from the papers found. While such reviews are often performed manually, with multiple people reviewing each search result, this is tedious and time consuming. In this problem, we will see how text analytics can be used to automate the process of information retrieval.\n",
    "\n",
    "The dataset consists of the titles (variable title) and abstracts (variable abstract) of papers retrieved in a Pubmed search. Each search result is labeled with whether the paper is a clinical trial testing a drug therapy for cancer (variable trial). These labels were obtained by two people reviewing each search result and accessing the actual paper if necessary, as part of a literature review of clinical trials testing drug therapies for advanced and metastatic breast cancer."
   ]
  },
  {
   "cell_type": "markdown",
   "metadata": {},
   "source": [
    "#### Problem 1.1 - Loading the Data\n",
    "\n",
    "Load clinical_trial.csv into a data frame called trials (remembering to add the argument stringsAsFactors=FALSE), and investigate the data frame with summary() and str().\n",
    "\n",
    "IMPORTANT NOTE: Some students have been getting errors like \"invalid multibyte string\" when performing certain parts of this homework question. If this is happening to you, use the argument fileEncoding=\"latin1\" when reading in the file with read.csv. This should cause those errors to go away.\n",
    "\n",
    "We can use R's string functions to learn more about the titles and abstracts of the located papers. The nchar() function counts the number of characters in a piece of text. Using the nchar() function on the variables in the data frame, answer the following questions:\n",
    "\n",
    "How many characters are there in the longest abstract? (Longest here is defined as the abstract with the largest number of characters.)"
   ]
  },
  {
   "cell_type": "code",
   "execution_count": null,
   "metadata": {
    "collapsed": true
   },
   "outputs": [],
   "source": []
  },
  {
   "cell_type": "markdown",
   "metadata": {},
   "source": [
    "#### roblem 1.2 - Loading the Data\n",
    "\n",
    "How many search results provided no abstract? (HINT: A search result provided no abstract if the number of characters in the abstract field is zero.)"
   ]
  },
  {
   "cell_type": "code",
   "execution_count": null,
   "metadata": {
    "collapsed": true
   },
   "outputs": [],
   "source": []
  },
  {
   "cell_type": "markdown",
   "metadata": {},
   "source": [
    "#### Problem 1.3 - Loading the Data\n",
    "\n",
    "Find the observation with the minimum number of characters in the title (the variable \"title\") out of all of the observations in this dataset. What is the text of the title of this article? Include capitalization and punctuation in your response, but don't include the quotes."
   ]
  },
  {
   "cell_type": "code",
   "execution_count": null,
   "metadata": {
    "collapsed": true
   },
   "outputs": [],
   "source": []
  },
  {
   "cell_type": "markdown",
   "metadata": {},
   "source": [
    "#### Problem 2.1 - Preparing the Corpus\n",
    "\n",
    "Because we have both title and abstract information for trials, we need to build two corpera instead of one. Name them corpusTitle and corpusAbstract.\n",
    "\n",
    "Following the commands from lecture, perform the following tasks (you might need to load the \"tm\" package first if it isn't already loaded). Make sure to perform them in this order.\n",
    "\n",
    "1) Convert the title variable to corpusTitle and the abstract variable to corpusAbstract.\n",
    "\n",
    "2) Convert corpusTitle and corpusAbstract to lowercase. After performing this step, remember to run the lines:\n",
    "\n",
    "corpusTitle = tm_map(corpusTitle, PlainTextDocument)\n",
    "\n",
    "corpusAbstract = tm_map(corpusAbstract, PlainTextDocument)\n",
    "\n",
    "3) Remove the punctuation in corpusTitle and corpusAbstract.\n",
    "\n",
    "4) Remove the English language stop words from corpusTitle and corpusAbstract.\n",
    "\n",
    "5) Stem the words in corpusTitle and corpusAbstract (each stemming might take a few minutes).\n",
    "\n",
    "6) Build a document term matrix called dtmTitle from corpusTitle and dtmAbstract from corpusAbstract.\n",
    "\n",
    "7) Limit dtmTitle and dtmAbstract to terms with sparseness of at most 95% (aka terms that appear in at least 5% of documents).\n",
    "\n",
    "8) Convert dtmTitle and dtmAbstract to data frames (keep the names dtmTitle and dtmAbstract).\n",
    "\n",
    "If the code length(stopwords(\"english\")) does not return 174 for you, then please run the line of code in this file, which will store the standard stop words in a variable called sw. When removing stop words, use tm_map(corpusTitle, removeWords, sw) and tm_map(corpusAbstract, removeWords, sw) instead of tm_map(corpusTitle, removeWords, stopwords(\"english\")) and tm_map(corpusAbstract, removeWords, stopwords(\"english\")).\n",
    "\n",
    "How many terms remain in dtmTitle after removing sparse terms (aka how many columns does it have)?"
   ]
  },
  {
   "cell_type": "code",
   "execution_count": null,
   "metadata": {
    "collapsed": true
   },
   "outputs": [],
   "source": []
  },
  {
   "cell_type": "markdown",
   "metadata": {},
   "source": [
    "How many terms remain in dtmAbstract?"
   ]
  },
  {
   "cell_type": "code",
   "execution_count": null,
   "metadata": {
    "collapsed": true
   },
   "outputs": [],
   "source": []
  },
  {
   "cell_type": "markdown",
   "metadata": {},
   "source": [
    "#### Problem 2.2 - Preparing the Corpus\n",
    "\n",
    "What is the most likely reason why dtmAbstract has so many more terms than dtmTitle?"
   ]
  },
  {
   "cell_type": "code",
   "execution_count": null,
   "metadata": {
    "collapsed": true
   },
   "outputs": [],
   "source": []
  },
  {
   "cell_type": "markdown",
   "metadata": {},
   "source": [
    "#### Problem 2.3 - Preparing the Corpus\n",
    "\n",
    "What is the most frequent word stem across all the abstracts? Hint: you can use colSums() to compute the frequency of a word across all the abstracts."
   ]
  },
  {
   "cell_type": "code",
   "execution_count": null,
   "metadata": {
    "collapsed": true
   },
   "outputs": [],
   "source": []
  },
  {
   "cell_type": "markdown",
   "metadata": {},
   "source": [
    "#### Problem 3.1 - Building a model\n",
    "\n",
    "We want to combine dtmTitle and dtmAbstract into a single data frame to make predictions. However, some of the variables in these data frames have the same names. To fix this issue, run the following commands:\n",
    "\n",
    "colnames(dtmTitle) = paste0(\"T\", colnames(dtmTitle))\n",
    "\n",
    "colnames(dtmAbstract) = paste0(\"A\", colnames(dtmAbstract))\n",
    "\n",
    "What was the effect of these functions?"
   ]
  },
  {
   "cell_type": "code",
   "execution_count": null,
   "metadata": {
    "collapsed": true
   },
   "outputs": [],
   "source": []
  },
  {
   "cell_type": "markdown",
   "metadata": {},
   "source": [
    "#### Problem 3.2 - Building a Model\n",
    "\n",
    "Using cbind(), combine dtmTitle and dtmAbstract into a single data frame called dtm:\n",
    "\n",
    "dtm = cbind(dtmTitle, dtmAbstract)\n",
    "\n",
    "As we did in class, add the dependent variable \"trial\" to dtm, copying it from the original data frame called trials. How many columns are in this combined data frame?"
   ]
  },
  {
   "cell_type": "code",
   "execution_count": null,
   "metadata": {
    "collapsed": true
   },
   "outputs": [],
   "source": []
  },
  {
   "cell_type": "markdown",
   "metadata": {},
   "source": [
    "#### Problem 3.3 - Building a Model\n",
    "\n",
    "Now that we have prepared our data frame, it's time to split it into a training and testing set and to build regression models. Set the random seed to 144 and use the sample.split function from the caTools package to split dtm into data frames named \"train\" and \"test\", putting 70% of the data in the training set.\n",
    "\n",
    "What is the accuracy of the baseline model on the training set? (Remember that the baseline model predicts the most frequent outcome in the training set for all observations.)"
   ]
  },
  {
   "cell_type": "code",
   "execution_count": null,
   "metadata": {
    "collapsed": true
   },
   "outputs": [],
   "source": []
  },
  {
   "cell_type": "markdown",
   "metadata": {},
   "source": [
    "#### Problem 3.4 - Building a Model\n",
    "\n",
    "Build a CART model called trialCART, using all the independent variables in the training set to train the model, and then plot the CART model. Just use the default parameters to build the model (don't add a minbucket or cp value). Remember to add the method=\"class\" argument, since this is a classification problem.\n",
    "\n",
    "What is the name of the first variable the model split on?"
   ]
  },
  {
   "cell_type": "code",
   "execution_count": null,
   "metadata": {
    "collapsed": true
   },
   "outputs": [],
   "source": []
  },
  {
   "cell_type": "markdown",
   "metadata": {},
   "source": [
    "#### Problem 3.5 - Building a Model\n",
    "\n",
    "Obtain the training set predictions for the model (do not yet predict on the test set). Extract the predicted probability of a result being a trial (recall that this involves not setting a type argument, and keeping only the second column of the predict output). What is the maximum predicted probability for any result?"
   ]
  },
  {
   "cell_type": "code",
   "execution_count": null,
   "metadata": {
    "collapsed": true
   },
   "outputs": [],
   "source": []
  },
  {
   "cell_type": "markdown",
   "metadata": {},
   "source": [
    "#### Problem 3.6 - Building a Model\n",
    "\n",
    "Without running the analysis, how do you expect the maximum predicted probability to differ in the testing set?"
   ]
  },
  {
   "cell_type": "code",
   "execution_count": null,
   "metadata": {
    "collapsed": true
   },
   "outputs": [],
   "source": []
  },
  {
   "cell_type": "markdown",
   "metadata": {},
   "source": [
    "#### Problem 3.7 - Building a Model\n",
    "\n",
    "For these questions, use a threshold probability of 0.5 to predict that an observation is a clinical trial.\n",
    "\n",
    "What is the training set accuracy of the CART model?"
   ]
  },
  {
   "cell_type": "code",
   "execution_count": null,
   "metadata": {
    "collapsed": true
   },
   "outputs": [],
   "source": []
  },
  {
   "cell_type": "markdown",
   "metadata": {},
   "source": [
    "What is the training set sensitivity of the CART model?"
   ]
  },
  {
   "cell_type": "code",
   "execution_count": null,
   "metadata": {
    "collapsed": true
   },
   "outputs": [],
   "source": []
  },
  {
   "cell_type": "markdown",
   "metadata": {},
   "source": [
    "What is the training set specificity of the CART model?"
   ]
  },
  {
   "cell_type": "code",
   "execution_count": null,
   "metadata": {
    "collapsed": true
   },
   "outputs": [],
   "source": []
  },
  {
   "cell_type": "markdown",
   "metadata": {},
   "source": [
    "#### roblem 4.1 - Evaluating the model on the testing set\n",
    "\n",
    "Evaluate the CART model on the testing set using the predict function and creating a vector of predicted probabilities predTest.\n",
    "\n",
    "What is the testing set accuracy, assuming a probability threshold of 0.5 for predicting that a result is a clinical trial?"
   ]
  },
  {
   "cell_type": "code",
   "execution_count": null,
   "metadata": {
    "collapsed": true
   },
   "outputs": [],
   "source": []
  },
  {
   "cell_type": "markdown",
   "metadata": {},
   "source": [
    "#### Problem 4.2 - Evaluating the Model on the Testing Set\n",
    "\n",
    "Using the ROCR package, what is the testing set AUC of the prediction model?"
   ]
  },
  {
   "cell_type": "code",
   "execution_count": null,
   "metadata": {
    "collapsed": true
   },
   "outputs": [],
   "source": []
  },
  {
   "cell_type": "markdown",
   "metadata": {},
   "source": [
    "#### part 5: decision-maker tradeoffs\n",
    "\n",
    "The decision maker for this problem, a researcher performing a review of the medical literature, would use a model (like the CART one we built here) in the following workflow:\n",
    "\n",
    "1) For all of the papers retreived in the PubMed Search, predict which papers are clinical trials using the model. This yields some initial Set A of papers predicted to be trials, and some Set B of papers predicted not to be trials. (See the figure below.)\n",
    "\n",
    "2) Then, the decision maker manually reviews all papers in Set A, verifying that each paper meets the study's detailed inclusion criteria (for the purposes of this analysis, we assume this manual review is 100% accurate at identifying whether a paper in Set A is relevant to the study). This yields a more limited set of papers to be included in the study, which would ideally be all papers in the medical literature meeting the detailed inclusion criteria for the study.\n",
    "\n",
    "3) Perform the study-specific analysis, using data extracted from the limited set of papers identified in step 2.\n",
    "\n",
    "This process is shown in the figure below."
   ]
  },
  {
   "cell_type": "code",
   "execution_count": null,
   "metadata": {
    "collapsed": true
   },
   "outputs": [],
   "source": []
  },
  {
   "cell_type": "markdown",
   "metadata": {},
   "source": [
    "![](InfoRetrievalFigure2.png)"
   ]
  },
  {
   "cell_type": "markdown",
   "metadata": {},
   "source": [
    "#### Problem 5.1 - Decision-Maker Tradeoffs\n",
    "\n",
    "What is the cost associated with the model in Step 1 making a false negative prediction?"
   ]
  },
  {
   "cell_type": "code",
   "execution_count": null,
   "metadata": {
    "collapsed": true
   },
   "outputs": [],
   "source": []
  },
  {
   "cell_type": "markdown",
   "metadata": {},
   "source": [
    "#### Problem 5.2 - Decision-Maker Tradeoffs\n",
    "\n",
    "What is the cost associated with the model in Step 1 making a false positive prediction?"
   ]
  },
  {
   "cell_type": "code",
   "execution_count": null,
   "metadata": {
    "collapsed": true
   },
   "outputs": [],
   "source": []
  },
  {
   "cell_type": "markdown",
   "metadata": {},
   "source": [
    "#### Problem 5.3 - Decision-Maker Tradeoffs\n",
    "\n",
    "Given the costs associated with false positives and false negatives, which of the following is most accurate?"
   ]
  },
  {
   "cell_type": "code",
   "execution_count": null,
   "metadata": {
    "collapsed": true
   },
   "outputs": [],
   "source": []
  },
  {
   "cell_type": "code",
   "execution_count": null,
   "metadata": {
    "collapsed": true
   },
   "outputs": [],
   "source": []
  }
 ],
 "metadata": {
  "kernelspec": {
   "display_name": "R",
   "language": "R",
   "name": "ir"
  },
  "language_info": {
   "codemirror_mode": "r",
   "file_extension": ".r",
   "mimetype": "text/x-r-source",
   "name": "R",
   "pygments_lexer": "r",
   "version": "3.3.3"
  }
 },
 "nbformat": 4,
 "nbformat_minor": 2
}
