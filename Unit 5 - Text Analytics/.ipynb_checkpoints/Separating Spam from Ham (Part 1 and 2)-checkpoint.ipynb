{
 "cells": [
  {
   "cell_type": "markdown",
   "metadata": {},
   "source": [
    "separating spam from ham (Part 1)\n",
    "\n",
    "Nearly every email user has at some point encountered a \"spam\" email, which is an unsolicited message often advertising a product, containing links to malware, or attempting to scam the recipient. Roughly 80-90% of more than 100 billion emails sent each day are spam emails, most being sent from botnets of malware-infected computers. The remainder of emails are called \"ham\" emails.\n",
    "\n",
    "As a result of the huge number of spam emails being sent across the Internet each day, most email providers offer a spam filter that automatically flags likely spam messages and separates them from the ham. Though these filters use a number of techniques (e.g. looking up the sender in a so-called \"Blackhole List\" that contains IP addresses of likely spammers), most rely heavily on the analysis of the contents of an email via text analytics.\n",
    "\n",
    "In this homework problem, we will build and evaluate a spam filter using a publicly available dataset first described in the 2006 conference paper \"Spam Filtering with Naive Bayes -- Which Naive Bayes?\" by V. Metsis, I. Androutsopoulos, and G. Paliouras. The \"ham\" messages in this dataset come from the inbox of former Enron Managing Director for Research Vincent Kaminski, one of the inboxes in the Enron Corpus. One source of spam messages in this dataset is the SpamAssassin corpus, which contains hand-labeled spam messages contributed by Internet users. The remaining spam was collected by Project Honey Pot, a project that collects spam messages and identifies spammers by publishing email address that humans would know not to contact but that bots might target with spam. The full dataset we will use was constructed as roughly a 75/25 mix of the ham and spam messages.\n",
    "\n",
    "The dataset contains just two fields:\n",
    "\n",
    "text: The text of the email.\n",
    "spam: A binary variable indicating if the email was spam."
   ]
  },
  {
   "cell_type": "markdown",
   "metadata": {},
   "source": [
    "#### Problem 1.1 - Loading the Dataset\n",
    "\n",
    "Begin by loading the dataset emails.csv into a data frame called emails. Remember to pass the stringsAsFactors=FALSE option when loading the data.\n",
    "\n",
    "How many emails are in the dataset?"
   ]
  },
  {
   "cell_type": "code",
   "execution_count": null,
   "metadata": {
    "collapsed": true
   },
   "outputs": [],
   "source": []
  },
  {
   "cell_type": "markdown",
   "metadata": {},
   "source": [
    "#### Problem 1.2 - Loading the Dataset\n",
    "\n",
    "How many of the emails are spam?"
   ]
  },
  {
   "cell_type": "code",
   "execution_count": null,
   "metadata": {
    "collapsed": true
   },
   "outputs": [],
   "source": []
  },
  {
   "cell_type": "markdown",
   "metadata": {},
   "source": [
    "#### Problem 1.3 - Loading the Dataset\n",
    "\n",
    "Which word appears at the beginning of every email in the dataset? Respond as a lower-case word with punctuation removed."
   ]
  },
  {
   "cell_type": "code",
   "execution_count": null,
   "metadata": {
    "collapsed": true
   },
   "outputs": [],
   "source": []
  },
  {
   "cell_type": "markdown",
   "metadata": {},
   "source": [
    "#### Problem 1.4 - Loading the Dataset\n",
    "\n",
    "Could a spam classifier potentially benefit from including the frequency of the word that appears in every email?"
   ]
  },
  {
   "cell_type": "code",
   "execution_count": null,
   "metadata": {
    "collapsed": true
   },
   "outputs": [],
   "source": []
  },
  {
   "cell_type": "markdown",
   "metadata": {},
   "source": [
    "#### Problem 1.5 - Loading the Dataset\n",
    "\n",
    "The nchar() function counts the number of characters in a piece of text. How many characters are in the longest email in the dataset (where longest is measured in terms of the maximum number of characters)?"
   ]
  },
  {
   "cell_type": "code",
   "execution_count": null,
   "metadata": {
    "collapsed": true
   },
   "outputs": [],
   "source": []
  },
  {
   "cell_type": "markdown",
   "metadata": {},
   "source": [
    "#### Problem 1.6 - Loading the Dataset\n",
    "\n",
    "Which row contains the shortest email in the dataset? (Just like in the previous problem, shortest is measured in terms of the fewest number of characters.)"
   ]
  },
  {
   "cell_type": "code",
   "execution_count": null,
   "metadata": {
    "collapsed": true
   },
   "outputs": [],
   "source": []
  },
  {
   "cell_type": "markdown",
   "metadata": {},
   "source": [
    "#### Problem 2.1 - Preparing the Corpus\n",
    "\n",
    "Follow the standard steps to build and pre-process the corpus:\n",
    "\n",
    "1) Build a new corpus variable called corpus.\n",
    "\n",
    "2) Using tm_map, convert the text to lowercase.\n",
    "\n",
    "3) Using tm_map, remove all punctuation from the corpus.\n",
    "\n",
    "4) Using tm_map, remove all English stopwords from the corpus.\n",
    "\n",
    "5) Using tm_map, stem the words in the corpus.\n",
    "\n",
    "6) Build a document term matrix from the corpus, called dtm.\n",
    "\n",
    "If the code length(stopwords(\"english\")) does not return 174 for you, then please run the line of code in this file, which will store the standard stop words in a variable called sw. When removing stop words, use tm_map(corpus, removeWords, sw) instead of tm_map(corpus, removeWords, stopwords(\"english\")).\n",
    "\n",
    "How many terms are in dtm?"
   ]
  },
  {
   "cell_type": "code",
   "execution_count": null,
   "metadata": {
    "collapsed": true
   },
   "outputs": [],
   "source": []
  },
  {
   "cell_type": "markdown",
   "metadata": {},
   "source": [
    "#### Problem 2.2 - Preparing the Corpus\n",
    "\n",
    "To obtain a more reasonable number of terms, limit dtm to contain terms appearing in at least 5% of documents, and store this result as spdtm (don't overwrite dtm, because we will use it in a later step of this homework). How many terms are in spdtm?"
   ]
  },
  {
   "cell_type": "code",
   "execution_count": null,
   "metadata": {
    "collapsed": true
   },
   "outputs": [],
   "source": []
  },
  {
   "cell_type": "markdown",
   "metadata": {},
   "source": [
    "#### Problem 2.3 - Preparing the Corpus\n",
    "\n",
    "Build a data frame called emailsSparse from spdtm, and use the make.names function to make the variable names of emailsSparse valid.\n",
    "\n",
    "colSums() is an R function that returns the sum of values for each variable in our data frame. Our data frame contains the number of times each word stem (columns) appeared in each email (rows). Therefore, colSums(emailsSparse) returns the number of times a word stem appeared across all the emails in the dataset. What is the word stem that shows up most frequently across all the emails in the dataset? Hint: think about how you can use sort() or which.max() to pick out the maximum frequency."
   ]
  },
  {
   "cell_type": "code",
   "execution_count": null,
   "metadata": {
    "collapsed": true
   },
   "outputs": [],
   "source": []
  },
  {
   "cell_type": "markdown",
   "metadata": {},
   "source": [
    "#### Problem 2.4 - Preparing the Corpus\n",
    "\n",
    "Add a variable called \"spam\" to emailsSparse containing the email spam labels. You can do this by copying over the \"spam\" variable from the original data frame (remember how we did this in the Twitter lecture).\n",
    "\n",
    "How many word stems appear at least 5000 times in the ham emails in the dataset? Hint: in this and the next question, remember not to count the dependent variable we just added."
   ]
  },
  {
   "cell_type": "code",
   "execution_count": null,
   "metadata": {
    "collapsed": true
   },
   "outputs": [],
   "source": []
  },
  {
   "cell_type": "markdown",
   "metadata": {},
   "source": [
    "#### Problem 2.5 - Preparing the Corpus\n",
    "\n",
    "How many word stems appear at least 1000 times in the spam emails in the dataset?"
   ]
  },
  {
   "cell_type": "code",
   "execution_count": null,
   "metadata": {
    "collapsed": true
   },
   "outputs": [],
   "source": []
  },
  {
   "cell_type": "markdown",
   "metadata": {},
   "source": [
    "#### Problem 2.6 - Preparing the Corpus\n",
    "\n",
    "The lists of most common words are significantly different between the spam and ham emails. What does this likely imply?"
   ]
  },
  {
   "cell_type": "code",
   "execution_count": null,
   "metadata": {
    "collapsed": true
   },
   "outputs": [],
   "source": []
  },
  {
   "cell_type": "markdown",
   "metadata": {},
   "source": [
    "#### Problem 2.7 - Preparing the Corpus\n",
    "\n",
    "Several of the most common word stems from the ham documents, such as \"enron\", \"hou\" (short for Houston), \"vinc\" (the word stem of \"Vince\") and \"kaminski\", are likely specific to Vincent Kaminski's inbox. What does this mean about the applicability of the text analytics models we will train for the spam filtering problem?"
   ]
  },
  {
   "cell_type": "code",
   "execution_count": null,
   "metadata": {
    "collapsed": true
   },
   "outputs": [],
   "source": []
  },
  {
   "cell_type": "markdown",
   "metadata": {},
   "source": [
    "#### Problem 3.1 - Building machine learning models\n",
    "\n",
    "First, convert the dependent variable to a factor with \"emailsSparse$spam = as.factor(emailsSparse$spam)\".\n",
    "\n",
    "Next, set the random seed to 123 and use the sample.split function to split emailsSparse 70/30 into a training set called \"train\" and a testing set called \"test\". Make sure to perform this step on emailsSparse instead of emails.\n",
    "\n",
    "Using the training set, train the following three machine learning models. The models should predict the dependent variable \"spam\", using all other available variables as independent variables. Please be patient, as these models may take a few minutes to train.\n",
    "\n",
    "1) A logistic regression model called spamLog. You may see a warning message here - we'll discuss this more later.\n",
    "\n",
    "2) A CART model called spamCART, using the default parameters to train the model (don't worry about adding minbucket or cp). Remember to add the argument method=\"class\" since this is a binary classification problem.\n",
    "\n",
    "3) A random forest model called spamRF, using the default parameters to train the model (don't worry about specifying ntree or nodesize). Directly before training the random forest model, set the random seed to 123 (even though we've already done this earlier in the problem, it's important to set the seed right before training the model so we all obtain the same results. Keep in mind though that on certain operating systems, your results might still be slightly different).\n",
    "\n",
    "For each model, obtain the predicted spam probabilities for the training set. Be careful to obtain probabilities instead of predicted classes, because we will be using these values to compute training set AUC values. Recall that you can obtain probabilities for CART models by not passing any type parameter to the predict() function, and you can obtain probabilities from a random forest by adding the argument type=\"prob\". For CART and random forest, you need to select the second column of the output of the predict() function, corresponding to the probability of a message being spam.\n",
    "\n",
    "You may have noticed that training the logistic regression model yielded the messages \"algorithm did not converge\" and \"fitted probabilities numerically 0 or 1 occurred\". Both of these messages often indicate overfitting and the first indicates particularly severe overfitting, often to the point that the training set observations are fit perfectly by the model. Let's investigate the predicted probabilities from the logistic regression model.\n",
    "\n",
    "How many of the training set predicted probabilities from spamLog are less than 0.00001?"
   ]
  },
  {
   "cell_type": "code",
   "execution_count": null,
   "metadata": {
    "collapsed": true
   },
   "outputs": [],
   "source": []
  },
  {
   "cell_type": "markdown",
   "metadata": {},
   "source": [
    "How many of the training set predicted probabilities from spamLog are more than 0.99999?"
   ]
  },
  {
   "cell_type": "code",
   "execution_count": null,
   "metadata": {
    "collapsed": true
   },
   "outputs": [],
   "source": []
  },
  {
   "cell_type": "markdown",
   "metadata": {},
   "source": [
    "How many of the training set predicted probabilities from spamLog are between 0.00001 and 0.99999?"
   ]
  },
  {
   "cell_type": "code",
   "execution_count": null,
   "metadata": {
    "collapsed": true
   },
   "outputs": [],
   "source": []
  },
  {
   "cell_type": "markdown",
   "metadata": {},
   "source": [
    "#### Problem 3.2 - Building Machine Learning Models\n",
    "\n",
    "How many variables are labeled as significant (at the p=0.05 level) in the logistic regression summary output?"
   ]
  },
  {
   "cell_type": "code",
   "execution_count": null,
   "metadata": {
    "collapsed": true
   },
   "outputs": [],
   "source": []
  },
  {
   "cell_type": "markdown",
   "metadata": {},
   "source": [
    "#### Problem 3.3 - Building Machine Learning Models\n",
    "\n",
    "How many of the word stems \"enron\", \"hou\", \"vinc\", and \"kaminski\" appear in the CART tree? Recall that we suspect these word stems are specific to Vincent Kaminski and might affect the generalizability of a spam filter built with his ham data."
   ]
  },
  {
   "cell_type": "code",
   "execution_count": null,
   "metadata": {
    "collapsed": true
   },
   "outputs": [],
   "source": []
  },
  {
   "cell_type": "markdown",
   "metadata": {},
   "source": [
    "#### Problem 3.4 - Building Machine Learning Models\n",
    "\n",
    "What is the training set accuracy of spamLog, using a threshold of 0.5 for predictions?"
   ]
  },
  {
   "cell_type": "markdown",
   "metadata": {},
   "source": []
  },
  {
   "cell_type": "markdown",
   "metadata": {},
   "source": [
    "#### Problem 3.5 - Building Machine Learning Models\n",
    "\n",
    "What is the training set AUC of spamLog?"
   ]
  },
  {
   "cell_type": "markdown",
   "metadata": {},
   "source": []
  },
  {
   "cell_type": "markdown",
   "metadata": {},
   "source": [
    "#### Problem 3.6 - Building Machine Learning Models\n",
    "\n",
    "What is the training set accuracy of spamCART, using a threshold of 0.5 for predictions? (Remember that if you used the type=\"class\" argument when making predictions, you automatically used a threshold of 0.5. If you did not add in the type argument to the predict function, the probabilities are in the second column of the predict output.)"
   ]
  },
  {
   "cell_type": "code",
   "execution_count": null,
   "metadata": {
    "collapsed": true
   },
   "outputs": [],
   "source": []
  },
  {
   "cell_type": "markdown",
   "metadata": {},
   "source": [
    "#### Problem 3.7 - Building Machine Learning Models\n",
    "\n",
    "What is the training set AUC of spamCART? (Remember that you have to pass the prediction function predicted probabilities, so don't include the type argument when making predictions for your CART model.)"
   ]
  },
  {
   "cell_type": "code",
   "execution_count": null,
   "metadata": {
    "collapsed": true
   },
   "outputs": [],
   "source": []
  },
  {
   "cell_type": "markdown",
   "metadata": {},
   "source": [
    "#### Problem 3.8 - Building Machine Learning Models\n",
    "\n",
    "What is the training set accuracy of spamRF, using a threshold of 0.5 for predictions? (Remember that your answer might not match ours exactly, due to random behavior in the random forest algorithm on different operating systems.)"
   ]
  },
  {
   "cell_type": "code",
   "execution_count": null,
   "metadata": {
    "collapsed": true
   },
   "outputs": [],
   "source": []
  },
  {
   "cell_type": "markdown",
   "metadata": {},
   "source": [
    "#### Problem 3.9 - Building Machine Learning Models\n",
    "\n",
    "What is the training set AUC of spamRF? (Remember to pass the argument type=\"prob\" to the predict function to get predicted probabilities for a random forest model. The probabilities will be the second column of the output.)"
   ]
  },
  {
   "cell_type": "code",
   "execution_count": null,
   "metadata": {
    "collapsed": true
   },
   "outputs": [],
   "source": []
  },
  {
   "cell_type": "markdown",
   "metadata": {},
   "source": [
    "#### Problem 3.10 - Building Machine Learning Models\n",
    "\n",
    "Which model had the best training set performance, in terms of accuracy and AUC?"
   ]
  },
  {
   "cell_type": "code",
   "execution_count": null,
   "metadata": {
    "collapsed": true
   },
   "outputs": [],
   "source": []
  },
  {
   "cell_type": "markdown",
   "metadata": {},
   "source": [
    "#### Problem 4.1 - Evaluating on the Test Set\n",
    "\n",
    "Obtain predicted probabilities for the testing set for each of the models, again ensuring that probabilities instead of classes are obtained.\n",
    "\n",
    "What is the testing set accuracy of spamLog, using a threshold of 0.5 for predictions?"
   ]
  },
  {
   "cell_type": "code",
   "execution_count": null,
   "metadata": {
    "collapsed": true
   },
   "outputs": [],
   "source": []
  },
  {
   "cell_type": "markdown",
   "metadata": {},
   "source": [
    "#### Problem 4.2 - Evaluating on the Test Set\n",
    "\n",
    "What is the testing set AUC of spamLog?"
   ]
  },
  {
   "cell_type": "code",
   "execution_count": null,
   "metadata": {
    "collapsed": true
   },
   "outputs": [],
   "source": []
  },
  {
   "cell_type": "markdown",
   "metadata": {},
   "source": [
    "#### Problem 4.3 - Evaluating on the Test Set\n",
    "\n",
    "What is the testing set accuracy of spamCART, using a threshold of 0.5 for predictions?"
   ]
  },
  {
   "cell_type": "code",
   "execution_count": null,
   "metadata": {
    "collapsed": true
   },
   "outputs": [],
   "source": []
  },
  {
   "cell_type": "markdown",
   "metadata": {},
   "source": [
    "#### Problem 4.4 - Evaluating on the Test Set\n",
    "\n",
    "What is the testing set AUC of spamCART?"
   ]
  },
  {
   "cell_type": "code",
   "execution_count": null,
   "metadata": {
    "collapsed": true
   },
   "outputs": [],
   "source": []
  },
  {
   "cell_type": "markdown",
   "metadata": {},
   "source": [
    "#### Problem 4.5 - Evaluating on the Test Set\n",
    "\n",
    "What is the testing set accuracy of spamRF, using a threshold of 0.5 for predictions?"
   ]
  },
  {
   "cell_type": "code",
   "execution_count": null,
   "metadata": {
    "collapsed": true
   },
   "outputs": [],
   "source": []
  },
  {
   "cell_type": "markdown",
   "metadata": {},
   "source": [
    "#### Problem 4.6 - Evaluating on the Test Set\n",
    "\n",
    "What is the testing set AUC of spamRF?"
   ]
  },
  {
   "cell_type": "code",
   "execution_count": null,
   "metadata": {
    "collapsed": true
   },
   "outputs": [],
   "source": []
  },
  {
   "cell_type": "markdown",
   "metadata": {},
   "source": [
    "#### Problem 4.7 - Evaluating on the Test Set\n",
    "\n",
    "Which model had the best testing set performance, in terms of accuracy and AUC?"
   ]
  },
  {
   "cell_type": "code",
   "execution_count": null,
   "metadata": {
    "collapsed": true
   },
   "outputs": [],
   "source": []
  },
  {
   "cell_type": "markdown",
   "metadata": {},
   "source": [
    "#### Problem 4.8 - Evaluating on the Test Set\n",
    "\n",
    "Which model demonstrated the greatest degree of overfitting?"
   ]
  },
  {
   "cell_type": "code",
   "execution_count": null,
   "metadata": {
    "collapsed": true
   },
   "outputs": [],
   "source": []
  },
  {
   "cell_type": "markdown",
   "metadata": {},
   "source": [
    "## Separating Spam from Ham (Part 2 - OPTIONAL)\n"
   ]
  },
  {
   "cell_type": "markdown",
   "metadata": {},
   "source": [
    "Separating Spam from Ham (Part 2 - OPTIONAL)\n",
    "\n",
    "This optional homework assignment is the second part of the assignment from the previous page. Please complete Problems 1-4 on the previous page before starting this problem, if you choose to do so. A description of the problem and the dataset can be found on the previous page."
   ]
  },
  {
   "cell_type": "code",
   "execution_count": null,
   "metadata": {
    "collapsed": true
   },
   "outputs": [],
   "source": []
  },
  {
   "cell_type": "markdown",
   "metadata": {},
   "source": [
    "#### Problem 5.1 - Assigning weights to different types of errors\n",
    "\n",
    "Thus far, we have used a threshold of 0.5 as the cutoff for predicting that an email message is spam, and we have used accuracy as one of our measures of model quality. As we have previously learned, these are good choices when we have no preference for different types of errors (false positives vs. false negatives), but other choices might be better if we assign a higher cost to one type of error.\n",
    "\n",
    "Consider the case of an email provider using the spam filter we have developed. The email provider moves all of the emails flagged as spam to a separate \"Junk Email\" folder, meaning those emails are not displayed in the main inbox. The emails not flagged as spam by the algorithm are displayed in the inbox. Many of this provider's email users never check the spam folder, so they will never see emails delivered there.\n",
    "\n",
    "In this scenario, what is the cost associated with the model making a false negative error?"
   ]
  },
  {
   "cell_type": "code",
   "execution_count": null,
   "metadata": {
    "collapsed": true
   },
   "outputs": [],
   "source": []
  },
  {
   "cell_type": "markdown",
   "metadata": {},
   "source": [
    "In this scenario, what is the cost associated with our model making a false positive error?"
   ]
  },
  {
   "cell_type": "code",
   "execution_count": null,
   "metadata": {
    "collapsed": true
   },
   "outputs": [],
   "source": []
  },
  {
   "cell_type": "markdown",
   "metadata": {},
   "source": [
    "#### Problem 5.2 - Assigning Weights to Different Types of Errors\n",
    "\n",
    "Which sort of mistake is more costly (less desirable), assuming that the user will never check the Junk Email folder?"
   ]
  },
  {
   "cell_type": "code",
   "execution_count": null,
   "metadata": {
    "collapsed": true
   },
   "outputs": [],
   "source": []
  },
  {
   "cell_type": "markdown",
   "metadata": {},
   "source": [
    "#### Problem 5.3 - Assigning Weights to Different Types of Errors\n",
    "\n",
    "What sort of user might assign a particularly high cost to a false negative result?"
   ]
  },
  {
   "cell_type": "code",
   "execution_count": null,
   "metadata": {
    "collapsed": true
   },
   "outputs": [],
   "source": []
  },
  {
   "cell_type": "markdown",
   "metadata": {},
   "source": [
    "#### Problem 5.4 - Assigning Weights to Different Types of Errors\n",
    "\n",
    "What sort of user might assign a particularly high cost to a false positive result?"
   ]
  },
  {
   "cell_type": "code",
   "execution_count": null,
   "metadata": {
    "collapsed": true
   },
   "outputs": [],
   "source": []
  },
  {
   "cell_type": "markdown",
   "metadata": {},
   "source": [
    "#### Problem 5.5 - Assigning Weights to Different Types of Errors\n",
    "\n",
    "Consider another use case for the spam filter, in which messages labeled as spam are still delivered to the main inbox but are flagged as \"potential spam.\" Therefore, there is no risk of the email user missing an email regardless of whether it is flagged as spam. What is the largest way in which this change in spam filter design affects the costs of false negative and false positive results?"
   ]
  },
  {
   "cell_type": "code",
   "execution_count": null,
   "metadata": {
    "collapsed": true
   },
   "outputs": [],
   "source": []
  },
  {
   "cell_type": "markdown",
   "metadata": {},
   "source": [
    "#### Problem 5.6 - Assigning Weights to Different Types of Errors\n",
    "\n",
    "Consider a large-scale email provider with more than 100,000 customers. Which of the following represents an approach for approximating each customer's preferences between a false positive and false negative that is both practical and personalized?"
   ]
  },
  {
   "cell_type": "code",
   "execution_count": null,
   "metadata": {
    "collapsed": true
   },
   "outputs": [],
   "source": []
  },
  {
   "cell_type": "markdown",
   "metadata": {},
   "source": [
    "#### Problem 6.1 - Integrating Word Count Information\n",
    "\n",
    "While we have thus far mostly dealt with frequencies of specific words in our analysis, we can extract other information from text. The last two sections of this problem will deal with two other types of information we can extract.\n",
    "\n",
    "First, we will use the number of words in the each email as an independent variable. We can use the original document term matrix called dtm for this task. The document term matrix has documents (in this case, emails) as its rows, terms (in this case word stems) as its columns, and frequencies as its values. As a result, the sum of all the elements in a row of the document term matrix is equal to the number of terms present in the document corresponding to the row. Obtain the word counts for each email with the command:\n",
    "\n",
    "wordCount = rowSums(as.matrix(dtm))\n",
    "\n",
    "IMPORTANT NOTE: If you received an error message when running the command above, it might be because your computer ran out of memory when trying to convert dtm to a matrix. If this happened to you, try running the following lines of code instead to create wordCount (if you didn't get an error, you don't need to run these lines). This code is a little more cryptic, but is more memory efficient.\n",
    "\n",
    "library(slam)\n",
    "\n",
    "wordCount = rollup(dtm, 2, FUN=sum)$v\n",
    "\n",
    "When you have successfully created wordCount, answer the following question.\n",
    "\n",
    "What would have occurred if we had instead created wordCount using spdtm instead of dtm?"
   ]
  },
  {
   "cell_type": "code",
   "execution_count": null,
   "metadata": {
    "collapsed": true
   },
   "outputs": [],
   "source": []
  },
  {
   "cell_type": "markdown",
   "metadata": {},
   "source": [
    "#### Problem 6.2 - Integrating Word Count Information\n",
    "\n",
    "Use the hist() function to plot the distribution of wordCount in the dataset. What best describes the distribution of the data?"
   ]
  },
  {
   "cell_type": "code",
   "execution_count": null,
   "metadata": {
    "collapsed": true
   },
   "outputs": [],
   "source": []
  },
  {
   "cell_type": "markdown",
   "metadata": {},
   "source": [
    "#### Problem 6.3 - Integrating Word Count Information\n",
    "\n",
    "Now, use the hist() function to plot the distribution of log(wordCount) in the dataset. What best describes the distribution of the data?"
   ]
  },
  {
   "cell_type": "code",
   "execution_count": null,
   "metadata": {
    "collapsed": true
   },
   "outputs": [],
   "source": []
  },
  {
   "cell_type": "markdown",
   "metadata": {},
   "source": [
    "#### Problem 6.4 - Integrating Word Count Information\n",
    "\n",
    "Create a variable called logWordCount in emailsSparse that is equal to log(wordCount). Use the boxplot() command to plot logWordCount against whether a message is spam. Which of the following best describes the box plot?"
   ]
  },
  {
   "cell_type": "code",
   "execution_count": null,
   "metadata": {
    "collapsed": true
   },
   "outputs": [],
   "source": []
  },
  {
   "cell_type": "markdown",
   "metadata": {},
   "source": [
    "#### Problem 6.5 - Integrating Word Count Information\n",
    "\n",
    "Because logWordCount differs between spam and ham messages, we hypothesize that it might be useful in predicting whether an email is spam. Take the following steps:\n",
    "\n",
    "1) Use the same sample.split output you obtained earlier (do not re-run sample.split) to split emailsSparse into a training and testing set, which you should call train2 and test2.\n",
    "\n",
    "2) Use train2 to train a CART tree with the default parameters, saving the model to the variable spam2CART.\n",
    "\n",
    "3) Use train2 to train a random forest with the default parameters, saving the model to the variable spam2RF. Again, set the random seed to 123 directly before training spam2RF.\n",
    "\n",
    "Was the new variable used in the new CART tree spam2CART?"
   ]
  },
  {
   "cell_type": "code",
   "execution_count": null,
   "metadata": {
    "collapsed": true
   },
   "outputs": [],
   "source": []
  },
  {
   "cell_type": "markdown",
   "metadata": {},
   "source": [
    "#### Problem 6.6 - Integrating Word Count Information\n",
    "\n",
    "Perform test-set predictions using the new CART and random forest models.\n",
    "\n",
    "What is the test-set accuracy of spam2CART, using threshold 0.5 for predicting an email is spam?"
   ]
  },
  {
   "cell_type": "code",
   "execution_count": null,
   "metadata": {
    "collapsed": true
   },
   "outputs": [],
   "source": []
  },
  {
   "cell_type": "markdown",
   "metadata": {},
   "source": [
    "#### Problem 6.7 - Integrating Word Count Information\n",
    "\n",
    "What is the test-set AUC of spam2CART?"
   ]
  },
  {
   "cell_type": "code",
   "execution_count": null,
   "metadata": {
    "collapsed": true
   },
   "outputs": [],
   "source": []
  },
  {
   "cell_type": "markdown",
   "metadata": {},
   "source": [
    "#### Problem 6.8 - Integrating Word Count Information\n",
    "\n",
    "What is the test-set accuracy of spam2RF, using a threshold of 0.5 for predicting if an email is spam? (Remember that you might get a different accuracy than us even if you set the seed, due to the random behavior of randomForest on some operating systems.)"
   ]
  },
  {
   "cell_type": "code",
   "execution_count": null,
   "metadata": {
    "collapsed": true
   },
   "outputs": [],
   "source": []
  },
  {
   "cell_type": "markdown",
   "metadata": {},
   "source": [
    "#### Problem 6.9 - Integrating Word Count Information\n",
    "\n",
    "What is the test-set AUC of spam2RF? (Remember that you might get a different AUC than us even if you set the seed when building your model, due to the random behavior of randomForest on some operating systems.)"
   ]
  },
  {
   "cell_type": "code",
   "execution_count": null,
   "metadata": {
    "collapsed": true
   },
   "outputs": [],
   "source": []
  },
  {
   "cell_type": "markdown",
   "metadata": {},
   "source": [
    "In this case, adding the logWordCounts variable did not result in improved results on the test set for the CART or random forest model."
   ]
  },
  {
   "cell_type": "code",
   "execution_count": null,
   "metadata": {
    "collapsed": true
   },
   "outputs": [],
   "source": []
  },
  {
   "cell_type": "markdown",
   "metadata": {},
   "source": [
    "Using n-grams\n",
    "\n",
    "Another source of information that might be extracted from text is the frequency of various n-grams. An n-gram is a sequence of n consecutive words in the document. For instance, for the document \"Text analytics rocks!\", which we would preprocess to \"text analyt rock\", the 1-grams are \"text\", \"analyt\", and \"rock\", the 2-grams are \"text analyt\" and \"analyt rock\", and the only 3-gram is \"text analyt rock\". n-grams are order-specific, meaning the 2-grams \"text analyt\" and \"analyt text\" are considered two separate n-grams. We can see that so far our analysis has been extracting only 1-grams.\n",
    "\n",
    "We do not have exercises in this class covering n-grams, but if you are interested in learning more, the \"RTextTools\", \"tau\", \"RWeka\", and \"textcat\" packages in R are all good resources."
   ]
  },
  {
   "cell_type": "code",
   "execution_count": null,
   "metadata": {
    "collapsed": true
   },
   "outputs": [],
   "source": []
  },
  {
   "cell_type": "code",
   "execution_count": null,
   "metadata": {
    "collapsed": true
   },
   "outputs": [],
   "source": []
  },
  {
   "cell_type": "code",
   "execution_count": null,
   "metadata": {
    "collapsed": true
   },
   "outputs": [],
   "source": []
  }
 ],
 "metadata": {
  "kernelspec": {
   "display_name": "R",
   "language": "R",
   "name": "ir"
  },
  "language_info": {
   "codemirror_mode": "r",
   "file_extension": ".r",
   "mimetype": "text/x-r-source",
   "name": "R",
   "pygments_lexer": "r",
   "version": "3.3.3"
  }
 },
 "nbformat": 4,
 "nbformat_minor": 2
}
